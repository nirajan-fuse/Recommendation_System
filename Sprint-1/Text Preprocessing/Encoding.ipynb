{
 "cells": [
  {
   "cell_type": "markdown",
   "metadata": {},
   "source": [
    "# Self Implementation"
   ]
  },
  {
   "cell_type": "code",
   "execution_count": 1,
   "metadata": {},
   "outputs": [],
   "source": [
    "document_corpus = [\"this is a good phone phone\",\n",
    "                    \"this is a bad mobile phone\",\n",
    "                    \"she is a good good cat\",\n",
    "                    \"he has a bad temper temper\",\n",
    "                    \"this mobile phone phone is not good good\"\n",
    "                    ]"
   ]
  },
  {
   "cell_type": "code",
   "execution_count": 2,
   "metadata": {},
   "outputs": [
    {
     "name": "stdout",
     "output_type": "stream",
     "text": [
      "['a', 'bad', 'cat', 'good', 'has', 'he', 'is', 'mobile', 'not', 'phone', 'she', 'temper', 'this']\n"
     ]
    }
   ],
   "source": [
    "data_corpus = set()\n",
    "\n",
    "for row in document_corpus:\n",
    "    for word in row.split():\n",
    "        if word not in data_corpus:\n",
    "            data_corpus.add(word)\n",
    "\n",
    "data_corpus = sorted(data_corpus)\n",
    "\n",
    "print(data_corpus)"
   ]
  },
  {
   "cell_type": "markdown",
   "metadata": {},
   "source": [
    "### Index based Encoding"
   ]
  },
  {
   "cell_type": "code",
   "execution_count": 4,
   "metadata": {},
   "outputs": [
    {
     "data": {
      "text/plain": [
       "8"
      ]
     },
     "execution_count": 4,
     "metadata": {},
     "output_type": "execute_result"
    }
   ],
   "source": [
    "res = len(max(document_corpus, key=len).split(\" \"))\n",
    "res"
   ]
  },
  {
   "cell_type": "code",
   "execution_count": 7,
   "metadata": {},
   "outputs": [
    {
     "name": "stdout",
     "output_type": "stream",
     "text": [
      "[[13, 7, 1, 4, 10, 10, 0, 0], [13, 7, 1, 2, 8, 10, 0, 0], [11, 7, 1, 4, 4, 3, 0, 0], [6, 5, 1, 2, 12, 12, 0, 0], [13, 8, 10, 10, 7, 9, 4, 4]]\n"
     ]
    }
   ],
   "source": [
    "index_based_encoding = []\n",
    "\n",
    "for row in document_corpus:\n",
    "    row_encoding = []\n",
    "    split = row.split(\" \")\n",
    "    for i in range(res):\n",
    "        if i <= len(split)-1:\n",
    "            row_encoding.append(data_corpus.index(split[i])+1)\n",
    "        else:\n",
    "            row_encoding.append(0)\n",
    "    index_based_encoding.append(row_encoding)\n",
    "\n",
    "print(index_based_encoding)"
   ]
  },
  {
   "cell_type": "markdown",
   "metadata": {},
   "source": [
    "### Bag of word"
   ]
  },
  {
   "cell_type": "markdown",
   "metadata": {},
   "source": [
    "**Binary BOW**"
   ]
  },
  {
   "cell_type": "code",
   "execution_count": 8,
   "metadata": {},
   "outputs": [
    {
     "name": "stdout",
     "output_type": "stream",
     "text": [
      "[[1, 0, 0, 1, 0, 0, 1, 0, 0, 1, 0, 0, 1], [1, 1, 0, 0, 0, 0, 1, 1, 0, 1, 0, 0, 1], [1, 0, 1, 1, 0, 0, 1, 0, 0, 0, 1, 0, 0], [1, 1, 0, 0, 1, 1, 0, 0, 0, 0, 0, 1, 0], [0, 0, 0, 1, 0, 0, 1, 1, 1, 1, 0, 0, 1]]\n"
     ]
    }
   ],
   "source": [
    "one_hot_encoding = []\n",
    "\n",
    "for row in document_corpus:\n",
    "    row_encoding = []\n",
    "    split = row.split(\" \")\n",
    "    for word in data_corpus:\n",
    "        if word in split:\n",
    "            row_encoding.append(1)\n",
    "        else:\n",
    "            row_encoding.append(0)\n",
    "    one_hot_encoding.append(row_encoding)\n",
    "\n",
    "print(one_hot_encoding)"
   ]
  },
  {
   "cell_type": "markdown",
   "metadata": {},
   "source": [
    "**BOW**"
   ]
  },
  {
   "cell_type": "code",
   "execution_count": 10,
   "metadata": {},
   "outputs": [
    {
     "name": "stdout",
     "output_type": "stream",
     "text": [
      "[[1, 0, 0, 1, 0, 0, 1, 0, 0, 2, 0, 0, 1], [1, 1, 0, 0, 0, 0, 1, 1, 0, 1, 0, 0, 1], [1, 0, 1, 2, 0, 0, 1, 0, 0, 0, 1, 0, 0], [1, 1, 0, 0, 1, 1, 0, 0, 0, 0, 0, 2, 0], [0, 0, 0, 2, 0, 0, 1, 1, 1, 2, 0, 0, 1]]\n"
     ]
    }
   ],
   "source": [
    "one_hot_encoding = []\n",
    "\n",
    "for row in document_corpus:\n",
    "    row_encoding = []\n",
    "    split = row.split(\" \")\n",
    "    for word in data_corpus:\n",
    "        count = split.count(word)\n",
    "        row_encoding.append(count)         \n",
    "    one_hot_encoding.append(row_encoding)\n",
    "\n",
    "print(one_hot_encoding)"
   ]
  },
  {
   "cell_type": "markdown",
   "metadata": {},
   "source": [
    "### TF-IDF (Term Frequency - Inverse Document Frequency)"
   ]
  },
  {
   "cell_type": "code",
   "execution_count": 12,
   "metadata": {},
   "outputs": [
    {
     "name": "stdout",
     "output_type": "stream",
     "text": [
      "{0: {'this': 1, 'is': 1, 'a': 1, 'good': 1, 'phone': 2}, 1: {'this': 1, 'is': 1, 'a': 1, 'bad': 1, 'mobile': 1, 'phone': 1}, 2: {'she': 1, 'is': 1, 'a': 1, 'good': 2, 'cat': 1}, 3: {'he': 1, 'has': 1, 'a': 1, 'bad': 1, 'temper': 2}, 4: {'this': 1, 'mobile': 1, 'phone': 2, 'is': 1, 'not': 1, 'good': 2}}\n"
     ]
    }
   ],
   "source": [
    "tf_dict = {}\n",
    "i = 0\n",
    "\n",
    "for row in document_corpus:\n",
    "    row_dict = {}\n",
    "    split = row.split(\" \")\n",
    "    for word in split:\n",
    "        if word not in row_dict.keys():\n",
    "            row_dict[word] = split.count(word)\n",
    "    tf_dict[i] = row_dict\n",
    "    i += 1\n",
    "\n",
    "print(tf_dict)"
   ]
  },
  {
   "cell_type": "code",
   "execution_count": 16,
   "metadata": {},
   "outputs": [],
   "source": [
    "import math\n",
    "\n",
    "\n",
    "def calculate_tf(word, sentence_num):\n",
    "    row_dict = tf_dict[int(sentence_num)]\n",
    "    return row_dict[word]/sum(row_dict.values())\n",
    "\n",
    "\n",
    "def calculate_idf(word):\n",
    "    doc_num = 0\n",
    "    for key, value in tf_dict.items():\n",
    "        if word in value.keys():\n",
    "            doc_num += 1\n",
    "    return math.log(len(data_corpus) / doc_num + 1)\n",
    "\n",
    "\n",
    "def tf_idf(word, sentence_num):\n",
    "    return round(calculate_tf(word, sentence_num) * calculate_idf(word), 5)"
   ]
  },
  {
   "cell_type": "code",
   "execution_count": 17,
   "metadata": {},
   "outputs": [
    {
     "name": "stdout",
     "output_type": "stream",
     "text": [
      "[[0.24115, 0, 0, 0.279, 0, 0, 0.24115, 0, 0, 0.55799, 0, 0, 0.279], [0.24115, 0.33582, 0, 0, 0, 0, 0.24115, 0.33582, 0, 0.279, 0, 0, 0.279], [0.24115, 0, 0.43984, 0.55799, 0, 0, 0.24115, 0, 0, 0, 0.43984, 0, 0], [0.24115, 0.33582, 0, 0, 0.43984, 0.43984, 0, 0, 0, 0, 0, 0.87969, 0], [0, 0, 0, 0.41849, 0, 0, 0.18086, 0.25186, 0.32988, 0.41849, 0, 0, 0.20925]]\n"
     ]
    }
   ],
   "source": [
    "tf_idf_encoding = []\n",
    "for i in range(len(document_corpus)):\n",
    "    row = document_corpus[i]\n",
    "    split = row.split(\" \")\n",
    "    row_encoding = []\n",
    "    for word in data_corpus:\n",
    "        if word in split:\n",
    "            row_encoding.append(tf_idf(word, i))\n",
    "        else:\n",
    "            row_encoding.append(0)\n",
    "    tf_idf_encoding.append(row_encoding)\n",
    "\n",
    "print(tf_idf_encoding)"
   ]
  },
  {
   "cell_type": "markdown",
   "metadata": {},
   "source": [
    "# Python Library Implementation"
   ]
  },
  {
   "cell_type": "markdown",
   "metadata": {},
   "source": [
    "### BOW Encoding"
   ]
  },
  {
   "cell_type": "code",
   "execution_count": 20,
   "metadata": {},
   "outputs": [
    {
     "name": "stdout",
     "output_type": "stream",
     "text": [
      "['bad' 'cat' 'good' 'has' 'he' 'is' 'mobile' 'not' 'phone' 'she' 'temper'\n",
      " 'this']\n"
     ]
    }
   ],
   "source": [
    "from sklearn.feature_extraction.text import CountVectorizer\n",
    "\n",
    "vectorizer = CountVectorizer()\n",
    "X = vectorizer.fit_transform(document_corpus)\n",
    "print(vectorizer.get_feature_names_out())"
   ]
  },
  {
   "cell_type": "code",
   "execution_count": 21,
   "metadata": {},
   "outputs": [
    {
     "name": "stdout",
     "output_type": "stream",
     "text": [
      "[[0 0 1 0 0 1 0 0 2 0 0 1]\n",
      " [1 0 0 0 0 1 1 0 1 0 0 1]\n",
      " [0 1 2 0 0 1 0 0 0 1 0 0]\n",
      " [1 0 0 1 1 0 0 0 0 0 2 0]\n",
      " [0 0 2 0 0 1 1 1 2 0 0 1]]\n"
     ]
    }
   ],
   "source": [
    "print(X.toarray())"
   ]
  },
  {
   "cell_type": "markdown",
   "metadata": {},
   "source": [
    "### TF-IDF Encoding"
   ]
  },
  {
   "cell_type": "code",
   "execution_count": 24,
   "metadata": {},
   "outputs": [
    {
     "name": "stdout",
     "output_type": "stream",
     "text": [
      "['bad' 'cat' 'good' 'has' 'he' 'is' 'mobile' 'not' 'phone' 'she' 'temper'\n",
      " 'this']\n"
     ]
    }
   ],
   "source": [
    "from sklearn.feature_extraction.text import TfidfVectorizer\n",
    "vectorizer = TfidfVectorizer()\n",
    "X = vectorizer.fit_transform(document_corpus)\n",
    "print(vectorizer.get_feature_names_out())"
   ]
  },
  {
   "cell_type": "code",
   "execution_count": 25,
   "metadata": {},
   "outputs": [
    {
     "name": "stdout",
     "output_type": "stream",
     "text": [
      "[[0.         0.         0.38611275 0.         0.         0.32481022\n",
      "  0.         0.         0.7722255  0.         0.         0.38611275]\n",
      " [0.50860988 0.         0.         0.         0.         0.35516134\n",
      "  0.50860988 0.         0.42219214 0.         0.         0.42219214]\n",
      " [0.         0.49317635 0.6605719  0.         0.         0.27784695\n",
      "  0.         0.         0.         0.49317635 0.         0.        ]\n",
      " [0.31283963 0.         0.         0.38775666 0.38775666 0.\n",
      "  0.         0.         0.         0.         0.77551332 0.        ]\n",
      " [0.         0.         0.54659234 0.         0.         0.22990535\n",
      "  0.32923666 0.40808036 0.54659234 0.         0.         0.27329617]]\n"
     ]
    }
   ],
   "source": [
    "print(X.toarray())"
   ]
  },
  {
   "cell_type": "code",
   "execution_count": null,
   "metadata": {},
   "outputs": [],
   "source": []
  }
 ],
 "metadata": {
  "kernelspec": {
   "display_name": "env",
   "language": "python",
   "name": "env"
  },
  "language_info": {
   "codemirror_mode": {
    "name": "ipython",
    "version": 3
   },
   "file_extension": ".py",
   "mimetype": "text/x-python",
   "name": "python",
   "nbconvert_exporter": "python",
   "pygments_lexer": "ipython3",
   "version": "3.12.3"
  }
 },
 "nbformat": 4,
 "nbformat_minor": 2
}
