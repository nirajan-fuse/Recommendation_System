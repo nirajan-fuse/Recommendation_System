{
 "cells": [
  {
   "cell_type": "markdown",
   "metadata": {},
   "source": [
    "<img src=\"https://github.com/ksang/word2vec/raw/master/imgs/model.jpg\" height=400, width=800>"
   ]
  },
  {
   "cell_type": "code",
   "execution_count": 4,
   "metadata": {},
   "outputs": [],
   "source": [
    "import numpy as np\n",
    "import matplotlib.pyplot as plt\n",
    "import pandas as pd"
   ]
  },
  {
   "cell_type": "markdown",
   "metadata": {},
   "source": [
    "### Importing dataset and text preprocessing"
   ]
  },
  {
   "cell_type": "code",
   "execution_count": 5,
   "metadata": {},
   "outputs": [],
   "source": [
    "dataset = pd.read_csv('../../data/Corona_NLP.csv', encoding='latin1')"
   ]
  },
  {
   "cell_type": "code",
   "execution_count": 6,
   "metadata": {},
   "outputs": [
    {
     "data": {
      "text/html": [
       "<div>\n",
       "<style scoped>\n",
       "    .dataframe tbody tr th:only-of-type {\n",
       "        vertical-align: middle;\n",
       "    }\n",
       "\n",
       "    .dataframe tbody tr th {\n",
       "        vertical-align: top;\n",
       "    }\n",
       "\n",
       "    .dataframe thead th {\n",
       "        text-align: right;\n",
       "    }\n",
       "</style>\n",
       "<table border=\"1\" class=\"dataframe\">\n",
       "  <thead>\n",
       "    <tr style=\"text-align: right;\">\n",
       "      <th></th>\n",
       "      <th>UserName</th>\n",
       "      <th>ScreenName</th>\n",
       "      <th>Location</th>\n",
       "      <th>TweetAt</th>\n",
       "      <th>OriginalTweet</th>\n",
       "      <th>Sentiment</th>\n",
       "    </tr>\n",
       "  </thead>\n",
       "  <tbody>\n",
       "    <tr>\n",
       "      <th>0</th>\n",
       "      <td>3799</td>\n",
       "      <td>48751</td>\n",
       "      <td>London</td>\n",
       "      <td>16-03-2020</td>\n",
       "      <td>@MeNyrbie @Phil_Gahan @Chrisitv https://t.co/i...</td>\n",
       "      <td>Neutral</td>\n",
       "    </tr>\n",
       "    <tr>\n",
       "      <th>1</th>\n",
       "      <td>3800</td>\n",
       "      <td>48752</td>\n",
       "      <td>UK</td>\n",
       "      <td>16-03-2020</td>\n",
       "      <td>advice Talk to your neighbours family to excha...</td>\n",
       "      <td>Positive</td>\n",
       "    </tr>\n",
       "    <tr>\n",
       "      <th>2</th>\n",
       "      <td>3801</td>\n",
       "      <td>48753</td>\n",
       "      <td>Vagabonds</td>\n",
       "      <td>16-03-2020</td>\n",
       "      <td>Coronavirus Australia: Woolworths to give elde...</td>\n",
       "      <td>Positive</td>\n",
       "    </tr>\n",
       "    <tr>\n",
       "      <th>3</th>\n",
       "      <td>3802</td>\n",
       "      <td>48754</td>\n",
       "      <td>NaN</td>\n",
       "      <td>16-03-2020</td>\n",
       "      <td>My food stock is not the only one which is emp...</td>\n",
       "      <td>Positive</td>\n",
       "    </tr>\n",
       "    <tr>\n",
       "      <th>4</th>\n",
       "      <td>3803</td>\n",
       "      <td>48755</td>\n",
       "      <td>NaN</td>\n",
       "      <td>16-03-2020</td>\n",
       "      <td>Me, ready to go at supermarket during the #COV...</td>\n",
       "      <td>Extremely Negative</td>\n",
       "    </tr>\n",
       "  </tbody>\n",
       "</table>\n",
       "</div>"
      ],
      "text/plain": [
       "   UserName  ScreenName   Location     TweetAt  \\\n",
       "0      3799       48751     London  16-03-2020   \n",
       "1      3800       48752         UK  16-03-2020   \n",
       "2      3801       48753  Vagabonds  16-03-2020   \n",
       "3      3802       48754        NaN  16-03-2020   \n",
       "4      3803       48755        NaN  16-03-2020   \n",
       "\n",
       "                                       OriginalTweet           Sentiment  \n",
       "0  @MeNyrbie @Phil_Gahan @Chrisitv https://t.co/i...             Neutral  \n",
       "1  advice Talk to your neighbours family to excha...            Positive  \n",
       "2  Coronavirus Australia: Woolworths to give elde...            Positive  \n",
       "3  My food stock is not the only one which is emp...            Positive  \n",
       "4  Me, ready to go at supermarket during the #COV...  Extremely Negative  "
      ]
     },
     "execution_count": 6,
     "metadata": {},
     "output_type": "execute_result"
    }
   ],
   "source": [
    "dataset.head()"
   ]
  },
  {
   "cell_type": "code",
   "execution_count": 7,
   "metadata": {},
   "outputs": [],
   "source": [
    "# Very basic text preprocessing by removing punctuations, numbers. We have also cleaned the data by removing \n",
    "# characters including and after 'https' in the text.\n",
    "\n",
    "import re \n",
    "texts=[]\n",
    "for i in range(0, len(dataset)):\n",
    "  text = re.sub('[^a-zA-Z]' , ' ', dataset['OriginalTweet'][i])\n",
    "  text = text.lower()\n",
    "  text = text.split()\n",
    "  x = len(text) if text.count('https') ==0  else text.index('https') \n",
    "  text = text[: x ]\n",
    "  text = [t for t in text if not t=='https']\n",
    "  text = ' '.join(text)\n",
    "  texts.append(text)"
   ]
  },
  {
   "cell_type": "code",
   "execution_count": 8,
   "metadata": {},
   "outputs": [
    {
     "data": {
      "text/plain": [
       "41157"
      ]
     },
     "execution_count": 8,
     "metadata": {},
     "output_type": "execute_result"
    }
   ],
   "source": [
    "len(texts)"
   ]
  },
  {
   "cell_type": "code",
   "execution_count": 11,
   "metadata": {},
   "outputs": [
    {
     "data": {
      "text/plain": [
       "['menyrbie phil gahan chrisitv',\n",
       " 'advice talk to your neighbours family to exchange phone numbers create contact list with phone numbers of neighbours schools employer chemist gp set up online shopping accounts if poss adequate supplies of regular meds but not over order',\n",
       " 'coronavirus australia woolworths to give elderly disabled dedicated shopping hours amid covid outbreak',\n",
       " 'my food stock is not the only one which is empty please don t panic there will be enough food for everyone if you do not take more than you need stay calm stay safe covid france covid covid coronavirus confinement confinementotal confinementgeneral',\n",
       " 'me ready to go at supermarket during the covid outbreak not because i m paranoid but because my food stock is litteraly empty the coronavirus is a serious thing but please don t panic it causes shortage coronavirusfrance restezchezvous stayathome confinement',\n",
       " 'as news of the region s first confirmed covid case came out of sullivan county last week people flocked to area stores to purchase cleaning supplies hand sanitizer food toilet paper and other goods tim dodson reports',\n",
       " 'cashier at grocery store was sharing his insights on covid to prove his credibility he commented i m in civics class so i know what i m talking about',\n",
       " 'was at the supermarket today didn t buy toilet paper rebel toiletpapercrisis covid',\n",
       " 'due to covid our retail store and classroom in atlanta will not be open for walk in business or classes for the next two weeks beginning monday march we will continue to process online and phone orders as normal thank you for your understanding',\n",
       " 'for corona prevention we should stop to buy things with the cash and should use online payment methods because corona can spread through the notes also we should prefer online shopping from our home it s time to fight against covid govindia indiafightscorona']"
      ]
     },
     "execution_count": 11,
     "metadata": {},
     "output_type": "execute_result"
    }
   ],
   "source": [
    "texts[:10]"
   ]
  },
  {
   "cell_type": "markdown",
   "metadata": {},
   "source": [
    "### Training the word2vec model"
   ]
  },
  {
   "cell_type": "code",
   "execution_count": 9,
   "metadata": {},
   "outputs": [],
   "source": [
    "from gensim.models import Word2Vec"
   ]
  },
  {
   "cell_type": "markdown",
   "metadata": {},
   "source": [
    "#### CBOW"
   ]
  },
  {
   "cell_type": "code",
   "execution_count": 19,
   "metadata": {},
   "outputs": [],
   "source": [
    "sentences = [line.split() for line in texts]\n",
    "\n",
    "cbow =Word2Vec(sentences=sentences, vector_size=100, window=5, workers=4, min_count=5)"
   ]
  },
  {
   "cell_type": "code",
   "execution_count": 30,
   "metadata": {},
   "outputs": [],
   "source": [
    "words = list(cbow.wv.index_to_key)"
   ]
  },
  {
   "cell_type": "code",
   "execution_count": 34,
   "metadata": {},
   "outputs": [
    {
     "data": {
      "text/plain": [
       "['the', 'to', 'and', 'of', 'covid', 'a', 'in', 'coronavirus', 'for', 'is']"
      ]
     },
     "execution_count": 34,
     "metadata": {},
     "output_type": "execute_result"
    }
   ],
   "source": [
    "words[:10]"
   ]
  },
  {
   "cell_type": "code",
   "execution_count": 35,
   "metadata": {},
   "outputs": [
    {
     "name": "stdout",
     "output_type": "stream",
     "text": [
      "10630\n"
     ]
    }
   ],
   "source": [
    "print(len(words))"
   ]
  },
  {
   "cell_type": "code",
   "execution_count": 37,
   "metadata": {},
   "outputs": [
    {
     "name": "stdout",
     "output_type": "stream",
     "text": [
      "[ 0.08413184  0.06649185  0.05798118 -0.04749746  0.05054245 -0.2201294\n",
      " -0.06195701  0.24929693 -0.01556018 -0.06134135 -0.04434902 -0.1769579\n",
      " -0.02913246  0.04349489  0.15333219 -0.10004305  0.08009881 -0.24555126\n",
      "  0.02158297 -0.3069193   0.2517111   0.03129218  0.12936468 -0.02331728\n",
      " -0.02725531 -0.00746032 -0.2702606  -0.02856177 -0.03371175 -0.04369194\n",
      "  0.14821942 -0.00319835  0.11273895 -0.21871988 -0.11162877  0.12346874\n",
      " -0.1751721  -0.13132979 -0.08051021 -0.08587988 -0.1093226  -0.10294854\n",
      "  0.07213271  0.06595592  0.17097528 -0.09070779 -0.11663095  0.00189252\n",
      "  0.02846981  0.13337454  0.05272647 -0.0918892  -0.06422709 -0.03434449\n",
      " -0.02180996  0.0111358   0.09971569  0.07690527 -0.09416234  0.0913572\n",
      "  0.00549979 -0.00472119  0.09766274 -0.05186756 -0.2935765   0.13834758\n",
      "  0.06915451  0.2890573  -0.1679559   0.29604813  0.05280517 -0.02041102\n",
      "  0.18766074 -0.09062875  0.05738558  0.0416038  -0.06513416  0.05239771\n",
      " -0.03980264  0.05309687 -0.03831604  0.00584583 -0.2677568   0.22360492\n",
      "  0.02243678 -0.06323817  0.12167038  0.14932132  0.14456333  0.02185472\n",
      "  0.24164858 -0.01710026  0.00270477 -0.12386036  0.2332929   0.17912434\n",
      "  0.07258383 -0.08071001 -0.03194564 -0.04078814]\n"
     ]
    }
   ],
   "source": [
    "print(cbow.wv['computer'])"
   ]
  },
  {
   "cell_type": "code",
   "execution_count": 40,
   "metadata": {},
   "outputs": [
    {
     "data": {
      "text/plain": [
       "0.86544263"
      ]
     },
     "execution_count": 40,
     "metadata": {},
     "output_type": "execute_result"
    }
   ],
   "source": [
    "### We can also find out the similarity between given words (the cosine distance between their vectors).\n",
    "cbow.wv.similarity('vladimir', 'putin')"
   ]
  },
  {
   "cell_type": "code",
   "execution_count": 41,
   "metadata": {},
   "outputs": [
    {
     "data": {
      "text/plain": [
       "0.81334007"
      ]
     },
     "execution_count": 41,
     "metadata": {},
     "output_type": "execute_result"
    }
   ],
   "source": [
    "cbow.wv.similarity('vladimir', 'modi')"
   ]
  },
  {
   "cell_type": "code",
   "execution_count": 42,
   "metadata": {},
   "outputs": [
    {
     "name": "stdout",
     "output_type": "stream",
     "text": [
      "[('paid', 0.7184774279594421), ('wages', 0.6870037317276001), ('receive', 0.6820783019065857), ('minimum', 0.6790280342102051), ('bills', 0.676755428314209), ('leave', 0.6689574718475342), ('raise', 0.6655681729316711), ('provide', 0.6563509106636047), ('wage', 0.6430478096008301), ('hazard', 0.6412681937217712)]\n"
     ]
    }
   ],
   "source": [
    "# We can also find the most similar words to a given word.\n",
    "print(cbow.wv.most_similar('pay'))"
   ]
  },
  {
   "cell_type": "code",
   "execution_count": 43,
   "metadata": {},
   "outputs": [
    {
     "name": "stdout",
     "output_type": "stream",
     "text": [
      "[('coronavirus', 0.6800086498260498), ('coronacrisis', 0.6207243800163269), ('corona', 0.6045094728469849), ('virus', 0.5714198350906372), ('coronaviruspandemic', 0.5527095794677734), ('disease', 0.550549328327179), ('stayathome', 0.5378566384315491), ('coronavirusuk', 0.5342407822608948), ('globalpandemic', 0.5330847501754761), ('coronavirusupdate', 0.5313635468482971)]\n"
     ]
    }
   ],
   "source": [
    "print(cbow.wv.most_similar('covid'))"
   ]
  },
  {
   "cell_type": "code",
   "execution_count": 44,
   "metadata": {},
   "outputs": [
    {
     "name": "stdout",
     "output_type": "stream",
     "text": [
      "[('nigeria', 0.8301569819450378), ('yemen', 0.7741296887397766), ('induced', 0.7673357129096985), ('oilprice', 0.7650848031044006), ('pakistan', 0.763910174369812), ('oilprices', 0.7552645206451416), ('slowdown', 0.754508912563324), ('usa', 0.7531763315200806), ('kenya', 0.7462401390075684), ('saudiarabia', 0.7404502034187317)]\n"
     ]
    }
   ],
   "source": [
    "print(cbow.wv.most_similar('india'))"
   ]
  },
  {
   "cell_type": "code",
   "execution_count": 45,
   "metadata": {},
   "outputs": [
    {
     "name": "stdout",
     "output_type": "stream",
     "text": [
      "[('arabia', 0.88653165102005), ('saudi', 0.8845890164375305), ('opec', 0.8435678482055664), ('output', 0.7762780785560608), ('war', 0.7734721302986145), ('cuts', 0.7734152674674988), ('putin', 0.7570710778236389), ('crude', 0.752779483795166), ('oil', 0.752558171749115), ('president', 0.7505783438682556)]\n"
     ]
    }
   ],
   "source": [
    "# Similarly, we can use the same function to find analogies of the form: if x:y, then z:?. Here we enter the known\n",
    "# relation x,y in the positive parameter, and the term who’s analogy has to be found in the negative parameter.\n",
    "print(cbow.wv.most_similar(positive=['russian', 'russia'], negative=['arab']))"
   ]
  },
  {
   "cell_type": "code",
   "execution_count": 46,
   "metadata": {},
   "outputs": [
    {
     "data": {
      "text/plain": [
       "'grocery'"
      ]
     },
     "execution_count": 46,
     "metadata": {},
     "output_type": "execute_result"
    }
   ],
   "source": [
    "# We also have this method which works similar to an \"odd one out\" situation.\n",
    "cbow.wv.doesnt_match(['grocery', 'covid', 'coronavirus'])"
   ]
  },
  {
   "cell_type": "markdown",
   "metadata": {},
   "source": [
    "**Visualizing CBOW**"
   ]
  },
  {
   "cell_type": "code",
   "execution_count": 61,
   "metadata": {},
   "outputs": [],
   "source": [
    "from sklearn.decomposition import PCA\n",
    "from sklearn.manifold import TSNE\n",
    "\n",
    "def display_pca_scatterplot(model, words=None, sample=0):\n",
    "    if words == None:\n",
    "        if sample > 0:\n",
    "            words = np.random.choice(list(model.wv.key_to_index), sample)\n",
    "        else:\n",
    "            words = [word for word in model.wv.index_to_key]\n",
    "        \n",
    "    word_vectors = np.array([model.wv[w] for w in words])\n",
    "\n",
    "    twodim = PCA().fit_transform(word_vectors)[:,:2]\n",
    "    \n",
    "    plt.figure(figsize=(6,6))\n",
    "    plt.scatter(twodim[:,0], twodim[:,1], edgecolors='k', c='r')\n",
    "    for word, (x,y) in zip(words, twodim):\n",
    "        plt.text(x+0.05, y+0.05, word)"
   ]
  },
  {
   "cell_type": "code",
   "execution_count": 52,
   "metadata": {},
   "outputs": [
    {
     "data": {
      "image/png": "[encoded data removed]",
      "text/plain": [
       "<Figure size 600x600 with 1 Axes>"
      ]
     },
     "metadata": {},
     "output_type": "display_data"
    }
   ],
   "source": [
    "display_pca_scatterplot(cbow,['coronavirus', 'covid', 'virus', 'corona','disease', 'saudiarabia',  'doctor', 'hospital', 'pakistan', 'kenya',\n",
    "                             'pay', 'paying', 'paid', 'wages', 'raise', 'bills', 'rent', 'charge'])"
   ]
  },
  {
   "cell_type": "markdown",
   "metadata": {},
   "source": [
    "### Skip Gram"
   ]
  },
  {
   "cell_type": "code",
   "execution_count": 63,
   "metadata": {},
   "outputs": [],
   "source": [
    "skipgram = Word2Vec(sentences=sentences, vector_size=100, window=5, sg=1)"
   ]
  },
  {
   "cell_type": "code",
   "execution_count": 66,
   "metadata": {},
   "outputs": [
    {
     "data": {
      "text/plain": [
       "['the', 'to', 'and', 'of', 'covid', 'a', 'in', 'coronavirus', 'for', 'is']"
      ]
     },
     "execution_count": 66,
     "metadata": {},
     "output_type": "execute_result"
    }
   ],
   "source": [
    "skipgram.wv.index_to_key[:10]"
   ]
  },
  {
   "cell_type": "markdown",
   "metadata": {},
   "source": [
    "Everything is same as CBOW."
   ]
  },
  {
   "cell_type": "markdown",
   "metadata": {},
   "source": [
    "**Visualizing Skipgram**"
   ]
  },
  {
   "cell_type": "code",
   "execution_count": 67,
   "metadata": {},
   "outputs": [
    {
     "data": {
      "image/png": "[encoded data removed]",
      "text/plain": [
       "<Figure size 600x600 with 1 Axes>"
      ]
     },
     "metadata": {},
     "output_type": "display_data"
    }
   ],
   "source": [
    "display_pca_scatterplot(skipgram,['coronavirus', 'covid', 'virus', 'corona','disease', 'saudiarabia',  'doctor', 'hospital', 'pakistan', 'kenya',\n",
    "                             'pay', 'paying', 'paid', 'wages', 'raise', 'bills', 'rent', 'charge'])"
   ]
  },
  {
   "cell_type": "markdown",
   "metadata": {},
   "source": [
    "### Exporting pre trained embeddings + Saving/Loading our model"
   ]
  },
  {
   "cell_type": "code",
   "execution_count": 68,
   "metadata": {},
   "outputs": [
    {
     "name": "stdout",
     "output_type": "stream",
     "text": [
      "['fasttext-wiki-news-subwords-300', 'conceptnet-numberbatch-17-06-300', 'word2vec-ruscorpora-300', 'word2vec-google-news-300', 'glove-wiki-gigaword-50', 'glove-wiki-gigaword-100', 'glove-wiki-gigaword-200', 'glove-wiki-gigaword-300', 'glove-twitter-25', 'glove-twitter-50', 'glove-twitter-100', 'glove-twitter-200', '__testing_word2vec-matrix-synopsis']\n"
     ]
    }
   ],
   "source": [
    "import gensim.downloader\n",
    "print(list(gensim.downloader.info()['models'].keys()))"
   ]
  },
  {
   "cell_type": "code",
   "execution_count": 69,
   "metadata": {},
   "outputs": [
    {
     "name": "stdout",
     "output_type": "stream",
     "text": [
      "[==================================================] 100.0% 1662.8/1662.8MB downloaded\n"
     ]
    },
    {
     "data": {
      "text/plain": [
       "[('Twitter', 0.8908904194831848),\n",
       " ('Twitter.com', 0.7536780834197998),\n",
       " ('tweet', 0.7431625723838806),\n",
       " ('tweeting', 0.7161932587623596),\n",
       " ('tweeted', 0.7137226462364197),\n",
       " ('facebook', 0.6988552808761597),\n",
       " ('tweets', 0.6974530816078186),\n",
       " ('Tweeted', 0.6950211524963379),\n",
       " ('Tweet', 0.6875007152557373),\n",
       " ('Tweeting', 0.6845167279243469)]"
      ]
     },
     "execution_count": 69,
     "metadata": {},
     "output_type": "execute_result"
    }
   ],
   "source": [
    "google_news = gensim.downloader.load('word2vec-google-news-300')\n",
    "google_news.most_similar('twitter')"
   ]
  },
  {
   "cell_type": "code",
   "execution_count": 70,
   "metadata": {},
   "outputs": [],
   "source": [
    "# w2v.save(\"word2vec.model\")"
   ]
  },
  {
   "cell_type": "code",
   "execution_count": 71,
   "metadata": {},
   "outputs": [],
   "source": [
    "# model = Word2Vec.load(\"word2vec.model\")\n",
    "# model.train([[\"hello\", \"world\"]], total_examples=1, epochs=1)"
   ]
  },
  {
   "cell_type": "code",
   "execution_count": null,
   "metadata": {},
   "outputs": [],
   "source": []
  }
 ],
 "metadata": {
  "kernelspec": {
   "display_name": "env",
   "language": "python",
   "name": "env"
  },
  "language_info": {
   "codemirror_mode": {
    "name": "ipython",
    "version": 3
   },
   "file_extension": ".py",
   "mimetype": "text/x-python",
   "name": "python",
   "nbconvert_exporter": "python",
   "pygments_lexer": "ipython3",
   "version": "3.12.3"
  }
 },
 "nbformat": 4,
 "nbformat_minor": 2
}
