{
 "cells": [
  {
   "cell_type": "markdown",
   "metadata": {},
   "source": [
    "### Clustering\n",
    "It is possible to use a clustering algorithm, such as k-means, to group users into a cluster and then take only the users from the same cluster into consideration when predicting ratings.\n",
    "\n",
    "We will use k-means' sister algorithm, kNN, to build our clustering-based collaborative filter. In a nutshell, given an user, `u`, and a movie, `m`, these are the steps involved:\n",
    "1. Find the k-nearest neighbors of `u` who have rated movie `m`\n",
    "2. Output the average rating of the `k` users for the movie `m`\n",
    "\n",
    "That's it. This extremely simply algorithm happens to be one of the most popularly used."
   ]
  },
  {
   "cell_type": "code",
   "execution_count": 5,
   "metadata": {},
   "outputs": [],
   "source": [
    "import pandas as pd\n",
    "import numpy as np\n",
    "\n",
    "# Import the required classes and methods from the surprise library\n",
    "from surprise import Reader, Dataset, KNNBasic\n",
    "from surprise.model_selection import cross_validate"
   ]
  },
  {
   "cell_type": "code",
   "execution_count": 3,
   "metadata": {},
   "outputs": [],
   "source": [
    "# Define a Reader object\n",
    "# The Reader object helps in parsing the file or dataframe containing ratings\n",
    "reader = Reader()"
   ]
  },
  {
   "cell_type": "code",
   "execution_count": 6,
   "metadata": {},
   "outputs": [],
   "source": [
    "r_cols = ['user_id', 'movie_id', 'rating', 'timestamp']\n",
    "ratings = pd.read_csv('../../data/ml-100k/u.data', sep='\\t', names=r_cols, encoding='latin-1')\n",
    "ratings = ratings.drop('timestamp', axis=1)"
   ]
  },
  {
   "cell_type": "code",
   "execution_count": 7,
   "metadata": {},
   "outputs": [],
   "source": [
    "# Create the dataset to be used for building the filter\n",
    "data = Dataset.load_from_df(ratings, reader)"
   ]
  },
  {
   "cell_type": "code",
   "execution_count": 8,
   "metadata": {},
   "outputs": [],
   "source": [
    "# Define the algorithm object; in this case kNN\n",
    "knn = KNNBasic()"
   ]
  },
  {
   "cell_type": "code",
   "execution_count": 9,
   "metadata": {},
   "outputs": [
    {
     "name": "stdout",
     "output_type": "stream",
     "text": [
      "Computing the msd similarity matrix...\n",
      "Done computing similarity matrix.\n",
      "Computing the msd similarity matrix...\n",
      "Done computing similarity matrix.\n",
      "Computing the msd similarity matrix...\n",
      "Done computing similarity matrix.\n",
      "Computing the msd similarity matrix...\n",
      "Done computing similarity matrix.\n",
      "Computing the msd similarity matrix...\n",
      "Done computing similarity matrix.\n"
     ]
    },
    {
     "data": {
      "text/plain": [
       "{'test_rmse': array([0.97716501, 0.98064061, 0.97422453, 0.9835689 , 0.97525814]),\n",
       " 'fit_time': (0.4553859233856201,\n",
       "  0.5232524871826172,\n",
       "  0.41683530807495117,\n",
       "  0.49950361251831055,\n",
       "  0.40623974800109863),\n",
       " 'test_time': (2.210005044937134,\n",
       "  2.4829437732696533,\n",
       "  2.697406530380249,\n",
       "  2.3003673553466797,\n",
       "  2.407249927520752)}"
      ]
     },
     "execution_count": 9,
     "metadata": {},
     "output_type": "execute_result"
    }
   ],
   "source": [
    "# cross-validation with no. of kfold=5\n",
    "cross_validate(knn, data, measures=['rmse'], cv=5)"
   ]
  },
  {
   "cell_type": "code",
   "execution_count": 12,
   "metadata": {},
   "outputs": [
    {
     "data": {
      "text/plain": [
       "3.2153616573804804"
      ]
     },
     "execution_count": 12,
     "metadata": {},
     "output_type": "execute_result"
    }
   ],
   "source": [
    "knn.predict(1, 2).est"
   ]
  },
  {
   "cell_type": "markdown",
   "metadata": {},
   "source": [
    "### Singular Value Decomposition"
   ]
  },
  {
   "cell_type": "code",
   "execution_count": 13,
   "metadata": {},
   "outputs": [
    {
     "data": {
      "text/plain": [
       "{'test_rmse': array([0.94771382, 0.93162724, 0.93001421, 0.93244431, 0.93972319]),\n",
       " 'fit_time': (0.9692947864532471,\n",
       "  0.8996889591217041,\n",
       "  0.8974428176879883,\n",
       "  0.9165253639221191,\n",
       "  0.8830184936523438),\n",
       " 'test_time': (0.09898853302001953,\n",
       "  0.14996623992919922,\n",
       "  0.09996676445007324,\n",
       "  0.15003299713134766,\n",
       "  0.09988713264465332)}"
      ]
     },
     "execution_count": 13,
     "metadata": {},
     "output_type": "execute_result"
    }
   ],
   "source": [
    "# Import SVD\n",
    "from surprise import SVD\n",
    "\n",
    "# Define the SVD algorithm object\n",
    "svd = SVD()\n",
    "\n",
    "# Evaluate the performance in terms of RMSE\n",
    "cross_validate(svd, data, measures=['rmse'], cv=5)"
   ]
  },
  {
   "cell_type": "code",
   "execution_count": 14,
   "metadata": {},
   "outputs": [
    {
     "data": {
      "text/plain": [
       "3.067275831546676"
      ]
     },
     "execution_count": 14,
     "metadata": {},
     "output_type": "execute_result"
    }
   ],
   "source": [
    "svd.predict(1, 2).est"
   ]
  },
  {
   "cell_type": "code",
   "execution_count": null,
   "metadata": {},
   "outputs": [],
   "source": []
  }
 ],
 "metadata": {
  "kernelspec": {
   "display_name": "env",
   "language": "python",
   "name": "env"
  },
  "language_info": {
   "codemirror_mode": {
    "name": "ipython",
    "version": 3
   },
   "file_extension": ".py",
   "mimetype": "text/x-python",
   "name": "python",
   "nbconvert_exporter": "python",
   "pygments_lexer": "ipython3",
   "version": "3.12.3"
  }
 },
 "nbformat": 4,
 "nbformat_minor": 2
}
