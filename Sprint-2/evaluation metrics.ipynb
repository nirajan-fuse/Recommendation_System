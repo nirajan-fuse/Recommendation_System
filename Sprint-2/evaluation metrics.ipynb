{
 "cells": [
  {
   "cell_type": "markdown",
   "metadata": {},
   "source": [
    "### Recall@k\n",
    "What percentage of true value are retrieved from actual true values.\n",
    "$$recall=\\frac{truePositives}{truePositives+falseNegatives}"
   ]
  },
  {
   "cell_type": "code",
   "execution_count": 3,
   "metadata": {},
   "outputs": [],
   "source": [
    "# recall@k function\n",
    "def recall(actual, predicted, k):\n",
    "    act_set = set(actual)\n",
    "    pred_set = set(predicted[:k])\n",
    "    result = round(len(act_set & pred_set)) / float(len(act_set))\n",
    "    return result"
   ]
  },
  {
   "cell_type": "code",
   "execution_count": 4,
   "metadata": {},
   "outputs": [
    {
     "name": "stdout",
     "output_type": "stream",
     "text": [
      "Recall@1 = 0.0\n",
      "Recall@2 = 0.25\n",
      "Recall@3 = 0.25\n",
      "Recall@4 = 0.5\n",
      "Recall@5 = 0.75\n",
      "Recall@6 = 0.75\n",
      "Recall@7 = 1.0\n",
      "Recall@8 = 1.0\n"
     ]
    }
   ],
   "source": [
    "actual = [\"2\", \"4\", \"5\", \"7\"]\n",
    "predicted = [\"1\", \"2\", \"3\", \"4\", \"5\", \"6\", \"7\", \"8\"]\n",
    "\n",
    "for k in range(1, 9):\n",
    "    print(f'Recall@{k} = {recall(actual, predicted, k)}')"
   ]
  },
  {
   "cell_type": "markdown",
   "metadata": {},
   "source": [
    "### MRR (Mean reciprocal rank)\n",
    "Considers order of the result.\n",
    "$$MRR=\\frac{1}{Q} \\sum_{q=1}^Q \\frac{1}{rank_q}$$\n",
    "$rank_q$ = rank of first relevant item in the rank q position\n",
    "\n",
    "ideal scenario = 1"
   ]
  },
  {
   "cell_type": "code",
   "execution_count": 5,
   "metadata": {},
   "outputs": [],
   "source": [
    "# relevant result for query #1, #2 and #3\n",
    "actual_relevant = [\n",
    "    [2, 4, 5, 7],\n",
    "    [1, 4, 5, 7],\n",
    "    [5, 8]\n",
    "]"
   ]
  },
  {
   "cell_type": "code",
   "execution_count": 6,
   "metadata": {},
   "outputs": [
    {
     "name": "stdout",
     "output_type": "stream",
     "text": [
      "query #1 = 1/2 = 0.5\n",
      "query #2 = 1/1 = 1.5\n",
      "query #3 = 1/5 = 1.7\n",
      "MRR =  0.57\n"
     ]
    }
   ],
   "source": [
    "# number of queries\n",
    "Q = len(actual_relevant)\n",
    "\n",
    "# calculate reciprocal of the first actual relevant\n",
    "reciprocal = 0\n",
    "for i in range(Q):\n",
    "    first_result = actual_relevant[i][0]\n",
    "    reciprocal = reciprocal + (1 / first_result)\n",
    "    print(f\"query #{i+1} = 1/{first_result} = {reciprocal}\")\n",
    "\n",
    "\n",
    "# calculate mrr\n",
    "mrr = 1 / Q * reciprocal\n",
    "\n",
    "# generate results\n",
    "print(\"MRR = \", round(mrr, 2))"
   ]
  },
  {
   "cell_type": "markdown",
   "metadata": {},
   "source": [
    "### MAP@K (Mean average precision)\n",
    "Mean of average precision\n",
    "$$MAP@K=\\frac{1}{Q} \\sum_{q=1}^Q AP@K_q$$\n",
    "where,\n",
    "\n",
    "&nbsp;&nbsp;&nbsp;&nbsp;&nbsp;&nbsp;AP = Average precision\n",
    "\n",
    "$$AP@K=\\frac{\\sum_{k=1}^K (Precision@k*rel_k)}{\\#\\ of\\ relevant\\ results}$$\n",
    "where,<br>\n",
    "&nbsp;&nbsp;&nbsp;&nbsp;&nbsp;&nbsp;$rel_k$ = relevant or not at position k (0, 1). It ensures to calculate precision for relevant item.\n",
    "\n",
    "and,\n",
    "$$Precision@k=\\frac{truePositives}{truePositives+falsePositives}$$\n"
   ]
  },
  {
   "cell_type": "code",
   "execution_count": 8,
   "metadata": {},
   "outputs": [
    {
     "name": "stdout",
     "output_type": "stream",
     "text": [
      "AP@8_1 = 0.54\n",
      "AP@8_2 = 0.67\n",
      "AP@8_3 = 0.23\n",
      "MAP@8 = 0.48\n"
     ]
    }
   ],
   "source": [
    "# initialize variables\n",
    "actual = [\n",
    "    [2, 4, 5, 7],\n",
    "    [1, 4, 5, 7],\n",
    "    [5, 8]\n",
    "]\n",
    "\n",
    "Q = len(actual)\n",
    "predicted = [1, 2, 3, 4, 5, 6, 7, 8]\n",
    "K = 8\n",
    "ap = []\n",
    "\n",
    "# loop through and calculate AP for each query q\n",
    "for q in range(Q):\n",
    "    ap_num = 0\n",
    "    # loop through k values\n",
    "    for x in range(K):\n",
    "        # calculate Precision@K\n",
    "        act_set = set(actual[q])\n",
    "        pred_set = set(predicted[:x+1])\n",
    "        precision_at_K = len(act_set & pred_set) / (x+1)\n",
    "\n",
    "        # calculate rel_k values\n",
    "        if predicted[x] in actual[q]:\n",
    "            rel_k = 1\n",
    "        else:\n",
    "            rel_k = 0\n",
    "        \n",
    "        # calculate numerator value for ap\n",
    "        ap_num += precision_at_K * rel_k\n",
    "    \n",
    "    # now we calculate AP value as the average of ap_num\n",
    "    ap_q = ap_num/len(actual[q])\n",
    "    print(f'AP@{K}_{q+1} = {round(ap_q, 2)}')\n",
    "    ap.append(ap_q)\n",
    "\n",
    "# now we take the mean of all ap values to get MAP\n",
    "map_at_K = sum(ap) / Q\n",
    "\n",
    "# generate result\n",
    "print(f\"MAP@{K} = {round(map_at_K, 2)}\")"
   ]
  },
  {
   "cell_type": "markdown",
   "metadata": {},
   "source": [
    "### NDCG@K (Normalized Discounted Cumulative Gain)\n",
    "\n",
    "$$CG@K=\\sum_{k=1}^K rel_k$$\n",
    "Here,\n",
    "\n",
    "&nbsp;&nbsp;&nbsp;&nbsp;&nbsp;&nbsp;$rel_k$ = value from 0 to 4 by relevancy.\n",
    "\n",
    "Also, CG is not in order.\n",
    "\n",
    "$$DCG@K=\\sum_{k=1}^K \\frac{rel_k}{log_2(1+k)}$$\n",
    "DCG is in order."
   ]
  },
  {
   "cell_type": "code",
   "execution_count": 11,
   "metadata": {},
   "outputs": [
    {
     "name": "stdout",
     "output_type": "stream",
     "text": [
      "DCG@1 = 0.0\n",
      "DCG@2 = 2.52\n",
      "DCG@3 = 3.02\n",
      "DCG@4 = 4.32\n",
      "DCG@5 = 5.86\n",
      "DCG@6 = 6.22\n",
      "DCG@7 = 7.22\n",
      "DCG@8 = 7.85\n"
     ]
    }
   ],
   "source": [
    "from math import log2\n",
    "\n",
    "# initialize variables\n",
    "relevance = [0, 4, 1, 3, 4, 1, 3, 2]\n",
    "K = 8\n",
    "\n",
    "dcg = 0\n",
    "# loop through each item and calculate DCG\n",
    "for k in range(1, K+1):\n",
    "    rel_k = relevance[k-1]\n",
    "\n",
    "    # calculate DCG\n",
    "    dcg += rel_k / log2(1+k)\n",
    "    print(f\"DCG@{k} = {round(dcg, 2)}\")"
   ]
  },
  {
   "cell_type": "markdown",
   "metadata": {},
   "source": [
    "DCG values depends on relevancy score. If we give value other than 0-4, then it is completely different. So, it is hard to interpret.\n",
    "\n",
    "$$NDCG@K=\\frac{DCG@K}{IDCG@K}$$\n",
    "Here,\n",
    "\n",
    "&nbsp;&nbsp;&nbsp;&nbsp;&nbsp;&nbsp;IDCG@K (Ideal DCG) = rank item in order by relevancy and calculate DCG."
   ]
  },
  {
   "cell_type": "code",
   "execution_count": 12,
   "metadata": {},
   "outputs": [
    {
     "name": "stdout",
     "output_type": "stream",
     "text": [
      "[4, 4, 3, 3, 2, 1, 1, 0]\n",
      "IDCG@1 = 4.0\n",
      "IDCG@2 = 6.52\n",
      "IDCG@3 = 8.02\n",
      "IDCG@4 = 9.32\n",
      "IDCG@5 = 10.09\n",
      "IDCG@6 = 10.45\n",
      "IDCG@7 = 10.78\n",
      "IDCG@8 = 10.78\n"
     ]
    }
   ],
   "source": [
    "# Sort item in relevance from most relevant to less\n",
    "ideal_relevance = sorted(relevance, reverse=True)\n",
    "\n",
    "print(ideal_relevance)\n",
    "\n",
    "idcg = 0\n",
    "\n",
    "# as before loop through each item and calculate ideal DCG\n",
    "for k in range(1, K+1):\n",
    "    rel_k = ideal_relevance[k-1]\n",
    "\n",
    "    # calculate DCG\n",
    "    idcg += rel_k / log2(1+k)\n",
    "    print(f\"IDCG@{k} = {round(idcg, 2)}\")"
   ]
  },
  {
   "cell_type": "code",
   "execution_count": 13,
   "metadata": {},
   "outputs": [
    {
     "name": "stdout",
     "output_type": "stream",
     "text": [
      "NDCG@1 = 0.0\n",
      "NDCG@2 = 0.39\n",
      "NDCG@3 = 0.38\n",
      "NDCG@4 = 0.46\n",
      "NDCG@5 = 0.58\n",
      "NDCG@6 = 0.6\n",
      "NDCG@7 = 0.67\n",
      "NDCG@8 = 0.73\n"
     ]
    }
   ],
   "source": [
    "# Calculating NDCG@K\n",
    "dcg = 0\n",
    "idcg = 0\n",
    "\n",
    "for k in range(1, K+1):\n",
    "    # calculate rel_k values\n",
    "    rel_k = relevance[k-1]\n",
    "    ideal_rel_k = ideal_relevance[k-1]\n",
    "\n",
    "    # calculate DCG and IDCG\n",
    "    dcg += rel_k / log2(1+k)\n",
    "    idcg += ideal_rel_k / log2(1+k)\n",
    "\n",
    "    # calculate NDCG\n",
    "    ndcg = dcg / idcg\n",
    "\n",
    "    print(f\"NDCG@{k} = {round(ndcg, 2)}\")"
   ]
  },
  {
   "cell_type": "code",
   "execution_count": null,
   "metadata": {},
   "outputs": [],
   "source": []
  }
 ],
 "metadata": {
  "kernelspec": {
   "display_name": "env",
   "language": "python",
   "name": "env"
  },
  "language_info": {
   "codemirror_mode": {
    "name": "ipython",
    "version": 3
   },
   "file_extension": ".py",
   "mimetype": "text/x-python",
   "name": "python",
   "nbconvert_exporter": "python",
   "pygments_lexer": "ipython3",
   "version": "3.12.3"
  }
 },
 "nbformat": 4,
 "nbformat_minor": 2
}
