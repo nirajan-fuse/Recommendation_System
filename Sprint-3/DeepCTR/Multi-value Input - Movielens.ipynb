{
 "cells": [
  {
   "cell_type": "markdown",
   "metadata": {},
   "source": [
    "There are 2 additional steps to use DeepCTR with sequence feature input.\n",
    "\n",
    "1. Generate the paded and encoded sequence feature of sequence input feature(value 0 is for padding).\n",
    "2. Generate config of sequence feature with VarLenSparseFeat"
   ]
  },
  {
   "cell_type": "code",
   "execution_count": 1,
   "metadata": {},
   "outputs": [],
   "source": [
    "import numpy as np\n",
    "import pandas as pd\n",
    "from sklearn.preprocessing import LabelEncoder\n",
    "from tensorflow.keras.preprocessing.sequence import pad_sequences\n",
    "\n",
    "from deepctr.models import DeepFM\n",
    "from deepctr.feature_column import SparseFeat, VarLenSparseFeat, get_feature_names"
   ]
  },
  {
   "cell_type": "code",
   "execution_count": 2,
   "metadata": {},
   "outputs": [],
   "source": [
    "def split(x):\n",
    "    key_ans = x.split('|')\n",
    "    for key in key_ans:\n",
    "        if key not in key2index:\n",
    "            # Notice : input value 0 is a special \"padding\",so we do not use 0 to encode valid feature for sequence input\n",
    "            key2index[key] = len(key2index) + 1\n",
    "    return list(map(lambda x: key2index[x], key_ans))"
   ]
  },
  {
   "cell_type": "code",
   "execution_count": 3,
   "metadata": {},
   "outputs": [],
   "source": [
    "data = pd.read_csv(\"./data/movielens_sample.txt\")"
   ]
  },
  {
   "cell_type": "code",
   "execution_count": 4,
   "metadata": {},
   "outputs": [
    {
     "data": {
      "text/html": [
       "<div>\n",
       "<style scoped>\n",
       "    .dataframe tbody tr th:only-of-type {\n",
       "        vertical-align: middle;\n",
       "    }\n",
       "\n",
       "    .dataframe tbody tr th {\n",
       "        vertical-align: top;\n",
       "    }\n",
       "\n",
       "    .dataframe thead th {\n",
       "        text-align: right;\n",
       "    }\n",
       "</style>\n",
       "<table border=\"1\" class=\"dataframe\">\n",
       "  <thead>\n",
       "    <tr style=\"text-align: right;\">\n",
       "      <th></th>\n",
       "      <th>user_id</th>\n",
       "      <th>movie_id</th>\n",
       "      <th>rating</th>\n",
       "      <th>timestamp</th>\n",
       "      <th>title</th>\n",
       "      <th>genres</th>\n",
       "      <th>gender</th>\n",
       "      <th>age</th>\n",
       "      <th>occupation</th>\n",
       "      <th>zip</th>\n",
       "    </tr>\n",
       "  </thead>\n",
       "  <tbody>\n",
       "    <tr>\n",
       "      <th>0</th>\n",
       "      <td>3299</td>\n",
       "      <td>235</td>\n",
       "      <td>4</td>\n",
       "      <td>968035345</td>\n",
       "      <td>Ed Wood (1994)</td>\n",
       "      <td>Comedy|Drama</td>\n",
       "      <td>F</td>\n",
       "      <td>25</td>\n",
       "      <td>4</td>\n",
       "      <td>19119</td>\n",
       "    </tr>\n",
       "    <tr>\n",
       "      <th>1</th>\n",
       "      <td>3630</td>\n",
       "      <td>3256</td>\n",
       "      <td>3</td>\n",
       "      <td>966536874</td>\n",
       "      <td>Patriot Games (1992)</td>\n",
       "      <td>Action|Thriller</td>\n",
       "      <td>M</td>\n",
       "      <td>18</td>\n",
       "      <td>4</td>\n",
       "      <td>77005</td>\n",
       "    </tr>\n",
       "    <tr>\n",
       "      <th>2</th>\n",
       "      <td>517</td>\n",
       "      <td>105</td>\n",
       "      <td>4</td>\n",
       "      <td>976203603</td>\n",
       "      <td>Bridges of Madison County, The (1995)</td>\n",
       "      <td>Drama|Romance</td>\n",
       "      <td>F</td>\n",
       "      <td>25</td>\n",
       "      <td>14</td>\n",
       "      <td>55408</td>\n",
       "    </tr>\n",
       "  </tbody>\n",
       "</table>\n",
       "</div>"
      ],
      "text/plain": [
       "   user_id  movie_id  rating  timestamp  \\\n",
       "0     3299       235       4  968035345   \n",
       "1     3630      3256       3  966536874   \n",
       "2      517       105       4  976203603   \n",
       "\n",
       "                                   title           genres gender  age  \\\n",
       "0                         Ed Wood (1994)     Comedy|Drama      F   25   \n",
       "1                   Patriot Games (1992)  Action|Thriller      M   18   \n",
       "2  Bridges of Madison County, The (1995)    Drama|Romance      F   25   \n",
       "\n",
       "   occupation    zip  \n",
       "0           4  19119  \n",
       "1           4  77005  \n",
       "2          14  55408  "
      ]
     },
     "execution_count": 4,
     "metadata": {},
     "output_type": "execute_result"
    }
   ],
   "source": [
    "data.head(3)"
   ]
  },
  {
   "cell_type": "code",
   "execution_count": 5,
   "metadata": {},
   "outputs": [],
   "source": [
    "sparse_features = [\"movie_id\", \"user_id\",\n",
    "                       \"gender\", \"age\", \"occupation\", \"zip\", ]\n",
    "target = ['rating']"
   ]
  },
  {
   "cell_type": "code",
   "execution_count": 6,
   "metadata": {},
   "outputs": [],
   "source": [
    "# Label Encoding for sparse features,and process sequence features\n",
    "for feat in sparse_features:\n",
    "    lbe = LabelEncoder()\n",
    "    data[feat] = lbe.fit_transform(data[feat])"
   ]
  },
  {
   "cell_type": "code",
   "execution_count": 7,
   "metadata": {},
   "outputs": [],
   "source": [
    "# preprocess the sequence feature\n",
    "key2index = {}\n",
    "genres_list = list(map(split, data['genres'].values))\n",
    "genres_length = np.array(list(map(len, genres_list)))\n",
    "max_len = max(genres_length)\n",
    "# Notice : padding=`post`\n",
    "genres_list = pad_sequences(genres_list, maxlen=max_len, padding='post', )"
   ]
  },
  {
   "cell_type": "code",
   "execution_count": 68,
   "metadata": {},
   "outputs": [],
   "source": [
    "# Count #unique features for each sparse field and generate feature config for sequence feature\n",
    "fixlen_feature_columns = [SparseFeat(feat, data[feat].max() + 1, embedding_dim=4)\n",
    "                            for feat in sparse_features]\n",
    "\n",
    "use_weighted_sequence = False\n",
    "if use_weighted_sequence:\n",
    "    varlen_feature_columns = [VarLenSparseFeat(SparseFeat('genres', vocabulary_size=len(\n",
    "        key2index) + 1, embedding_dim=4), maxlen=max_len, combiner='mean',\n",
    "                                                weight_name='genres_weight')]  # Notice : value 0 is for padding for sequence input feature\n",
    "else:\n",
    "    varlen_feature_columns = [VarLenSparseFeat(SparseFeat('genres', vocabulary_size=len(\n",
    "        key2index) + 1, embedding_dim=4), maxlen=max_len, combiner='mean',\n",
    "                                                weight_name=None)]  # Notice : value 0 is for padding for sequence input feature\n",
    "\n",
    "linear_feature_columns = fixlen_feature_columns + varlen_feature_columns\n",
    "dnn_feature_columns = fixlen_feature_columns + varlen_feature_columns\n",
    "\n",
    "feature_names = get_feature_names(linear_feature_columns + dnn_feature_columns)"
   ]
  },
  {
   "cell_type": "code",
   "execution_count": 69,
   "metadata": {},
   "outputs": [
    {
     "data": {
      "text/plain": [
       "['movie_id', 'user_id', 'gender', 'age', 'occupation', 'zip', 'genres']"
      ]
     },
     "execution_count": 69,
     "metadata": {},
     "output_type": "execute_result"
    }
   ],
   "source": [
    "feature_names"
   ]
  },
  {
   "cell_type": "code",
   "execution_count": 70,
   "metadata": {},
   "outputs": [],
   "source": [
    "if use_weighted_sequence:\n",
    "    feature_names.remove('genres_weight')"
   ]
  },
  {
   "cell_type": "code",
   "execution_count": 71,
   "metadata": {},
   "outputs": [],
   "source": [
    "# Generate input data for model\n",
    "model_input = {name: data[name] for name in feature_names}\n",
    "model_input[\"genres\"] = genres_list\n",
    "# model_input[\"genres_weight\"] = np.random.randn(data.shape[0], max_len, 1)"
   ]
  },
  {
   "cell_type": "code",
   "execution_count": 72,
   "metadata": {},
   "outputs": [
    {
     "name": "stdout",
     "output_type": "stream",
     "text": [
      "Epoch 1/60\n",
      "1/1 - 3s - loss: 14.3000 - mse: 14.3000 - val_loss: 13.3821 - val_mse: 13.3821\n",
      "Epoch 2/60\n",
      "1/1 - 0s - loss: 14.1590 - mse: 14.1590 - val_loss: 13.2429 - val_mse: 13.2429\n",
      "Epoch 3/60\n",
      "1/1 - 0s - loss: 13.9945 - mse: 13.9945 - val_loss: 13.0915 - val_mse: 13.0915\n",
      "Epoch 4/60\n",
      "1/1 - 0s - loss: 13.8165 - mse: 13.8165 - val_loss: 12.9236 - val_mse: 12.9236\n",
      "Epoch 5/60\n",
      "1/1 - 0s - loss: 13.6211 - mse: 13.6211 - val_loss: 12.7367 - val_mse: 12.7367\n",
      "Epoch 6/60\n",
      "1/1 - 0s - loss: 13.4050 - mse: 13.4050 - val_loss: 12.5296 - val_mse: 12.5296\n",
      "Epoch 7/60\n",
      "1/1 - 0s - loss: 13.1667 - mse: 13.1667 - val_loss: 12.3009 - val_mse: 12.3009\n",
      "Epoch 8/60\n",
      "1/1 - 0s - loss: 12.9044 - mse: 12.9044 - val_loss: 12.0485 - val_mse: 12.0485\n",
      "Epoch 9/60\n",
      "1/1 - 0s - loss: 12.6154 - mse: 12.6154 - val_loss: 11.7696 - val_mse: 11.7696\n",
      "Epoch 10/60\n",
      "1/1 - 0s - loss: 12.2963 - mse: 12.2963 - val_loss: 11.4618 - val_mse: 11.4618\n",
      "Epoch 11/60\n",
      "1/1 - 0s - loss: 11.9439 - mse: 11.9439 - val_loss: 11.1242 - val_mse: 11.1242\n",
      "Epoch 12/60\n",
      "1/1 - 0s - loss: 11.5553 - mse: 11.5553 - val_loss: 10.7535 - val_mse: 10.7535\n",
      "Epoch 13/60\n",
      "1/1 - 0s - loss: 11.1301 - mse: 11.1301 - val_loss: 10.3475 - val_mse: 10.3475\n",
      "Epoch 14/60\n",
      "1/1 - 0s - loss: 10.6644 - mse: 10.6644 - val_loss: 9.9047 - val_mse: 9.9047\n",
      "Epoch 15/60\n",
      "1/1 - 0s - loss: 10.1562 - mse: 10.1562 - val_loss: 9.4241 - val_mse: 9.4241\n",
      "Epoch 16/60\n",
      "1/1 - 0s - loss: 9.6026 - mse: 9.6026 - val_loss: 8.9034 - val_mse: 8.9034\n",
      "Epoch 17/60\n",
      "1/1 - 0s - loss: 9.0025 - mse: 9.0024 - val_loss: 8.3415 - val_mse: 8.3415\n",
      "Epoch 18/60\n",
      "1/1 - 0s - loss: 8.3553 - mse: 8.3553 - val_loss: 7.7400 - val_mse: 7.7400\n",
      "Epoch 19/60\n",
      "1/1 - 0s - loss: 7.6625 - mse: 7.6625 - val_loss: 7.1004 - val_mse: 7.1004\n",
      "Epoch 20/60\n",
      "1/1 - 0s - loss: 6.9279 - mse: 6.9278 - val_loss: 6.4266 - val_mse: 6.4266\n",
      "Epoch 21/60\n",
      "1/1 - 0s - loss: 6.1577 - mse: 6.1577 - val_loss: 5.7250 - val_mse: 5.7250\n",
      "Epoch 22/60\n",
      "1/1 - 0s - loss: 5.3620 - mse: 5.3620 - val_loss: 5.0060 - val_mse: 5.0060\n",
      "Epoch 23/60\n",
      "1/1 - 0s - loss: 4.5553 - mse: 4.5553 - val_loss: 4.2830 - val_mse: 4.2830\n",
      "Epoch 24/60\n",
      "1/1 - 0s - loss: 3.7583 - mse: 3.7583 - val_loss: 3.5748 - val_mse: 3.5748\n",
      "Epoch 25/60\n",
      "1/1 - 0s - loss: 2.9989 - mse: 2.9989 - val_loss: 2.9056 - val_mse: 2.9056\n",
      "Epoch 26/60\n",
      "1/1 - 0s - loss: 2.3125 - mse: 2.3125 - val_loss: 2.3059 - val_mse: 2.3059\n",
      "Epoch 27/60\n",
      "1/1 - 0s - loss: 1.7416 - mse: 1.7415 - val_loss: 1.8106 - val_mse: 1.8106\n",
      "Epoch 28/60\n",
      "1/1 - 0s - loss: 1.3334 - mse: 1.3334 - val_loss: 1.4549 - val_mse: 1.4549\n",
      "Epoch 29/60\n",
      "1/1 - 0s - loss: 1.1318 - mse: 1.1318 - val_loss: 1.2633 - val_mse: 1.2633\n",
      "Epoch 30/60\n",
      "1/1 - 0s - loss: 1.1579 - mse: 1.1578 - val_loss: 1.2297 - val_mse: 1.2296\n",
      "Epoch 31/60\n",
      "1/1 - 0s - loss: 1.3785 - mse: 1.3785 - val_loss: 1.3014 - val_mse: 1.3014\n",
      "Epoch 32/60\n",
      "1/1 - 0s - loss: 1.6878 - mse: 1.6878 - val_loss: 1.3959 - val_mse: 1.3959\n",
      "Epoch 33/60\n",
      "1/1 - 0s - loss: 1.9433 - mse: 1.9433 - val_loss: 1.4469 - val_mse: 1.4469\n",
      "Epoch 34/60\n",
      "1/1 - 0s - loss: 2.0438 - mse: 2.0437 - val_loss: 1.4337 - val_mse: 1.4336\n",
      "Epoch 35/60\n",
      "1/1 - 0s - loss: 1.9692 - mse: 1.9692 - val_loss: 1.3729 - val_mse: 1.3729\n",
      "Epoch 36/60\n",
      "1/1 - 0s - loss: 1.7626 - mse: 1.7626 - val_loss: 1.2974 - val_mse: 1.2974\n",
      "Epoch 37/60\n",
      "1/1 - 0s - loss: 1.4916 - mse: 1.4916 - val_loss: 1.2384 - val_mse: 1.2384\n",
      "Epoch 38/60\n",
      "1/1 - 0s - loss: 1.2194 - mse: 1.2194 - val_loss: 1.2163 - val_mse: 1.2163\n",
      "Epoch 39/60\n",
      "1/1 - 0s - loss: 0.9906 - mse: 0.9906 - val_loss: 1.2385 - val_mse: 1.2384\n",
      "Epoch 40/60\n",
      "1/1 - 0s - loss: 0.8273 - mse: 0.8273 - val_loss: 1.3012 - val_mse: 1.3012\n",
      "Epoch 41/60\n",
      "1/1 - 0s - loss: 0.7322 - mse: 0.7321 - val_loss: 1.3935 - val_mse: 1.3934\n",
      "Epoch 42/60\n",
      "1/1 - 0s - loss: 0.6940 - mse: 0.6940 - val_loss: 1.5004 - val_mse: 1.5004\n",
      "Epoch 43/60\n",
      "1/1 - 0s - loss: 0.6950 - mse: 0.6950 - val_loss: 1.6077 - val_mse: 1.6076\n",
      "Epoch 44/60\n",
      "1/1 - 0s - loss: 0.7159 - mse: 0.7159 - val_loss: 1.7030 - val_mse: 1.7030\n",
      "Epoch 45/60\n",
      "1/1 - 0s - loss: 0.7399 - mse: 0.7399 - val_loss: 1.7779 - val_mse: 1.7779\n",
      "Epoch 46/60\n",
      "1/1 - 0s - loss: 0.7542 - mse: 0.7542 - val_loss: 1.8278 - val_mse: 1.8277\n",
      "Epoch 47/60\n",
      "1/1 - 0s - loss: 0.7514 - mse: 0.7514 - val_loss: 1.8511 - val_mse: 1.8510\n",
      "Epoch 48/60\n",
      "1/1 - 0s - loss: 0.7282 - mse: 0.7281 - val_loss: 1.8490 - val_mse: 1.8490\n",
      "Epoch 49/60\n",
      "1/1 - 0s - loss: 0.6849 - mse: 0.6849 - val_loss: 1.8249 - val_mse: 1.8249\n",
      "Epoch 50/60\n",
      "1/1 - 0s - loss: 0.6250 - mse: 0.6250 - val_loss: 1.7832 - val_mse: 1.7831\n",
      "Epoch 51/60\n",
      "1/1 - 0s - loss: 0.5537 - mse: 0.5537 - val_loss: 1.7275 - val_mse: 1.7275\n",
      "Epoch 52/60\n",
      "1/1 - 0s - loss: 0.4770 - mse: 0.4770 - val_loss: 1.6645 - val_mse: 1.6645\n",
      "Epoch 53/60\n",
      "1/1 - 0s - loss: 0.4018 - mse: 0.4018 - val_loss: 1.5999 - val_mse: 1.5999\n",
      "Epoch 54/60\n",
      "1/1 - 0s - loss: 0.3338 - mse: 0.3338 - val_loss: 1.5386 - val_mse: 1.5386\n",
      "Epoch 55/60\n",
      "1/1 - 0s - loss: 0.2777 - mse: 0.2777 - val_loss: 1.4849 - val_mse: 1.4849\n",
      "Epoch 56/60\n",
      "1/1 - 0s - loss: 0.2361 - mse: 0.2361 - val_loss: 1.4419 - val_mse: 1.4419\n",
      "Epoch 57/60\n",
      "1/1 - 0s - loss: 0.2091 - mse: 0.2091 - val_loss: 1.4113 - val_mse: 1.4112\n",
      "Epoch 58/60\n",
      "1/1 - 0s - loss: 0.1940 - mse: 0.1939 - val_loss: 1.3935 - val_mse: 1.3934\n",
      "Epoch 59/60\n",
      "1/1 - 0s - loss: 0.1851 - mse: 0.1851 - val_loss: 1.3890 - val_mse: 1.3890\n",
      "Epoch 60/60\n",
      "1/1 - 0s - loss: 0.1763 - mse: 0.1762 - val_loss: 1.3988 - val_mse: 1.3988\n"
     ]
    }
   ],
   "source": [
    "from tensorflow.python.keras.optimizers import adam_v2\n",
    "\n",
    "# Define Model,compile and train\n",
    "model = DeepFM(linear_feature_columns, dnn_feature_columns, task='regression')\n",
    "\n",
    "model.compile(adam_v2.Adam(1e-3), \"mse\", metrics=['mse'], )\n",
    "\n",
    "history = model.fit(model_input, data[target].values,\n",
    "                    batch_size=256, epochs=60, verbose=2, validation_split=0.2)"
   ]
  },
  {
   "cell_type": "code",
   "execution_count": 73,
   "metadata": {},
   "outputs": [
    {
     "data": {
      "image/png": "[encoded data removed]",
      "text/plain": [
       "<Figure size 1000x600 with 1 Axes>"
      ]
     },
     "metadata": {},
     "output_type": "display_data"
    }
   ],
   "source": [
    "import matplotlib.pyplot as plt\n",
    "\n",
    "train_loss = history.history['loss']\n",
    "val_loss = history.history['val_loss']\n",
    "\n",
    "plt.figure(figsize=(10, 6))\n",
    "plt.plot(train_loss, label='Training Loss', marker='o')\n",
    "plt.plot(val_loss, label='Validation Loss', marker='x')\n",
    "\n",
    "plt.title(\"Training vs Validation Loss\", fontsize=16)\n",
    "plt.xlabel(\"Epoch\", fontsize=14)\n",
    "plt.ylabel(\"Loss\", fontsize=14)\n",
    "plt.legend(fontsize=12)\n",
    "plt.grid(True)\n",
    "\n",
    "plt.show()"
   ]
  },
  {
   "cell_type": "markdown",
   "metadata": {},
   "source": [
    "### Inference"
   ]
  },
  {
   "cell_type": "code",
   "execution_count": 89,
   "metadata": {},
   "outputs": [],
   "source": [
    "import numpy as np\n",
    "\n",
    "model_input = {'movie_id': np.array([100]),\n",
    "               'user_id': np.array([20]),\n",
    "               'gender': np.array([1]),\n",
    "               'age': np.array([3]),\n",
    "               'occupation': np.array([15]),\n",
    "               'zip': np.array([100]),\n",
    "               'genres': np.array([[1, 3, 0, 0, 0]])\n",
    "}"
   ]
  },
  {
   "cell_type": "code",
   "execution_count": 90,
   "metadata": {},
   "outputs": [
    {
     "data": {
      "text/plain": [
       "array([[4.051315]], dtype=float32)"
      ]
     },
     "execution_count": 90,
     "metadata": {},
     "output_type": "execute_result"
    }
   ],
   "source": [
    "model.predict(model_input)"
   ]
  },
  {
   "cell_type": "code",
   "execution_count": null,
   "metadata": {},
   "outputs": [],
   "source": []
  }
 ],
 "metadata": {
  "kernelspec": {
   "display_name": "Python 3",
   "language": "python",
   "name": "python3"
  },
  "language_info": {
   "codemirror_mode": {
    "name": "ipython",
    "version": 3
   },
   "file_extension": ".py",
   "mimetype": "text/x-python",
   "name": "python",
   "nbconvert_exporter": "python",
   "pygments_lexer": "ipython3",
   "version": "3.7.12"
  }
 },
 "nbformat": 4,
 "nbformat_minor": 2
}
