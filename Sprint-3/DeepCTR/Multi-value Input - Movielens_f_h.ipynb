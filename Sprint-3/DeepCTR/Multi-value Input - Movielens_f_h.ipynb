{
 "cells": [
  {
   "cell_type": "code",
   "execution_count": 1,
   "metadata": {},
   "outputs": [],
   "source": [
    "import numpy as np\n",
    "import pandas as pd\n",
    "from tensorflow.keras.preprocessing.sequence import pad_sequences\n",
    "\n",
    "from deepctr.feature_column import SparseFeat, VarLenSparseFeat, get_feature_names\n",
    "from deepctr.models import DeepFM"
   ]
  },
  {
   "cell_type": "code",
   "execution_count": 2,
   "metadata": {},
   "outputs": [],
   "source": [
    "data = pd.read_csv(\"./data/movielens_sample.txt\")"
   ]
  },
  {
   "cell_type": "code",
   "execution_count": 3,
   "metadata": {},
   "outputs": [],
   "source": [
    "sparse_features = [\"movie_id\", \"user_id\",\n",
    "                       \"gender\", \"age\", \"occupation\", \"zip\", ]\n",
    "\n",
    "data[sparse_features] = data[sparse_features].astype(str)\n",
    "target = ['rating']"
   ]
  },
  {
   "cell_type": "code",
   "execution_count": 4,
   "metadata": {},
   "outputs": [],
   "source": [
    "# Use hashing encoding on the fly for sparse features, and process sequence features\n",
    "genres_list = list(map(lambda x: x.split('|'), data['genres'].values))\n",
    "genres_length = np.array(list(map(len, genres_list)))\n",
    "max_len = max(genres_length)\n",
    "\n",
    "# Notice : padding=`post`\n",
    "genres_list = pad_sequences(genres_list, maxlen=max_len, padding='post', dtype=object, value=0).astype(str)"
   ]
  },
  {
   "cell_type": "code",
   "execution_count": 5,
   "metadata": {},
   "outputs": [],
   "source": [
    "# Set hashing space for each sparse field and generate feature config for sequence feature\n",
    "fixlen_feature_columns = [SparseFeat(feat, data[feat].nunique() * 5, embedding_dim=4, use_hash=True, dtype='string')\n",
    "                            for feat in sparse_features]\n",
    "varlen_feature_columns = [\n",
    "    VarLenSparseFeat(SparseFeat('genres', vocabulary_size=100, embedding_dim=4, use_hash=True, dtype=\"string\"),\n",
    "                        maxlen=max_len, combiner='mean',\n",
    "                        )]  # Notice : value 0 is for padding for sequence input feature\n",
    "linear_feature_columns = fixlen_feature_columns + varlen_feature_columns\n",
    "dnn_feature_columns = fixlen_feature_columns + varlen_feature_columns\n",
    "feature_names = get_feature_names(linear_feature_columns + dnn_feature_columns)"
   ]
  },
  {
   "cell_type": "code",
   "execution_count": 6,
   "metadata": {},
   "outputs": [],
   "source": [
    "# Generate input data for model\n",
    "model_input = {name: data[name] for name in feature_names}\n",
    "model_input['genres'] = genres_list"
   ]
  },
  {
   "cell_type": "code",
   "execution_count": 7,
   "metadata": {},
   "outputs": [
    {
     "name": "stdout",
     "output_type": "stream",
     "text": [
      "Epoch 1/100\n",
      "1/1 - 8s - loss: 14.3000 - mse: 14.3000 - val_loss: 13.3749 - val_mse: 13.3749\n",
      "Epoch 2/100\n",
      "1/1 - 0s - loss: 14.1540 - mse: 14.1540 - val_loss: 13.2217 - val_mse: 13.2217\n",
      "Epoch 3/100\n",
      "1/1 - 0s - loss: 13.9777 - mse: 13.9777 - val_loss: 13.0573 - val_mse: 13.0573\n",
      "Epoch 4/100\n",
      "1/1 - 0s - loss: 13.7890 - mse: 13.7890 - val_loss: 12.8781 - val_mse: 12.8781\n",
      "Epoch 5/100\n",
      "1/1 - 0s - loss: 13.5837 - mse: 13.5837 - val_loss: 12.6815 - val_mse: 12.6815\n",
      "Epoch 6/100\n",
      "1/1 - 0s - loss: 13.3589 - mse: 13.3589 - val_loss: 12.4654 - val_mse: 12.4654\n",
      "Epoch 7/100\n",
      "1/1 - 0s - loss: 13.1127 - mse: 13.1127 - val_loss: 12.2281 - val_mse: 12.2281\n",
      "Epoch 8/100\n",
      "1/1 - 0s - loss: 12.8428 - mse: 12.8428 - val_loss: 11.9673 - val_mse: 11.9673\n",
      "Epoch 9/100\n",
      "1/1 - 0s - loss: 12.5463 - mse: 12.5463 - val_loss: 11.6807 - val_mse: 11.6807\n",
      "Epoch 10/100\n",
      "1/1 - 0s - loss: 12.2208 - mse: 12.2208 - val_loss: 11.3661 - val_mse: 11.3661\n",
      "Epoch 11/100\n",
      "1/1 - 0s - loss: 11.8632 - mse: 11.8632 - val_loss: 11.0210 - val_mse: 11.0210\n",
      "Epoch 12/100\n",
      "1/1 - 0s - loss: 11.4704 - mse: 11.4704 - val_loss: 10.6429 - val_mse: 10.6429\n",
      "Epoch 13/100\n",
      "1/1 - 0s - loss: 11.0394 - mse: 11.0394 - val_loss: 10.2295 - val_mse: 10.2295\n",
      "Epoch 14/100\n",
      "1/1 - 0s - loss: 10.5672 - mse: 10.5672 - val_loss: 9.7781 - val_mse: 9.7781\n",
      "Epoch 15/100\n",
      "1/1 - 0s - loss: 10.0509 - mse: 10.0509 - val_loss: 9.2873 - val_mse: 9.2872\n",
      "Epoch 16/100\n",
      "1/1 - 0s - loss: 9.4885 - mse: 9.4885 - val_loss: 8.7553 - val_mse: 8.7553\n",
      "Epoch 17/100\n",
      "1/1 - 0s - loss: 8.8786 - mse: 8.8786 - val_loss: 8.1817 - val_mse: 8.1817\n",
      "Epoch 18/100\n",
      "1/1 - 0s - loss: 8.2210 - mse: 8.2210 - val_loss: 7.5667 - val_mse: 7.5666\n",
      "Epoch 19/100\n",
      "1/1 - 0s - loss: 7.5174 - mse: 7.5174 - val_loss: 6.9127 - val_mse: 6.9127\n",
      "Epoch 20/100\n",
      "1/1 - 0s - loss: 6.7722 - mse: 6.7722 - val_loss: 6.2246 - val_mse: 6.2246\n",
      "Epoch 21/100\n",
      "1/1 - 0s - loss: 5.9922 - mse: 5.9922 - val_loss: 5.5096 - val_mse: 5.5096\n",
      "Epoch 22/100\n",
      "1/1 - 0s - loss: 5.1884 - mse: 5.1884 - val_loss: 4.7786 - val_mse: 4.7786\n",
      "Epoch 23/100\n",
      "1/1 - 0s - loss: 4.3763 - mse: 4.3763 - val_loss: 4.0470 - val_mse: 4.0470\n",
      "Epoch 24/100\n",
      "1/1 - 0s - loss: 3.5787 - mse: 3.5786 - val_loss: 3.3356 - val_mse: 3.3356\n",
      "Epoch 25/100\n",
      "1/1 - 0s - loss: 2.8254 - mse: 2.8253 - val_loss: 2.6713 - val_mse: 2.6713\n",
      "Epoch 26/100\n",
      "1/1 - 0s - loss: 2.1547 - mse: 2.1547 - val_loss: 2.0878 - val_mse: 2.0878\n",
      "Epoch 27/100\n",
      "1/1 - 0s - loss: 1.6127 - mse: 1.6127 - val_loss: 1.6234 - val_mse: 1.6234\n",
      "Epoch 28/100\n",
      "1/1 - 0s - loss: 1.2501 - mse: 1.2501 - val_loss: 1.3149 - val_mse: 1.3149\n",
      "Epoch 29/100\n",
      "1/1 - 0s - loss: 1.1110 - mse: 1.1110 - val_loss: 1.1835 - val_mse: 1.1834\n",
      "Epoch 30/100\n",
      "1/1 - 0s - loss: 1.2065 - mse: 1.2065 - val_loss: 1.2074 - val_mse: 1.2073\n",
      "Epoch 31/100\n",
      "1/1 - 0s - loss: 1.4776 - mse: 1.4775 - val_loss: 1.3116 - val_mse: 1.3116\n",
      "Epoch 32/100\n",
      "1/1 - 0s - loss: 1.7891 - mse: 1.7890 - val_loss: 1.4049 - val_mse: 1.4049\n",
      "Epoch 33/100\n",
      "1/1 - 0s - loss: 1.9965 - mse: 1.9965 - val_loss: 1.4324 - val_mse: 1.4324\n",
      "Epoch 34/100\n",
      "1/1 - 0s - loss: 2.0254 - mse: 2.0254 - val_loss: 1.3917 - val_mse: 1.3917\n",
      "Epoch 35/100\n",
      "1/1 - 0s - loss: 1.8865 - mse: 1.8865 - val_loss: 1.3113 - val_mse: 1.3113\n",
      "Epoch 36/100\n",
      "1/1 - 0s - loss: 1.6415 - mse: 1.6415 - val_loss: 1.2283 - val_mse: 1.2283\n",
      "Epoch 37/100\n",
      "1/1 - 0s - loss: 1.3605 - mse: 1.3605 - val_loss: 1.1725 - val_mse: 1.1725\n",
      "Epoch 38/100\n",
      "1/1 - 0s - loss: 1.1007 - mse: 1.1006 - val_loss: 1.1602 - val_mse: 1.1602\n",
      "Epoch 39/100\n",
      "1/1 - 0s - loss: 0.8976 - mse: 0.8976 - val_loss: 1.1942 - val_mse: 1.1941\n",
      "Epoch 40/100\n",
      "1/1 - 0s - loss: 0.7644 - mse: 0.7643 - val_loss: 1.2668 - val_mse: 1.2668\n",
      "Epoch 41/100\n",
      "1/1 - 0s - loss: 0.6963 - mse: 0.6963 - val_loss: 1.3647 - val_mse: 1.3646\n",
      "Epoch 42/100\n",
      "1/1 - 0s - loss: 0.6784 - mse: 0.6784 - val_loss: 1.4719 - val_mse: 1.4718\n",
      "Epoch 43/100\n",
      "1/1 - 0s - loss: 0.6917 - mse: 0.6917 - val_loss: 1.5734 - val_mse: 1.5734\n",
      "Epoch 44/100\n",
      "1/1 - 0s - loss: 0.7162 - mse: 0.7162 - val_loss: 1.6581 - val_mse: 1.6581\n",
      "Epoch 45/100\n",
      "1/1 - 0s - loss: 0.7362 - mse: 0.7362 - val_loss: 1.7188 - val_mse: 1.7188\n",
      "Epoch 46/100\n",
      "1/1 - 0s - loss: 0.7415 - mse: 0.7415 - val_loss: 1.7526 - val_mse: 1.7525\n",
      "Epoch 47/100\n",
      "1/1 - 0s - loss: 0.7274 - mse: 0.7273 - val_loss: 1.7596 - val_mse: 1.7596\n",
      "Epoch 48/100\n",
      "1/1 - 0s - loss: 0.6927 - mse: 0.6927 - val_loss: 1.7423 - val_mse: 1.7423\n",
      "Epoch 49/100\n",
      "1/1 - 0s - loss: 0.6395 - mse: 0.6395 - val_loss: 1.7045 - val_mse: 1.7045\n",
      "Epoch 50/100\n",
      "1/1 - 0s - loss: 0.5724 - mse: 0.5724 - val_loss: 1.6514 - val_mse: 1.6514\n",
      "Epoch 51/100\n",
      "1/1 - 0s - loss: 0.4975 - mse: 0.4975 - val_loss: 1.5888 - val_mse: 1.5888\n",
      "Epoch 52/100\n",
      "1/1 - 0s - loss: 0.4213 - mse: 0.4213 - val_loss: 1.5232 - val_mse: 1.5232\n",
      "Epoch 53/100\n",
      "1/1 - 0s - loss: 0.3502 - mse: 0.3501 - val_loss: 1.4603 - val_mse: 1.4602\n",
      "Epoch 54/100\n",
      "1/1 - 0s - loss: 0.2894 - mse: 0.2894 - val_loss: 1.4038 - val_mse: 1.4038\n",
      "Epoch 55/100\n",
      "1/1 - 0s - loss: 0.2428 - mse: 0.2428 - val_loss: 1.3560 - val_mse: 1.3559\n",
      "Epoch 56/100\n",
      "1/1 - 0s - loss: 0.2109 - mse: 0.2109 - val_loss: 1.3195 - val_mse: 1.3195\n",
      "Epoch 57/100\n",
      "1/1 - 0s - loss: 0.1920 - mse: 0.1920 - val_loss: 1.2958 - val_mse: 1.2958\n",
      "Epoch 58/100\n",
      "1/1 - 0s - loss: 0.1819 - mse: 0.1819 - val_loss: 1.2849 - val_mse: 1.2849\n",
      "Epoch 59/100\n",
      "1/1 - 0s - loss: 0.1747 - mse: 0.1747 - val_loss: 1.2868 - val_mse: 1.2868\n",
      "Epoch 60/100\n",
      "1/1 - 0s - loss: 0.1649 - mse: 0.1648 - val_loss: 1.3020 - val_mse: 1.3020\n",
      "Epoch 61/100\n",
      "1/1 - 0s - loss: 0.1487 - mse: 0.1487 - val_loss: 1.3314 - val_mse: 1.3313\n",
      "Epoch 62/100\n",
      "1/1 - 0s - loss: 0.1260 - mse: 0.1260 - val_loss: 1.3757 - val_mse: 1.3756\n",
      "Epoch 63/100\n",
      "1/1 - 0s - loss: 0.0994 - mse: 0.0993 - val_loss: 1.4360 - val_mse: 1.4360\n",
      "Epoch 64/100\n",
      "1/1 - 0s - loss: 0.0735 - mse: 0.0734 - val_loss: 1.5112 - val_mse: 1.5112\n",
      "Epoch 65/100\n",
      "1/1 - 0s - loss: 0.0533 - mse: 0.0532 - val_loss: 1.5979 - val_mse: 1.5978\n",
      "Epoch 66/100\n",
      "1/1 - 0s - loss: 0.0421 - mse: 0.0420 - val_loss: 1.6908 - val_mse: 1.6908\n",
      "Epoch 67/100\n",
      "1/1 - 0s - loss: 0.0405 - mse: 0.0405 - val_loss: 1.7782 - val_mse: 1.7782\n",
      "Epoch 68/100\n",
      "1/1 - 0s - loss: 0.0460 - mse: 0.0459 - val_loss: 1.8410 - val_mse: 1.8410\n",
      "Epoch 69/100\n",
      "1/1 - 0s - loss: 0.0523 - mse: 0.0523 - val_loss: 1.8763 - val_mse: 1.8763\n",
      "Epoch 70/100\n",
      "1/1 - 0s - loss: 0.0555 - mse: 0.0555 - val_loss: 1.8841 - val_mse: 1.8841\n",
      "Epoch 71/100\n",
      "1/1 - 0s - loss: 0.0540 - mse: 0.0539 - val_loss: 1.8677 - val_mse: 1.8676\n",
      "Epoch 72/100\n",
      "1/1 - 0s - loss: 0.0486 - mse: 0.0486 - val_loss: 1.8335 - val_mse: 1.8334\n",
      "Epoch 73/100\n",
      "1/1 - 0s - loss: 0.0417 - mse: 0.0416 - val_loss: 1.7888 - val_mse: 1.7887\n",
      "Epoch 74/100\n",
      "1/1 - 0s - loss: 0.0355 - mse: 0.0355 - val_loss: 1.7406 - val_mse: 1.7406\n",
      "Epoch 75/100\n",
      "1/1 - 0s - loss: 0.0318 - mse: 0.0317 - val_loss: 1.6955 - val_mse: 1.6955\n",
      "Epoch 76/100\n",
      "1/1 - 0s - loss: 0.0304 - mse: 0.0304 - val_loss: 1.6588 - val_mse: 1.6588\n",
      "Epoch 77/100\n",
      "1/1 - 0s - loss: 0.0302 - mse: 0.0302 - val_loss: 1.6318 - val_mse: 1.6318\n",
      "Epoch 78/100\n",
      "1/1 - 0s - loss: 0.0297 - mse: 0.0296 - val_loss: 1.6150 - val_mse: 1.6150\n",
      "Epoch 79/100\n",
      "1/1 - 0s - loss: 0.0278 - mse: 0.0277 - val_loss: 1.6079 - val_mse: 1.6079\n",
      "Epoch 80/100\n",
      "1/1 - 0s - loss: 0.0244 - mse: 0.0244 - val_loss: 1.6101 - val_mse: 1.6100\n",
      "Epoch 81/100\n",
      "1/1 - 0s - loss: 0.0201 - mse: 0.0201 - val_loss: 1.6187 - val_mse: 1.6186\n",
      "Epoch 82/100\n",
      "1/1 - 0s - loss: 0.0158 - mse: 0.0158 - val_loss: 1.6313 - val_mse: 1.6312\n",
      "Epoch 83/100\n",
      "1/1 - 0s - loss: 0.0123 - mse: 0.0123 - val_loss: 1.6452 - val_mse: 1.6452\n",
      "Epoch 84/100\n",
      "1/1 - 0s - loss: 0.0101 - mse: 0.0101 - val_loss: 1.6580 - val_mse: 1.6580\n",
      "Epoch 85/100\n",
      "1/1 - 0s - loss: 0.0092 - mse: 0.0092 - val_loss: 1.6672 - val_mse: 1.6672\n",
      "Epoch 86/100\n",
      "1/1 - 0s - loss: 0.0091 - mse: 0.0091 - val_loss: 1.6713 - val_mse: 1.6713\n",
      "Epoch 87/100\n",
      "1/1 - 0s - loss: 0.0093 - mse: 0.0092 - val_loss: 1.6695 - val_mse: 1.6694\n",
      "Epoch 88/100\n",
      "1/1 - 0s - loss: 0.0091 - mse: 0.0091 - val_loss: 1.6617 - val_mse: 1.6617\n",
      "Epoch 89/100\n",
      "1/1 - 0s - loss: 0.0085 - mse: 0.0085 - val_loss: 1.6492 - val_mse: 1.6491\n",
      "Epoch 90/100\n",
      "1/1 - 0s - loss: 0.0075 - mse: 0.0075 - val_loss: 1.6332 - val_mse: 1.6332\n",
      "Epoch 91/100\n",
      "1/1 - 0s - loss: 0.0064 - mse: 0.0064 - val_loss: 1.6159 - val_mse: 1.6158\n",
      "Epoch 92/100\n",
      "1/1 - 0s - loss: 0.0055 - mse: 0.0054 - val_loss: 1.5989 - val_mse: 1.5989\n",
      "Epoch 93/100\n",
      "1/1 - 0s - loss: 0.0049 - mse: 0.0048 - val_loss: 1.5840 - val_mse: 1.5840\n",
      "Epoch 94/100\n",
      "1/1 - 0s - loss: 0.0046 - mse: 0.0046 - val_loss: 1.5732 - val_mse: 1.5732\n",
      "Epoch 95/100\n",
      "1/1 - 0s - loss: 0.0046 - mse: 0.0046 - val_loss: 1.5681 - val_mse: 1.5681\n",
      "Epoch 96/100\n",
      "1/1 - 0s - loss: 0.0046 - mse: 0.0046 - val_loss: 1.5710 - val_mse: 1.5709\n",
      "Epoch 97/100\n",
      "1/1 - 0s - loss: 0.0043 - mse: 0.0043 - val_loss: 1.5817 - val_mse: 1.5816\n",
      "Epoch 98/100\n",
      "1/1 - 0s - loss: 0.0037 - mse: 0.0036 - val_loss: 1.5974 - val_mse: 1.5973\n",
      "Epoch 99/100\n",
      "1/1 - 0s - loss: 0.0030 - mse: 0.0030 - val_loss: 1.6167 - val_mse: 1.6167\n",
      "Epoch 100/100\n",
      "1/1 - 0s - loss: 0.0027 - mse: 0.0027 - val_loss: 1.6332 - val_mse: 1.6332\n"
     ]
    }
   ],
   "source": [
    "# Define Model,compile and train\n",
    "model = DeepFM(linear_feature_columns, dnn_feature_columns, task='regression')\n",
    "\n",
    "model.compile(\"adam\", \"mse\", metrics=['mse'], )\n",
    "history = model.fit(model_input, data[target].values,\n",
    "                    batch_size=256, epochs=100, verbose=2, validation_split=0.2, )"
   ]
  },
  {
   "cell_type": "code",
   "execution_count": 8,
   "metadata": {},
   "outputs": [
    {
     "data": {
      "image/png": "[encoded data removed]",
      "text/plain": [
       "<Figure size 1000x600 with 1 Axes>"
      ]
     },
     "metadata": {},
     "output_type": "display_data"
    }
   ],
   "source": [
    "import matplotlib.pyplot as plt\n",
    "\n",
    "train_loss = history.history['loss']\n",
    "val_loss = history.history['val_loss']\n",
    "\n",
    "plt.figure(figsize=(10, 6))\n",
    "plt.plot(train_loss, label='Training Loss', marker='o')\n",
    "plt.plot(val_loss, label='Validation Loss', marker='x')\n",
    "\n",
    "plt.title(\"Training vs Validation Loss\", fontsize=16)\n",
    "plt.xlabel(\"Epoch\", fontsize=14)\n",
    "plt.ylabel(\"Loss\", fontsize=14)\n",
    "plt.legend(fontsize=12)\n",
    "plt.grid(True)\n",
    "\n",
    "plt.show()"
   ]
  },
  {
   "cell_type": "markdown",
   "metadata": {},
   "source": [
    "### Inference"
   ]
  },
  {
   "cell_type": "code",
   "execution_count": 11,
   "metadata": {},
   "outputs": [],
   "source": [
    "import numpy as np\n",
    "\n",
    "model_input = {'movie_id': np.array(['100']),\n",
    "               'user_id': np.array(['20']),\n",
    "               'gender': np.array(['1']),\n",
    "               'age': np.array(['24']),\n",
    "               'occupation': np.array(['15']),\n",
    "               'zip': np.array(['77005']),\n",
    "               'genres': np.array([['Action', 'Comedy', '0', '0', '0']])\n",
    "}"
   ]
  },
  {
   "cell_type": "code",
   "execution_count": 12,
   "metadata": {},
   "outputs": [
    {
     "data": {
      "text/plain": [
       "array([[2.6855931]], dtype=float32)"
      ]
     },
     "execution_count": 12,
     "metadata": {},
     "output_type": "execute_result"
    }
   ],
   "source": [
    "model.predict(model_input)"
   ]
  },
  {
   "cell_type": "code",
   "execution_count": 15,
   "metadata": {},
   "outputs": [
    {
     "data": {
      "text/plain": [
       "array([[2.701967]], dtype=float32)"
      ]
     },
     "execution_count": 15,
     "metadata": {},
     "output_type": "execute_result"
    }
   ],
   "source": [
    "# New Movie\n",
    "model_input_nm = {'movie_id': np.array(['300']),\n",
    "               'user_id': np.array(['20']),\n",
    "               'gender': np.array(['1']),\n",
    "               'age': np.array(['24']),\n",
    "               'occupation': np.array(['15']),\n",
    "               'zip': np.array(['77005']),\n",
    "               'genres': np.array([['Romance', 'Drama', '0', '0', '0']])\n",
    "}\n",
    "\n",
    "model.predict(model_input_nm)"
   ]
  },
  {
   "cell_type": "code",
   "execution_count": 17,
   "metadata": {},
   "outputs": [
    {
     "data": {
      "text/plain": [
       "array([[2.3236969]], dtype=float32)"
      ]
     },
     "execution_count": 17,
     "metadata": {},
     "output_type": "execute_result"
    }
   ],
   "source": [
    "# New user\n",
    "model_input_nu = {'movie_id': np.array(['100']),\n",
    "               'user_id': np.array(['300']),\n",
    "               'gender': np.array(['0']),\n",
    "               'age': np.array(['40']),\n",
    "               'occupation': np.array(['20']),\n",
    "               'zip': np.array(['99012']),\n",
    "               'genres': np.array([['Action', 'Comedy', '0', '0', '0']])\n",
    "}\n",
    "\n",
    "model.predict(model_input_nu)"
   ]
  },
  {
   "cell_type": "code",
   "execution_count": null,
   "metadata": {},
   "outputs": [],
   "source": []
  }
 ],
 "metadata": {
  "kernelspec": {
   "display_name": "Python 3",
   "language": "python",
   "name": "python3"
  },
  "language_info": {
   "codemirror_mode": {
    "name": "ipython",
    "version": 3
   },
   "file_extension": ".py",
   "mimetype": "text/x-python",
   "name": "python",
   "nbconvert_exporter": "python",
   "pygments_lexer": "ipython3",
   "version": "3.7.12"
  }
 },
 "nbformat": 4,
 "nbformat_minor": 2
}
