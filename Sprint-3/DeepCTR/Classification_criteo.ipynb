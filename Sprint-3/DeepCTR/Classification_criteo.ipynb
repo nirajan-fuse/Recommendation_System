{
 "cells": [
  {
   "cell_type": "code",
   "execution_count": 1,
   "metadata": {},
   "outputs": [],
   "source": [
    "import pandas as pd\n",
    "from sklearn.metrics import log_loss, roc_auc_score\n",
    "from sklearn.model_selection import train_test_split\n",
    "from sklearn.preprocessing import LabelEncoder, MinMaxScaler\n",
    "\n",
    "from deepctr.models import DeepFM\n",
    "from deepctr.feature_column import SparseFeat, DenseFeat, get_feature_names"
   ]
  },
  {
   "cell_type": "code",
   "execution_count": 2,
   "metadata": {},
   "outputs": [],
   "source": [
    "data = pd.read_csv('./data/criteo_sample.txt')"
   ]
  },
  {
   "cell_type": "code",
   "execution_count": 3,
   "metadata": {},
   "outputs": [
    {
     "data": {
      "text/html": [
       "<div>\n",
       "<style scoped>\n",
       "    .dataframe tbody tr th:only-of-type {\n",
       "        vertical-align: middle;\n",
       "    }\n",
       "\n",
       "    .dataframe tbody tr th {\n",
       "        vertical-align: top;\n",
       "    }\n",
       "\n",
       "    .dataframe thead th {\n",
       "        text-align: right;\n",
       "    }\n",
       "</style>\n",
       "<table border=\"1\" class=\"dataframe\">\n",
       "  <thead>\n",
       "    <tr style=\"text-align: right;\">\n",
       "      <th></th>\n",
       "      <th>label</th>\n",
       "      <th>I1</th>\n",
       "      <th>I2</th>\n",
       "      <th>I3</th>\n",
       "      <th>I4</th>\n",
       "      <th>I5</th>\n",
       "      <th>I6</th>\n",
       "      <th>I7</th>\n",
       "      <th>I8</th>\n",
       "      <th>I9</th>\n",
       "      <th>...</th>\n",
       "      <th>C17</th>\n",
       "      <th>C18</th>\n",
       "      <th>C19</th>\n",
       "      <th>C20</th>\n",
       "      <th>C21</th>\n",
       "      <th>C22</th>\n",
       "      <th>C23</th>\n",
       "      <th>C24</th>\n",
       "      <th>C25</th>\n",
       "      <th>C26</th>\n",
       "    </tr>\n",
       "  </thead>\n",
       "  <tbody>\n",
       "    <tr>\n",
       "      <th>0</th>\n",
       "      <td>0</td>\n",
       "      <td>NaN</td>\n",
       "      <td>3</td>\n",
       "      <td>260.0</td>\n",
       "      <td>NaN</td>\n",
       "      <td>17668.0</td>\n",
       "      <td>NaN</td>\n",
       "      <td>NaN</td>\n",
       "      <td>33.0</td>\n",
       "      <td>NaN</td>\n",
       "      <td>...</td>\n",
       "      <td>e5ba7672</td>\n",
       "      <td>87c6f83c</td>\n",
       "      <td>NaN</td>\n",
       "      <td>NaN</td>\n",
       "      <td>0429f84b</td>\n",
       "      <td>NaN</td>\n",
       "      <td>3a171ecb</td>\n",
       "      <td>c0d61a5c</td>\n",
       "      <td>NaN</td>\n",
       "      <td>NaN</td>\n",
       "    </tr>\n",
       "    <tr>\n",
       "      <th>1</th>\n",
       "      <td>0</td>\n",
       "      <td>NaN</td>\n",
       "      <td>-1</td>\n",
       "      <td>19.0</td>\n",
       "      <td>35.0</td>\n",
       "      <td>30251.0</td>\n",
       "      <td>247.0</td>\n",
       "      <td>1.0</td>\n",
       "      <td>35.0</td>\n",
       "      <td>160.0</td>\n",
       "      <td>...</td>\n",
       "      <td>d4bb7bd8</td>\n",
       "      <td>6fc84bfb</td>\n",
       "      <td>NaN</td>\n",
       "      <td>NaN</td>\n",
       "      <td>5155d8a3</td>\n",
       "      <td>NaN</td>\n",
       "      <td>be7c41b4</td>\n",
       "      <td>ded4aac9</td>\n",
       "      <td>NaN</td>\n",
       "      <td>NaN</td>\n",
       "    </tr>\n",
       "    <tr>\n",
       "      <th>2</th>\n",
       "      <td>0</td>\n",
       "      <td>0.0</td>\n",
       "      <td>0</td>\n",
       "      <td>2.0</td>\n",
       "      <td>12.0</td>\n",
       "      <td>2013.0</td>\n",
       "      <td>164.0</td>\n",
       "      <td>6.0</td>\n",
       "      <td>35.0</td>\n",
       "      <td>523.0</td>\n",
       "      <td>...</td>\n",
       "      <td>e5ba7672</td>\n",
       "      <td>675c9258</td>\n",
       "      <td>NaN</td>\n",
       "      <td>NaN</td>\n",
       "      <td>2e01979f</td>\n",
       "      <td>NaN</td>\n",
       "      <td>bcdee96c</td>\n",
       "      <td>6d5d1302</td>\n",
       "      <td>NaN</td>\n",
       "      <td>NaN</td>\n",
       "    </tr>\n",
       "    <tr>\n",
       "      <th>3</th>\n",
       "      <td>0</td>\n",
       "      <td>NaN</td>\n",
       "      <td>13</td>\n",
       "      <td>1.0</td>\n",
       "      <td>4.0</td>\n",
       "      <td>16836.0</td>\n",
       "      <td>200.0</td>\n",
       "      <td>5.0</td>\n",
       "      <td>4.0</td>\n",
       "      <td>29.0</td>\n",
       "      <td>...</td>\n",
       "      <td>e5ba7672</td>\n",
       "      <td>52e44668</td>\n",
       "      <td>NaN</td>\n",
       "      <td>NaN</td>\n",
       "      <td>e587c466</td>\n",
       "      <td>NaN</td>\n",
       "      <td>32c7478e</td>\n",
       "      <td>3b183c5c</td>\n",
       "      <td>NaN</td>\n",
       "      <td>NaN</td>\n",
       "    </tr>\n",
       "    <tr>\n",
       "      <th>4</th>\n",
       "      <td>0</td>\n",
       "      <td>0.0</td>\n",
       "      <td>0</td>\n",
       "      <td>104.0</td>\n",
       "      <td>27.0</td>\n",
       "      <td>1990.0</td>\n",
       "      <td>142.0</td>\n",
       "      <td>4.0</td>\n",
       "      <td>32.0</td>\n",
       "      <td>37.0</td>\n",
       "      <td>...</td>\n",
       "      <td>e5ba7672</td>\n",
       "      <td>25c88e42</td>\n",
       "      <td>21ddcdc9</td>\n",
       "      <td>b1252a9d</td>\n",
       "      <td>0e8585d2</td>\n",
       "      <td>NaN</td>\n",
       "      <td>32c7478e</td>\n",
       "      <td>0d4a6d1a</td>\n",
       "      <td>001f3601</td>\n",
       "      <td>92c878de</td>\n",
       "    </tr>\n",
       "  </tbody>\n",
       "</table>\n",
       "<p>5 rows × 40 columns</p>\n",
       "</div>"
      ],
      "text/plain": [
       "   label   I1  I2     I3    I4       I5     I6   I7    I8     I9  ...  \\\n",
       "0      0  NaN   3  260.0   NaN  17668.0    NaN  NaN  33.0    NaN  ...   \n",
       "1      0  NaN  -1   19.0  35.0  30251.0  247.0  1.0  35.0  160.0  ...   \n",
       "2      0  0.0   0    2.0  12.0   2013.0  164.0  6.0  35.0  523.0  ...   \n",
       "3      0  NaN  13    1.0   4.0  16836.0  200.0  5.0   4.0   29.0  ...   \n",
       "4      0  0.0   0  104.0  27.0   1990.0  142.0  4.0  32.0   37.0  ...   \n",
       "\n",
       "        C17       C18       C19       C20       C21  C22       C23       C24  \\\n",
       "0  e5ba7672  87c6f83c       NaN       NaN  0429f84b  NaN  3a171ecb  c0d61a5c   \n",
       "1  d4bb7bd8  6fc84bfb       NaN       NaN  5155d8a3  NaN  be7c41b4  ded4aac9   \n",
       "2  e5ba7672  675c9258       NaN       NaN  2e01979f  NaN  bcdee96c  6d5d1302   \n",
       "3  e5ba7672  52e44668       NaN       NaN  e587c466  NaN  32c7478e  3b183c5c   \n",
       "4  e5ba7672  25c88e42  21ddcdc9  b1252a9d  0e8585d2  NaN  32c7478e  0d4a6d1a   \n",
       "\n",
       "        C25       C26  \n",
       "0       NaN       NaN  \n",
       "1       NaN       NaN  \n",
       "2       NaN       NaN  \n",
       "3       NaN       NaN  \n",
       "4  001f3601  92c878de  \n",
       "\n",
       "[5 rows x 40 columns]"
      ]
     },
     "execution_count": 3,
     "metadata": {},
     "output_type": "execute_result"
    }
   ],
   "source": [
    "data.head()"
   ]
  },
  {
   "cell_type": "code",
   "execution_count": 4,
   "metadata": {},
   "outputs": [],
   "source": [
    "sparse_features = ['C' + str(i) for i in range(1, 27)]\n",
    "dense_features = ['I' + str(i) for i in range(1, 14)]"
   ]
  },
  {
   "cell_type": "code",
   "execution_count": 5,
   "metadata": {},
   "outputs": [],
   "source": [
    "data[sparse_features] = data[sparse_features].fillna('-1', )\n",
    "data[dense_features] = data[dense_features].fillna(0, )\n",
    "target = ['label']"
   ]
  },
  {
   "cell_type": "code",
   "execution_count": 6,
   "metadata": {},
   "outputs": [],
   "source": [
    "# Label Encoding for sparse features,and do simple Transformation for dense features\n",
    "for feat in sparse_features:\n",
    "    lbe = LabelEncoder()\n",
    "    data[feat] = lbe.fit_transform(data[feat])\n",
    "mms = MinMaxScaler(feature_range=(0, 1))\n",
    "data[dense_features] = mms.fit_transform(data[dense_features])"
   ]
  },
  {
   "cell_type": "code",
   "execution_count": 7,
   "metadata": {},
   "outputs": [],
   "source": [
    "# Count #unique features for each sparse field,and record dense feature field name\n",
    "fixlen_feature_columns = [SparseFeat(feat, vocabulary_size=data[feat].max() + 1, embedding_dim=4)\n",
    "                            for i, feat in enumerate(sparse_features)] + [DenseFeat(feat, 1, )\n",
    "                                                                        for feat in dense_features]\n",
    "\n",
    "dnn_feature_columns = fixlen_feature_columns\n",
    "linear_feature_columns = fixlen_feature_columns\n",
    "\n",
    "feature_names = get_feature_names(linear_feature_columns + dnn_feature_columns)"
   ]
  },
  {
   "cell_type": "code",
   "execution_count": 46,
   "metadata": {},
   "outputs": [
    {
     "data": {
      "text/plain": [
       "[SparseFeat(name='C1', vocabulary_size=27, embedding_dim=4, use_hash=False, vocabulary_path=None, dtype='int32', embeddings_initializer=<tensorflow.python.keras.initializers.initializers_v1.RandomNormal object at 0x000001FDEC562048>, embedding_name='C1', group_name='default_group', trainable=True),\n",
       " SparseFeat(name='C2', vocabulary_size=92, embedding_dim=4, use_hash=False, vocabulary_path=None, dtype='int32', embeddings_initializer=<tensorflow.python.keras.initializers.initializers_v1.RandomNormal object at 0x000001FDEC562288>, embedding_name='C2', group_name='default_group', trainable=True),\n",
       " SparseFeat(name='C3', vocabulary_size=172, embedding_dim=4, use_hash=False, vocabulary_path=None, dtype='int32', embeddings_initializer=<tensorflow.python.keras.initializers.initializers_v1.RandomNormal object at 0x000001FDEC5621C8>, embedding_name='C3', group_name='default_group', trainable=True),\n",
       " SparseFeat(name='C4', vocabulary_size=157, embedding_dim=4, use_hash=False, vocabulary_path=None, dtype='int32', embeddings_initializer=<tensorflow.python.keras.initializers.initializers_v1.RandomNormal object at 0x000001FDEC562888>, embedding_name='C4', group_name='default_group', trainable=True),\n",
       " SparseFeat(name='C5', vocabulary_size=12, embedding_dim=4, use_hash=False, vocabulary_path=None, dtype='int32', embeddings_initializer=<tensorflow.python.keras.initializers.initializers_v1.RandomNormal object at 0x000001FDEC562988>, embedding_name='C5', group_name='default_group', trainable=True),\n",
       " SparseFeat(name='C6', vocabulary_size=7, embedding_dim=4, use_hash=False, vocabulary_path=None, dtype='int32', embeddings_initializer=<tensorflow.python.keras.initializers.initializers_v1.RandomNormal object at 0x000001FDEC562748>, embedding_name='C6', group_name='default_group', trainable=True),\n",
       " SparseFeat(name='C7', vocabulary_size=183, embedding_dim=4, use_hash=False, vocabulary_path=None, dtype='int32', embeddings_initializer=<tensorflow.python.keras.initializers.initializers_v1.RandomNormal object at 0x000001FDEC562708>, embedding_name='C7', group_name='default_group', trainable=True),\n",
       " SparseFeat(name='C8', vocabulary_size=19, embedding_dim=4, use_hash=False, vocabulary_path=None, dtype='int32', embeddings_initializer=<tensorflow.python.keras.initializers.initializers_v1.RandomNormal object at 0x000001FDEC562D48>, embedding_name='C8', group_name='default_group', trainable=True),\n",
       " SparseFeat(name='C9', vocabulary_size=2, embedding_dim=4, use_hash=False, vocabulary_path=None, dtype='int32', embeddings_initializer=<tensorflow.python.keras.initializers.initializers_v1.RandomNormal object at 0x000001FDEC562E88>, embedding_name='C9', group_name='default_group', trainable=True),\n",
       " SparseFeat(name='C10', vocabulary_size=142, embedding_dim=4, use_hash=False, vocabulary_path=None, dtype='int32', embeddings_initializer=<tensorflow.python.keras.initializers.initializers_v1.RandomNormal object at 0x000001FDEC562F88>, embedding_name='C10', group_name='default_group', trainable=True),\n",
       " SparseFeat(name='C11', vocabulary_size=173, embedding_dim=4, use_hash=False, vocabulary_path=None, dtype='int32', embeddings_initializer=<tensorflow.python.keras.initializers.initializers_v1.RandomNormal object at 0x000001FDEC572108>, embedding_name='C11', group_name='default_group', trainable=True),\n",
       " SparseFeat(name='C12', vocabulary_size=170, embedding_dim=4, use_hash=False, vocabulary_path=None, dtype='int32', embeddings_initializer=<tensorflow.python.keras.initializers.initializers_v1.RandomNormal object at 0x000001FDEC572248>, embedding_name='C12', group_name='default_group', trainable=True),\n",
       " SparseFeat(name='C13', vocabulary_size=166, embedding_dim=4, use_hash=False, vocabulary_path=None, dtype='int32', embeddings_initializer=<tensorflow.python.keras.initializers.initializers_v1.RandomNormal object at 0x000001FDEC572388>, embedding_name='C13', group_name='default_group', trainable=True),\n",
       " SparseFeat(name='C14', vocabulary_size=14, embedding_dim=4, use_hash=False, vocabulary_path=None, dtype='int32', embeddings_initializer=<tensorflow.python.keras.initializers.initializers_v1.RandomNormal object at 0x000001FDEC5724C8>, embedding_name='C14', group_name='default_group', trainable=True),\n",
       " SparseFeat(name='C15', vocabulary_size=170, embedding_dim=4, use_hash=False, vocabulary_path=None, dtype='int32', embeddings_initializer=<tensorflow.python.keras.initializers.initializers_v1.RandomNormal object at 0x000001FDEC572608>, embedding_name='C15', group_name='default_group', trainable=True),\n",
       " SparseFeat(name='C16', vocabulary_size=168, embedding_dim=4, use_hash=False, vocabulary_path=None, dtype='int32', embeddings_initializer=<tensorflow.python.keras.initializers.initializers_v1.RandomNormal object at 0x000001FDEC572748>, embedding_name='C16', group_name='default_group', trainable=True),\n",
       " SparseFeat(name='C17', vocabulary_size=9, embedding_dim=4, use_hash=False, vocabulary_path=None, dtype='int32', embeddings_initializer=<tensorflow.python.keras.initializers.initializers_v1.RandomNormal object at 0x000001FDEC572888>, embedding_name='C17', group_name='default_group', trainable=True),\n",
       " SparseFeat(name='C18', vocabulary_size=127, embedding_dim=4, use_hash=False, vocabulary_path=None, dtype='int32', embeddings_initializer=<tensorflow.python.keras.initializers.initializers_v1.RandomNormal object at 0x000001FDEC5729C8>, embedding_name='C18', group_name='default_group', trainable=True),\n",
       " SparseFeat(name='C19', vocabulary_size=44, embedding_dim=4, use_hash=False, vocabulary_path=None, dtype='int32', embeddings_initializer=<tensorflow.python.keras.initializers.initializers_v1.RandomNormal object at 0x000001FDEC572B48>, embedding_name='C19', group_name='default_group', trainable=True),\n",
       " SparseFeat(name='C20', vocabulary_size=4, embedding_dim=4, use_hash=False, vocabulary_path=None, dtype='int32', embeddings_initializer=<tensorflow.python.keras.initializers.initializers_v1.RandomNormal object at 0x000001FDEC572CC8>, embedding_name='C20', group_name='default_group', trainable=True),\n",
       " SparseFeat(name='C21', vocabulary_size=169, embedding_dim=4, use_hash=False, vocabulary_path=None, dtype='int32', embeddings_initializer=<tensorflow.python.keras.initializers.initializers_v1.RandomNormal object at 0x000001FDEC560E48>, embedding_name='C21', group_name='default_group', trainable=True),\n",
       " SparseFeat(name='C22', vocabulary_size=6, embedding_dim=4, use_hash=False, vocabulary_path=None, dtype='int32', embeddings_initializer=<tensorflow.python.keras.initializers.initializers_v1.RandomNormal object at 0x000001FDEC544C08>, embedding_name='C22', group_name='default_group', trainable=True),\n",
       " SparseFeat(name='C23', vocabulary_size=10, embedding_dim=4, use_hash=False, vocabulary_path=None, dtype='int32', embeddings_initializer=<tensorflow.python.keras.initializers.initializers_v1.RandomNormal object at 0x000001FDEC544E08>, embedding_name='C23', group_name='default_group', trainable=True),\n",
       " SparseFeat(name='C24', vocabulary_size=125, embedding_dim=4, use_hash=False, vocabulary_path=None, dtype='int32', embeddings_initializer=<tensorflow.python.keras.initializers.initializers_v1.RandomNormal object at 0x000001FDEC54B688>, embedding_name='C24', group_name='default_group', trainable=True),\n",
       " SparseFeat(name='C25', vocabulary_size=20, embedding_dim=4, use_hash=False, vocabulary_path=None, dtype='int32', embeddings_initializer=<tensorflow.python.keras.initializers.initializers_v1.RandomNormal object at 0x000001FDEC54B7C8>, embedding_name='C25', group_name='default_group', trainable=True),\n",
       " SparseFeat(name='C26', vocabulary_size=90, embedding_dim=4, use_hash=False, vocabulary_path=None, dtype='int32', embeddings_initializer=<tensorflow.python.keras.initializers.initializers_v1.RandomNormal object at 0x000001FDEC54BEC8>, embedding_name='C26', group_name='default_group', trainable=True),\n",
       " DenseFeat(name='I1', dimension=1, dtype='float32', transform_fn=None),\n",
       " DenseFeat(name='I2', dimension=1, dtype='float32', transform_fn=None),\n",
       " DenseFeat(name='I3', dimension=1, dtype='float32', transform_fn=None),\n",
       " DenseFeat(name='I4', dimension=1, dtype='float32', transform_fn=None),\n",
       " DenseFeat(name='I5', dimension=1, dtype='float32', transform_fn=None),\n",
       " DenseFeat(name='I6', dimension=1, dtype='float32', transform_fn=None),\n",
       " DenseFeat(name='I7', dimension=1, dtype='float32', transform_fn=None),\n",
       " DenseFeat(name='I8', dimension=1, dtype='float32', transform_fn=None),\n",
       " DenseFeat(name='I9', dimension=1, dtype='float32', transform_fn=None),\n",
       " DenseFeat(name='I10', dimension=1, dtype='float32', transform_fn=None),\n",
       " DenseFeat(name='I11', dimension=1, dtype='float32', transform_fn=None),\n",
       " DenseFeat(name='I12', dimension=1, dtype='float32', transform_fn=None),\n",
       " DenseFeat(name='I13', dimension=1, dtype='float32', transform_fn=None)]"
      ]
     },
     "execution_count": 46,
     "metadata": {},
     "output_type": "execute_result"
    }
   ],
   "source": [
    "fixlen_feature_columns"
   ]
  },
  {
   "cell_type": "code",
   "execution_count": 35,
   "metadata": {},
   "outputs": [],
   "source": [
    "# Generate input data for model\n",
    "train, test = train_test_split(data, test_size=0.2, random_state=2020)\n",
    "train_model_input = {name: train[name] for name in feature_names}\n",
    "test_model_input = {name: test[name] for name in feature_names}"
   ]
  },
  {
   "cell_type": "code",
   "execution_count": 39,
   "metadata": {},
   "outputs": [],
   "source": [
    "# Define Model\n",
    "model = DeepFM(linear_feature_columns, dnn_feature_columns, task='binary')\n",
    "model.compile(\"adam\", \"binary_crossentropy\",\n",
    "                metrics=['binary_crossentropy'], )"
   ]
  },
  {
   "cell_type": "code",
   "execution_count": 40,
   "metadata": {},
   "outputs": [
    {
     "name": "stdout",
     "output_type": "stream",
     "text": [
      "Epoch 1/20\n",
      "1/1 - 6s - loss: 0.7235 - binary_crossentropy: 0.7235 - val_loss: 0.6921 - val_binary_crossentropy: 0.6921\n",
      "Epoch 2/20\n",
      "1/1 - 0s - loss: 0.6966 - binary_crossentropy: 0.6966 - val_loss: 0.6749 - val_binary_crossentropy: 0.6749\n",
      "Epoch 3/20\n",
      "1/1 - 0s - loss: 0.6707 - binary_crossentropy: 0.6707 - val_loss: 0.6584 - val_binary_crossentropy: 0.6584\n",
      "Epoch 4/20\n",
      "1/1 - 0s - loss: 0.6451 - binary_crossentropy: 0.6451 - val_loss: 0.6429 - val_binary_crossentropy: 0.6429\n",
      "Epoch 5/20\n",
      "1/1 - 0s - loss: 0.6198 - binary_crossentropy: 0.6198 - val_loss: 0.6284 - val_binary_crossentropy: 0.6284\n",
      "Epoch 6/20\n",
      "1/1 - 0s - loss: 0.5952 - binary_crossentropy: 0.5952 - val_loss: 0.6152 - val_binary_crossentropy: 0.6151\n",
      "Epoch 7/20\n",
      "1/1 - 0s - loss: 0.5715 - binary_crossentropy: 0.5714 - val_loss: 0.6033 - val_binary_crossentropy: 0.6033\n",
      "Epoch 8/20\n",
      "1/1 - 0s - loss: 0.5487 - binary_crossentropy: 0.5487 - val_loss: 0.5935 - val_binary_crossentropy: 0.5935\n",
      "Epoch 9/20\n",
      "1/1 - 0s - loss: 0.5272 - binary_crossentropy: 0.5272 - val_loss: 0.5864 - val_binary_crossentropy: 0.5864\n",
      "Epoch 10/20\n",
      "1/1 - 0s - loss: 0.5073 - binary_crossentropy: 0.5073 - val_loss: 0.5824 - val_binary_crossentropy: 0.5824\n",
      "Epoch 11/20\n",
      "1/1 - 0s - loss: 0.4894 - binary_crossentropy: 0.4894 - val_loss: 0.5817 - val_binary_crossentropy: 0.5817\n",
      "Epoch 12/20\n",
      "1/1 - 0s - loss: 0.4731 - binary_crossentropy: 0.4731 - val_loss: 0.5837 - val_binary_crossentropy: 0.5837\n",
      "Epoch 13/20\n",
      "1/1 - 0s - loss: 0.4580 - binary_crossentropy: 0.4579 - val_loss: 0.5873 - val_binary_crossentropy: 0.5873\n",
      "Epoch 14/20\n",
      "1/1 - 0s - loss: 0.4428 - binary_crossentropy: 0.4428 - val_loss: 0.5915 - val_binary_crossentropy: 0.5915\n",
      "Epoch 15/20\n",
      "1/1 - 0s - loss: 0.4265 - binary_crossentropy: 0.4265 - val_loss: 0.5949 - val_binary_crossentropy: 0.5949\n",
      "Epoch 16/20\n",
      "1/1 - 0s - loss: 0.4081 - binary_crossentropy: 0.4080 - val_loss: 0.5966 - val_binary_crossentropy: 0.5966\n",
      "Epoch 17/20\n",
      "1/1 - 0s - loss: 0.3871 - binary_crossentropy: 0.3871 - val_loss: 0.5965 - val_binary_crossentropy: 0.5964\n",
      "Epoch 18/20\n",
      "1/1 - 0s - loss: 0.3638 - binary_crossentropy: 0.3638 - val_loss: 0.5952 - val_binary_crossentropy: 0.5952\n",
      "Epoch 19/20\n",
      "1/1 - 0s - loss: 0.3393 - binary_crossentropy: 0.3392 - val_loss: 0.5936 - val_binary_crossentropy: 0.5936\n",
      "Epoch 20/20\n",
      "1/1 - 0s - loss: 0.3142 - binary_crossentropy: 0.3141 - val_loss: 0.5923 - val_binary_crossentropy: 0.5923\n"
     ]
    }
   ],
   "source": [
    "# Train Model\n",
    "history = model.fit(train_model_input, train[target].values,\n",
    "                        batch_size=256, epochs=20, verbose=2, validation_split=0.2, )"
   ]
  },
  {
   "cell_type": "code",
   "execution_count": 41,
   "metadata": {},
   "outputs": [
    {
     "data": {
      "image/png": "[encoded data removed]",
      "text/plain": [
       "<Figure size 640x480 with 1 Axes>"
      ]
     },
     "metadata": {},
     "output_type": "display_data"
    }
   ],
   "source": [
    "import matplotlib.pyplot as plt\n",
    "\n",
    "train_loss = history.history['loss']\n",
    "val_loss = history.history['val_loss']\n",
    "plt.plot(train_loss)\n",
    "plt.plot(val_loss)\n",
    "\n",
    "plt.title(\"Train vs Val loss\");"
   ]
  },
  {
   "cell_type": "code",
   "execution_count": 42,
   "metadata": {},
   "outputs": [],
   "source": [
    "# Predict\n",
    "pred_ans = model.predict(test_model_input, batch_size=256)"
   ]
  },
  {
   "cell_type": "code",
   "execution_count": 43,
   "metadata": {},
   "outputs": [
    {
     "name": "stdout",
     "output_type": "stream",
     "text": [
      "test LogLoss: 0.5025\n",
      "test AUC: 0.6631\n"
     ]
    }
   ],
   "source": [
    "# Evaluate the Model\n",
    "print(\"test LogLoss:\", round(log_loss(test[target].values, pred_ans), 4))\n",
    "print(\"test AUC:\", round(roc_auc_score(test[target].values, pred_ans), 4))"
   ]
  },
  {
   "cell_type": "markdown",
   "metadata": {},
   "source": [
    "### Inference"
   ]
  },
  {
   "cell_type": "code",
   "execution_count": 44,
   "metadata": {},
   "outputs": [
    {
     "name": "stdout",
     "output_type": "stream",
     "text": [
      "C1 C2 C3 C4 C5 C6 C7 C8 C9 C10 C11 C12 C13 C14 C15 C16 C17 C18 C19 C20 C21 C22 C23 C24 C25 C26 I1 I2 I3 I4 I5 I6 I7 I8 I9 I10 I11 I12 I13 "
     ]
    }
   ],
   "source": [
    "for feature in feature_names:\n",
    "    print(feature, end=' ')"
   ]
  },
  {
   "cell_type": "code",
   "execution_count": 67,
   "metadata": {},
   "outputs": [],
   "source": [
    "import numpy as np\n",
    "\n",
    "model_input = {'C1': np.array([8]),\n",
    "               'C2': np.array([52]),\n",
    "               'C3': np.array([0]),\n",
    "               'C4': np.array([0]),\n",
    "               'C5': np.array([156]),\n",
    "               'C6': np.array([0]),\n",
    "               'C7': np.array([50]),\n",
    "               'C8': np.array([1]),\n",
    "               'C9': np.array([2]),\n",
    "               'C10': np.array([39]),\n",
    "               'C11': np.array([99]),\n",
    "               'C12': np.array([32]),\n",
    "               'C13': np.array([56]),\n",
    "               'C14': np.array([8]),\n",
    "               'C15': np.array([87]),\n",
    "               'C16': np.array([34]),\n",
    "               'C17': np.array([4]),\n",
    "               'C18': np.array([101]),\n",
    "               'C19': np.array([43]),\n",
    "               'C20': np.array([1]),\n",
    "               'C21': np.array([34]),\n",
    "               'C22': np.array([34]),\n",
    "               'C23': np.array([0]),\n",
    "               'C24': np.array([0]),\n",
    "               'C25': np.array([5]),\n",
    "               'C26': np.array([3]),\n",
    "               'I1': np.array([0.00003]),\n",
    "               'I2': np.array([0.1379]),\n",
    "               'I3': np.array([0.0]),\n",
    "               'I4': np.array([0.11]),\n",
    "               'I5': np.array([0.00033]),\n",
    "               'I6': np.array([0.45]),\n",
    "               'I7': np.array([0.2]),\n",
    "               'I8': np.array([0.003]),\n",
    "               'I9': np.array([0.92]),\n",
    "               'I10': np.array([0.76]),\n",
    "               'I11': np.array([0.0]),\n",
    "               'I12': np.array([1.0]),\n",
    "               'I13': np.array([0.34])\n",
    "               }"
   ]
  },
  {
   "cell_type": "code",
   "execution_count": 68,
   "metadata": {},
   "outputs": [
    {
     "data": {
      "text/plain": [
       "array([[0.04815204]], dtype=float32)"
      ]
     },
     "execution_count": 68,
     "metadata": {},
     "output_type": "execute_result"
    }
   ],
   "source": [
    "model.predict(model_input)"
   ]
  },
  {
   "cell_type": "code",
   "execution_count": null,
   "metadata": {},
   "outputs": [],
   "source": []
  }
 ],
 "metadata": {
  "kernelspec": {
   "display_name": "Python 3",
   "language": "python",
   "name": "python3"
  },
  "language_info": {
   "codemirror_mode": {
    "name": "ipython",
    "version": 3
   },
   "file_extension": ".py",
   "mimetype": "text/x-python",
   "name": "python",
   "nbconvert_exporter": "python",
   "pygments_lexer": "ipython3",
   "version": "3.7.12"
  }
 },
 "nbformat": 4,
 "nbformat_minor": 2
}
