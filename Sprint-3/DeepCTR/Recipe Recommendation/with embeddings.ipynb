{
 "cells": [
  {
   "cell_type": "code",
   "execution_count": 50,
   "metadata": {},
   "outputs": [],
   "source": [
    "import numpy as np\n",
    "import pandas as pd\n",
    "import tensorflow as tf\n",
    "from tensorflow.keras.preprocessing.sequence import pad_sequences\n",
    "\n",
    "from sklearn.metrics import  mean_squared_error\n",
    "from sklearn.model_selection import train_test_split\n",
    "from sklearn.preprocessing import MinMaxScaler, LabelEncoder\n",
    "\n",
    "\n",
    "from deepctr.feature_column import SparseFeat, DenseFeat, VarLenSparseFeat, get_feature_names\n",
    "from deepctr.models import DeepFM"
   ]
  },
  {
   "cell_type": "code",
   "execution_count": 25,
   "metadata": {},
   "outputs": [],
   "source": [
    "data = pd.read_csv(\"../data/recipe/merged_data.csv\")"
   ]
  },
  {
   "cell_type": "code",
   "execution_count": 26,
   "metadata": {},
   "outputs": [
    {
     "data": {
      "text/html": [
       "<div>\n",
       "<style scoped>\n",
       "    .dataframe tbody tr th:only-of-type {\n",
       "        vertical-align: middle;\n",
       "    }\n",
       "\n",
       "    .dataframe tbody tr th {\n",
       "        vertical-align: top;\n",
       "    }\n",
       "\n",
       "    .dataframe thead th {\n",
       "        text-align: right;\n",
       "    }\n",
       "</style>\n",
       "<table border=\"1\" class=\"dataframe\">\n",
       "  <thead>\n",
       "    <tr style=\"text-align: right;\">\n",
       "      <th></th>\n",
       "      <th>user_id</th>\n",
       "      <th>recipe_id</th>\n",
       "      <th>rating</th>\n",
       "      <th>name</th>\n",
       "      <th>minutes</th>\n",
       "      <th>tags</th>\n",
       "      <th>nutrition</th>\n",
       "      <th>n_steps</th>\n",
       "      <th>steps</th>\n",
       "      <th>description</th>\n",
       "      <th>ingredients</th>\n",
       "      <th>n_ingredients</th>\n",
       "    </tr>\n",
       "  </thead>\n",
       "  <tbody>\n",
       "    <tr>\n",
       "      <th>0</th>\n",
       "      <td>38094</td>\n",
       "      <td>40893</td>\n",
       "      <td>4</td>\n",
       "      <td>white bean   green chile pepper soup</td>\n",
       "      <td>495</td>\n",
       "      <td>['weeknight', 'time-to-make', 'course', 'main-...</td>\n",
       "      <td>[204.8, 5.0, 9.0, 26.0, 24.0, 2.0, 10.0]</td>\n",
       "      <td>4</td>\n",
       "      <td>['combine beans , onion , chilies , 1 / 2 teas...</td>\n",
       "      <td>easy soup for the crockpot.</td>\n",
       "      <td>['great northern beans', 'yellow onion', 'dice...</td>\n",
       "      <td>9</td>\n",
       "    </tr>\n",
       "    <tr>\n",
       "      <th>1</th>\n",
       "      <td>1293707</td>\n",
       "      <td>40893</td>\n",
       "      <td>5</td>\n",
       "      <td>white bean   green chile pepper soup</td>\n",
       "      <td>495</td>\n",
       "      <td>['weeknight', 'time-to-make', 'course', 'main-...</td>\n",
       "      <td>[204.8, 5.0, 9.0, 26.0, 24.0, 2.0, 10.0]</td>\n",
       "      <td>4</td>\n",
       "      <td>['combine beans , onion , chilies , 1 / 2 teas...</td>\n",
       "      <td>easy soup for the crockpot.</td>\n",
       "      <td>['great northern beans', 'yellow onion', 'dice...</td>\n",
       "      <td>9</td>\n",
       "    </tr>\n",
       "    <tr>\n",
       "      <th>2</th>\n",
       "      <td>8937</td>\n",
       "      <td>44394</td>\n",
       "      <td>4</td>\n",
       "      <td>devilicious cookie cake delights</td>\n",
       "      <td>20</td>\n",
       "      <td>['30-minutes-or-less', 'time-to-make', 'course...</td>\n",
       "      <td>[132.3, 11.0, 39.0, 5.0, 4.0, 11.0, 5.0]</td>\n",
       "      <td>5</td>\n",
       "      <td>['blend together cake mix , oil and eggs', 'ad...</td>\n",
       "      <td>NaN</td>\n",
       "      <td>[\"devil's food cake mix\", 'vegetable oil', 'eg...</td>\n",
       "      <td>4</td>\n",
       "    </tr>\n",
       "  </tbody>\n",
       "</table>\n",
       "</div>"
      ],
      "text/plain": [
       "   user_id  recipe_id  rating                                  name  minutes  \\\n",
       "0    38094      40893       4  white bean   green chile pepper soup      495   \n",
       "1  1293707      40893       5  white bean   green chile pepper soup      495   \n",
       "2     8937      44394       4      devilicious cookie cake delights       20   \n",
       "\n",
       "                                                tags  \\\n",
       "0  ['weeknight', 'time-to-make', 'course', 'main-...   \n",
       "1  ['weeknight', 'time-to-make', 'course', 'main-...   \n",
       "2  ['30-minutes-or-less', 'time-to-make', 'course...   \n",
       "\n",
       "                                  nutrition  n_steps  \\\n",
       "0  [204.8, 5.0, 9.0, 26.0, 24.0, 2.0, 10.0]        4   \n",
       "1  [204.8, 5.0, 9.0, 26.0, 24.0, 2.0, 10.0]        4   \n",
       "2  [132.3, 11.0, 39.0, 5.0, 4.0, 11.0, 5.0]        5   \n",
       "\n",
       "                                               steps  \\\n",
       "0  ['combine beans , onion , chilies , 1 / 2 teas...   \n",
       "1  ['combine beans , onion , chilies , 1 / 2 teas...   \n",
       "2  ['blend together cake mix , oil and eggs', 'ad...   \n",
       "\n",
       "                   description  \\\n",
       "0  easy soup for the crockpot.   \n",
       "1  easy soup for the crockpot.   \n",
       "2                          NaN   \n",
       "\n",
       "                                         ingredients  n_ingredients  \n",
       "0  ['great northern beans', 'yellow onion', 'dice...              9  \n",
       "1  ['great northern beans', 'yellow onion', 'dice...              9  \n",
       "2  [\"devil's food cake mix\", 'vegetable oil', 'eg...              4  "
      ]
     },
     "execution_count": 26,
     "metadata": {},
     "output_type": "execute_result"
    }
   ],
   "source": [
    "data.head(3)"
   ]
  },
  {
   "cell_type": "code",
   "execution_count": 27,
   "metadata": {},
   "outputs": [],
   "source": [
    "data = data[data['rating'] != 0]"
   ]
  },
  {
   "cell_type": "code",
   "execution_count": 28,
   "metadata": {},
   "outputs": [],
   "source": [
    "data.dropna(inplace=True)"
   ]
  },
  {
   "cell_type": "code",
   "execution_count": 29,
   "metadata": {},
   "outputs": [],
   "source": [
    "data.drop(['steps'], axis=1, inplace=True)"
   ]
  },
  {
   "cell_type": "code",
   "execution_count": 30,
   "metadata": {},
   "outputs": [],
   "source": [
    "# Get unique recipe IDs\n",
    "recipe_ids = data['recipe_id'].unique()\n",
    "\n",
    "# Define the percentage of recipes to remove\n",
    "percentage_to_remove = 0.7\n",
    "\n",
    "# Calculate the number of recipes to remove\n",
    "num_recipes_to_remove = int(len(recipe_ids) * percentage_to_remove)\n",
    "\n",
    "# Randomly select recipes to remove\n",
    "recipes_to_remove = np.random.choice(recipe_ids, num_recipes_to_remove, replace=False)\n",
    "\n",
    "# Remove rows with selected recipe IDs\n",
    "data = data[~data['recipe_id'].isin(recipes_to_remove)]"
   ]
  },
  {
   "cell_type": "code",
   "execution_count": 31,
   "metadata": {},
   "outputs": [
    {
     "data": {
      "text/html": [
       "<div>\n",
       "<style scoped>\n",
       "    .dataframe tbody tr th:only-of-type {\n",
       "        vertical-align: middle;\n",
       "    }\n",
       "\n",
       "    .dataframe tbody tr th {\n",
       "        vertical-align: top;\n",
       "    }\n",
       "\n",
       "    .dataframe thead th {\n",
       "        text-align: right;\n",
       "    }\n",
       "</style>\n",
       "<table border=\"1\" class=\"dataframe\">\n",
       "  <thead>\n",
       "    <tr style=\"text-align: right;\">\n",
       "      <th></th>\n",
       "      <th>user_id</th>\n",
       "      <th>recipe_id</th>\n",
       "      <th>rating</th>\n",
       "      <th>name</th>\n",
       "      <th>minutes</th>\n",
       "      <th>tags</th>\n",
       "      <th>nutrition</th>\n",
       "      <th>n_steps</th>\n",
       "      <th>description</th>\n",
       "      <th>ingredients</th>\n",
       "      <th>n_ingredients</th>\n",
       "    </tr>\n",
       "  </thead>\n",
       "  <tbody>\n",
       "    <tr>\n",
       "      <th>15</th>\n",
       "      <td>136726</td>\n",
       "      <td>197160</td>\n",
       "      <td>5</td>\n",
       "      <td>mexican hots</td>\n",
       "      <td>20</td>\n",
       "      <td>['30-minutes-or-less', 'time-to-make', 'course...</td>\n",
       "      <td>[308.0, 23.0, 11.0, 20.0, 54.0, 27.0, 4.0]</td>\n",
       "      <td>2</td>\n",
       "      <td>a family recipe passed down from my grandmothe...</td>\n",
       "      <td>['hamburger', 'breadcrumbs', 'egg', 'salt', 'b...</td>\n",
       "      <td>10</td>\n",
       "    </tr>\n",
       "    <tr>\n",
       "      <th>26</th>\n",
       "      <td>135017</td>\n",
       "      <td>254596</td>\n",
       "      <td>5</td>\n",
       "      <td>apple apricot pork chops   crock pot</td>\n",
       "      <td>435</td>\n",
       "      <td>['course', 'main-ingredient', 'preparation', '...</td>\n",
       "      <td>[710.0, 44.0, 210.0, 7.0, 94.0, 50.0, 21.0]</td>\n",
       "      <td>5</td>\n",
       "      <td>i'm not sure where i got this recipe, but it's...</td>\n",
       "      <td>['pork chops', 'apple', 'dried apricot', 'cran...</td>\n",
       "      <td>12</td>\n",
       "    </tr>\n",
       "  </tbody>\n",
       "</table>\n",
       "</div>"
      ],
      "text/plain": [
       "    user_id  recipe_id  rating                                  name  minutes  \\\n",
       "15   136726     197160       5                          mexican hots       20   \n",
       "26   135017     254596       5  apple apricot pork chops   crock pot      435   \n",
       "\n",
       "                                                 tags  \\\n",
       "15  ['30-minutes-or-less', 'time-to-make', 'course...   \n",
       "26  ['course', 'main-ingredient', 'preparation', '...   \n",
       "\n",
       "                                      nutrition  n_steps  \\\n",
       "15   [308.0, 23.0, 11.0, 20.0, 54.0, 27.0, 4.0]        2   \n",
       "26  [710.0, 44.0, 210.0, 7.0, 94.0, 50.0, 21.0]        5   \n",
       "\n",
       "                                          description  \\\n",
       "15  a family recipe passed down from my grandmothe...   \n",
       "26  i'm not sure where i got this recipe, but it's...   \n",
       "\n",
       "                                          ingredients  n_ingredients  \n",
       "15  ['hamburger', 'breadcrumbs', 'egg', 'salt', 'b...             10  \n",
       "26  ['pork chops', 'apple', 'dried apricot', 'cran...             12  "
      ]
     },
     "execution_count": 31,
     "metadata": {},
     "output_type": "execute_result"
    }
   ],
   "source": [
    "data.head(2)"
   ]
  },
  {
   "cell_type": "code",
   "execution_count": 32,
   "metadata": {},
   "outputs": [],
   "source": [
    "data.reset_index(inplace=True, drop=True)"
   ]
  },
  {
   "cell_type": "markdown",
   "metadata": {},
   "source": [
    "### Encoding and embeddings"
   ]
  },
  {
   "cell_type": "code",
   "execution_count": 35,
   "metadata": {},
   "outputs": [],
   "source": [
    "from sentence_transformers import SentenceTransformer\n",
    "\n",
    "s_model = SentenceTransformer(\"all-MiniLM-L6-v2\")\n",
    "sentence_embeddings = s_model.encode(data['description'])"
   ]
  },
  {
   "cell_type": "code",
   "execution_count": 44,
   "metadata": {},
   "outputs": [],
   "source": [
    "data['description'] = list(sentence_embeddings)"
   ]
  },
  {
   "cell_type": "code",
   "execution_count": 51,
   "metadata": {},
   "outputs": [
    {
     "data": {
      "text/html": [
       "<div>\n",
       "<style scoped>\n",
       "    .dataframe tbody tr th:only-of-type {\n",
       "        vertical-align: middle;\n",
       "    }\n",
       "\n",
       "    .dataframe tbody tr th {\n",
       "        vertical-align: top;\n",
       "    }\n",
       "\n",
       "    .dataframe thead th {\n",
       "        text-align: right;\n",
       "    }\n",
       "</style>\n",
       "<table border=\"1\" class=\"dataframe\">\n",
       "  <thead>\n",
       "    <tr style=\"text-align: right;\">\n",
       "      <th></th>\n",
       "      <th>user_id</th>\n",
       "      <th>recipe_id</th>\n",
       "      <th>rating</th>\n",
       "      <th>name</th>\n",
       "      <th>minutes</th>\n",
       "      <th>tags</th>\n",
       "      <th>nutrition</th>\n",
       "      <th>n_steps</th>\n",
       "      <th>description</th>\n",
       "      <th>ingredients</th>\n",
       "      <th>n_ingredients</th>\n",
       "    </tr>\n",
       "  </thead>\n",
       "  <tbody>\n",
       "    <tr>\n",
       "      <th>0</th>\n",
       "      <td>136726</td>\n",
       "      <td>197160</td>\n",
       "      <td>5</td>\n",
       "      <td>mexican hots</td>\n",
       "      <td>20</td>\n",
       "      <td>['30-minutes-or-less', 'time-to-make', 'course...</td>\n",
       "      <td>[308.0, 23.0, 11.0, 20.0, 54.0, 27.0, 4.0]</td>\n",
       "      <td>2</td>\n",
       "      <td>[-0.12790687, -0.04986197, 0.008629956, 0.0342...</td>\n",
       "      <td>['hamburger', 'breadcrumbs', 'egg', 'salt', 'b...</td>\n",
       "      <td>10</td>\n",
       "    </tr>\n",
       "    <tr>\n",
       "      <th>1</th>\n",
       "      <td>135017</td>\n",
       "      <td>254596</td>\n",
       "      <td>5</td>\n",
       "      <td>apple apricot pork chops   crock pot</td>\n",
       "      <td>435</td>\n",
       "      <td>['course', 'main-ingredient', 'preparation', '...</td>\n",
       "      <td>[710.0, 44.0, 210.0, 7.0, 94.0, 50.0, 21.0]</td>\n",
       "      <td>5</td>\n",
       "      <td>[-0.03198626, -0.016710883, -0.011478343, 0.05...</td>\n",
       "      <td>['pork chops', 'apple', 'dried apricot', 'cran...</td>\n",
       "      <td>12</td>\n",
       "    </tr>\n",
       "    <tr>\n",
       "      <th>2</th>\n",
       "      <td>224088</td>\n",
       "      <td>254596</td>\n",
       "      <td>4</td>\n",
       "      <td>apple apricot pork chops   crock pot</td>\n",
       "      <td>435</td>\n",
       "      <td>['course', 'main-ingredient', 'preparation', '...</td>\n",
       "      <td>[710.0, 44.0, 210.0, 7.0, 94.0, 50.0, 21.0]</td>\n",
       "      <td>5</td>\n",
       "      <td>[-0.031986266, -0.016710903, -0.011478343, 0.0...</td>\n",
       "      <td>['pork chops', 'apple', 'dried apricot', 'cran...</td>\n",
       "      <td>12</td>\n",
       "    </tr>\n",
       "  </tbody>\n",
       "</table>\n",
       "</div>"
      ],
      "text/plain": [
       "   user_id  recipe_id  rating                                  name  minutes  \\\n",
       "0   136726     197160       5                          mexican hots       20   \n",
       "1   135017     254596       5  apple apricot pork chops   crock pot      435   \n",
       "2   224088     254596       4  apple apricot pork chops   crock pot      435   \n",
       "\n",
       "                                                tags  \\\n",
       "0  ['30-minutes-or-less', 'time-to-make', 'course...   \n",
       "1  ['course', 'main-ingredient', 'preparation', '...   \n",
       "2  ['course', 'main-ingredient', 'preparation', '...   \n",
       "\n",
       "                                     nutrition  n_steps  \\\n",
       "0   [308.0, 23.0, 11.0, 20.0, 54.0, 27.0, 4.0]        2   \n",
       "1  [710.0, 44.0, 210.0, 7.0, 94.0, 50.0, 21.0]        5   \n",
       "2  [710.0, 44.0, 210.0, 7.0, 94.0, 50.0, 21.0]        5   \n",
       "\n",
       "                                         description  \\\n",
       "0  [-0.12790687, -0.04986197, 0.008629956, 0.0342...   \n",
       "1  [-0.03198626, -0.016710883, -0.011478343, 0.05...   \n",
       "2  [-0.031986266, -0.016710903, -0.011478343, 0.0...   \n",
       "\n",
       "                                         ingredients  n_ingredients  \n",
       "0  ['hamburger', 'breadcrumbs', 'egg', 'salt', 'b...             10  \n",
       "1  ['pork chops', 'apple', 'dried apricot', 'cran...             12  \n",
       "2  ['pork chops', 'apple', 'dried apricot', 'cran...             12  "
      ]
     },
     "execution_count": 51,
     "metadata": {},
     "output_type": "execute_result"
    }
   ],
   "source": [
    "data.head(3)"
   ]
  },
  {
   "cell_type": "code",
   "execution_count": 52,
   "metadata": {},
   "outputs": [],
   "source": [
    "sparse_features = ['user_id', 'recipe_id', 'n_steps', 'n_ingredients']\n",
    "dense_features = ['minutes']\n",
    "varlen_features = ['tags', 'nutrition', 'description', 'ingredients']\n",
    "\n",
    "target = 'rating'"
   ]
  },
  {
   "cell_type": "code",
   "execution_count": 60,
   "metadata": {},
   "outputs": [],
   "source": [
    "import ast\n",
    "\n",
    "def convert_to_list(string):\n",
    "    return ast.literal_eval(string)\n",
    "\n",
    "for feature in varlen_features:\n",
    "    if not feature == 'description':\n",
    "        data[feature] = data[feature].apply(convert_to_list)"
   ]
  },
  {
   "cell_type": "code",
   "execution_count": 84,
   "metadata": {},
   "outputs": [],
   "source": [
    "# Label Encoding tags and ingredients columns\n",
    "for feature in ['tags', 'ingredients']:\n",
    "    unique_tags = set(tag for sublist in data[feature] for tag in sublist)\n",
    "\n",
    "    label_encoder = LabelEncoder()\n",
    "    label_encoder.fit(list(unique_tags))\n",
    "    encoded_tags = [label_encoder.transform(tags) for tags in data[feature]]\n",
    "    data[feature] = encoded_tags"
   ]
  },
  {
   "cell_type": "code",
   "execution_count": 85,
   "metadata": {},
   "outputs": [],
   "source": [
    "# Scaling nutrition column\n",
    "nutrition_array = np.array(data['nutrition'].tolist())\n",
    "\n",
    "scaler = MinMaxScaler()\n",
    "scaled_array = scaler.fit_transform(nutrition_array)\n",
    "\n",
    "data['nutrition'] = scaled_array.tolist()"
   ]
  },
  {
   "cell_type": "code",
   "execution_count": 96,
   "metadata": {},
   "outputs": [],
   "source": [
    "# Scaling minute column\n",
    "m_scaler = MinMaxScaler()\n",
    "data_reshaped = data['minutes'].values.reshape(-1, 1)\n",
    "scaled_data_reshaped = m_scaler.fit_transform(data_reshaped)\n",
    "\n",
    "scaled_data = scaled_data_reshaped.flatten()\n",
    "\n",
    "data['minutes'] = list(scaled_data)"
   ]
  },
  {
   "cell_type": "code",
   "execution_count": 98,
   "metadata": {},
   "outputs": [
    {
     "data": {
      "text/html": [
       "<div>\n",
       "<style scoped>\n",
       "    .dataframe tbody tr th:only-of-type {\n",
       "        vertical-align: middle;\n",
       "    }\n",
       "\n",
       "    .dataframe tbody tr th {\n",
       "        vertical-align: top;\n",
       "    }\n",
       "\n",
       "    .dataframe thead th {\n",
       "        text-align: right;\n",
       "    }\n",
       "</style>\n",
       "<table border=\"1\" class=\"dataframe\">\n",
       "  <thead>\n",
       "    <tr style=\"text-align: right;\">\n",
       "      <th></th>\n",
       "      <th>user_id</th>\n",
       "      <th>recipe_id</th>\n",
       "      <th>rating</th>\n",
       "      <th>name</th>\n",
       "      <th>minutes</th>\n",
       "      <th>tags</th>\n",
       "      <th>nutrition</th>\n",
       "      <th>n_steps</th>\n",
       "      <th>description</th>\n",
       "      <th>ingredients</th>\n",
       "      <th>n_ingredients</th>\n",
       "    </tr>\n",
       "  </thead>\n",
       "  <tbody>\n",
       "    <tr>\n",
       "      <th>0</th>\n",
       "      <td>136726</td>\n",
       "      <td>197160</td>\n",
       "      <td>5</td>\n",
       "      <td>mexican hots</td>\n",
       "      <td>0.000069</td>\n",
       "      <td>[4, 485, 119, 274, 128, 373, 310, 270, 33, 287...</td>\n",
       "      <td>[0.003031057514316334, 0.0013385322702671244, ...</td>\n",
       "      <td>2</td>\n",
       "      <td>[-0.12790687, -0.04986197, 0.008629956, 0.0342...</td>\n",
       "      <td>[4689, 1036, 3221, 8389, 756, 6739, 4497, 3048...</td>\n",
       "      <td>10</td>\n",
       "    </tr>\n",
       "    <tr>\n",
       "      <th>1</th>\n",
       "      <td>135017</td>\n",
       "      <td>254596</td>\n",
       "      <td>5</td>\n",
       "      <td>apple apricot pork chops   crock pot</td>\n",
       "      <td>0.001510</td>\n",
       "      <td>[119, 274, 373, 270, 180, 361, 149, 125, 139, ...</td>\n",
       "      <td>[0.0069871780362486926, 0.0025606704300762378,...</td>\n",
       "      <td>5</td>\n",
       "      <td>[-0.03198626, -0.016710883, -0.011478343, 0.05...</td>\n",
       "      <td>[7433, 244, 2869, 2460, 6739, 1558, 253, 1123,...</td>\n",
       "      <td>12</td>\n",
       "    </tr>\n",
       "    <tr>\n",
       "      <th>2</th>\n",
       "      <td>224088</td>\n",
       "      <td>254596</td>\n",
       "      <td>4</td>\n",
       "      <td>apple apricot pork chops   crock pot</td>\n",
       "      <td>0.001510</td>\n",
       "      <td>[119, 274, 373, 270, 180, 361, 149, 125, 139, ...</td>\n",
       "      <td>[0.0069871780362486926, 0.0025606704300762378,...</td>\n",
       "      <td>5</td>\n",
       "      <td>[-0.031986266, -0.016710903, -0.011478343, 0.0...</td>\n",
       "      <td>[7433, 244, 2869, 2460, 6739, 1558, 253, 1123,...</td>\n",
       "      <td>12</td>\n",
       "    </tr>\n",
       "  </tbody>\n",
       "</table>\n",
       "</div>"
      ],
      "text/plain": [
       "   user_id  recipe_id  rating                                  name   minutes  \\\n",
       "0   136726     197160       5                          mexican hots  0.000069   \n",
       "1   135017     254596       5  apple apricot pork chops   crock pot  0.001510   \n",
       "2   224088     254596       4  apple apricot pork chops   crock pot  0.001510   \n",
       "\n",
       "                                                tags  \\\n",
       "0  [4, 485, 119, 274, 128, 373, 310, 270, 33, 287...   \n",
       "1  [119, 274, 373, 270, 180, 361, 149, 125, 139, ...   \n",
       "2  [119, 274, 373, 270, 180, 361, 149, 125, 139, ...   \n",
       "\n",
       "                                           nutrition  n_steps  \\\n",
       "0  [0.003031057514316334, 0.0013385322702671244, ...        2   \n",
       "1  [0.0069871780362486926, 0.0025606704300762378,...        5   \n",
       "2  [0.0069871780362486926, 0.0025606704300762378,...        5   \n",
       "\n",
       "                                         description  \\\n",
       "0  [-0.12790687, -0.04986197, 0.008629956, 0.0342...   \n",
       "1  [-0.03198626, -0.016710883, -0.011478343, 0.05...   \n",
       "2  [-0.031986266, -0.016710903, -0.011478343, 0.0...   \n",
       "\n",
       "                                         ingredients  n_ingredients  \n",
       "0  [4689, 1036, 3221, 8389, 756, 6739, 4497, 3048...             10  \n",
       "1  [7433, 244, 2869, 2460, 6739, 1558, 253, 1123,...             12  \n",
       "2  [7433, 244, 2869, 2460, 6739, 1558, 253, 1123,...             12  "
      ]
     },
     "execution_count": 98,
     "metadata": {},
     "output_type": "execute_result"
    }
   ],
   "source": [
    "data.head(3)"
   ]
  },
  {
   "cell_type": "code",
   "execution_count": 100,
   "metadata": {},
   "outputs": [],
   "source": [
    "def pad_varlen(varlen_list, max_len=None):\n",
    "    if not max_len:\n",
    "        length = np.array([len(item) for item in varlen_list]) \n",
    "        max_len = max(length)\n",
    "    return (max_len, pad_sequences(varlen_list, maxlen=max_len, padding='post',))"
   ]
  },
  {
   "cell_type": "code",
   "execution_count": 101,
   "metadata": {},
   "outputs": [],
   "source": [
    "train, test = train_test_split(data, test_size=0.2, stratify=data[target])"
   ]
  },
  {
   "cell_type": "code",
   "execution_count": 102,
   "metadata": {},
   "outputs": [],
   "source": [
    "(tm, tags_train) = pad_varlen(train['tags'])\n",
    "(nm, nutrition_train) = pad_varlen(train['nutrition'])\n",
    "(dm, description_train) = pad_varlen(train['description'])\n",
    "(im, ingredients_train) = pad_varlen(train['ingredients'])"
   ]
  },
  {
   "cell_type": "code",
   "execution_count": 103,
   "metadata": {},
   "outputs": [],
   "source": [
    "(_, tags_test) = pad_varlen(test['tags'], tm)\n",
    "(_, nutrition_test) = pad_varlen(test['nutrition'], nm)\n",
    "(_, description_test) = pad_varlen(test['description'], dm)\n",
    "(_, ingredients_test) = pad_varlen(test['ingredients'], im)"
   ]
  },
  {
   "cell_type": "code",
   "execution_count": 105,
   "metadata": {},
   "outputs": [],
   "source": [
    "max_length = [tm, nm, dm, im]"
   ]
  },
  {
   "cell_type": "markdown",
   "metadata": {},
   "source": [
    "### Model Training"
   ]
  },
  {
   "cell_type": "code",
   "execution_count": 109,
   "metadata": {},
   "outputs": [],
   "source": [
    "# Set hashing space for each sparse field and generate feature config for sequence feature\n",
    "fixlen_feature_columns = [SparseFeat(feat, data[feat].nunique() * 3, embedding_dim=4, use_hash=True)\n",
    "                            for feat in sparse_features]\n",
    "\n",
    "dense_feature_columns = [DenseFeat(feat, 1, ) for feat in dense_features]\n",
    "\n",
    "varlen_feature_columns = [\n",
    "    VarLenSparseFeat(SparseFeat(feat, vocabulary_size=1000, embedding_dim=4),\n",
    "                        maxlen=max_len, combiner='mean', )\n",
    "                        for max_len, feat in zip(max_length, varlen_features)]\n",
    "\n",
    "linear_feature_columns = fixlen_feature_columns + dense_feature_columns + varlen_feature_columns\n",
    "dnn_feature_columns = fixlen_feature_columns + dense_feature_columns + varlen_feature_columns\n",
    "feature_names = get_feature_names(linear_feature_columns + dnn_feature_columns)"
   ]
  },
  {
   "cell_type": "code",
   "execution_count": 110,
   "metadata": {},
   "outputs": [
    {
     "data": {
      "text/plain": [
       "['user_id',\n",
       " 'recipe_id',\n",
       " 'n_steps',\n",
       " 'n_ingredients',\n",
       " 'minutes',\n",
       " 'tags',\n",
       " 'nutrition',\n",
       " 'description',\n",
       " 'ingredients']"
      ]
     },
     "execution_count": 110,
     "metadata": {},
     "output_type": "execute_result"
    }
   ],
   "source": [
    "feature_names"
   ]
  },
  {
   "cell_type": "code",
   "execution_count": 111,
   "metadata": {},
   "outputs": [],
   "source": [
    "# Generate input data for model\n",
    "train_model_input = {name: train[name] for name in feature_names}\n",
    "test_model_input = {name: test[name] for name in feature_names}\n",
    "\n",
    "train_model_input['tags'] = tags_train\n",
    "train_model_input['nutrition'] = nutrition_train\n",
    "train_model_input['description'] = description_train\n",
    "train_model_input['ingredients'] = ingredients_train\n",
    "\n",
    "test_model_input['tags'] = tags_test\n",
    "test_model_input['nutrition'] = nutrition_test\n",
    "test_model_input['description'] = description_test\n",
    "test_model_input['ingredients'] = ingredients_test"
   ]
  },
  {
   "cell_type": "code",
   "execution_count": 112,
   "metadata": {},
   "outputs": [
    {
     "name": "stdout",
     "output_type": "stream",
     "text": [
      "Epoch 1/20\n",
      "792/792 - 22s - loss: 1.0010 - mse: 1.0002 - val_loss: 0.4779 - val_mse: 0.4759\n",
      "Epoch 2/20\n",
      "792/792 - 17s - loss: 0.3683 - mse: 0.3651 - val_loss: 0.5062 - val_mse: 0.5018\n",
      "Epoch 3/20\n",
      "792/792 - 16s - loss: 0.2780 - mse: 0.2728 - val_loss: 0.5660 - val_mse: 0.5598\n",
      "Epoch 4/20\n",
      "792/792 - 15s - loss: 0.2226 - mse: 0.2159 - val_loss: 0.5786 - val_mse: 0.5713\n",
      "Epoch 5/20\n",
      "792/792 - 14s - loss: 0.1888 - mse: 0.1812 - val_loss: 0.6055 - val_mse: 0.5974\n",
      "Epoch 6/20\n",
      "792/792 - 21s - loss: 0.1661 - mse: 0.1578 - val_loss: 0.6223 - val_mse: 0.6137\n",
      "Epoch 7/20\n",
      "792/792 - 18s - loss: 0.1506 - mse: 0.1419 - val_loss: 0.6167 - val_mse: 0.6076\n",
      "Epoch 8/20\n",
      "792/792 - 17s - loss: 0.1380 - mse: 0.1289 - val_loss: 0.6453 - val_mse: 0.6359\n",
      "Epoch 9/20\n",
      "792/792 - 17s - loss: 0.1274 - mse: 0.1179 - val_loss: 0.6632 - val_mse: 0.6535\n",
      "Epoch 10/20\n",
      "792/792 - 16s - loss: 0.1188 - mse: 0.1091 - val_loss: 0.6618 - val_mse: 0.6519\n",
      "Epoch 11/20\n",
      "792/792 - 19s - loss: 0.1118 - mse: 0.1018 - val_loss: 0.6743 - val_mse: 0.6641\n",
      "Epoch 12/20\n",
      "792/792 - 14s - loss: 0.1050 - mse: 0.0948 - val_loss: 0.6685 - val_mse: 0.6580\n",
      "Epoch 13/20\n",
      "792/792 - 15s - loss: 0.1005 - mse: 0.0900 - val_loss: 0.6737 - val_mse: 0.6630\n",
      "Epoch 14/20\n",
      "792/792 - 14s - loss: 0.0958 - mse: 0.0851 - val_loss: 0.6869 - val_mse: 0.6760\n",
      "Epoch 15/20\n",
      "792/792 - 15s - loss: 0.0917 - mse: 0.0808 - val_loss: 0.6851 - val_mse: 0.6740\n",
      "Epoch 16/20\n",
      "792/792 - 17s - loss: 0.0894 - mse: 0.0782 - val_loss: 0.6798 - val_mse: 0.6684\n",
      "Epoch 17/20\n",
      "792/792 - 16s - loss: 0.0864 - mse: 0.0751 - val_loss: 0.6941 - val_mse: 0.6827\n",
      "Epoch 18/20\n",
      "792/792 - 16s - loss: 0.0831 - mse: 0.0716 - val_loss: 0.6897 - val_mse: 0.6781\n",
      "Epoch 19/20\n",
      "792/792 - 15s - loss: 0.0808 - mse: 0.0692 - val_loss: 0.6868 - val_mse: 0.6751\n",
      "Epoch 20/20\n",
      "792/792 - 15s - loss: 0.0787 - mse: 0.0670 - val_loss: 0.6805 - val_mse: 0.6687\n"
     ]
    }
   ],
   "source": [
    "# Define Model,compile and train\n",
    "model = DeepFM(linear_feature_columns, dnn_feature_columns, task='regression')\n",
    "\n",
    "model.compile(\"adam\", \"mse\", metrics=['mse'], )\n",
    "history = model.fit(train_model_input, train[target].values,\n",
    "                    batch_size=256, epochs=20, verbose=2, validation_split=0.2, )"
   ]
  },
  {
   "cell_type": "code",
   "execution_count": 113,
   "metadata": {},
   "outputs": [
    {
     "data": {
      "image/png": "[encoded data removed]",
      "text/plain": [
       "<Figure size 1000x600 with 1 Axes>"
      ]
     },
     "metadata": {},
     "output_type": "display_data"
    }
   ],
   "source": [
    "import matplotlib.pyplot as plt\n",
    "\n",
    "train_loss = history.history['loss']\n",
    "val_loss = history.history['val_loss']\n",
    "\n",
    "plt.figure(figsize=(10, 6))\n",
    "plt.plot(train_loss, label='Training Loss', marker='o')\n",
    "plt.plot(val_loss, label='Validation Loss', marker='x')\n",
    "\n",
    "plt.title(\"Training vs Validation Loss\", fontsize=16)\n",
    "plt.xlabel(\"Epoch\", fontsize=14)\n",
    "plt.ylabel(\"Loss\", fontsize=14)\n",
    "plt.legend(fontsize=12)\n",
    "plt.grid(True)\n",
    "\n",
    "plt.show()"
   ]
  },
  {
   "cell_type": "code",
   "execution_count": 114,
   "metadata": {},
   "outputs": [
    {
     "name": "stdout",
     "output_type": "stream",
     "text": [
      "Test MSE: 0.6573\n"
     ]
    }
   ],
   "source": [
    "# Predict\n",
    "pred_ans = model.predict(test_model_input, batch_size=256)\n",
    "\n",
    "# Evaluate Model\n",
    "mse_value = mean_squared_error(test[target].values, pred_ans)\n",
    "print(\"Test MSE:\", round(mse_value, 4))"
   ]
  },
  {
   "cell_type": "markdown",
   "metadata": {},
   "source": [
    "### Self Evaluation"
   ]
  },
  {
   "cell_type": "code",
   "execution_count": 115,
   "metadata": {},
   "outputs": [
    {
     "data": {
      "text/plain": [
       "(numpy.ndarray, numpy.ndarray)"
      ]
     },
     "execution_count": 115,
     "metadata": {},
     "output_type": "execute_result"
    }
   ],
   "source": [
    "ground_truth = test[target].values\n",
    "prediction = pred_ans\n",
    "type(ground_truth), type(prediction)"
   ]
  },
  {
   "cell_type": "code",
   "execution_count": 118,
   "metadata": {},
   "outputs": [],
   "source": [
    "indices = np.random.choice(10000, size=10, replace=False)\n",
    "sample_array1 = ground_truth[indices]\n",
    "sample_array2 = prediction[indices]"
   ]
  },
  {
   "cell_type": "code",
   "execution_count": 119,
   "metadata": {},
   "outputs": [
    {
     "data": {
      "text/html": [
       "<div>\n",
       "<style scoped>\n",
       "    .dataframe tbody tr th:only-of-type {\n",
       "        vertical-align: middle;\n",
       "    }\n",
       "\n",
       "    .dataframe tbody tr th {\n",
       "        vertical-align: top;\n",
       "    }\n",
       "\n",
       "    .dataframe thead th {\n",
       "        text-align: right;\n",
       "    }\n",
       "</style>\n",
       "<table border=\"1\" class=\"dataframe\">\n",
       "  <thead>\n",
       "    <tr style=\"text-align: right;\">\n",
       "      <th></th>\n",
       "      <th>truth</th>\n",
       "      <th>pred</th>\n",
       "      <th>diff</th>\n",
       "    </tr>\n",
       "  </thead>\n",
       "  <tbody>\n",
       "    <tr>\n",
       "      <th>0</th>\n",
       "      <td>4</td>\n",
       "      <td>4.667140</td>\n",
       "      <td>0.667140</td>\n",
       "    </tr>\n",
       "    <tr>\n",
       "      <th>1</th>\n",
       "      <td>5</td>\n",
       "      <td>3.895904</td>\n",
       "      <td>1.104096</td>\n",
       "    </tr>\n",
       "    <tr>\n",
       "      <th>2</th>\n",
       "      <td>4</td>\n",
       "      <td>4.635739</td>\n",
       "      <td>0.635739</td>\n",
       "    </tr>\n",
       "    <tr>\n",
       "      <th>3</th>\n",
       "      <td>5</td>\n",
       "      <td>5.001078</td>\n",
       "      <td>0.001078</td>\n",
       "    </tr>\n",
       "    <tr>\n",
       "      <th>4</th>\n",
       "      <td>5</td>\n",
       "      <td>4.883417</td>\n",
       "      <td>0.116583</td>\n",
       "    </tr>\n",
       "    <tr>\n",
       "      <th>5</th>\n",
       "      <td>5</td>\n",
       "      <td>4.720557</td>\n",
       "      <td>0.279443</td>\n",
       "    </tr>\n",
       "    <tr>\n",
       "      <th>6</th>\n",
       "      <td>5</td>\n",
       "      <td>4.999555</td>\n",
       "      <td>0.000445</td>\n",
       "    </tr>\n",
       "    <tr>\n",
       "      <th>7</th>\n",
       "      <td>4</td>\n",
       "      <td>4.772302</td>\n",
       "      <td>0.772302</td>\n",
       "    </tr>\n",
       "    <tr>\n",
       "      <th>8</th>\n",
       "      <td>4</td>\n",
       "      <td>4.720670</td>\n",
       "      <td>0.720670</td>\n",
       "    </tr>\n",
       "    <tr>\n",
       "      <th>9</th>\n",
       "      <td>5</td>\n",
       "      <td>4.937771</td>\n",
       "      <td>0.062229</td>\n",
       "    </tr>\n",
       "  </tbody>\n",
       "</table>\n",
       "</div>"
      ],
      "text/plain": [
       "   truth      pred      diff\n",
       "0      4  4.667140  0.667140\n",
       "1      5  3.895904  1.104096\n",
       "2      4  4.635739  0.635739\n",
       "3      5  5.001078  0.001078\n",
       "4      5  4.883417  0.116583\n",
       "5      5  4.720557  0.279443\n",
       "6      5  4.999555  0.000445\n",
       "7      4  4.772302  0.772302\n",
       "8      4  4.720670  0.720670\n",
       "9      5  4.937771  0.062229"
      ]
     },
     "execution_count": 119,
     "metadata": {},
     "output_type": "execute_result"
    }
   ],
   "source": [
    "df = pd.DataFrame({'truth': sample_array1.flatten(), 'pred': sample_array2.flatten()})\n",
    "df['diff'] = np.abs(df['truth'] - df['pred'])\n",
    "df"
   ]
  },
  {
   "cell_type": "code",
   "execution_count": null,
   "metadata": {},
   "outputs": [],
   "source": []
  }
 ],
 "metadata": {
  "kernelspec": {
   "display_name": "Python 3",
   "language": "python",
   "name": "python3"
  },
  "language_info": {
   "codemirror_mode": {
    "name": "ipython",
    "version": 3
   },
   "file_extension": ".py",
   "mimetype": "text/x-python",
   "name": "python",
   "nbconvert_exporter": "python",
   "pygments_lexer": "ipython3",
   "version": "3.7.12"
  }
 },
 "nbformat": 4,
 "nbformat_minor": 2
}
