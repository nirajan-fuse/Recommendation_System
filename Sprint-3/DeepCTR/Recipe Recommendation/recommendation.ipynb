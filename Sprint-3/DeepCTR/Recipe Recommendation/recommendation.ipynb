{
 "cells": [
  {
   "cell_type": "code",
   "execution_count": 36,
   "metadata": {},
   "outputs": [],
   "source": [
    "import numpy as np\n",
    "import pandas as pd\n",
    "import tensorflow as tf\n",
    "from tensorflow.keras.preprocessing.sequence import pad_sequences\n",
    "\n",
    "from sklearn.metrics import  mean_squared_error\n",
    "from sklearn.model_selection import train_test_split\n",
    "from sklearn.preprocessing import MinMaxScaler\n",
    "\n",
    "\n",
    "from deepctr.feature_column import SparseFeat, DenseFeat, VarLenSparseFeat, get_feature_names\n",
    "from deepctr.models import DeepFM"
   ]
  },
  {
   "cell_type": "code",
   "execution_count": 2,
   "metadata": {},
   "outputs": [],
   "source": [
    "data = pd.read_csv(\"../data/recipe/merged_data.csv\")"
   ]
  },
  {
   "cell_type": "code",
   "execution_count": 3,
   "metadata": {},
   "outputs": [
    {
     "data": {
      "text/html": [
       "<div>\n",
       "<style scoped>\n",
       "    .dataframe tbody tr th:only-of-type {\n",
       "        vertical-align: middle;\n",
       "    }\n",
       "\n",
       "    .dataframe tbody tr th {\n",
       "        vertical-align: top;\n",
       "    }\n",
       "\n",
       "    .dataframe thead th {\n",
       "        text-align: right;\n",
       "    }\n",
       "</style>\n",
       "<table border=\"1\" class=\"dataframe\">\n",
       "  <thead>\n",
       "    <tr style=\"text-align: right;\">\n",
       "      <th></th>\n",
       "      <th>user_id</th>\n",
       "      <th>recipe_id</th>\n",
       "      <th>rating</th>\n",
       "      <th>name</th>\n",
       "      <th>minutes</th>\n",
       "      <th>tags</th>\n",
       "      <th>nutrition</th>\n",
       "      <th>n_steps</th>\n",
       "      <th>steps</th>\n",
       "      <th>description</th>\n",
       "      <th>ingredients</th>\n",
       "      <th>n_ingredients</th>\n",
       "    </tr>\n",
       "  </thead>\n",
       "  <tbody>\n",
       "    <tr>\n",
       "      <th>0</th>\n",
       "      <td>38094</td>\n",
       "      <td>40893</td>\n",
       "      <td>4</td>\n",
       "      <td>white bean   green chile pepper soup</td>\n",
       "      <td>495</td>\n",
       "      <td>['weeknight', 'time-to-make', 'course', 'main-...</td>\n",
       "      <td>[204.8, 5.0, 9.0, 26.0, 24.0, 2.0, 10.0]</td>\n",
       "      <td>4</td>\n",
       "      <td>['combine beans , onion , chilies , 1 / 2 teas...</td>\n",
       "      <td>easy soup for the crockpot.</td>\n",
       "      <td>['great northern beans', 'yellow onion', 'dice...</td>\n",
       "      <td>9</td>\n",
       "    </tr>\n",
       "    <tr>\n",
       "      <th>1</th>\n",
       "      <td>1293707</td>\n",
       "      <td>40893</td>\n",
       "      <td>5</td>\n",
       "      <td>white bean   green chile pepper soup</td>\n",
       "      <td>495</td>\n",
       "      <td>['weeknight', 'time-to-make', 'course', 'main-...</td>\n",
       "      <td>[204.8, 5.0, 9.0, 26.0, 24.0, 2.0, 10.0]</td>\n",
       "      <td>4</td>\n",
       "      <td>['combine beans , onion , chilies , 1 / 2 teas...</td>\n",
       "      <td>easy soup for the crockpot.</td>\n",
       "      <td>['great northern beans', 'yellow onion', 'dice...</td>\n",
       "      <td>9</td>\n",
       "    </tr>\n",
       "    <tr>\n",
       "      <th>2</th>\n",
       "      <td>8937</td>\n",
       "      <td>44394</td>\n",
       "      <td>4</td>\n",
       "      <td>devilicious cookie cake delights</td>\n",
       "      <td>20</td>\n",
       "      <td>['30-minutes-or-less', 'time-to-make', 'course...</td>\n",
       "      <td>[132.3, 11.0, 39.0, 5.0, 4.0, 11.0, 5.0]</td>\n",
       "      <td>5</td>\n",
       "      <td>['blend together cake mix , oil and eggs', 'ad...</td>\n",
       "      <td>NaN</td>\n",
       "      <td>[\"devil's food cake mix\", 'vegetable oil', 'eg...</td>\n",
       "      <td>4</td>\n",
       "    </tr>\n",
       "  </tbody>\n",
       "</table>\n",
       "</div>"
      ],
      "text/plain": [
       "   user_id  recipe_id  rating                                  name  minutes  \\\n",
       "0    38094      40893       4  white bean   green chile pepper soup      495   \n",
       "1  1293707      40893       5  white bean   green chile pepper soup      495   \n",
       "2     8937      44394       4      devilicious cookie cake delights       20   \n",
       "\n",
       "                                                tags  \\\n",
       "0  ['weeknight', 'time-to-make', 'course', 'main-...   \n",
       "1  ['weeknight', 'time-to-make', 'course', 'main-...   \n",
       "2  ['30-minutes-or-less', 'time-to-make', 'course...   \n",
       "\n",
       "                                  nutrition  n_steps  \\\n",
       "0  [204.8, 5.0, 9.0, 26.0, 24.0, 2.0, 10.0]        4   \n",
       "1  [204.8, 5.0, 9.0, 26.0, 24.0, 2.0, 10.0]        4   \n",
       "2  [132.3, 11.0, 39.0, 5.0, 4.0, 11.0, 5.0]        5   \n",
       "\n",
       "                                               steps  \\\n",
       "0  ['combine beans , onion , chilies , 1 / 2 teas...   \n",
       "1  ['combine beans , onion , chilies , 1 / 2 teas...   \n",
       "2  ['blend together cake mix , oil and eggs', 'ad...   \n",
       "\n",
       "                   description  \\\n",
       "0  easy soup for the crockpot.   \n",
       "1  easy soup for the crockpot.   \n",
       "2                          NaN   \n",
       "\n",
       "                                         ingredients  n_ingredients  \n",
       "0  ['great northern beans', 'yellow onion', 'dice...              9  \n",
       "1  ['great northern beans', 'yellow onion', 'dice...              9  \n",
       "2  [\"devil's food cake mix\", 'vegetable oil', 'eg...              4  "
      ]
     },
     "execution_count": 3,
     "metadata": {},
     "output_type": "execute_result"
    }
   ],
   "source": [
    "data.head(3)"
   ]
  },
  {
   "cell_type": "code",
   "execution_count": 4,
   "metadata": {},
   "outputs": [
    {
     "data": {
      "text/plain": [
       "(1132366, 12)"
      ]
     },
     "execution_count": 4,
     "metadata": {},
     "output_type": "execute_result"
    }
   ],
   "source": [
    "data.shape"
   ]
  },
  {
   "cell_type": "code",
   "execution_count": 5,
   "metadata": {},
   "outputs": [],
   "source": [
    "data = data[data['rating'] != 0]"
   ]
  },
  {
   "cell_type": "code",
   "execution_count": 6,
   "metadata": {},
   "outputs": [
    {
     "data": {
      "text/plain": [
       "user_id              0\n",
       "recipe_id            0\n",
       "rating               0\n",
       "name                 0\n",
       "minutes              0\n",
       "tags                 0\n",
       "nutrition            0\n",
       "n_steps              0\n",
       "steps                0\n",
       "description      22366\n",
       "ingredients          0\n",
       "n_ingredients        0\n",
       "dtype: int64"
      ]
     },
     "execution_count": 6,
     "metadata": {},
     "output_type": "execute_result"
    }
   ],
   "source": [
    "data.isna().sum()"
   ]
  },
  {
   "cell_type": "code",
   "execution_count": 7,
   "metadata": {},
   "outputs": [],
   "source": [
    "data.dropna(inplace=True)"
   ]
  },
  {
   "cell_type": "code",
   "execution_count": 8,
   "metadata": {},
   "outputs": [],
   "source": [
    "data.drop(['steps'], axis=1, inplace=True)"
   ]
  },
  {
   "cell_type": "code",
   "execution_count": 9,
   "metadata": {},
   "outputs": [
    {
     "data": {
      "text/plain": [
       "(1049154, 11)"
      ]
     },
     "execution_count": 9,
     "metadata": {},
     "output_type": "execute_result"
    }
   ],
   "source": [
    "data.shape"
   ]
  },
  {
   "cell_type": "markdown",
   "metadata": {},
   "source": [
    "### Reducing data for memory consumption"
   ]
  },
  {
   "cell_type": "code",
   "execution_count": 10,
   "metadata": {},
   "outputs": [],
   "source": [
    "# Get unique recipe IDs\n",
    "recipe_ids = data['recipe_id'].unique()\n",
    "\n",
    "# Define the percentage of recipes to remove\n",
    "percentage_to_remove = 0.7\n",
    "\n",
    "# Calculate the number of recipes to remove\n",
    "num_recipes_to_remove = int(len(recipe_ids) * percentage_to_remove)\n",
    "\n",
    "# Randomly select recipes to remove\n",
    "recipes_to_remove = np.random.choice(recipe_ids, num_recipes_to_remove, replace=False)\n",
    "\n",
    "# Remove rows with selected recipe IDs\n",
    "data = data[~data['recipe_id'].isin(recipes_to_remove)]"
   ]
  },
  {
   "cell_type": "code",
   "execution_count": 11,
   "metadata": {},
   "outputs": [],
   "source": [
    "sparse_features = ['user_id', 'recipe_id', 'description']\n",
    "dense_features = ['minutes', 'n_steps', 'n_ingredients']\n",
    "varlen_features = ['tags', 'nutrition', 'ingredients']"
   ]
  },
  {
   "cell_type": "code",
   "execution_count": 12,
   "metadata": {},
   "outputs": [],
   "source": [
    "data[sparse_features] = data[sparse_features].astype(str)"
   ]
  },
  {
   "cell_type": "code",
   "execution_count": 13,
   "metadata": {},
   "outputs": [],
   "source": [
    "# Do simple Transformation for dense features\n",
    "mms = MinMaxScaler(feature_range=(0, 1))\n",
    "data[dense_features] = mms.fit_transform(data[dense_features])"
   ]
  },
  {
   "cell_type": "code",
   "execution_count": 27,
   "metadata": {},
   "outputs": [],
   "source": [
    "def pad_varlen(varlen_list, max_len=None):\n",
    "    if not max_len:\n",
    "        length = np.array([len(item) for item in varlen_list]) \n",
    "        max_len = max(length)\n",
    "    return (max_len, pad_sequences(varlen_list, maxlen=max_len, padding='post', dtype=object, value=0).astype(str))"
   ]
  },
  {
   "cell_type": "code",
   "execution_count": 15,
   "metadata": {},
   "outputs": [],
   "source": [
    "import ast\n",
    "\n",
    "def convert_to_list(string):\n",
    "    return ast.literal_eval(string)\n",
    "\n",
    "for feature in varlen_features:\n",
    "    data[feature] = data[feature].apply(convert_to_list)"
   ]
  },
  {
   "cell_type": "code",
   "execution_count": 16,
   "metadata": {},
   "outputs": [],
   "source": [
    "train, test = train_test_split(data, test_size=0.2)"
   ]
  },
  {
   "cell_type": "code",
   "execution_count": 17,
   "metadata": {},
   "outputs": [],
   "source": [
    "(tm, tags_train) = pad_varlen(train['tags'])\n",
    "(nm, nutrition_train) = pad_varlen(train['nutrition'])\n",
    "(im, ingredients_train) = pad_varlen(train['ingredients'])"
   ]
  },
  {
   "cell_type": "code",
   "execution_count": 28,
   "metadata": {},
   "outputs": [],
   "source": [
    "(_, tags_test) = pad_varlen(test['tags'], tm)\n",
    "(_, nutrition_test) = pad_varlen(test['nutrition'], nm)\n",
    "(_, ingredients_test) = pad_varlen(test['ingredients'], im)"
   ]
  },
  {
   "cell_type": "code",
   "execution_count": 19,
   "metadata": {},
   "outputs": [],
   "source": [
    "max_length = [tm, nm, im]"
   ]
  },
  {
   "cell_type": "code",
   "execution_count": 20,
   "metadata": {},
   "outputs": [],
   "source": [
    "# Set hashing space for each sparse field and generate feature config for sequence feature\n",
    "fixlen_feature_columns = [SparseFeat(feat, data[feat].nunique() * 5, embedding_dim=4, use_hash=True, dtype='string')\n",
    "                            for feat in sparse_features]\n",
    "\n",
    "dense_feature_columns = [DenseFeat(feat, 1, ) for feat in dense_features]\n",
    "\n",
    "varlen_feature_columns = [\n",
    "    VarLenSparseFeat(SparseFeat(feat, vocabulary_size=100, embedding_dim=4, use_hash=True, dtype=\"string\"),\n",
    "                        maxlen=max_len, combiner='mean', )\n",
    "                        for max_len, feat in zip(max_length, varlen_features)]\n",
    "\n",
    "linear_feature_columns = fixlen_feature_columns + dense_feature_columns + varlen_feature_columns\n",
    "dnn_feature_columns = fixlen_feature_columns + dense_feature_columns + varlen_feature_columns\n",
    "feature_names = get_feature_names(linear_feature_columns + dnn_feature_columns)"
   ]
  },
  {
   "cell_type": "code",
   "execution_count": 21,
   "metadata": {},
   "outputs": [
    {
     "data": {
      "text/plain": [
       "['user_id',\n",
       " 'recipe_id',\n",
       " 'description',\n",
       " 'minutes',\n",
       " 'n_steps',\n",
       " 'n_ingredients',\n",
       " 'tags',\n",
       " 'nutrition',\n",
       " 'ingredients']"
      ]
     },
     "execution_count": 21,
     "metadata": {},
     "output_type": "execute_result"
    }
   ],
   "source": [
    "feature_names"
   ]
  },
  {
   "cell_type": "code",
   "execution_count": 22,
   "metadata": {},
   "outputs": [],
   "source": [
    "# Generate input data for model\n",
    "train_model_input = {name: train[name] for name in feature_names}\n",
    "test_model_input = {name: test[name] for name in feature_names}\n",
    "\n",
    "train_model_input['tags'] = tags_train\n",
    "train_model_input['nutrition'] = nutrition_train\n",
    "train_model_input['ingredients'] = ingredients_train"
   ]
  },
  {
   "cell_type": "code",
   "execution_count": 29,
   "metadata": {},
   "outputs": [],
   "source": [
    "test_model_input['tags'] = tags_test\n",
    "test_model_input['nutrition'] = nutrition_test\n",
    "test_model_input['ingredients'] = ingredients_test"
   ]
  },
  {
   "cell_type": "code",
   "execution_count": 24,
   "metadata": {},
   "outputs": [
    {
     "name": "stdout",
     "output_type": "stream",
     "text": [
      "Epoch 1/20\n",
      "775/775 - 115s - loss: 1.0987 - mse: 1.0976 - val_loss: 0.4850 - val_mse: 0.4823\n",
      "Epoch 2/20\n",
      "775/775 - 108s - loss: 0.3674 - mse: 0.3631 - val_loss: 0.5125 - val_mse: 0.5066\n",
      "Epoch 3/20\n",
      "775/775 - 117s - loss: 0.2631 - mse: 0.2562 - val_loss: 0.5558 - val_mse: 0.5478\n",
      "Epoch 4/20\n",
      "775/775 - 109s - loss: 0.2136 - mse: 0.2049 - val_loss: 0.5856 - val_mse: 0.5760\n",
      "Epoch 5/20\n",
      "775/775 - 116s - loss: 0.1811 - mse: 0.1711 - val_loss: 0.6134 - val_mse: 0.6027\n",
      "Epoch 6/20\n",
      "775/775 - 109s - loss: 0.1618 - mse: 0.1508 - val_loss: 0.6048 - val_mse: 0.5932\n",
      "Epoch 7/20\n",
      "775/775 - 104s - loss: 0.1452 - mse: 0.1335 - val_loss: 0.6328 - val_mse: 0.6207\n",
      "Epoch 8/20\n",
      "775/775 - 110s - loss: 0.1336 - mse: 0.1215 - val_loss: 0.6419 - val_mse: 0.6293\n",
      "Epoch 9/20\n",
      "775/775 - 118s - loss: 0.1246 - mse: 0.1120 - val_loss: 0.6559 - val_mse: 0.6429\n",
      "Epoch 10/20\n",
      "775/775 - 110s - loss: 0.1170 - mse: 0.1040 - val_loss: 0.6490 - val_mse: 0.6357\n",
      "Epoch 11/20\n",
      "775/775 - 108s - loss: 0.1095 - mse: 0.0962 - val_loss: 0.6380 - val_mse: 0.6244\n",
      "Epoch 12/20\n",
      "775/775 - 110s - loss: 0.1037 - mse: 0.0901 - val_loss: 0.6429 - val_mse: 0.6290\n",
      "Epoch 13/20\n",
      "775/775 - 109s - loss: 0.0986 - mse: 0.0849 - val_loss: 0.6548 - val_mse: 0.6407\n",
      "Epoch 14/20\n",
      "775/775 - 115s - loss: 0.0948 - mse: 0.0808 - val_loss: 0.6537 - val_mse: 0.6395\n",
      "Epoch 15/20\n",
      "775/775 - 102s - loss: 0.0901 - mse: 0.0761 - val_loss: 0.6633 - val_mse: 0.6491\n",
      "Epoch 16/20\n",
      "775/775 - 102s - loss: 0.0866 - mse: 0.0724 - val_loss: 0.6537 - val_mse: 0.6393\n",
      "Epoch 17/20\n",
      "775/775 - 101s - loss: 0.0834 - mse: 0.0691 - val_loss: 0.6560 - val_mse: 0.6415\n",
      "Epoch 18/20\n",
      "775/775 - 110s - loss: 0.0800 - mse: 0.0656 - val_loss: 0.6623 - val_mse: 0.6479\n",
      "Epoch 19/20\n",
      "775/775 - 102s - loss: 0.0768 - mse: 0.0625 - val_loss: 0.6565 - val_mse: 0.6420\n",
      "Epoch 20/20\n",
      "775/775 - 101s - loss: 0.0744 - mse: 0.0600 - val_loss: 0.6711 - val_mse: 0.6566\n"
     ]
    }
   ],
   "source": [
    "# Define Model,compile and train\n",
    "model = DeepFM(linear_feature_columns, dnn_feature_columns, task='regression')\n",
    "\n",
    "model.compile(\"adam\", \"mse\", metrics=['mse'], )\n",
    "history = model.fit(train_model_input, train['rating'].values,\n",
    "                    batch_size=256, epochs=20, verbose=2, validation_split=0.2, )"
   ]
  },
  {
   "cell_type": "code",
   "execution_count": 25,
   "metadata": {},
   "outputs": [
    {
     "data": {
      "image/png": "[encoded data removed]",
      "text/plain": [
       "<Figure size 1000x600 with 1 Axes>"
      ]
     },
     "metadata": {},
     "output_type": "display_data"
    }
   ],
   "source": [
    "import matplotlib.pyplot as plt\n",
    "\n",
    "train_loss = history.history['loss']\n",
    "val_loss = history.history['val_loss']\n",
    "\n",
    "plt.figure(figsize=(10, 6))\n",
    "plt.plot(train_loss, label='Training Loss', marker='o')\n",
    "plt.plot(val_loss, label='Validation Loss', marker='x')\n",
    "\n",
    "plt.title(\"Training vs Validation Loss\", fontsize=16)\n",
    "plt.xlabel(\"Epoch\", fontsize=14)\n",
    "plt.ylabel(\"Loss\", fontsize=14)\n",
    "plt.legend(fontsize=12)\n",
    "plt.grid(True)\n",
    "\n",
    "plt.show()"
   ]
  },
  {
   "cell_type": "code",
   "execution_count": 35,
   "metadata": {},
   "outputs": [],
   "source": [
    "# Predict\n",
    "pred_ans = model.predict(test_model_input, batch_size=256)"
   ]
  },
  {
   "cell_type": "code",
   "execution_count": 37,
   "metadata": {},
   "outputs": [
    {
     "name": "stdout",
     "output_type": "stream",
     "text": [
      "Test MSE: 0.641\n"
     ]
    }
   ],
   "source": [
    "# Evaluate Model\n",
    "mse_value = mean_squared_error(test['rating'].values, pred_ans)\n",
    "print(\"Test MSE:\", round(mse_value, 4))"
   ]
  },
  {
   "cell_type": "code",
   "execution_count": null,
   "metadata": {},
   "outputs": [],
   "source": []
  }
 ],
 "metadata": {
  "kernelspec": {
   "display_name": "Python 3",
   "language": "python",
   "name": "python3"
  },
  "language_info": {
   "codemirror_mode": {
    "name": "ipython",
    "version": 3
   },
   "file_extension": ".py",
   "mimetype": "text/x-python",
   "name": "python",
   "nbconvert_exporter": "python",
   "pygments_lexer": "ipython3",
   "version": "3.7.12"
  }
 },
 "nbformat": 4,
 "nbformat_minor": 2
}
