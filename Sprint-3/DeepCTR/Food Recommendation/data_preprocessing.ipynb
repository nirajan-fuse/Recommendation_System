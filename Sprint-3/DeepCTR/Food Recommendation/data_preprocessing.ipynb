{
 "cells": [
  {
   "cell_type": "code",
   "execution_count": 1,
   "metadata": {},
   "outputs": [],
   "source": [
    "import numpy as np\n",
    "import pandas as pd\n",
    "import matplotlib.pyplot as plt\n",
    "import seaborn as sns"
   ]
  },
  {
   "cell_type": "markdown",
   "metadata": {},
   "source": [
    "### User Recipe"
   ]
  },
  {
   "cell_type": "code",
   "execution_count": 2,
   "metadata": {},
   "outputs": [
    {
     "data": {
      "text/html": [
       "<div>\n",
       "<style scoped>\n",
       "    .dataframe tbody tr th:only-of-type {\n",
       "        vertical-align: middle;\n",
       "    }\n",
       "\n",
       "    .dataframe tbody tr th {\n",
       "        vertical-align: top;\n",
       "    }\n",
       "\n",
       "    .dataframe thead th {\n",
       "        text-align: right;\n",
       "    }\n",
       "</style>\n",
       "<table border=\"1\" class=\"dataframe\">\n",
       "  <thead>\n",
       "    <tr style=\"text-align: right;\">\n",
       "      <th></th>\n",
       "      <th>user_id</th>\n",
       "      <th>recipe_id</th>\n",
       "      <th>rating</th>\n",
       "      <th>dateLastModified</th>\n",
       "    </tr>\n",
       "  </thead>\n",
       "  <tbody>\n",
       "    <tr>\n",
       "      <th>0</th>\n",
       "      <td>39</td>\n",
       "      <td>61727</td>\n",
       "      <td>4</td>\n",
       "      <td>2001-03-26T07:36:16.653\\n</td>\n",
       "    </tr>\n",
       "    <tr>\n",
       "      <th>1</th>\n",
       "      <td>39</td>\n",
       "      <td>7612</td>\n",
       "      <td>5</td>\n",
       "      <td>2004-08-02T16:48:37.107\\n</td>\n",
       "    </tr>\n",
       "    <tr>\n",
       "      <th>2</th>\n",
       "      <td>39</td>\n",
       "      <td>12009</td>\n",
       "      <td>4</td>\n",
       "      <td>2001-02-28T10:37:25.59\\n</td>\n",
       "    </tr>\n",
       "    <tr>\n",
       "      <th>3</th>\n",
       "      <td>39</td>\n",
       "      <td>88185</td>\n",
       "      <td>5</td>\n",
       "      <td>2009-05-18T14:55:11.517\\n</td>\n",
       "    </tr>\n",
       "    <tr>\n",
       "      <th>4</th>\n",
       "      <td>39</td>\n",
       "      <td>24445</td>\n",
       "      <td>5</td>\n",
       "      <td>2015-05-07T15:42:20.32\\n</td>\n",
       "    </tr>\n",
       "  </tbody>\n",
       "</table>\n",
       "</div>"
      ],
      "text/plain": [
       "   user_id  recipe_id  rating           dateLastModified\n",
       "0       39      61727       4  2001-03-26T07:36:16.653\\n\n",
       "1       39       7612       5  2004-08-02T16:48:37.107\\n\n",
       "2       39      12009       4   2001-02-28T10:37:25.59\\n\n",
       "3       39      88185       5  2009-05-18T14:55:11.517\\n\n",
       "4       39      24445       5   2015-05-07T15:42:20.32\\n"
      ]
     },
     "execution_count": 2,
     "metadata": {},
     "output_type": "execute_result"
    }
   ],
   "source": [
    "user_recipe = pd.read_csv(\"../data/food/user_recipe.csv\")\n",
    "user_recipe.head()"
   ]
  },
  {
   "cell_type": "code",
   "execution_count": 3,
   "metadata": {},
   "outputs": [
    {
     "name": "stdout",
     "output_type": "stream",
     "text": [
      "<class 'pandas.core.frame.DataFrame'>\n",
      "RangeIndex: 151148 entries, 0 to 151147\n",
      "Data columns (total 4 columns):\n",
      " #   Column            Non-Null Count   Dtype \n",
      "---  ------            --------------   ----- \n",
      " 0   user_id           151148 non-null  int64 \n",
      " 1   recipe_id         151148 non-null  int64 \n",
      " 2   rating            151148 non-null  int64 \n",
      " 3   dateLastModified  151148 non-null  object\n",
      "dtypes: int64(3), object(1)\n",
      "memory usage: 4.6+ MB\n"
     ]
    }
   ],
   "source": [
    "user_recipe.info()"
   ]
  },
  {
   "cell_type": "code",
   "execution_count": 4,
   "metadata": {},
   "outputs": [
    {
     "data": {
      "image/png": "[encoded data removed]",
      "text/plain": [
       "<Figure size 600x400 with 1 Axes>"
      ]
     },
     "metadata": {},
     "output_type": "display_data"
    }
   ],
   "source": [
    "ax = user_recipe['rating'].value_counts().plot(kind='bar', color='skyblue', edgecolor='black', figsize=(6,4))\n",
    "\n",
    "ax.set_title(\"Rating Distribution\", fontsize=16, fontweight='bold')\n",
    "ax.set_xlabel(\"Rating\", fontsize=14)\n",
    "ax.set_ylabel(\"Count\", fontsize=14)\n",
    "\n",
    "ax.set_xticklabels(ax.get_xticklabels(), rotation=0, ha='center')\n",
    "\n",
    "plt.show()"
   ]
  },
  {
   "cell_type": "code",
   "execution_count": 5,
   "metadata": {},
   "outputs": [],
   "source": [
    "user_recipe['datetime'] = pd.to_datetime(user_recipe['dateLastModified'])"
   ]
  },
  {
   "cell_type": "code",
   "execution_count": 6,
   "metadata": {},
   "outputs": [
    {
     "data": {
      "text/html": [
       "<div>\n",
       "<style scoped>\n",
       "    .dataframe tbody tr th:only-of-type {\n",
       "        vertical-align: middle;\n",
       "    }\n",
       "\n",
       "    .dataframe tbody tr th {\n",
       "        vertical-align: top;\n",
       "    }\n",
       "\n",
       "    .dataframe thead th {\n",
       "        text-align: right;\n",
       "    }\n",
       "</style>\n",
       "<table border=\"1\" class=\"dataframe\">\n",
       "  <thead>\n",
       "    <tr style=\"text-align: right;\">\n",
       "      <th></th>\n",
       "      <th>user_id</th>\n",
       "      <th>recipe_id</th>\n",
       "      <th>rating</th>\n",
       "      <th>dateLastModified</th>\n",
       "      <th>datetime</th>\n",
       "    </tr>\n",
       "  </thead>\n",
       "  <tbody>\n",
       "    <tr>\n",
       "      <th>0</th>\n",
       "      <td>39</td>\n",
       "      <td>61727</td>\n",
       "      <td>4</td>\n",
       "      <td>2001-03-26T07:36:16.653\\n</td>\n",
       "      <td>2001-03-26 07:36:16.653</td>\n",
       "    </tr>\n",
       "    <tr>\n",
       "      <th>1</th>\n",
       "      <td>39</td>\n",
       "      <td>7612</td>\n",
       "      <td>5</td>\n",
       "      <td>2004-08-02T16:48:37.107\\n</td>\n",
       "      <td>2004-08-02 16:48:37.107</td>\n",
       "    </tr>\n",
       "  </tbody>\n",
       "</table>\n",
       "</div>"
      ],
      "text/plain": [
       "   user_id  recipe_id  rating           dateLastModified  \\\n",
       "0       39      61727       4  2001-03-26T07:36:16.653\\n   \n",
       "1       39       7612       5  2004-08-02T16:48:37.107\\n   \n",
       "\n",
       "                 datetime  \n",
       "0 2001-03-26 07:36:16.653  \n",
       "1 2004-08-02 16:48:37.107  "
      ]
     },
     "execution_count": 6,
     "metadata": {},
     "output_type": "execute_result"
    }
   ],
   "source": [
    "user_recipe.head(2)"
   ]
  },
  {
   "cell_type": "code",
   "execution_count": 7,
   "metadata": {},
   "outputs": [],
   "source": [
    "user_recipe['year'] = user_recipe['datetime'].dt.year\n",
    "user_recipe['month'] = user_recipe['datetime'].dt.month\n",
    "user_recipe['day'] = user_recipe['datetime'].dt.day\n",
    "user_recipe['hour'] = user_recipe['datetime'].dt.hour"
   ]
  },
  {
   "cell_type": "code",
   "execution_count": 8,
   "metadata": {},
   "outputs": [
    {
     "data": {
      "text/html": [
       "<div>\n",
       "<style scoped>\n",
       "    .dataframe tbody tr th:only-of-type {\n",
       "        vertical-align: middle;\n",
       "    }\n",
       "\n",
       "    .dataframe tbody tr th {\n",
       "        vertical-align: top;\n",
       "    }\n",
       "\n",
       "    .dataframe thead th {\n",
       "        text-align: right;\n",
       "    }\n",
       "</style>\n",
       "<table border=\"1\" class=\"dataframe\">\n",
       "  <thead>\n",
       "    <tr style=\"text-align: right;\">\n",
       "      <th></th>\n",
       "      <th>user_id</th>\n",
       "      <th>recipe_id</th>\n",
       "      <th>rating</th>\n",
       "      <th>dateLastModified</th>\n",
       "      <th>datetime</th>\n",
       "      <th>year</th>\n",
       "      <th>month</th>\n",
       "      <th>day</th>\n",
       "      <th>hour</th>\n",
       "    </tr>\n",
       "  </thead>\n",
       "  <tbody>\n",
       "    <tr>\n",
       "      <th>0</th>\n",
       "      <td>39</td>\n",
       "      <td>61727</td>\n",
       "      <td>4</td>\n",
       "      <td>2001-03-26T07:36:16.653\\n</td>\n",
       "      <td>2001-03-26 07:36:16.653</td>\n",
       "      <td>2001</td>\n",
       "      <td>3</td>\n",
       "      <td>26</td>\n",
       "      <td>7</td>\n",
       "    </tr>\n",
       "    <tr>\n",
       "      <th>1</th>\n",
       "      <td>39</td>\n",
       "      <td>7612</td>\n",
       "      <td>5</td>\n",
       "      <td>2004-08-02T16:48:37.107\\n</td>\n",
       "      <td>2004-08-02 16:48:37.107</td>\n",
       "      <td>2004</td>\n",
       "      <td>8</td>\n",
       "      <td>2</td>\n",
       "      <td>16</td>\n",
       "    </tr>\n",
       "    <tr>\n",
       "      <th>2</th>\n",
       "      <td>39</td>\n",
       "      <td>12009</td>\n",
       "      <td>4</td>\n",
       "      <td>2001-02-28T10:37:25.59\\n</td>\n",
       "      <td>2001-02-28 10:37:25.590</td>\n",
       "      <td>2001</td>\n",
       "      <td>2</td>\n",
       "      <td>28</td>\n",
       "      <td>10</td>\n",
       "    </tr>\n",
       "  </tbody>\n",
       "</table>\n",
       "</div>"
      ],
      "text/plain": [
       "   user_id  recipe_id  rating           dateLastModified  \\\n",
       "0       39      61727       4  2001-03-26T07:36:16.653\\n   \n",
       "1       39       7612       5  2004-08-02T16:48:37.107\\n   \n",
       "2       39      12009       4   2001-02-28T10:37:25.59\\n   \n",
       "\n",
       "                 datetime  year  month  day  hour  \n",
       "0 2001-03-26 07:36:16.653  2001      3   26     7  \n",
       "1 2004-08-02 16:48:37.107  2004      8    2    16  \n",
       "2 2001-02-28 10:37:25.590  2001      2   28    10  "
      ]
     },
     "execution_count": 8,
     "metadata": {},
     "output_type": "execute_result"
    }
   ],
   "source": [
    "user_recipe.head(3)"
   ]
  },
  {
   "cell_type": "code",
   "execution_count": 9,
   "metadata": {},
   "outputs": [],
   "source": [
    "user_recipe.drop(['dateLastModified', 'datetime'], axis=1, inplace=True)"
   ]
  },
  {
   "cell_type": "code",
   "execution_count": 10,
   "metadata": {},
   "outputs": [
    {
     "data": {
      "text/html": [
       "<div>\n",
       "<style scoped>\n",
       "    .dataframe tbody tr th:only-of-type {\n",
       "        vertical-align: middle;\n",
       "    }\n",
       "\n",
       "    .dataframe tbody tr th {\n",
       "        vertical-align: top;\n",
       "    }\n",
       "\n",
       "    .dataframe thead th {\n",
       "        text-align: right;\n",
       "    }\n",
       "</style>\n",
       "<table border=\"1\" class=\"dataframe\">\n",
       "  <thead>\n",
       "    <tr style=\"text-align: right;\">\n",
       "      <th></th>\n",
       "      <th>user_id</th>\n",
       "      <th>recipe_id</th>\n",
       "      <th>rating</th>\n",
       "      <th>year</th>\n",
       "      <th>month</th>\n",
       "      <th>day</th>\n",
       "      <th>hour</th>\n",
       "    </tr>\n",
       "  </thead>\n",
       "  <tbody>\n",
       "    <tr>\n",
       "      <th>0</th>\n",
       "      <td>39</td>\n",
       "      <td>61727</td>\n",
       "      <td>4</td>\n",
       "      <td>2001</td>\n",
       "      <td>3</td>\n",
       "      <td>26</td>\n",
       "      <td>7</td>\n",
       "    </tr>\n",
       "    <tr>\n",
       "      <th>1</th>\n",
       "      <td>39</td>\n",
       "      <td>7612</td>\n",
       "      <td>5</td>\n",
       "      <td>2004</td>\n",
       "      <td>8</td>\n",
       "      <td>2</td>\n",
       "      <td>16</td>\n",
       "    </tr>\n",
       "    <tr>\n",
       "      <th>2</th>\n",
       "      <td>39</td>\n",
       "      <td>12009</td>\n",
       "      <td>4</td>\n",
       "      <td>2001</td>\n",
       "      <td>2</td>\n",
       "      <td>28</td>\n",
       "      <td>10</td>\n",
       "    </tr>\n",
       "    <tr>\n",
       "      <th>3</th>\n",
       "      <td>39</td>\n",
       "      <td>88185</td>\n",
       "      <td>5</td>\n",
       "      <td>2009</td>\n",
       "      <td>5</td>\n",
       "      <td>18</td>\n",
       "      <td>14</td>\n",
       "    </tr>\n",
       "    <tr>\n",
       "      <th>4</th>\n",
       "      <td>39</td>\n",
       "      <td>24445</td>\n",
       "      <td>5</td>\n",
       "      <td>2015</td>\n",
       "      <td>5</td>\n",
       "      <td>7</td>\n",
       "      <td>15</td>\n",
       "    </tr>\n",
       "  </tbody>\n",
       "</table>\n",
       "</div>"
      ],
      "text/plain": [
       "   user_id  recipe_id  rating  year  month  day  hour\n",
       "0       39      61727       4  2001      3   26     7\n",
       "1       39       7612       5  2004      8    2    16\n",
       "2       39      12009       4  2001      2   28    10\n",
       "3       39      88185       5  2009      5   18    14\n",
       "4       39      24445       5  2015      5    7    15"
      ]
     },
     "execution_count": 10,
     "metadata": {},
     "output_type": "execute_result"
    }
   ],
   "source": [
    "user_recipe.head()"
   ]
  },
  {
   "cell_type": "code",
   "execution_count": 11,
   "metadata": {},
   "outputs": [
    {
     "name": "stdout",
     "output_type": "stream",
     "text": [
      "<class 'pandas.core.frame.DataFrame'>\n",
      "RangeIndex: 151148 entries, 0 to 151147\n",
      "Data columns (total 7 columns):\n",
      " #   Column     Non-Null Count   Dtype\n",
      "---  ------     --------------   -----\n",
      " 0   user_id    151148 non-null  int64\n",
      " 1   recipe_id  151148 non-null  int64\n",
      " 2   rating     151148 non-null  int64\n",
      " 3   year       151148 non-null  int64\n",
      " 4   month      151148 non-null  int64\n",
      " 5   day        151148 non-null  int64\n",
      " 6   hour       151148 non-null  int64\n",
      "dtypes: int64(7)\n",
      "memory usage: 8.1 MB\n"
     ]
    }
   ],
   "source": [
    "user_recipe.info()"
   ]
  },
  {
   "cell_type": "markdown",
   "metadata": {},
   "source": [
    "### Recipe"
   ]
  },
  {
   "cell_type": "code",
   "execution_count": 12,
   "metadata": {},
   "outputs": [
    {
     "data": {
      "text/html": [
       "<div>\n",
       "<style scoped>\n",
       "    .dataframe tbody tr th:only-of-type {\n",
       "        vertical-align: middle;\n",
       "    }\n",
       "\n",
       "    .dataframe tbody tr th {\n",
       "        vertical-align: top;\n",
       "    }\n",
       "\n",
       "    .dataframe thead th {\n",
       "        text-align: right;\n",
       "    }\n",
       "</style>\n",
       "<table border=\"1\" class=\"dataframe\">\n",
       "  <thead>\n",
       "    <tr style=\"text-align: right;\">\n",
       "      <th></th>\n",
       "      <th>recipe_id</th>\n",
       "      <th>recipe_name</th>\n",
       "      <th>review_nums</th>\n",
       "      <th>category</th>\n",
       "      <th>aver_rate</th>\n",
       "      <th>image_url</th>\n",
       "      <th>ingredients</th>\n",
       "      <th>cooking_directions</th>\n",
       "      <th>nutritions</th>\n",
       "      <th>reviews</th>\n",
       "      <th>tags</th>\n",
       "    </tr>\n",
       "  </thead>\n",
       "  <tbody>\n",
       "    <tr>\n",
       "      <th>0</th>\n",
       "      <td>6698</td>\n",
       "      <td>Mom's Zucchini Bread</td>\n",
       "      <td>9355</td>\n",
       "      <td>appetizer</td>\n",
       "      <td>4.754207</td>\n",
       "      <td>https://images.media-allrecipes.com/userphotos...</td>\n",
       "      <td>all-purpose flour^salt^baking soda^baking powd...</td>\n",
       "      <td>{'directions': u'Prep\\n20 m\\nCook\\n1 h\\nReady ...</td>\n",
       "      <td>{u'niacin': {u'hasCompleteData': True, u'name'...</td>\n",
       "      <td>{9568256: {'rating': 5, 'followersCount': 0, '...</td>\n",
       "      <td>north-american;breads;easy;beginner-cook;inexp...</td>\n",
       "    </tr>\n",
       "    <tr>\n",
       "      <th>1</th>\n",
       "      <td>6709</td>\n",
       "      <td>Zucchini Walnut Bread</td>\n",
       "      <td>58</td>\n",
       "      <td>appetizer</td>\n",
       "      <td>4.478873</td>\n",
       "      <td>http://images.media-allrecipes.com/userphotos/...</td>\n",
       "      <td>chopped walnuts^eggs^white sugar^vegetable oil...</td>\n",
       "      <td>{'directions': u'Whisk together flour, baking ...</td>\n",
       "      <td>{u'niacin': {u'hasCompleteData': True, u'name'...</td>\n",
       "      <td>{1636096: {'rating': 4, 'followersCount': 0, '...</td>\n",
       "      <td>weeknight;breads;fruit;vegetables;kid-friendly...</td>\n",
       "    </tr>\n",
       "    <tr>\n",
       "      <th>2</th>\n",
       "      <td>6725</td>\n",
       "      <td>Honey Wheat Bread I</td>\n",
       "      <td>2054</td>\n",
       "      <td>appetizer</td>\n",
       "      <td>4.766846</td>\n",
       "      <td>http://images.media-allrecipes.com/userphotos/...</td>\n",
       "      <td>rapid rise yeast^white sugar^warm water (110 d...</td>\n",
       "      <td>{'directions': u'Prep\\n25 m\\nCook\\n35 m\\nReady...</td>\n",
       "      <td>{u'niacin': {u'hasCompleteData': True, u'name'...</td>\n",
       "      <td>{1542146: {'rating': 4, 'followersCount': 56, ...</td>\n",
       "      <td>healthy;breads;dietary;low-cholesterol;healthy...</td>\n",
       "    </tr>\n",
       "    <tr>\n",
       "      <th>3</th>\n",
       "      <td>6730</td>\n",
       "      <td>Chocolate Chip Orange Zucchini Bread</td>\n",
       "      <td>503</td>\n",
       "      <td>dessert</td>\n",
       "      <td>4.674833</td>\n",
       "      <td>https://images.media-allrecipes.com/userphotos...</td>\n",
       "      <td>eggs^white sugar^vegetable oil^vanilla extract...</td>\n",
       "      <td>{'directions': u'Sift together flour, baking p...</td>\n",
       "      <td>{u'niacin': {u'hasCompleteData': True, u'name'...</td>\n",
       "      <td>{1978376: {'rating': 5, 'followersCount': 0, '...</td>\n",
       "      <td>for-large-groups;healthy;breads;kid-friendly;d...</td>\n",
       "    </tr>\n",
       "    <tr>\n",
       "      <th>4</th>\n",
       "      <td>6732</td>\n",
       "      <td>Chocolate Chip Pumpkin Bread</td>\n",
       "      <td>866</td>\n",
       "      <td>dessert</td>\n",
       "      <td>4.718112</td>\n",
       "      <td>https://images.media-allrecipes.com/userphotos...</td>\n",
       "      <td>white sugar^pumpkin puree^vegetable oil^water^...</td>\n",
       "      <td>{'directions': u'Prep\\n30 m\\nCook\\n1 h\\nReady ...</td>\n",
       "      <td>{u'niacin': {u'hasCompleteData': True, u'name'...</td>\n",
       "      <td>{1830917: {'rating': 3, 'followersCount': 0, '...</td>\n",
       "      <td>breads;fall;winter;seasonal;quick-breads;4-hou...</td>\n",
       "    </tr>\n",
       "  </tbody>\n",
       "</table>\n",
       "</div>"
      ],
      "text/plain": [
       "   recipe_id                           recipe_name  review_nums   category  \\\n",
       "0       6698                  Mom's Zucchini Bread         9355  appetizer   \n",
       "1       6709                 Zucchini Walnut Bread           58  appetizer   \n",
       "2       6725                   Honey Wheat Bread I         2054  appetizer   \n",
       "3       6730  Chocolate Chip Orange Zucchini Bread          503    dessert   \n",
       "4       6732          Chocolate Chip Pumpkin Bread          866    dessert   \n",
       "\n",
       "   aver_rate                                          image_url  \\\n",
       "0   4.754207  https://images.media-allrecipes.com/userphotos...   \n",
       "1   4.478873  http://images.media-allrecipes.com/userphotos/...   \n",
       "2   4.766846  http://images.media-allrecipes.com/userphotos/...   \n",
       "3   4.674833  https://images.media-allrecipes.com/userphotos...   \n",
       "4   4.718112  https://images.media-allrecipes.com/userphotos...   \n",
       "\n",
       "                                         ingredients  \\\n",
       "0  all-purpose flour^salt^baking soda^baking powd...   \n",
       "1  chopped walnuts^eggs^white sugar^vegetable oil...   \n",
       "2  rapid rise yeast^white sugar^warm water (110 d...   \n",
       "3  eggs^white sugar^vegetable oil^vanilla extract...   \n",
       "4  white sugar^pumpkin puree^vegetable oil^water^...   \n",
       "\n",
       "                                  cooking_directions  \\\n",
       "0  {'directions': u'Prep\\n20 m\\nCook\\n1 h\\nReady ...   \n",
       "1  {'directions': u'Whisk together flour, baking ...   \n",
       "2  {'directions': u'Prep\\n25 m\\nCook\\n35 m\\nReady...   \n",
       "3  {'directions': u'Sift together flour, baking p...   \n",
       "4  {'directions': u'Prep\\n30 m\\nCook\\n1 h\\nReady ...   \n",
       "\n",
       "                                          nutritions  \\\n",
       "0  {u'niacin': {u'hasCompleteData': True, u'name'...   \n",
       "1  {u'niacin': {u'hasCompleteData': True, u'name'...   \n",
       "2  {u'niacin': {u'hasCompleteData': True, u'name'...   \n",
       "3  {u'niacin': {u'hasCompleteData': True, u'name'...   \n",
       "4  {u'niacin': {u'hasCompleteData': True, u'name'...   \n",
       "\n",
       "                                             reviews  \\\n",
       "0  {9568256: {'rating': 5, 'followersCount': 0, '...   \n",
       "1  {1636096: {'rating': 4, 'followersCount': 0, '...   \n",
       "2  {1542146: {'rating': 4, 'followersCount': 56, ...   \n",
       "3  {1978376: {'rating': 5, 'followersCount': 0, '...   \n",
       "4  {1830917: {'rating': 3, 'followersCount': 0, '...   \n",
       "\n",
       "                                                tags  \n",
       "0  north-american;breads;easy;beginner-cook;inexp...  \n",
       "1  weeknight;breads;fruit;vegetables;kid-friendly...  \n",
       "2  healthy;breads;dietary;low-cholesterol;healthy...  \n",
       "3  for-large-groups;healthy;breads;kid-friendly;d...  \n",
       "4  breads;fall;winter;seasonal;quick-breads;4-hou...  "
      ]
     },
     "execution_count": 12,
     "metadata": {},
     "output_type": "execute_result"
    }
   ],
   "source": [
    "recipe = pd.read_csv(\"../data/food/recipe.csv\")\n",
    "recipe.head()"
   ]
  },
  {
   "cell_type": "code",
   "execution_count": 13,
   "metadata": {},
   "outputs": [
    {
     "name": "stdout",
     "output_type": "stream",
     "text": [
      "<class 'pandas.core.frame.DataFrame'>\n",
      "RangeIndex: 7280 entries, 0 to 7279\n",
      "Data columns (total 11 columns):\n",
      " #   Column              Non-Null Count  Dtype  \n",
      "---  ------              --------------  -----  \n",
      " 0   recipe_id           7280 non-null   int64  \n",
      " 1   recipe_name         7280 non-null   object \n",
      " 2   review_nums         7280 non-null   int64  \n",
      " 3   category            7280 non-null   object \n",
      " 4   aver_rate           7280 non-null   float64\n",
      " 5   image_url           7280 non-null   object \n",
      " 6   ingredients         7280 non-null   object \n",
      " 7   cooking_directions  7280 non-null   object \n",
      " 8   nutritions          7280 non-null   object \n",
      " 9   reviews             7280 non-null   object \n",
      " 10  tags                7278 non-null   object \n",
      "dtypes: float64(1), int64(2), object(8)\n",
      "memory usage: 625.8+ KB\n"
     ]
    }
   ],
   "source": [
    "recipe.info()"
   ]
  },
  {
   "cell_type": "code",
   "execution_count": 14,
   "metadata": {},
   "outputs": [],
   "source": [
    "# Dropping some columns\n",
    "columns_to_drop = ['review_nums', 'image_url', 'reviews']\n",
    "\n",
    "recipe.drop(columns_to_drop, axis=1, inplace=True)"
   ]
  },
  {
   "cell_type": "code",
   "execution_count": 15,
   "metadata": {},
   "outputs": [
    {
     "data": {
      "text/html": [
       "<div>\n",
       "<style scoped>\n",
       "    .dataframe tbody tr th:only-of-type {\n",
       "        vertical-align: middle;\n",
       "    }\n",
       "\n",
       "    .dataframe tbody tr th {\n",
       "        vertical-align: top;\n",
       "    }\n",
       "\n",
       "    .dataframe thead th {\n",
       "        text-align: right;\n",
       "    }\n",
       "</style>\n",
       "<table border=\"1\" class=\"dataframe\">\n",
       "  <thead>\n",
       "    <tr style=\"text-align: right;\">\n",
       "      <th></th>\n",
       "      <th>recipe_id</th>\n",
       "      <th>recipe_name</th>\n",
       "      <th>category</th>\n",
       "      <th>aver_rate</th>\n",
       "      <th>ingredients</th>\n",
       "      <th>cooking_directions</th>\n",
       "      <th>nutritions</th>\n",
       "      <th>tags</th>\n",
       "    </tr>\n",
       "  </thead>\n",
       "  <tbody>\n",
       "    <tr>\n",
       "      <th>0</th>\n",
       "      <td>6698</td>\n",
       "      <td>Mom's Zucchini Bread</td>\n",
       "      <td>appetizer</td>\n",
       "      <td>4.754207</td>\n",
       "      <td>all-purpose flour^salt^baking soda^baking powd...</td>\n",
       "      <td>{'directions': u'Prep\\n20 m\\nCook\\n1 h\\nReady ...</td>\n",
       "      <td>{u'niacin': {u'hasCompleteData': True, u'name'...</td>\n",
       "      <td>north-american;breads;easy;beginner-cook;inexp...</td>\n",
       "    </tr>\n",
       "    <tr>\n",
       "      <th>1</th>\n",
       "      <td>6709</td>\n",
       "      <td>Zucchini Walnut Bread</td>\n",
       "      <td>appetizer</td>\n",
       "      <td>4.478873</td>\n",
       "      <td>chopped walnuts^eggs^white sugar^vegetable oil...</td>\n",
       "      <td>{'directions': u'Whisk together flour, baking ...</td>\n",
       "      <td>{u'niacin': {u'hasCompleteData': True, u'name'...</td>\n",
       "      <td>weeknight;breads;fruit;vegetables;kid-friendly...</td>\n",
       "    </tr>\n",
       "  </tbody>\n",
       "</table>\n",
       "</div>"
      ],
      "text/plain": [
       "   recipe_id            recipe_name   category  aver_rate  \\\n",
       "0       6698   Mom's Zucchini Bread  appetizer   4.754207   \n",
       "1       6709  Zucchini Walnut Bread  appetizer   4.478873   \n",
       "\n",
       "                                         ingredients  \\\n",
       "0  all-purpose flour^salt^baking soda^baking powd...   \n",
       "1  chopped walnuts^eggs^white sugar^vegetable oil...   \n",
       "\n",
       "                                  cooking_directions  \\\n",
       "0  {'directions': u'Prep\\n20 m\\nCook\\n1 h\\nReady ...   \n",
       "1  {'directions': u'Whisk together flour, baking ...   \n",
       "\n",
       "                                          nutritions  \\\n",
       "0  {u'niacin': {u'hasCompleteData': True, u'name'...   \n",
       "1  {u'niacin': {u'hasCompleteData': True, u'name'...   \n",
       "\n",
       "                                                tags  \n",
       "0  north-american;breads;easy;beginner-cook;inexp...  \n",
       "1  weeknight;breads;fruit;vegetables;kid-friendly...  "
      ]
     },
     "execution_count": 15,
     "metadata": {},
     "output_type": "execute_result"
    }
   ],
   "source": [
    "recipe.head(2)"
   ]
  },
  {
   "cell_type": "code",
   "execution_count": 16,
   "metadata": {},
   "outputs": [
    {
     "name": "stdout",
     "output_type": "stream",
     "text": [
      "<class 'pandas.core.frame.DataFrame'>\n",
      "RangeIndex: 7280 entries, 0 to 7279\n",
      "Data columns (total 8 columns):\n",
      " #   Column              Non-Null Count  Dtype  \n",
      "---  ------              --------------  -----  \n",
      " 0   recipe_id           7280 non-null   int64  \n",
      " 1   recipe_name         7280 non-null   object \n",
      " 2   category            7280 non-null   object \n",
      " 3   aver_rate           7280 non-null   float64\n",
      " 4   ingredients         7280 non-null   object \n",
      " 5   cooking_directions  7280 non-null   object \n",
      " 6   nutritions          7280 non-null   object \n",
      " 7   tags                7278 non-null   object \n",
      "dtypes: float64(1), int64(1), object(6)\n",
      "memory usage: 455.1+ KB\n"
     ]
    }
   ],
   "source": [
    "recipe.info()"
   ]
  },
  {
   "cell_type": "markdown",
   "metadata": {},
   "source": [
    "**Category**"
   ]
  },
  {
   "cell_type": "code",
   "execution_count": 17,
   "metadata": {},
   "outputs": [
    {
     "data": {
      "image/png": "[encoded data removed]",
      "text/plain": [
       "<Figure size 600x400 with 1 Axes>"
      ]
     },
     "metadata": {},
     "output_type": "display_data"
    }
   ],
   "source": [
    "ax = recipe['category'].value_counts().plot(kind='bar', color='skyblue', edgecolor='black', figsize=(6,4))\n",
    "\n",
    "ax.set_title(\"Category Distribution\", fontsize=16, fontweight='bold')\n",
    "ax.set_xlabel(\"Category\", fontsize=14)\n",
    "ax.set_ylabel(\"Count\", fontsize=14)\n",
    "\n",
    "ax.set_xticklabels(ax.get_xticklabels(), rotation=0, ha='center')\n",
    "\n",
    "plt.show()"
   ]
  },
  {
   "cell_type": "markdown",
   "metadata": {},
   "source": [
    "**Ingredients**"
   ]
  },
  {
   "cell_type": "code",
   "execution_count": 18,
   "metadata": {},
   "outputs": [
    {
     "data": {
      "text/plain": [
       "'all-purpose flour^salt^baking soda^baking powder^ground cinnamon^eggs^vegetable oil^white sugar^vanilla extract^grated zucchini^chopped walnuts'"
      ]
     },
     "execution_count": 18,
     "metadata": {},
     "output_type": "execute_result"
    }
   ],
   "source": [
    "ingredient_sample = recipe['ingredients'][0]\n",
    "ingredient_sample"
   ]
  },
  {
   "cell_type": "code",
   "execution_count": 19,
   "metadata": {},
   "outputs": [
    {
     "data": {
      "text/plain": [
       "['all-purpose flour',\n",
       " 'salt',\n",
       " 'baking soda',\n",
       " 'baking powder',\n",
       " 'ground cinnamon',\n",
       " 'eggs',\n",
       " 'vegetable oil',\n",
       " 'white sugar',\n",
       " 'vanilla extract',\n",
       " 'grated zucchini',\n",
       " 'chopped walnuts']"
      ]
     },
     "execution_count": 19,
     "metadata": {},
     "output_type": "execute_result"
    }
   ],
   "source": [
    "ingredient_sample = ingredient_sample.split('^')\n",
    "ingredient_sample"
   ]
  },
  {
   "cell_type": "code",
   "execution_count": 20,
   "metadata": {},
   "outputs": [],
   "source": [
    "from collections import Counter\n",
    "\n",
    "all_ingredients = list(item for recipe in recipe['ingredients'] for item in recipe.split('^'))\n",
    "counter = Counter(all_ingredients)\n",
    "\n",
    "unique_ingredients = set(all_ingredients)\n",
    "total_ingredients = len(unique_ingredients)"
   ]
  },
  {
   "cell_type": "code",
   "execution_count": 21,
   "metadata": {},
   "outputs": [
    {
     "data": {
      "text/plain": [
       "8765"
      ]
     },
     "execution_count": 21,
     "metadata": {},
     "output_type": "execute_result"
    }
   ],
   "source": [
    "total_ingredients"
   ]
  },
  {
   "cell_type": "code",
   "execution_count": 22,
   "metadata": {},
   "outputs": [
    {
     "data": {
      "image/png": "[encoded data removed]",
      "text/plain": [
       "<Figure size 1200x600 with 1 Axes>"
      ]
     },
     "metadata": {},
     "output_type": "display_data"
    }
   ],
   "source": [
    "top_ingredients = counter.most_common(20)\n",
    "items, counts = zip(*top_ingredients)\n",
    "\n",
    "plt.figure(figsize=(12, 6))\n",
    "sns.barplot(x=list(counts), y=list(items), palette='viridis')\n",
    "\n",
    "plt.title('Top 20 Most Common Ingredients', fontsize=16, fontweight='bold')\n",
    "plt.xlabel('Count', fontsize=14)\n",
    "plt.ylabel('Ingredient', fontsize=14)\n",
    "\n",
    "plt.tight_layout()\n",
    "\n",
    "plt.show()"
   ]
  },
  {
   "cell_type": "code",
   "execution_count": 23,
   "metadata": {},
   "outputs": [],
   "source": [
    "def convert_ingredients(items):\n",
    "    return items.split('^')"
   ]
  },
  {
   "cell_type": "code",
   "execution_count": 24,
   "metadata": {},
   "outputs": [],
   "source": [
    "recipe['ingredients'] = recipe['ingredients'].apply(convert_ingredients)"
   ]
  },
  {
   "cell_type": "code",
   "execution_count": 25,
   "metadata": {},
   "outputs": [
    {
     "data": {
      "text/html": [
       "<div>\n",
       "<style scoped>\n",
       "    .dataframe tbody tr th:only-of-type {\n",
       "        vertical-align: middle;\n",
       "    }\n",
       "\n",
       "    .dataframe tbody tr th {\n",
       "        vertical-align: top;\n",
       "    }\n",
       "\n",
       "    .dataframe thead th {\n",
       "        text-align: right;\n",
       "    }\n",
       "</style>\n",
       "<table border=\"1\" class=\"dataframe\">\n",
       "  <thead>\n",
       "    <tr style=\"text-align: right;\">\n",
       "      <th></th>\n",
       "      <th>recipe_id</th>\n",
       "      <th>recipe_name</th>\n",
       "      <th>category</th>\n",
       "      <th>aver_rate</th>\n",
       "      <th>ingredients</th>\n",
       "      <th>cooking_directions</th>\n",
       "      <th>nutritions</th>\n",
       "      <th>tags</th>\n",
       "    </tr>\n",
       "  </thead>\n",
       "  <tbody>\n",
       "    <tr>\n",
       "      <th>0</th>\n",
       "      <td>6698</td>\n",
       "      <td>Mom's Zucchini Bread</td>\n",
       "      <td>appetizer</td>\n",
       "      <td>4.754207</td>\n",
       "      <td>[all-purpose flour, salt, baking soda, baking ...</td>\n",
       "      <td>{'directions': u'Prep\\n20 m\\nCook\\n1 h\\nReady ...</td>\n",
       "      <td>{u'niacin': {u'hasCompleteData': True, u'name'...</td>\n",
       "      <td>north-american;breads;easy;beginner-cook;inexp...</td>\n",
       "    </tr>\n",
       "    <tr>\n",
       "      <th>1</th>\n",
       "      <td>6709</td>\n",
       "      <td>Zucchini Walnut Bread</td>\n",
       "      <td>appetizer</td>\n",
       "      <td>4.478873</td>\n",
       "      <td>[chopped walnuts, eggs, white sugar, vegetable...</td>\n",
       "      <td>{'directions': u'Whisk together flour, baking ...</td>\n",
       "      <td>{u'niacin': {u'hasCompleteData': True, u'name'...</td>\n",
       "      <td>weeknight;breads;fruit;vegetables;kid-friendly...</td>\n",
       "    </tr>\n",
       "    <tr>\n",
       "      <th>2</th>\n",
       "      <td>6725</td>\n",
       "      <td>Honey Wheat Bread I</td>\n",
       "      <td>appetizer</td>\n",
       "      <td>4.766846</td>\n",
       "      <td>[rapid rise yeast, white sugar, warm water (11...</td>\n",
       "      <td>{'directions': u'Prep\\n25 m\\nCook\\n35 m\\nReady...</td>\n",
       "      <td>{u'niacin': {u'hasCompleteData': True, u'name'...</td>\n",
       "      <td>healthy;breads;dietary;low-cholesterol;healthy...</td>\n",
       "    </tr>\n",
       "  </tbody>\n",
       "</table>\n",
       "</div>"
      ],
      "text/plain": [
       "   recipe_id            recipe_name   category  aver_rate  \\\n",
       "0       6698   Mom's Zucchini Bread  appetizer   4.754207   \n",
       "1       6709  Zucchini Walnut Bread  appetizer   4.478873   \n",
       "2       6725    Honey Wheat Bread I  appetizer   4.766846   \n",
       "\n",
       "                                         ingredients  \\\n",
       "0  [all-purpose flour, salt, baking soda, baking ...   \n",
       "1  [chopped walnuts, eggs, white sugar, vegetable...   \n",
       "2  [rapid rise yeast, white sugar, warm water (11...   \n",
       "\n",
       "                                  cooking_directions  \\\n",
       "0  {'directions': u'Prep\\n20 m\\nCook\\n1 h\\nReady ...   \n",
       "1  {'directions': u'Whisk together flour, baking ...   \n",
       "2  {'directions': u'Prep\\n25 m\\nCook\\n35 m\\nReady...   \n",
       "\n",
       "                                          nutritions  \\\n",
       "0  {u'niacin': {u'hasCompleteData': True, u'name'...   \n",
       "1  {u'niacin': {u'hasCompleteData': True, u'name'...   \n",
       "2  {u'niacin': {u'hasCompleteData': True, u'name'...   \n",
       "\n",
       "                                                tags  \n",
       "0  north-american;breads;easy;beginner-cook;inexp...  \n",
       "1  weeknight;breads;fruit;vegetables;kid-friendly...  \n",
       "2  healthy;breads;dietary;low-cholesterol;healthy...  "
      ]
     },
     "execution_count": 25,
     "metadata": {},
     "output_type": "execute_result"
    }
   ],
   "source": [
    "recipe.head(3)"
   ]
  },
  {
   "cell_type": "markdown",
   "metadata": {},
   "source": [
    "**Cooking Directions**"
   ]
  },
  {
   "cell_type": "code",
   "execution_count": 26,
   "metadata": {},
   "outputs": [
    {
     "data": {
      "text/plain": [
       "\"{'directions': u'Prep\\\\n20 m\\\\nCook\\\\n1 h\\\\nReady In\\\\n1 h 40 m\\\\nGrease and flour two 8 x 4 inch pans. Preheat oven to 325 degrees F (165 degrees C).\\\\nSift flour, salt, baking powder, soda, and cinnamon together in a bowl.\\\\nBeat eggs, oil, vanilla, and sugar together in a large bowl. Add sifted ingredients to the creamed mixture, and beat well. Stir in zucchini and nuts until well combined. Pour batter into prepared pans.\\\\nBake for 40 to 60 minutes, or until tester inserted in the center comes out clean. Cool in pan on rack for 20 minutes. Remove bread from pan, and completely cool.'}\""
      ]
     },
     "execution_count": 26,
     "metadata": {},
     "output_type": "execute_result"
    }
   ],
   "source": [
    "cooking_dir_sample = recipe['cooking_directions'][0]\n",
    "cooking_dir_sample"
   ]
  },
  {
   "cell_type": "code",
   "execution_count": 27,
   "metadata": {},
   "outputs": [
    {
     "data": {
      "text/plain": [
       "['Prep',\n",
       " '20 m',\n",
       " 'Cook',\n",
       " '1 h',\n",
       " 'Ready In',\n",
       " '1 h 40 m',\n",
       " 'Grease and flour two 8 x 4 inch pans.',\n",
       " 'Preheat oven to 325 degrees F (165 degrees C).',\n",
       " 'Sift flour, salt, baking powder, soda, and cinnamon together in a bowl.',\n",
       " 'Beat eggs, oil, vanilla, and sugar together in a large bowl.',\n",
       " 'Add sifted ingredients to the creamed mixture, and beat well.',\n",
       " 'Stir in zucchini and nuts until well combined.',\n",
       " 'Pour batter into prepared pans.',\n",
       " 'Bake for 40 to 60 minutes, or until tester inserted in the center comes out clean.',\n",
       " 'Cool in pan on rack for 20 minutes.',\n",
       " 'Remove bread from pan, and completely cool.']"
      ]
     },
     "execution_count": 27,
     "metadata": {},
     "output_type": "execute_result"
    }
   ],
   "source": [
    "import re\n",
    "\n",
    "# Extract the directions part of the string\n",
    "directions_str = re.search(r\"'directions': u'(.*?)'\", cooking_dir_sample).group(1)\n",
    "\n",
    "# Replace special sequences with a single delimiter for easier splitting\n",
    "directions_str = directions_str.replace('\\\\n', '\\n')\n",
    "\n",
    "# Split the directions string into a list based on newlines and periods\n",
    "instructions = re.split(r'\\n|(?<!\\w\\.\\w.)(?<![A-Z][a-z]\\.)(?<=\\.|\\?)\\s', directions_str)\n",
    "\n",
    "# Remove any empty strings and strip leading/trailing whitespace\n",
    "instructions = [instr.strip() for instr in instructions if instr.strip()]\n",
    "\n",
    "instructions"
   ]
  },
  {
   "cell_type": "code",
   "execution_count": 28,
   "metadata": {},
   "outputs": [],
   "source": [
    "def preprocess_cooking_dir(cooking_direction):\n",
    "    match = re.search(r\"'directions': u'(.*?)'\", cooking_direction)\n",
    "    if match:\n",
    "        directions_str = match.group(1)\n",
    "        directions_str = directions_str.replace('\\\\n', '\\n')\n",
    "        instructions = re.split(r'\\n|(?<!\\w\\.\\w.)(?<![A-Z][a-z]\\.)(?<=\\.|\\?)\\s', directions_str)\n",
    "        instructions = [instr.strip() for instr in instructions if instr.strip()]\n",
    "        return instructions\n",
    "    else:\n",
    "        return []"
   ]
  },
  {
   "cell_type": "code",
   "execution_count": 29,
   "metadata": {},
   "outputs": [],
   "source": [
    "recipe['cooking_directions'] = recipe['cooking_directions'].apply(preprocess_cooking_dir)"
   ]
  },
  {
   "cell_type": "code",
   "execution_count": 30,
   "metadata": {},
   "outputs": [
    {
     "data": {
      "text/html": [
       "<div>\n",
       "<style scoped>\n",
       "    .dataframe tbody tr th:only-of-type {\n",
       "        vertical-align: middle;\n",
       "    }\n",
       "\n",
       "    .dataframe tbody tr th {\n",
       "        vertical-align: top;\n",
       "    }\n",
       "\n",
       "    .dataframe thead th {\n",
       "        text-align: right;\n",
       "    }\n",
       "</style>\n",
       "<table border=\"1\" class=\"dataframe\">\n",
       "  <thead>\n",
       "    <tr style=\"text-align: right;\">\n",
       "      <th></th>\n",
       "      <th>recipe_id</th>\n",
       "      <th>recipe_name</th>\n",
       "      <th>category</th>\n",
       "      <th>aver_rate</th>\n",
       "      <th>ingredients</th>\n",
       "      <th>cooking_directions</th>\n",
       "      <th>nutritions</th>\n",
       "      <th>tags</th>\n",
       "    </tr>\n",
       "  </thead>\n",
       "  <tbody>\n",
       "    <tr>\n",
       "      <th>0</th>\n",
       "      <td>6698</td>\n",
       "      <td>Mom's Zucchini Bread</td>\n",
       "      <td>appetizer</td>\n",
       "      <td>4.754207</td>\n",
       "      <td>[all-purpose flour, salt, baking soda, baking ...</td>\n",
       "      <td>[Prep, 20 m, Cook, 1 h, Ready In, 1 h 40 m, Gr...</td>\n",
       "      <td>{u'niacin': {u'hasCompleteData': True, u'name'...</td>\n",
       "      <td>north-american;breads;easy;beginner-cook;inexp...</td>\n",
       "    </tr>\n",
       "    <tr>\n",
       "      <th>1</th>\n",
       "      <td>6709</td>\n",
       "      <td>Zucchini Walnut Bread</td>\n",
       "      <td>appetizer</td>\n",
       "      <td>4.478873</td>\n",
       "      <td>[chopped walnuts, eggs, white sugar, vegetable...</td>\n",
       "      <td>[Whisk together flour, baking soda, salt, cinn...</td>\n",
       "      <td>{u'niacin': {u'hasCompleteData': True, u'name'...</td>\n",
       "      <td>weeknight;breads;fruit;vegetables;kid-friendly...</td>\n",
       "    </tr>\n",
       "    <tr>\n",
       "      <th>2</th>\n",
       "      <td>6725</td>\n",
       "      <td>Honey Wheat Bread I</td>\n",
       "      <td>appetizer</td>\n",
       "      <td>4.766846</td>\n",
       "      <td>[rapid rise yeast, white sugar, warm water (11...</td>\n",
       "      <td>[Prep, 25 m, Cook, 35 m, Ready In, 2 h 30 m, D...</td>\n",
       "      <td>{u'niacin': {u'hasCompleteData': True, u'name'...</td>\n",
       "      <td>healthy;breads;dietary;low-cholesterol;healthy...</td>\n",
       "    </tr>\n",
       "  </tbody>\n",
       "</table>\n",
       "</div>"
      ],
      "text/plain": [
       "   recipe_id            recipe_name   category  aver_rate  \\\n",
       "0       6698   Mom's Zucchini Bread  appetizer   4.754207   \n",
       "1       6709  Zucchini Walnut Bread  appetizer   4.478873   \n",
       "2       6725    Honey Wheat Bread I  appetizer   4.766846   \n",
       "\n",
       "                                         ingredients  \\\n",
       "0  [all-purpose flour, salt, baking soda, baking ...   \n",
       "1  [chopped walnuts, eggs, white sugar, vegetable...   \n",
       "2  [rapid rise yeast, white sugar, warm water (11...   \n",
       "\n",
       "                                  cooking_directions  \\\n",
       "0  [Prep, 20 m, Cook, 1 h, Ready In, 1 h 40 m, Gr...   \n",
       "1  [Whisk together flour, baking soda, salt, cinn...   \n",
       "2  [Prep, 25 m, Cook, 35 m, Ready In, 2 h 30 m, D...   \n",
       "\n",
       "                                          nutritions  \\\n",
       "0  {u'niacin': {u'hasCompleteData': True, u'name'...   \n",
       "1  {u'niacin': {u'hasCompleteData': True, u'name'...   \n",
       "2  {u'niacin': {u'hasCompleteData': True, u'name'...   \n",
       "\n",
       "                                                tags  \n",
       "0  north-american;breads;easy;beginner-cook;inexp...  \n",
       "1  weeknight;breads;fruit;vegetables;kid-friendly...  \n",
       "2  healthy;breads;dietary;low-cholesterol;healthy...  "
      ]
     },
     "execution_count": 30,
     "metadata": {},
     "output_type": "execute_result"
    }
   ],
   "source": [
    "recipe.head(3)"
   ]
  },
  {
   "cell_type": "markdown",
   "metadata": {},
   "source": [
    "**Nutritions**"
   ]
  },
  {
   "cell_type": "code",
   "execution_count": 31,
   "metadata": {},
   "outputs": [
    {
     "data": {
      "text/plain": [
       "\"{u'niacin': {u'hasCompleteData': True, u'name': u'Niacin Equivalents', u'amount': 1.685838, u'percentDailyValue': u'13', u'displayValue': u'2', u'unit': u'mg'}, u'sugars': {u'hasCompleteData': True, u'name': u'Sugars', u'amount': 19.18834, u'percentDailyValue': u'0', u'displayValue': u'19.2', u'unit': u'g'}, u'sodium': {u'hasCompleteData': True, u'name': u'Sodium', u'amount': 179.8308, u'percentDailyValue': u'7', u'displayValue': u'180', u'unit': u'mg'}, u'carbohydrates': {u'hasCompleteData': True, u'name': u'Carbohydrates', u'amount': 32.05494, u'percentDailyValue': u'10', u'displayValue': u'32.1', u'unit': u'g'}, u'vitaminB6': {u'hasCompleteData': True, u'name': u'Vitamin B6', u'amount': 0.06311467, u'percentDailyValue': u'4', u'displayValue': u'< 1', u'unit': u'mg'}, u'calories': {u'hasCompleteData': True, u'name': u'Calories', u'amount': 255.1692, u'percentDailyValue': u'13', u'displayValue': u'255', u'unit': u'kcal'}, u'thiamin': {u'hasCompleteData': True, u'name': u'Thiamin', u'amount': 0.1500276, u'percentDailyValue': u'15', u'displayValue': u'< 1', u'unit': u'mg'}, u'fat': {u'hasCompleteData': True, u'name': u'Fat', u'amount': 13.14087, u'percentDailyValue': u'20', u'displayValue': u'13.1', u'unit': u'g'}, u'folate': {u'hasCompleteData': True, u'name': u'Folate', u'amount': 39.05683, u'percentDailyValue': u'22', u'displayValue': u'39', u'unit': u'mcg'}, u'caloriesFromFat': {u'hasCompleteData': True, u'name': u'Calories from Fat', u'amount': 118.2678, u'percentDailyValue': u'-', u'displayValue': u'118', u'unit': u'kcal'}, u'calcium': {u'hasCompleteData': True, u'name': u'Calcium', u'amount': 26.29642, u'percentDailyValue': u'3', u'displayValue': u'26', u'unit': u'mg'}, u'fiber': {u'hasCompleteData': True, u'name': u'Dietary Fiber', u'amount': 1.005129, u'percentDailyValue': u'4', u'displayValue': u'1', u'unit': u'g'}, u'magnesium': {u'hasCompleteData': True, u'name': u'Magnesium', u'amount': 13.78258, u'percentDailyValue': u'5', u'displayValue': u'14', u'unit': u'mg'}, u'iron': {u'hasCompleteData': True, u'name': u'Iron', u'amount': 1.062587, u'percentDailyValue': u'11', u'displayValue': u'1', u'unit': u'mg'}, u'cholesterol': {u'hasCompleteData': True, u'name': u'Cholesterol', u'amount': 23.25, u'percentDailyValue': u'8', u'displayValue': u'23', u'unit': u'mg'}, u'protein': {u'hasCompleteData': True, u'name': u'Protein', u'amount': 3.268513, u'percentDailyValue': u'7', u'displayValue': u'3.3', u'unit': u'g'}, u'vitaminA': {u'hasCompleteData': True, u'name': u'Vitamin A - IU', u'amount': 51.09396, u'percentDailyValue': u'1', u'displayValue': u'51', u'unit': u'IU'}, u'potassium': {u'hasCompleteData': True, u'name': u'Potassium', u'amount': 73.7383, u'percentDailyValue': u'2', u'displayValue': u'74', u'unit': u'mg'}, u'saturatedFat': {u'hasCompleteData': True, u'name': u'Saturated Fat', u'amount': 1.707979, u'percentDailyValue': u'9', u'displayValue': u'1.7', u'unit': u'g'}, u'vitaminC': {u'hasCompleteData': True, u'name': u'Vitamin C', u'amount': 1.675133, u'percentDailyValue': u'3', u'displayValue': u'2', u'unit': u'mg'}}\""
      ]
     },
     "execution_count": 31,
     "metadata": {},
     "output_type": "execute_result"
    }
   ],
   "source": [
    "recipe['nutritions'][0]"
   ]
  },
  {
   "cell_type": "code",
   "execution_count": 32,
   "metadata": {},
   "outputs": [],
   "source": [
    "import ast\n",
    "\n",
    "def preprocess_nutritions(nutrition_str):\n",
    "    nutrition_dict = ast.literal_eval(nutrition_str)\n",
    "    \n",
    "    preprocessed_data = {}\n",
    "    for key, value in nutrition_dict.items():\n",
    "        preprocessed_data[key] = value.get('amount', 0)\n",
    "\n",
    "    return preprocessed_data"
   ]
  },
  {
   "cell_type": "code",
   "execution_count": 33,
   "metadata": {},
   "outputs": [],
   "source": [
    "recipe['nutritions'] = recipe['nutritions'].apply(preprocess_nutritions)"
   ]
  },
  {
   "cell_type": "code",
   "execution_count": 34,
   "metadata": {},
   "outputs": [
    {
     "data": {
      "text/html": [
       "<div>\n",
       "<style scoped>\n",
       "    .dataframe tbody tr th:only-of-type {\n",
       "        vertical-align: middle;\n",
       "    }\n",
       "\n",
       "    .dataframe tbody tr th {\n",
       "        vertical-align: top;\n",
       "    }\n",
       "\n",
       "    .dataframe thead th {\n",
       "        text-align: right;\n",
       "    }\n",
       "</style>\n",
       "<table border=\"1\" class=\"dataframe\">\n",
       "  <thead>\n",
       "    <tr style=\"text-align: right;\">\n",
       "      <th></th>\n",
       "      <th>recipe_id</th>\n",
       "      <th>recipe_name</th>\n",
       "      <th>category</th>\n",
       "      <th>aver_rate</th>\n",
       "      <th>ingredients</th>\n",
       "      <th>cooking_directions</th>\n",
       "      <th>nutritions</th>\n",
       "      <th>tags</th>\n",
       "    </tr>\n",
       "  </thead>\n",
       "  <tbody>\n",
       "    <tr>\n",
       "      <th>0</th>\n",
       "      <td>6698</td>\n",
       "      <td>Mom's Zucchini Bread</td>\n",
       "      <td>appetizer</td>\n",
       "      <td>4.754207</td>\n",
       "      <td>[all-purpose flour, salt, baking soda, baking ...</td>\n",
       "      <td>[Prep, 20 m, Cook, 1 h, Ready In, 1 h 40 m, Gr...</td>\n",
       "      <td>{'niacin': 1.685838, 'sugars': 19.18834, 'sodi...</td>\n",
       "      <td>north-american;breads;easy;beginner-cook;inexp...</td>\n",
       "    </tr>\n",
       "    <tr>\n",
       "      <th>1</th>\n",
       "      <td>6709</td>\n",
       "      <td>Zucchini Walnut Bread</td>\n",
       "      <td>appetizer</td>\n",
       "      <td>4.478873</td>\n",
       "      <td>[chopped walnuts, eggs, white sugar, vegetable...</td>\n",
       "      <td>[Whisk together flour, baking soda, salt, cinn...</td>\n",
       "      <td>{'niacin': 2.043781, 'sugars': 20.65618, 'sodi...</td>\n",
       "      <td>weeknight;breads;fruit;vegetables;kid-friendly...</td>\n",
       "    </tr>\n",
       "    <tr>\n",
       "      <th>2</th>\n",
       "      <td>6725</td>\n",
       "      <td>Honey Wheat Bread I</td>\n",
       "      <td>appetizer</td>\n",
       "      <td>4.766846</td>\n",
       "      <td>[rapid rise yeast, white sugar, warm water (11...</td>\n",
       "      <td>[Prep, 25 m, Cook, 35 m, Ready In, 2 h 30 m, D...</td>\n",
       "      <td>{'niacin': 3.099195, 'sugars': 4.749415, 'sodi...</td>\n",
       "      <td>healthy;breads;dietary;low-cholesterol;healthy...</td>\n",
       "    </tr>\n",
       "  </tbody>\n",
       "</table>\n",
       "</div>"
      ],
      "text/plain": [
       "   recipe_id            recipe_name   category  aver_rate  \\\n",
       "0       6698   Mom's Zucchini Bread  appetizer   4.754207   \n",
       "1       6709  Zucchini Walnut Bread  appetizer   4.478873   \n",
       "2       6725    Honey Wheat Bread I  appetizer   4.766846   \n",
       "\n",
       "                                         ingredients  \\\n",
       "0  [all-purpose flour, salt, baking soda, baking ...   \n",
       "1  [chopped walnuts, eggs, white sugar, vegetable...   \n",
       "2  [rapid rise yeast, white sugar, warm water (11...   \n",
       "\n",
       "                                  cooking_directions  \\\n",
       "0  [Prep, 20 m, Cook, 1 h, Ready In, 1 h 40 m, Gr...   \n",
       "1  [Whisk together flour, baking soda, salt, cinn...   \n",
       "2  [Prep, 25 m, Cook, 35 m, Ready In, 2 h 30 m, D...   \n",
       "\n",
       "                                          nutritions  \\\n",
       "0  {'niacin': 1.685838, 'sugars': 19.18834, 'sodi...   \n",
       "1  {'niacin': 2.043781, 'sugars': 20.65618, 'sodi...   \n",
       "2  {'niacin': 3.099195, 'sugars': 4.749415, 'sodi...   \n",
       "\n",
       "                                                tags  \n",
       "0  north-american;breads;easy;beginner-cook;inexp...  \n",
       "1  weeknight;breads;fruit;vegetables;kid-friendly...  \n",
       "2  healthy;breads;dietary;low-cholesterol;healthy...  "
      ]
     },
     "execution_count": 34,
     "metadata": {},
     "output_type": "execute_result"
    }
   ],
   "source": [
    "recipe.head(3)"
   ]
  },
  {
   "cell_type": "code",
   "execution_count": 35,
   "metadata": {},
   "outputs": [
    {
     "data": {
      "text/plain": [
       "20"
      ]
     },
     "execution_count": 35,
     "metadata": {},
     "output_type": "execute_result"
    }
   ],
   "source": [
    "all_nutritions = set(item for nutritions in recipe['nutritions'] for item in nutritions.keys())\n",
    "total_nutritions = len(all_nutritions)\n",
    "\n",
    "total_nutritions"
   ]
  },
  {
   "cell_type": "code",
   "execution_count": 37,
   "metadata": {},
   "outputs": [],
   "source": [
    "def nutrition_values(nutrition):\n",
    "    nutrition_list = []\n",
    "    for key, value in nutrition.items():\n",
    "        nutrition_list.append(nutrition.get(key, 0))\n",
    "    return nutrition_list"
   ]
  },
  {
   "cell_type": "code",
   "execution_count": 41,
   "metadata": {},
   "outputs": [],
   "source": [
    "recipe['nutritions'] = recipe['nutritions'].apply(nutrition_values)"
   ]
  },
  {
   "cell_type": "code",
   "execution_count": 53,
   "metadata": {},
   "outputs": [
    {
     "data": {
      "text/html": [
       "<div>\n",
       "<style scoped>\n",
       "    .dataframe tbody tr th:only-of-type {\n",
       "        vertical-align: middle;\n",
       "    }\n",
       "\n",
       "    .dataframe tbody tr th {\n",
       "        vertical-align: top;\n",
       "    }\n",
       "\n",
       "    .dataframe thead th {\n",
       "        text-align: right;\n",
       "    }\n",
       "</style>\n",
       "<table border=\"1\" class=\"dataframe\">\n",
       "  <thead>\n",
       "    <tr style=\"text-align: right;\">\n",
       "      <th></th>\n",
       "      <th>recipe_id</th>\n",
       "      <th>recipe_name</th>\n",
       "      <th>category</th>\n",
       "      <th>aver_rate</th>\n",
       "      <th>ingredients</th>\n",
       "      <th>cooking_directions</th>\n",
       "      <th>nutritions</th>\n",
       "      <th>tags</th>\n",
       "    </tr>\n",
       "  </thead>\n",
       "  <tbody>\n",
       "    <tr>\n",
       "      <th>0</th>\n",
       "      <td>6698</td>\n",
       "      <td>Mom's Zucchini Bread</td>\n",
       "      <td>appetizer</td>\n",
       "      <td>4.754207</td>\n",
       "      <td>[all-purpose flour, salt, baking soda, baking ...</td>\n",
       "      <td>[Prep, 20 m, Cook, 1 h, Ready In, 1 h 40 m, Gr...</td>\n",
       "      <td>[1.685838, 19.18834, 179.8308, 32.05494, 0.063...</td>\n",
       "      <td>[north-american, breads, easy, beginner-cook, ...</td>\n",
       "    </tr>\n",
       "    <tr>\n",
       "      <th>1</th>\n",
       "      <td>6709</td>\n",
       "      <td>Zucchini Walnut Bread</td>\n",
       "      <td>appetizer</td>\n",
       "      <td>4.478873</td>\n",
       "      <td>[chopped walnuts, eggs, white sugar, vegetable...</td>\n",
       "      <td>[Whisk together flour, baking soda, salt, cinn...</td>\n",
       "      <td>[2.043781, 20.65618, 253.0008, 36.54568, 0.077...</td>\n",
       "      <td>[weeknight, breads, fruit, vegetables, kid-fri...</td>\n",
       "    </tr>\n",
       "    <tr>\n",
       "      <th>2</th>\n",
       "      <td>6725</td>\n",
       "      <td>Honey Wheat Bread I</td>\n",
       "      <td>appetizer</td>\n",
       "      <td>4.766846</td>\n",
       "      <td>[rapid rise yeast, white sugar, warm water (11...</td>\n",
       "      <td>[Prep, 25 m, Cook, 35 m, Ready In, 2 h 30 m, D...</td>\n",
       "      <td>[3.099195, 4.749415, 218.6528, 24.45452, 0.053...</td>\n",
       "      <td>[healthy, breads, dietary, low-cholesterol, he...</td>\n",
       "    </tr>\n",
       "  </tbody>\n",
       "</table>\n",
       "</div>"
      ],
      "text/plain": [
       "   recipe_id            recipe_name   category  aver_rate  \\\n",
       "0       6698   Mom's Zucchini Bread  appetizer   4.754207   \n",
       "1       6709  Zucchini Walnut Bread  appetizer   4.478873   \n",
       "2       6725    Honey Wheat Bread I  appetizer   4.766846   \n",
       "\n",
       "                                         ingredients  \\\n",
       "0  [all-purpose flour, salt, baking soda, baking ...   \n",
       "1  [chopped walnuts, eggs, white sugar, vegetable...   \n",
       "2  [rapid rise yeast, white sugar, warm water (11...   \n",
       "\n",
       "                                  cooking_directions  \\\n",
       "0  [Prep, 20 m, Cook, 1 h, Ready In, 1 h 40 m, Gr...   \n",
       "1  [Whisk together flour, baking soda, salt, cinn...   \n",
       "2  [Prep, 25 m, Cook, 35 m, Ready In, 2 h 30 m, D...   \n",
       "\n",
       "                                          nutritions  \\\n",
       "0  [1.685838, 19.18834, 179.8308, 32.05494, 0.063...   \n",
       "1  [2.043781, 20.65618, 253.0008, 36.54568, 0.077...   \n",
       "2  [3.099195, 4.749415, 218.6528, 24.45452, 0.053...   \n",
       "\n",
       "                                                tags  \n",
       "0  [north-american, breads, easy, beginner-cook, ...  \n",
       "1  [weeknight, breads, fruit, vegetables, kid-fri...  \n",
       "2  [healthy, breads, dietary, low-cholesterol, he...  "
      ]
     },
     "execution_count": 53,
     "metadata": {},
     "output_type": "execute_result"
    }
   ],
   "source": [
    "recipe.head(3)"
   ]
  },
  {
   "cell_type": "markdown",
   "metadata": {},
   "source": [
    "**Tags**"
   ]
  },
  {
   "cell_type": "code",
   "execution_count": 43,
   "metadata": {},
   "outputs": [
    {
     "data": {
      "text/plain": [
       "'north-american;breads;easy;beginner-cook;inexpensive;quick-breads;3-steps-or-less;4-hours-or-less'"
      ]
     },
     "execution_count": 43,
     "metadata": {},
     "output_type": "execute_result"
    }
   ],
   "source": [
    "recipe['tags'][0]"
   ]
  },
  {
   "cell_type": "code",
   "execution_count": 45,
   "metadata": {},
   "outputs": [
    {
     "data": {
      "text/plain": [
       "['north-american',\n",
       " 'breads',\n",
       " 'easy',\n",
       " 'beginner-cook',\n",
       " 'inexpensive',\n",
       " 'quick-breads',\n",
       " '3-steps-or-less',\n",
       " '4-hours-or-less']"
      ]
     },
     "execution_count": 45,
     "metadata": {},
     "output_type": "execute_result"
    }
   ],
   "source": [
    "recipe['tags'][0].split(';')"
   ]
  },
  {
   "cell_type": "code",
   "execution_count": 49,
   "metadata": {},
   "outputs": [],
   "source": [
    "def return_tags(tags):\n",
    "    tags = str(tags)\n",
    "    return tags.split(';')"
   ]
  },
  {
   "cell_type": "code",
   "execution_count": 51,
   "metadata": {},
   "outputs": [],
   "source": [
    "recipe['tags'] = recipe['tags'].apply(return_tags)"
   ]
  },
  {
   "cell_type": "code",
   "execution_count": 52,
   "metadata": {},
   "outputs": [
    {
     "data": {
      "text/html": [
       "<div>\n",
       "<style scoped>\n",
       "    .dataframe tbody tr th:only-of-type {\n",
       "        vertical-align: middle;\n",
       "    }\n",
       "\n",
       "    .dataframe tbody tr th {\n",
       "        vertical-align: top;\n",
       "    }\n",
       "\n",
       "    .dataframe thead th {\n",
       "        text-align: right;\n",
       "    }\n",
       "</style>\n",
       "<table border=\"1\" class=\"dataframe\">\n",
       "  <thead>\n",
       "    <tr style=\"text-align: right;\">\n",
       "      <th></th>\n",
       "      <th>recipe_id</th>\n",
       "      <th>recipe_name</th>\n",
       "      <th>category</th>\n",
       "      <th>aver_rate</th>\n",
       "      <th>ingredients</th>\n",
       "      <th>cooking_directions</th>\n",
       "      <th>nutritions</th>\n",
       "      <th>tags</th>\n",
       "    </tr>\n",
       "  </thead>\n",
       "  <tbody>\n",
       "    <tr>\n",
       "      <th>0</th>\n",
       "      <td>6698</td>\n",
       "      <td>Mom's Zucchini Bread</td>\n",
       "      <td>appetizer</td>\n",
       "      <td>4.754207</td>\n",
       "      <td>[all-purpose flour, salt, baking soda, baking ...</td>\n",
       "      <td>[Prep, 20 m, Cook, 1 h, Ready In, 1 h 40 m, Gr...</td>\n",
       "      <td>[1.685838, 19.18834, 179.8308, 32.05494, 0.063...</td>\n",
       "      <td>[north-american, breads, easy, beginner-cook, ...</td>\n",
       "    </tr>\n",
       "    <tr>\n",
       "      <th>1</th>\n",
       "      <td>6709</td>\n",
       "      <td>Zucchini Walnut Bread</td>\n",
       "      <td>appetizer</td>\n",
       "      <td>4.478873</td>\n",
       "      <td>[chopped walnuts, eggs, white sugar, vegetable...</td>\n",
       "      <td>[Whisk together flour, baking soda, salt, cinn...</td>\n",
       "      <td>[2.043781, 20.65618, 253.0008, 36.54568, 0.077...</td>\n",
       "      <td>[weeknight, breads, fruit, vegetables, kid-fri...</td>\n",
       "    </tr>\n",
       "    <tr>\n",
       "      <th>2</th>\n",
       "      <td>6725</td>\n",
       "      <td>Honey Wheat Bread I</td>\n",
       "      <td>appetizer</td>\n",
       "      <td>4.766846</td>\n",
       "      <td>[rapid rise yeast, white sugar, warm water (11...</td>\n",
       "      <td>[Prep, 25 m, Cook, 35 m, Ready In, 2 h 30 m, D...</td>\n",
       "      <td>[3.099195, 4.749415, 218.6528, 24.45452, 0.053...</td>\n",
       "      <td>[healthy, breads, dietary, low-cholesterol, he...</td>\n",
       "    </tr>\n",
       "    <tr>\n",
       "      <th>3</th>\n",
       "      <td>6730</td>\n",
       "      <td>Chocolate Chip Orange Zucchini Bread</td>\n",
       "      <td>dessert</td>\n",
       "      <td>4.674833</td>\n",
       "      <td>[eggs, white sugar, vegetable oil, vanilla ext...</td>\n",
       "      <td>[Sift together flour, baking powder, soda, sal...</td>\n",
       "      <td>[1.787187, 1.343123, 165.3506, 34.2574, 20.929...</td>\n",
       "      <td>[for-large-groups, healthy, breads, kid-friend...</td>\n",
       "    </tr>\n",
       "    <tr>\n",
       "      <th>4</th>\n",
       "      <td>6732</td>\n",
       "      <td>Chocolate Chip Pumpkin Bread</td>\n",
       "      <td>dessert</td>\n",
       "      <td>4.718112</td>\n",
       "      <td>[white sugar, pumpkin puree, vegetable oil, wa...</td>\n",
       "      <td>[Prep, 30 m, Cook, 1 h, Ready In, 1 h 30 m, Pr...</td>\n",
       "      <td>[1.339834, 19.85458, 204.1061, 30.47, 0.031029...</td>\n",
       "      <td>[breads, fall, winter, seasonal, quick-breads,...</td>\n",
       "    </tr>\n",
       "  </tbody>\n",
       "</table>\n",
       "</div>"
      ],
      "text/plain": [
       "   recipe_id                           recipe_name   category  aver_rate  \\\n",
       "0       6698                  Mom's Zucchini Bread  appetizer   4.754207   \n",
       "1       6709                 Zucchini Walnut Bread  appetizer   4.478873   \n",
       "2       6725                   Honey Wheat Bread I  appetizer   4.766846   \n",
       "3       6730  Chocolate Chip Orange Zucchini Bread    dessert   4.674833   \n",
       "4       6732          Chocolate Chip Pumpkin Bread    dessert   4.718112   \n",
       "\n",
       "                                         ingredients  \\\n",
       "0  [all-purpose flour, salt, baking soda, baking ...   \n",
       "1  [chopped walnuts, eggs, white sugar, vegetable...   \n",
       "2  [rapid rise yeast, white sugar, warm water (11...   \n",
       "3  [eggs, white sugar, vegetable oil, vanilla ext...   \n",
       "4  [white sugar, pumpkin puree, vegetable oil, wa...   \n",
       "\n",
       "                                  cooking_directions  \\\n",
       "0  [Prep, 20 m, Cook, 1 h, Ready In, 1 h 40 m, Gr...   \n",
       "1  [Whisk together flour, baking soda, salt, cinn...   \n",
       "2  [Prep, 25 m, Cook, 35 m, Ready In, 2 h 30 m, D...   \n",
       "3  [Sift together flour, baking powder, soda, sal...   \n",
       "4  [Prep, 30 m, Cook, 1 h, Ready In, 1 h 30 m, Pr...   \n",
       "\n",
       "                                          nutritions  \\\n",
       "0  [1.685838, 19.18834, 179.8308, 32.05494, 0.063...   \n",
       "1  [2.043781, 20.65618, 253.0008, 36.54568, 0.077...   \n",
       "2  [3.099195, 4.749415, 218.6528, 24.45452, 0.053...   \n",
       "3  [1.787187, 1.343123, 165.3506, 34.2574, 20.929...   \n",
       "4  [1.339834, 19.85458, 204.1061, 30.47, 0.031029...   \n",
       "\n",
       "                                                tags  \n",
       "0  [north-american, breads, easy, beginner-cook, ...  \n",
       "1  [weeknight, breads, fruit, vegetables, kid-fri...  \n",
       "2  [healthy, breads, dietary, low-cholesterol, he...  \n",
       "3  [for-large-groups, healthy, breads, kid-friend...  \n",
       "4  [breads, fall, winter, seasonal, quick-breads,...  "
      ]
     },
     "execution_count": 52,
     "metadata": {},
     "output_type": "execute_result"
    }
   ],
   "source": [
    "recipe.head()"
   ]
  },
  {
   "cell_type": "markdown",
   "metadata": {},
   "source": [
    "### Merging the dataset"
   ]
  },
  {
   "cell_type": "code",
   "execution_count": 54,
   "metadata": {},
   "outputs": [],
   "source": [
    "merged_data = user_recipe.merge(recipe, on='recipe_id', how='left')"
   ]
  },
  {
   "cell_type": "code",
   "execution_count": 55,
   "metadata": {},
   "outputs": [
    {
     "data": {
      "text/html": [
       "<div>\n",
       "<style scoped>\n",
       "    .dataframe tbody tr th:only-of-type {\n",
       "        vertical-align: middle;\n",
       "    }\n",
       "\n",
       "    .dataframe tbody tr th {\n",
       "        vertical-align: top;\n",
       "    }\n",
       "\n",
       "    .dataframe thead th {\n",
       "        text-align: right;\n",
       "    }\n",
       "</style>\n",
       "<table border=\"1\" class=\"dataframe\">\n",
       "  <thead>\n",
       "    <tr style=\"text-align: right;\">\n",
       "      <th></th>\n",
       "      <th>user_id</th>\n",
       "      <th>recipe_id</th>\n",
       "      <th>rating</th>\n",
       "      <th>year</th>\n",
       "      <th>month</th>\n",
       "      <th>day</th>\n",
       "      <th>hour</th>\n",
       "      <th>recipe_name</th>\n",
       "      <th>category</th>\n",
       "      <th>aver_rate</th>\n",
       "      <th>ingredients</th>\n",
       "      <th>cooking_directions</th>\n",
       "      <th>nutritions</th>\n",
       "      <th>tags</th>\n",
       "    </tr>\n",
       "  </thead>\n",
       "  <tbody>\n",
       "    <tr>\n",
       "      <th>0</th>\n",
       "      <td>39</td>\n",
       "      <td>61727</td>\n",
       "      <td>4</td>\n",
       "      <td>2001</td>\n",
       "      <td>3</td>\n",
       "      <td>26</td>\n",
       "      <td>7</td>\n",
       "      <td>Ten Minute Enchilada Sauce</td>\n",
       "      <td>main-dish</td>\n",
       "      <td>4.439774</td>\n",
       "      <td>[vegetable oil, self-rising flour, New Mexico,...</td>\n",
       "      <td>[Prep, 10 m, Cook, 15 m, Ready In, 25 m, Heat ...</td>\n",
       "      <td>[1.057699, 1.901137, 408.3739, 7.002383, 0.236...</td>\n",
       "      <td>[15-minutes-or-less, north-american, sauces, c...</td>\n",
       "    </tr>\n",
       "    <tr>\n",
       "      <th>1</th>\n",
       "      <td>39</td>\n",
       "      <td>7612</td>\n",
       "      <td>5</td>\n",
       "      <td>2004</td>\n",
       "      <td>8</td>\n",
       "      <td>2</td>\n",
       "      <td>16</td>\n",
       "      <td>Chocolate Lovers' Favorite Cake</td>\n",
       "      <td>dessert</td>\n",
       "      <td>4.683846</td>\n",
       "      <td>[devil's food cake mix, instant chocolate pudd...</td>\n",
       "      <td>[Prep, 30 m, Cook, 1 h, Ready In, 2 h, Preheat...</td>\n",
       "      <td>[2.117175, 40.40503, 608.3894, 57.70967, 0.047...</td>\n",
       "      <td>[for-large-groups, desserts, oven, cakes, choc...</td>\n",
       "    </tr>\n",
       "    <tr>\n",
       "      <th>2</th>\n",
       "      <td>39</td>\n",
       "      <td>12009</td>\n",
       "      <td>4</td>\n",
       "      <td>2001</td>\n",
       "      <td>2</td>\n",
       "      <td>28</td>\n",
       "      <td>10</td>\n",
       "      <td>Cajun Chicken Pasta</td>\n",
       "      <td>main-dish</td>\n",
       "      <td>4.676716</td>\n",
       "      <td>[linguine pasta, boneless skinless chicken bre...</td>\n",
       "      <td>[Prep, 15 m, Cook, 15 m, Ready In, 30 m, Bring...</td>\n",
       "      <td>[25.5405, 5.582606, 1134.194, 53.74738, 1.0397...</td>\n",
       "      <td>[30-minutes-or-less, north-american, main-dish...</td>\n",
       "    </tr>\n",
       "    <tr>\n",
       "      <th>3</th>\n",
       "      <td>39</td>\n",
       "      <td>88185</td>\n",
       "      <td>5</td>\n",
       "      <td>2009</td>\n",
       "      <td>5</td>\n",
       "      <td>18</td>\n",
       "      <td>14</td>\n",
       "      <td>Sopapilla Cheesecake</td>\n",
       "      <td>dessert</td>\n",
       "      <td>4.793919</td>\n",
       "      <td>[cream cheese, white sugar, vanilla extract, r...</td>\n",
       "      <td>[Prep, 15 m, Cook, 30 m, Ready In, 45 m, Prehe...</td>\n",
       "      <td>[0.2449262, 27.73702, 403.1183, 40.36402, 0.00...</td>\n",
       "      <td>[60-minutes-or-less, north-american, desserts,...</td>\n",
       "    </tr>\n",
       "    <tr>\n",
       "      <th>4</th>\n",
       "      <td>39</td>\n",
       "      <td>24445</td>\n",
       "      <td>5</td>\n",
       "      <td>2015</td>\n",
       "      <td>5</td>\n",
       "      <td>7</td>\n",
       "      <td>15</td>\n",
       "      <td>Chewy Chocolate Chip Oatmeal Cookies</td>\n",
       "      <td>dessert</td>\n",
       "      <td>4.554303</td>\n",
       "      <td>[butter, packed light brown sugar, white sugar...</td>\n",
       "      <td>[Prep, 15 m, Cook, 12 m, Ready In, 55 m, Prehe...</td>\n",
       "      <td>[0.7912771, 9.828519, 107.2187, 17.22797, 0.02...</td>\n",
       "      <td>[30-minutes-or-less, for-large-groups, breakfa...</td>\n",
       "    </tr>\n",
       "  </tbody>\n",
       "</table>\n",
       "</div>"
      ],
      "text/plain": [
       "   user_id  recipe_id  rating  year  month  day  hour  \\\n",
       "0       39      61727       4  2001      3   26     7   \n",
       "1       39       7612       5  2004      8    2    16   \n",
       "2       39      12009       4  2001      2   28    10   \n",
       "3       39      88185       5  2009      5   18    14   \n",
       "4       39      24445       5  2015      5    7    15   \n",
       "\n",
       "                            recipe_name   category  aver_rate  \\\n",
       "0            Ten Minute Enchilada Sauce  main-dish   4.439774   \n",
       "1       Chocolate Lovers' Favorite Cake    dessert   4.683846   \n",
       "2                   Cajun Chicken Pasta  main-dish   4.676716   \n",
       "3                  Sopapilla Cheesecake    dessert   4.793919   \n",
       "4  Chewy Chocolate Chip Oatmeal Cookies    dessert   4.554303   \n",
       "\n",
       "                                         ingredients  \\\n",
       "0  [vegetable oil, self-rising flour, New Mexico,...   \n",
       "1  [devil's food cake mix, instant chocolate pudd...   \n",
       "2  [linguine pasta, boneless skinless chicken bre...   \n",
       "3  [cream cheese, white sugar, vanilla extract, r...   \n",
       "4  [butter, packed light brown sugar, white sugar...   \n",
       "\n",
       "                                  cooking_directions  \\\n",
       "0  [Prep, 10 m, Cook, 15 m, Ready In, 25 m, Heat ...   \n",
       "1  [Prep, 30 m, Cook, 1 h, Ready In, 2 h, Preheat...   \n",
       "2  [Prep, 15 m, Cook, 15 m, Ready In, 30 m, Bring...   \n",
       "3  [Prep, 15 m, Cook, 30 m, Ready In, 45 m, Prehe...   \n",
       "4  [Prep, 15 m, Cook, 12 m, Ready In, 55 m, Prehe...   \n",
       "\n",
       "                                          nutritions  \\\n",
       "0  [1.057699, 1.901137, 408.3739, 7.002383, 0.236...   \n",
       "1  [2.117175, 40.40503, 608.3894, 57.70967, 0.047...   \n",
       "2  [25.5405, 5.582606, 1134.194, 53.74738, 1.0397...   \n",
       "3  [0.2449262, 27.73702, 403.1183, 40.36402, 0.00...   \n",
       "4  [0.7912771, 9.828519, 107.2187, 17.22797, 0.02...   \n",
       "\n",
       "                                                tags  \n",
       "0  [15-minutes-or-less, north-american, sauces, c...  \n",
       "1  [for-large-groups, desserts, oven, cakes, choc...  \n",
       "2  [30-minutes-or-less, north-american, main-dish...  \n",
       "3  [60-minutes-or-less, north-american, desserts,...  \n",
       "4  [30-minutes-or-less, for-large-groups, breakfa...  "
      ]
     },
     "execution_count": 55,
     "metadata": {},
     "output_type": "execute_result"
    }
   ],
   "source": [
    "merged_data.head()"
   ]
  },
  {
   "cell_type": "code",
   "execution_count": 56,
   "metadata": {},
   "outputs": [
    {
     "data": {
      "text/plain": [
       "(151148, 14)"
      ]
     },
     "execution_count": 56,
     "metadata": {},
     "output_type": "execute_result"
    }
   ],
   "source": [
    "merged_data.shape"
   ]
  },
  {
   "cell_type": "code",
   "execution_count": 57,
   "metadata": {},
   "outputs": [
    {
     "name": "stdout",
     "output_type": "stream",
     "text": [
      "<class 'pandas.core.frame.DataFrame'>\n",
      "Int64Index: 151148 entries, 0 to 151147\n",
      "Data columns (total 14 columns):\n",
      " #   Column              Non-Null Count   Dtype  \n",
      "---  ------              --------------   -----  \n",
      " 0   user_id             151148 non-null  int64  \n",
      " 1   recipe_id           151148 non-null  int64  \n",
      " 2   rating              151148 non-null  int64  \n",
      " 3   year                151148 non-null  int64  \n",
      " 4   month               151148 non-null  int64  \n",
      " 5   day                 151148 non-null  int64  \n",
      " 6   hour                151148 non-null  int64  \n",
      " 7   recipe_name         151148 non-null  object \n",
      " 8   category            151148 non-null  object \n",
      " 9   aver_rate           151148 non-null  float64\n",
      " 10  ingredients         151148 non-null  object \n",
      " 11  cooking_directions  151148 non-null  object \n",
      " 12  nutritions          151148 non-null  object \n",
      " 13  tags                151148 non-null  object \n",
      "dtypes: float64(1), int64(7), object(6)\n",
      "memory usage: 17.3+ MB\n"
     ]
    }
   ],
   "source": [
    "merged_data.info()"
   ]
  },
  {
   "cell_type": "code",
   "execution_count": 58,
   "metadata": {},
   "outputs": [],
   "source": [
    "merged_data.to_csv(\"../data/food/merged_preprocessed_data.csv\", index=False)"
   ]
  },
  {
   "cell_type": "code",
   "execution_count": 60,
   "metadata": {},
   "outputs": [
    {
     "data": {
      "text/html": [
       "<div>\n",
       "<style scoped>\n",
       "    .dataframe tbody tr th:only-of-type {\n",
       "        vertical-align: middle;\n",
       "    }\n",
       "\n",
       "    .dataframe tbody tr th {\n",
       "        vertical-align: top;\n",
       "    }\n",
       "\n",
       "    .dataframe thead th {\n",
       "        text-align: right;\n",
       "    }\n",
       "</style>\n",
       "<table border=\"1\" class=\"dataframe\">\n",
       "  <thead>\n",
       "    <tr style=\"text-align: right;\">\n",
       "      <th></th>\n",
       "      <th>user_id</th>\n",
       "      <th>recipe_id</th>\n",
       "      <th>rating</th>\n",
       "      <th>year</th>\n",
       "      <th>month</th>\n",
       "      <th>day</th>\n",
       "      <th>hour</th>\n",
       "      <th>recipe_name</th>\n",
       "      <th>category</th>\n",
       "      <th>aver_rate</th>\n",
       "      <th>ingredients</th>\n",
       "      <th>cooking_directions</th>\n",
       "      <th>nutritions</th>\n",
       "      <th>tags</th>\n",
       "    </tr>\n",
       "  </thead>\n",
       "  <tbody>\n",
       "    <tr>\n",
       "      <th>0</th>\n",
       "      <td>39</td>\n",
       "      <td>61727</td>\n",
       "      <td>4</td>\n",
       "      <td>2001</td>\n",
       "      <td>3</td>\n",
       "      <td>26</td>\n",
       "      <td>7</td>\n",
       "      <td>Ten Minute Enchilada Sauce</td>\n",
       "      <td>main-dish</td>\n",
       "      <td>4.439774</td>\n",
       "      <td>['vegetable oil', 'self-rising flour', 'New Me...</td>\n",
       "      <td>['Prep', '10 m', 'Cook', '15 m', 'Ready In', '...</td>\n",
       "      <td>[1.057699, 1.901137, 408.3739, 7.002383, 0.236...</td>\n",
       "      <td>['15-minutes-or-less', 'north-american', 'sauc...</td>\n",
       "    </tr>\n",
       "    <tr>\n",
       "      <th>1</th>\n",
       "      <td>39</td>\n",
       "      <td>7612</td>\n",
       "      <td>5</td>\n",
       "      <td>2004</td>\n",
       "      <td>8</td>\n",
       "      <td>2</td>\n",
       "      <td>16</td>\n",
       "      <td>Chocolate Lovers' Favorite Cake</td>\n",
       "      <td>dessert</td>\n",
       "      <td>4.683846</td>\n",
       "      <td>[\"devil's food cake mix\", 'instant chocolate p...</td>\n",
       "      <td>['Prep', '30 m', 'Cook', '1 h', 'Ready In', '2...</td>\n",
       "      <td>[2.117175, 40.40503, 608.3894, 57.70967, 0.047...</td>\n",
       "      <td>['for-large-groups', 'desserts', 'oven', 'cake...</td>\n",
       "    </tr>\n",
       "    <tr>\n",
       "      <th>2</th>\n",
       "      <td>39</td>\n",
       "      <td>12009</td>\n",
       "      <td>4</td>\n",
       "      <td>2001</td>\n",
       "      <td>2</td>\n",
       "      <td>28</td>\n",
       "      <td>10</td>\n",
       "      <td>Cajun Chicken Pasta</td>\n",
       "      <td>main-dish</td>\n",
       "      <td>4.676716</td>\n",
       "      <td>['linguine pasta', 'boneless skinless chicken ...</td>\n",
       "      <td>['Prep', '15 m', 'Cook', '15 m', 'Ready In', '...</td>\n",
       "      <td>[25.5405, 5.582606, 1134.194, 53.74738, 1.0397...</td>\n",
       "      <td>['30-minutes-or-less', 'north-american', 'main...</td>\n",
       "    </tr>\n",
       "    <tr>\n",
       "      <th>3</th>\n",
       "      <td>39</td>\n",
       "      <td>88185</td>\n",
       "      <td>5</td>\n",
       "      <td>2009</td>\n",
       "      <td>5</td>\n",
       "      <td>18</td>\n",
       "      <td>14</td>\n",
       "      <td>Sopapilla Cheesecake</td>\n",
       "      <td>dessert</td>\n",
       "      <td>4.793919</td>\n",
       "      <td>['cream cheese', 'white sugar', 'vanilla extra...</td>\n",
       "      <td>['Prep', '15 m', 'Cook', '30 m', 'Ready In', '...</td>\n",
       "      <td>[0.2449262, 27.73702, 403.1183, 40.36402, 0.00...</td>\n",
       "      <td>['60-minutes-or-less', 'north-american', 'dess...</td>\n",
       "    </tr>\n",
       "    <tr>\n",
       "      <th>4</th>\n",
       "      <td>39</td>\n",
       "      <td>24445</td>\n",
       "      <td>5</td>\n",
       "      <td>2015</td>\n",
       "      <td>5</td>\n",
       "      <td>7</td>\n",
       "      <td>15</td>\n",
       "      <td>Chewy Chocolate Chip Oatmeal Cookies</td>\n",
       "      <td>dessert</td>\n",
       "      <td>4.554303</td>\n",
       "      <td>['butter', 'packed light brown sugar', 'white ...</td>\n",
       "      <td>['Prep', '15 m', 'Cook', '12 m', 'Ready In', '...</td>\n",
       "      <td>[0.7912771, 9.828519, 107.2187, 17.22797, 0.02...</td>\n",
       "      <td>['30-minutes-or-less', 'for-large-groups', 'br...</td>\n",
       "    </tr>\n",
       "  </tbody>\n",
       "</table>\n",
       "</div>"
      ],
      "text/plain": [
       "   user_id  recipe_id  rating  year  month  day  hour  \\\n",
       "0       39      61727       4  2001      3   26     7   \n",
       "1       39       7612       5  2004      8    2    16   \n",
       "2       39      12009       4  2001      2   28    10   \n",
       "3       39      88185       5  2009      5   18    14   \n",
       "4       39      24445       5  2015      5    7    15   \n",
       "\n",
       "                            recipe_name   category  aver_rate  \\\n",
       "0            Ten Minute Enchilada Sauce  main-dish   4.439774   \n",
       "1       Chocolate Lovers' Favorite Cake    dessert   4.683846   \n",
       "2                   Cajun Chicken Pasta  main-dish   4.676716   \n",
       "3                  Sopapilla Cheesecake    dessert   4.793919   \n",
       "4  Chewy Chocolate Chip Oatmeal Cookies    dessert   4.554303   \n",
       "\n",
       "                                         ingredients  \\\n",
       "0  ['vegetable oil', 'self-rising flour', 'New Me...   \n",
       "1  [\"devil's food cake mix\", 'instant chocolate p...   \n",
       "2  ['linguine pasta', 'boneless skinless chicken ...   \n",
       "3  ['cream cheese', 'white sugar', 'vanilla extra...   \n",
       "4  ['butter', 'packed light brown sugar', 'white ...   \n",
       "\n",
       "                                  cooking_directions  \\\n",
       "0  ['Prep', '10 m', 'Cook', '15 m', 'Ready In', '...   \n",
       "1  ['Prep', '30 m', 'Cook', '1 h', 'Ready In', '2...   \n",
       "2  ['Prep', '15 m', 'Cook', '15 m', 'Ready In', '...   \n",
       "3  ['Prep', '15 m', 'Cook', '30 m', 'Ready In', '...   \n",
       "4  ['Prep', '15 m', 'Cook', '12 m', 'Ready In', '...   \n",
       "\n",
       "                                          nutritions  \\\n",
       "0  [1.057699, 1.901137, 408.3739, 7.002383, 0.236...   \n",
       "1  [2.117175, 40.40503, 608.3894, 57.70967, 0.047...   \n",
       "2  [25.5405, 5.582606, 1134.194, 53.74738, 1.0397...   \n",
       "3  [0.2449262, 27.73702, 403.1183, 40.36402, 0.00...   \n",
       "4  [0.7912771, 9.828519, 107.2187, 17.22797, 0.02...   \n",
       "\n",
       "                                                tags  \n",
       "0  ['15-minutes-or-less', 'north-american', 'sauc...  \n",
       "1  ['for-large-groups', 'desserts', 'oven', 'cake...  \n",
       "2  ['30-minutes-or-less', 'north-american', 'main...  \n",
       "3  ['60-minutes-or-less', 'north-american', 'dess...  \n",
       "4  ['30-minutes-or-less', 'for-large-groups', 'br...  "
      ]
     },
     "execution_count": 60,
     "metadata": {},
     "output_type": "execute_result"
    }
   ],
   "source": [
    "merged_data = pd.read_csv(\"../data/food/merged_preprocessed_data.csv\")\n",
    "merged_data.head()"
   ]
  },
  {
   "cell_type": "code",
   "execution_count": null,
   "metadata": {},
   "outputs": [],
   "source": []
  }
 ],
 "metadata": {
  "kernelspec": {
   "display_name": "Python 3",
   "language": "python",
   "name": "python3"
  },
  "language_info": {
   "codemirror_mode": {
    "name": "ipython",
    "version": 3
   },
   "file_extension": ".py",
   "mimetype": "text/x-python",
   "name": "python",
   "nbconvert_exporter": "python",
   "pygments_lexer": "ipython3",
   "version": "3.7.12"
  }
 },
 "nbformat": 4,
 "nbformat_minor": 2
}
