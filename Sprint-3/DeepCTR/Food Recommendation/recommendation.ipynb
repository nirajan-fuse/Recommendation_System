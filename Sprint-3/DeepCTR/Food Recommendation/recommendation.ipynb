{
 "cells": [
  {
   "cell_type": "code",
   "execution_count": 1,
   "metadata": {},
   "outputs": [],
   "source": [
    "import numpy as np\n",
    "import pandas as pd\n",
    "import tensorflow as tf\n",
    "from tensorflow.keras.preprocessing.sequence import pad_sequences\n",
    "\n",
    "from sklearn.metrics import  mean_squared_error\n",
    "from sklearn.model_selection import train_test_split\n",
    "from sklearn.preprocessing import MinMaxScaler\n",
    "\n",
    "\n",
    "from deepctr.feature_column import SparseFeat, DenseFeat, VarLenSparseFeat, get_feature_names\n",
    "from deepctr.models import DeepFM"
   ]
  },
  {
   "cell_type": "code",
   "execution_count": 2,
   "metadata": {},
   "outputs": [],
   "source": [
    "data = pd.read_csv(\"../data/food/merged_preprocessed_data.csv\")"
   ]
  },
  {
   "cell_type": "code",
   "execution_count": 3,
   "metadata": {},
   "outputs": [
    {
     "data": {
      "text/html": [
       "<div>\n",
       "<style scoped>\n",
       "    .dataframe tbody tr th:only-of-type {\n",
       "        vertical-align: middle;\n",
       "    }\n",
       "\n",
       "    .dataframe tbody tr th {\n",
       "        vertical-align: top;\n",
       "    }\n",
       "\n",
       "    .dataframe thead th {\n",
       "        text-align: right;\n",
       "    }\n",
       "</style>\n",
       "<table border=\"1\" class=\"dataframe\">\n",
       "  <thead>\n",
       "    <tr style=\"text-align: right;\">\n",
       "      <th></th>\n",
       "      <th>user_id</th>\n",
       "      <th>recipe_id</th>\n",
       "      <th>rating</th>\n",
       "      <th>year</th>\n",
       "      <th>month</th>\n",
       "      <th>day</th>\n",
       "      <th>hour</th>\n",
       "      <th>recipe_name</th>\n",
       "      <th>category</th>\n",
       "      <th>aver_rate</th>\n",
       "      <th>ingredients</th>\n",
       "      <th>cooking_directions</th>\n",
       "      <th>nutritions</th>\n",
       "      <th>tags</th>\n",
       "    </tr>\n",
       "  </thead>\n",
       "  <tbody>\n",
       "    <tr>\n",
       "      <th>0</th>\n",
       "      <td>39</td>\n",
       "      <td>61727</td>\n",
       "      <td>4</td>\n",
       "      <td>2001</td>\n",
       "      <td>3</td>\n",
       "      <td>26</td>\n",
       "      <td>7</td>\n",
       "      <td>Ten Minute Enchilada Sauce</td>\n",
       "      <td>main-dish</td>\n",
       "      <td>4.439774</td>\n",
       "      <td>['vegetable oil', 'self-rising flour', 'New Me...</td>\n",
       "      <td>['Prep', '10 m', 'Cook', '15 m', 'Ready In', '...</td>\n",
       "      <td>[1.057699, 1.901137, 408.3739, 7.002383, 0.236...</td>\n",
       "      <td>['15-minutes-or-less', 'north-american', 'sauc...</td>\n",
       "    </tr>\n",
       "    <tr>\n",
       "      <th>1</th>\n",
       "      <td>39</td>\n",
       "      <td>7612</td>\n",
       "      <td>5</td>\n",
       "      <td>2004</td>\n",
       "      <td>8</td>\n",
       "      <td>2</td>\n",
       "      <td>16</td>\n",
       "      <td>Chocolate Lovers' Favorite Cake</td>\n",
       "      <td>dessert</td>\n",
       "      <td>4.683846</td>\n",
       "      <td>[\"devil's food cake mix\", 'instant chocolate p...</td>\n",
       "      <td>['Prep', '30 m', 'Cook', '1 h', 'Ready In', '2...</td>\n",
       "      <td>[2.117175, 40.40503, 608.3894, 57.70967, 0.047...</td>\n",
       "      <td>['for-large-groups', 'desserts', 'oven', 'cake...</td>\n",
       "    </tr>\n",
       "    <tr>\n",
       "      <th>2</th>\n",
       "      <td>39</td>\n",
       "      <td>12009</td>\n",
       "      <td>4</td>\n",
       "      <td>2001</td>\n",
       "      <td>2</td>\n",
       "      <td>28</td>\n",
       "      <td>10</td>\n",
       "      <td>Cajun Chicken Pasta</td>\n",
       "      <td>main-dish</td>\n",
       "      <td>4.676716</td>\n",
       "      <td>['linguine pasta', 'boneless skinless chicken ...</td>\n",
       "      <td>['Prep', '15 m', 'Cook', '15 m', 'Ready In', '...</td>\n",
       "      <td>[25.5405, 5.582606, 1134.194, 53.74738, 1.0397...</td>\n",
       "      <td>['30-minutes-or-less', 'north-american', 'main...</td>\n",
       "    </tr>\n",
       "  </tbody>\n",
       "</table>\n",
       "</div>"
      ],
      "text/plain": [
       "   user_id  recipe_id  rating  year  month  day  hour  \\\n",
       "0       39      61727       4  2001      3   26     7   \n",
       "1       39       7612       5  2004      8    2    16   \n",
       "2       39      12009       4  2001      2   28    10   \n",
       "\n",
       "                       recipe_name   category  aver_rate  \\\n",
       "0       Ten Minute Enchilada Sauce  main-dish   4.439774   \n",
       "1  Chocolate Lovers' Favorite Cake    dessert   4.683846   \n",
       "2              Cajun Chicken Pasta  main-dish   4.676716   \n",
       "\n",
       "                                         ingredients  \\\n",
       "0  ['vegetable oil', 'self-rising flour', 'New Me...   \n",
       "1  [\"devil's food cake mix\", 'instant chocolate p...   \n",
       "2  ['linguine pasta', 'boneless skinless chicken ...   \n",
       "\n",
       "                                  cooking_directions  \\\n",
       "0  ['Prep', '10 m', 'Cook', '15 m', 'Ready In', '...   \n",
       "1  ['Prep', '30 m', 'Cook', '1 h', 'Ready In', '2...   \n",
       "2  ['Prep', '15 m', 'Cook', '15 m', 'Ready In', '...   \n",
       "\n",
       "                                          nutritions  \\\n",
       "0  [1.057699, 1.901137, 408.3739, 7.002383, 0.236...   \n",
       "1  [2.117175, 40.40503, 608.3894, 57.70967, 0.047...   \n",
       "2  [25.5405, 5.582606, 1134.194, 53.74738, 1.0397...   \n",
       "\n",
       "                                                tags  \n",
       "0  ['15-minutes-or-less', 'north-american', 'sauc...  \n",
       "1  ['for-large-groups', 'desserts', 'oven', 'cake...  \n",
       "2  ['30-minutes-or-less', 'north-american', 'main...  "
      ]
     },
     "execution_count": 3,
     "metadata": {},
     "output_type": "execute_result"
    }
   ],
   "source": [
    "data.head(3)"
   ]
  },
  {
   "cell_type": "code",
   "execution_count": 4,
   "metadata": {},
   "outputs": [
    {
     "data": {
      "text/plain": [
       "(151148, 14)"
      ]
     },
     "execution_count": 4,
     "metadata": {},
     "output_type": "execute_result"
    }
   ],
   "source": [
    "data.shape"
   ]
  },
  {
   "cell_type": "code",
   "execution_count": 5,
   "metadata": {},
   "outputs": [
    {
     "data": {
      "text/plain": [
       "5    101162\n",
       "4     49986\n",
       "Name: rating, dtype: int64"
      ]
     },
     "execution_count": 5,
     "metadata": {},
     "output_type": "execute_result"
    }
   ],
   "source": [
    "data['rating'].value_counts()"
   ]
  },
  {
   "cell_type": "code",
   "execution_count": 6,
   "metadata": {},
   "outputs": [
    {
     "data": {
      "text/plain": [
       "user_id               0\n",
       "recipe_id             0\n",
       "rating                0\n",
       "year                  0\n",
       "month                 0\n",
       "day                   0\n",
       "hour                  0\n",
       "recipe_name           0\n",
       "category              0\n",
       "aver_rate             0\n",
       "ingredients           0\n",
       "cooking_directions    0\n",
       "nutritions            0\n",
       "tags                  0\n",
       "dtype: int64"
      ]
     },
     "execution_count": 6,
     "metadata": {},
     "output_type": "execute_result"
    }
   ],
   "source": [
    "data.isna().sum()"
   ]
  },
  {
   "cell_type": "code",
   "execution_count": 7,
   "metadata": {},
   "outputs": [],
   "source": [
    "sparse_features = ['user_id', 'recipe_id', 'year', 'month', 'day', 'hour', 'category']\n",
    "dense_features = ['aver_rate', 'nutritions']\n",
    "varlen_features = ['ingredients', 'tags']"
   ]
  },
  {
   "cell_type": "code",
   "execution_count": 8,
   "metadata": {},
   "outputs": [],
   "source": [
    "data[sparse_features] = data[sparse_features].astype(str)"
   ]
  },
  {
   "cell_type": "code",
   "execution_count": 9,
   "metadata": {},
   "outputs": [],
   "source": [
    "import ast\n",
    "\n",
    "def convert_to_list(string):\n",
    "    return ast.literal_eval(string)\n",
    "\n",
    "data['nutritions'] = data['nutritions'].apply(convert_to_list)\n",
    "\n",
    "for feature in varlen_features:\n",
    "    data[feature] = data[feature].apply(convert_to_list)"
   ]
  },
  {
   "cell_type": "code",
   "execution_count": 10,
   "metadata": {},
   "outputs": [],
   "source": [
    "nutrition_array = np.array(data['nutritions'].tolist())\n",
    "\n",
    "mms = MinMaxScaler(feature_range=(0, 1))\n",
    "nutrition_scaled = mms.fit_transform(nutrition_array)\n",
    "\n",
    "data['nutritions'] = pd.Series(nutrition_scaled.tolist())"
   ]
  },
  {
   "cell_type": "code",
   "execution_count": 11,
   "metadata": {},
   "outputs": [
    {
     "data": {
      "text/html": [
       "<div>\n",
       "<style scoped>\n",
       "    .dataframe tbody tr th:only-of-type {\n",
       "        vertical-align: middle;\n",
       "    }\n",
       "\n",
       "    .dataframe tbody tr th {\n",
       "        vertical-align: top;\n",
       "    }\n",
       "\n",
       "    .dataframe thead th {\n",
       "        text-align: right;\n",
       "    }\n",
       "</style>\n",
       "<table border=\"1\" class=\"dataframe\">\n",
       "  <thead>\n",
       "    <tr style=\"text-align: right;\">\n",
       "      <th></th>\n",
       "      <th>user_id</th>\n",
       "      <th>recipe_id</th>\n",
       "      <th>rating</th>\n",
       "      <th>year</th>\n",
       "      <th>month</th>\n",
       "      <th>day</th>\n",
       "      <th>hour</th>\n",
       "      <th>recipe_name</th>\n",
       "      <th>category</th>\n",
       "      <th>aver_rate</th>\n",
       "      <th>ingredients</th>\n",
       "      <th>cooking_directions</th>\n",
       "      <th>nutritions</th>\n",
       "      <th>tags</th>\n",
       "    </tr>\n",
       "  </thead>\n",
       "  <tbody>\n",
       "    <tr>\n",
       "      <th>0</th>\n",
       "      <td>39</td>\n",
       "      <td>61727</td>\n",
       "      <td>4</td>\n",
       "      <td>2001</td>\n",
       "      <td>3</td>\n",
       "      <td>26</td>\n",
       "      <td>7</td>\n",
       "      <td>Ten Minute Enchilada Sauce</td>\n",
       "      <td>main-dish</td>\n",
       "      <td>4.439774</td>\n",
       "      <td>[vegetable oil, self-rising flour, New Mexico,...</td>\n",
       "      <td>['Prep', '10 m', 'Cook', '15 m', 'Ready In', '...</td>\n",
       "      <td>[0.007680581334216343, 0.004525529670195738, 0...</td>\n",
       "      <td>[15-minutes-or-less, north-american, sauces, c...</td>\n",
       "    </tr>\n",
       "    <tr>\n",
       "      <th>1</th>\n",
       "      <td>39</td>\n",
       "      <td>7612</td>\n",
       "      <td>5</td>\n",
       "      <td>2004</td>\n",
       "      <td>8</td>\n",
       "      <td>2</td>\n",
       "      <td>16</td>\n",
       "      <td>Chocolate Lovers' Favorite Cake</td>\n",
       "      <td>dessert</td>\n",
       "      <td>4.683846</td>\n",
       "      <td>[devil's food cake mix, instant chocolate pudd...</td>\n",
       "      <td>['Prep', '30 m', 'Cook', '1 h', 'Ready In', '2...</td>\n",
       "      <td>[0.015374066522015702, 0.09618147565911814, 0....</td>\n",
       "      <td>[for-large-groups, desserts, oven, cakes, choc...</td>\n",
       "    </tr>\n",
       "    <tr>\n",
       "      <th>2</th>\n",
       "      <td>39</td>\n",
       "      <td>12009</td>\n",
       "      <td>4</td>\n",
       "      <td>2001</td>\n",
       "      <td>2</td>\n",
       "      <td>28</td>\n",
       "      <td>10</td>\n",
       "      <td>Cajun Chicken Pasta</td>\n",
       "      <td>main-dish</td>\n",
       "      <td>4.676716</td>\n",
       "      <td>[linguine pasta, boneless skinless chicken bre...</td>\n",
       "      <td>['Prep', '15 m', 'Cook', '15 m', 'Ready In', '...</td>\n",
       "      <td>[0.1854647565768262, 0.013289020775468969, 0.0...</td>\n",
       "      <td>[30-minutes-or-less, north-american, main-dish...</td>\n",
       "    </tr>\n",
       "  </tbody>\n",
       "</table>\n",
       "</div>"
      ],
      "text/plain": [
       "  user_id recipe_id  rating  year month day hour  \\\n",
       "0      39     61727       4  2001     3  26    7   \n",
       "1      39      7612       5  2004     8   2   16   \n",
       "2      39     12009       4  2001     2  28   10   \n",
       "\n",
       "                       recipe_name   category  aver_rate  \\\n",
       "0       Ten Minute Enchilada Sauce  main-dish   4.439774   \n",
       "1  Chocolate Lovers' Favorite Cake    dessert   4.683846   \n",
       "2              Cajun Chicken Pasta  main-dish   4.676716   \n",
       "\n",
       "                                         ingredients  \\\n",
       "0  [vegetable oil, self-rising flour, New Mexico,...   \n",
       "1  [devil's food cake mix, instant chocolate pudd...   \n",
       "2  [linguine pasta, boneless skinless chicken bre...   \n",
       "\n",
       "                                  cooking_directions  \\\n",
       "0  ['Prep', '10 m', 'Cook', '15 m', 'Ready In', '...   \n",
       "1  ['Prep', '30 m', 'Cook', '1 h', 'Ready In', '2...   \n",
       "2  ['Prep', '15 m', 'Cook', '15 m', 'Ready In', '...   \n",
       "\n",
       "                                          nutritions  \\\n",
       "0  [0.007680581334216343, 0.004525529670195738, 0...   \n",
       "1  [0.015374066522015702, 0.09618147565911814, 0....   \n",
       "2  [0.1854647565768262, 0.013289020775468969, 0.0...   \n",
       "\n",
       "                                                tags  \n",
       "0  [15-minutes-or-less, north-american, sauces, c...  \n",
       "1  [for-large-groups, desserts, oven, cakes, choc...  \n",
       "2  [30-minutes-or-less, north-american, main-dish...  "
      ]
     },
     "execution_count": 11,
     "metadata": {},
     "output_type": "execute_result"
    }
   ],
   "source": [
    "data.head(3)"
   ]
  },
  {
   "cell_type": "code",
   "execution_count": 12,
   "metadata": {},
   "outputs": [],
   "source": [
    "def pad_varlen(varlen_list, max_len=None):\n",
    "    if not max_len:\n",
    "        length = np.array([len(item) for item in varlen_list]) \n",
    "        max_len = max(length)\n",
    "    return (max_len, pad_sequences(varlen_list, maxlen=max_len, padding='post', dtype=object, value=0).astype(str))"
   ]
  },
  {
   "cell_type": "code",
   "execution_count": 13,
   "metadata": {},
   "outputs": [],
   "source": [
    "train, test = train_test_split(data, test_size=0.2, stratify=data['rating'])"
   ]
  },
  {
   "cell_type": "code",
   "execution_count": 14,
   "metadata": {},
   "outputs": [],
   "source": [
    "(im, ingredients_train) = pad_varlen(train['ingredients'])\n",
    "(tm, tags_train) = pad_varlen(train['tags'])"
   ]
  },
  {
   "cell_type": "code",
   "execution_count": 15,
   "metadata": {},
   "outputs": [],
   "source": [
    "(_, ingredients_test) = pad_varlen(test['ingredients'], im)\n",
    "(_, tags_test) = pad_varlen(test['tags'], tm)"
   ]
  },
  {
   "cell_type": "code",
   "execution_count": 16,
   "metadata": {},
   "outputs": [],
   "source": [
    "max_length = [im, tm]"
   ]
  },
  {
   "cell_type": "code",
   "execution_count": 17,
   "metadata": {},
   "outputs": [
    {
     "name": "stdout",
     "output_type": "stream",
     "text": [
      "Total number of unique ingredients: 8462\n"
     ]
    }
   ],
   "source": [
    "all_ingredients = [ingredient for sublist in train['ingredients'] for ingredient in sublist]\n",
    "unique_ingredients = set(all_ingredients)\n",
    "total_unique_ingredients = len(unique_ingredients)\n",
    "\n",
    "print(f\"Total number of unique ingredients: {total_unique_ingredients}\")"
   ]
  },
  {
   "cell_type": "code",
   "execution_count": 18,
   "metadata": {},
   "outputs": [
    {
     "name": "stdout",
     "output_type": "stream",
     "text": [
      "Total number of unique ingredients: 450\n"
     ]
    }
   ],
   "source": [
    "all_tags = [tag for sublist in train['tags'] for tag in sublist]\n",
    "unique_tags = set(all_tags)\n",
    "total_unique_tags = len(unique_tags)\n",
    "\n",
    "print(f\"Total number of unique ingredients: {total_unique_tags}\")"
   ]
  },
  {
   "cell_type": "code",
   "execution_count": 19,
   "metadata": {},
   "outputs": [],
   "source": [
    "vocab_size = [8463, 452]"
   ]
  },
  {
   "cell_type": "code",
   "execution_count": 20,
   "metadata": {},
   "outputs": [
    {
     "data": {
      "text/plain": [
       "20"
      ]
     },
     "execution_count": 20,
     "metadata": {},
     "output_type": "execute_result"
    }
   ],
   "source": [
    "len(data['nutritions'][0])"
   ]
  },
  {
   "cell_type": "code",
   "execution_count": 21,
   "metadata": {},
   "outputs": [],
   "source": [
    "# Set hashing space for each sparse field and generate feature config for sequence feature\n",
    "fixlen_feature_columns = [SparseFeat(feat, data[feat].nunique() * 5, embedding_dim=4, use_hash=True, dtype='string')\n",
    "                            for feat in sparse_features]\n",
    "\n",
    "dense_feature_columns = [DenseFeat('aver_rate', 1, ), DenseFeat('nutritions', 20, )]\n",
    "\n",
    "varlen_feature_columns = [\n",
    "    VarLenSparseFeat(SparseFeat(feat, vocabulary_size=vocab, embedding_dim=4, use_hash=True, dtype=\"string\"),\n",
    "                        maxlen=max_len, combiner='mean', )\n",
    "                        for vocab, max_len, feat in zip(vocab_size, max_length, varlen_features)]\n",
    "\n",
    "linear_feature_columns = fixlen_feature_columns + dense_feature_columns + varlen_feature_columns\n",
    "dnn_feature_columns = fixlen_feature_columns + dense_feature_columns + varlen_feature_columns\n",
    "feature_names = get_feature_names(linear_feature_columns + dnn_feature_columns)"
   ]
  },
  {
   "cell_type": "code",
   "execution_count": 22,
   "metadata": {},
   "outputs": [
    {
     "data": {
      "text/plain": [
       "['user_id',\n",
       " 'recipe_id',\n",
       " 'year',\n",
       " 'month',\n",
       " 'day',\n",
       " 'hour',\n",
       " 'category',\n",
       " 'aver_rate',\n",
       " 'nutritions',\n",
       " 'ingredients',\n",
       " 'tags']"
      ]
     },
     "execution_count": 22,
     "metadata": {},
     "output_type": "execute_result"
    }
   ],
   "source": [
    "feature_names"
   ]
  },
  {
   "cell_type": "code",
   "execution_count": 23,
   "metadata": {},
   "outputs": [],
   "source": [
    "# Generate input data for model\n",
    "train_model_input = {name: train[name] for name in feature_names}\n",
    "test_model_input = {name: test[name] for name in feature_names}\n",
    "\n",
    "train_model_input['ingredients'] = ingredients_train\n",
    "train_model_input['nutritions'] = np.array(train['nutritions'].tolist())\n",
    "train_model_input['tags'] = tags_train\n",
    "\n",
    "test_model_input['ingredients'] = ingredients_test\n",
    "test_model_input['nutritions'] = np.array(test['nutritions'].tolist())\n",
    "test_model_input['tags'] = tags_test"
   ]
  },
  {
   "cell_type": "code",
   "execution_count": 24,
   "metadata": {},
   "outputs": [
    {
     "name": "stdout",
     "output_type": "stream",
     "text": [
      "Epoch 1/50\n",
      "378/378 - 27s - loss: 0.7580 - mse: 0.7579 - val_loss: 0.2016 - val_mse: 0.2013\n",
      "Epoch 2/50\n",
      "378/378 - 20s - loss: 0.1939 - mse: 0.1936 - val_loss: 0.1998 - val_mse: 0.1994\n",
      "Epoch 3/50\n",
      "378/378 - 20s - loss: 0.1896 - mse: 0.1890 - val_loss: 0.2006 - val_mse: 0.2000\n",
      "Epoch 4/50\n",
      "378/378 - 20s - loss: 0.1869 - mse: 0.1862 - val_loss: 0.2036 - val_mse: 0.2027\n",
      "Epoch 5/50\n",
      "378/378 - 20s - loss: 0.1844 - mse: 0.1835 - val_loss: 0.2012 - val_mse: 0.2001\n",
      "Epoch 6/50\n",
      "378/378 - 20s - loss: 0.1816 - mse: 0.1804 - val_loss: 0.2047 - val_mse: 0.2034\n",
      "Epoch 7/50\n",
      "378/378 - 20s - loss: 0.1794 - mse: 0.1780 - val_loss: 0.2060 - val_mse: 0.2046\n",
      "Epoch 8/50\n",
      "378/378 - 20s - loss: 0.1781 - mse: 0.1766 - val_loss: 0.2101 - val_mse: 0.2085\n",
      "Epoch 9/50\n",
      "378/378 - 20s - loss: 0.1759 - mse: 0.1743 - val_loss: 0.2165 - val_mse: 0.2148\n",
      "Epoch 10/50\n",
      "378/378 - 20s - loss: 0.1744 - mse: 0.1726 - val_loss: 0.2102 - val_mse: 0.2083\n",
      "Epoch 11/50\n",
      "378/378 - 19s - loss: 0.1732 - mse: 0.1712 - val_loss: 0.2118 - val_mse: 0.2098\n",
      "Epoch 12/50\n",
      "378/378 - 20s - loss: 0.1698 - mse: 0.1677 - val_loss: 0.2149 - val_mse: 0.2127\n",
      "Epoch 13/50\n",
      "378/378 - 19s - loss: 0.1688 - mse: 0.1665 - val_loss: 0.2157 - val_mse: 0.2133\n",
      "Epoch 14/50\n",
      "378/378 - 20s - loss: 0.1667 - mse: 0.1642 - val_loss: 0.2189 - val_mse: 0.2164\n",
      "Epoch 15/50\n",
      "378/378 - 20s - loss: 0.1635 - mse: 0.1608 - val_loss: 0.2230 - val_mse: 0.2202\n",
      "Epoch 16/50\n",
      "378/378 - 20s - loss: 0.1618 - mse: 0.1590 - val_loss: 0.2251 - val_mse: 0.2221\n",
      "Epoch 17/50\n",
      "378/378 - 20s - loss: 0.1572 - mse: 0.1542 - val_loss: 0.2266 - val_mse: 0.2235\n",
      "Epoch 18/50\n",
      "378/378 - 22s - loss: 0.1568 - mse: 0.1536 - val_loss: 0.2283 - val_mse: 0.2250\n",
      "Epoch 19/50\n",
      "378/378 - 20s - loss: 0.1531 - mse: 0.1498 - val_loss: 0.2357 - val_mse: 0.2323\n",
      "Epoch 20/50\n",
      "378/378 - 20s - loss: 0.1510 - mse: 0.1475 - val_loss: 0.2361 - val_mse: 0.2325\n",
      "Epoch 21/50\n",
      "378/378 - 20s - loss: 0.1491 - mse: 0.1454 - val_loss: 0.2417 - val_mse: 0.2379\n",
      "Epoch 22/50\n",
      "378/378 - 19s - loss: 0.1475 - mse: 0.1437 - val_loss: 0.2483 - val_mse: 0.2444\n",
      "Epoch 23/50\n",
      "378/378 - 20s - loss: 0.1463 - mse: 0.1423 - val_loss: 0.2478 - val_mse: 0.2437\n",
      "Epoch 24/50\n",
      "378/378 - 27s - loss: 0.1467 - mse: 0.1426 - val_loss: 0.2449 - val_mse: 0.2407\n",
      "Epoch 25/50\n",
      "378/378 - 25s - loss: 0.1426 - mse: 0.1383 - val_loss: 0.2460 - val_mse: 0.2417\n",
      "Epoch 26/50\n",
      "378/378 - 25s - loss: 0.1410 - mse: 0.1367 - val_loss: 0.2502 - val_mse: 0.2458\n",
      "Epoch 27/50\n",
      "378/378 - 20s - loss: 0.1398 - mse: 0.1353 - val_loss: 0.2518 - val_mse: 0.2473\n",
      "Epoch 28/50\n",
      "378/378 - 20s - loss: 0.1390 - mse: 0.1344 - val_loss: 0.2508 - val_mse: 0.2462\n",
      "Epoch 29/50\n",
      "378/378 - 21s - loss: 0.1375 - mse: 0.1328 - val_loss: 0.2539 - val_mse: 0.2491\n",
      "Epoch 30/50\n",
      "378/378 - 20s - loss: 0.1367 - mse: 0.1319 - val_loss: 0.2503 - val_mse: 0.2454\n",
      "Epoch 31/50\n",
      "378/378 - 19s - loss: 0.1354 - mse: 0.1306 - val_loss: 0.2546 - val_mse: 0.2496\n",
      "Epoch 32/50\n",
      "378/378 - 22s - loss: 0.1347 - mse: 0.1297 - val_loss: 0.2548 - val_mse: 0.2498\n",
      "Epoch 33/50\n",
      "378/378 - 20s - loss: 0.1334 - mse: 0.1283 - val_loss: 0.2586 - val_mse: 0.2534\n",
      "Epoch 34/50\n",
      "378/378 - 19s - loss: 0.1319 - mse: 0.1267 - val_loss: 0.2581 - val_mse: 0.2529\n",
      "Epoch 35/50\n",
      "378/378 - 20s - loss: 0.1313 - mse: 0.1261 - val_loss: 0.2685 - val_mse: 0.2631\n",
      "Epoch 36/50\n",
      "378/378 - 20s - loss: 0.1307 - mse: 0.1253 - val_loss: 0.2850 - val_mse: 0.2796\n",
      "Epoch 37/50\n",
      "378/378 - 19s - loss: 0.1299 - mse: 0.1245 - val_loss: 0.2665 - val_mse: 0.2610\n",
      "Epoch 38/50\n",
      "378/378 - 19s - loss: 0.1277 - mse: 0.1222 - val_loss: 0.2674 - val_mse: 0.2618\n",
      "Epoch 39/50\n",
      "378/378 - 20s - loss: 0.1279 - mse: 0.1223 - val_loss: 0.2804 - val_mse: 0.2747\n",
      "Epoch 40/50\n",
      "378/378 - 19s - loss: 0.1255 - mse: 0.1199 - val_loss: 0.2718 - val_mse: 0.2661\n",
      "Epoch 41/50\n",
      "378/378 - 19s - loss: 0.1243 - mse: 0.1185 - val_loss: 0.2719 - val_mse: 0.2661\n",
      "Epoch 42/50\n",
      "378/378 - 21s - loss: 0.1225 - mse: 0.1167 - val_loss: 0.2629 - val_mse: 0.2571\n",
      "Epoch 43/50\n",
      "378/378 - 22s - loss: 0.1228 - mse: 0.1169 - val_loss: 0.2663 - val_mse: 0.2604\n",
      "Epoch 44/50\n",
      "378/378 - 21s - loss: 0.1204 - mse: 0.1144 - val_loss: 0.2736 - val_mse: 0.2677\n",
      "Epoch 45/50\n",
      "378/378 - 20s - loss: 0.1188 - mse: 0.1129 - val_loss: 0.2658 - val_mse: 0.2598\n",
      "Epoch 46/50\n",
      "378/378 - 21s - loss: 0.1174 - mse: 0.1114 - val_loss: 0.2864 - val_mse: 0.2803\n",
      "Epoch 47/50\n",
      "378/378 - 20s - loss: 0.1157 - mse: 0.1097 - val_loss: 0.2657 - val_mse: 0.2596\n",
      "Epoch 48/50\n",
      "378/378 - 19s - loss: 0.1149 - mse: 0.1088 - val_loss: 0.2723 - val_mse: 0.2661\n",
      "Epoch 49/50\n",
      "378/378 - 20s - loss: 0.1136 - mse: 0.1074 - val_loss: 0.2816 - val_mse: 0.2753\n",
      "Epoch 50/50\n",
      "378/378 - 19s - loss: 0.1129 - mse: 0.1067 - val_loss: 0.2761 - val_mse: 0.2699\n"
     ]
    }
   ],
   "source": [
    "# Define Model,compile and train\n",
    "model = DeepFM(linear_feature_columns, dnn_feature_columns, task='regression')\n",
    "\n",
    "model.compile(\"adam\", \"mse\", metrics=['mse'], )\n",
    "history = model.fit(train_model_input, train['rating'].values,\n",
    "                    batch_size=256, epochs=50, verbose=2, validation_split=0.2, )"
   ]
  },
  {
   "cell_type": "code",
   "execution_count": 25,
   "metadata": {},
   "outputs": [
    {
     "data": {
      "image/png": "[encoded data removed]",
      "text/plain": [
       "<Figure size 1000x600 with 1 Axes>"
      ]
     },
     "metadata": {},
     "output_type": "display_data"
    }
   ],
   "source": [
    "import matplotlib.pyplot as plt\n",
    "\n",
    "train_loss = history.history['loss']\n",
    "val_loss = history.history['val_loss']\n",
    "\n",
    "plt.figure(figsize=(10, 6))\n",
    "plt.plot(train_loss, label='Training Loss', marker='o')\n",
    "plt.plot(val_loss, label='Validation Loss', marker='x')\n",
    "\n",
    "plt.title(\"Training vs Validation Loss\", fontsize=16)\n",
    "plt.xlabel(\"Epoch\", fontsize=14)\n",
    "plt.ylabel(\"Loss\", fontsize=14)\n",
    "plt.legend(fontsize=12)\n",
    "plt.grid(True)\n",
    "\n",
    "plt.show()"
   ]
  },
  {
   "cell_type": "code",
   "execution_count": 26,
   "metadata": {},
   "outputs": [
    {
     "name": "stdout",
     "output_type": "stream",
     "text": [
      "Test MSE: 0.271\n"
     ]
    }
   ],
   "source": [
    "# Predict\n",
    "pred_ans = model.predict(test_model_input, batch_size=256)\n",
    "\n",
    "# Evaluate Model\n",
    "mse_value = mean_squared_error(test['rating'].values, pred_ans)\n",
    "print(\"Test MSE:\", round(mse_value, 4))"
   ]
  },
  {
   "cell_type": "markdown",
   "metadata": {},
   "source": [
    "### Self Evaluation"
   ]
  },
  {
   "cell_type": "code",
   "execution_count": 28,
   "metadata": {},
   "outputs": [
    {
     "data": {
      "text/plain": [
       "(numpy.ndarray, numpy.ndarray)"
      ]
     },
     "execution_count": 28,
     "metadata": {},
     "output_type": "execute_result"
    }
   ],
   "source": [
    "ground_truth = test['rating'].values\n",
    "prediction = pred_ans\n",
    "type(ground_truth), type(prediction)"
   ]
  },
  {
   "cell_type": "code",
   "execution_count": 29,
   "metadata": {},
   "outputs": [],
   "source": [
    "indices = np.random.choice(10000, size=10, replace=False)\n",
    "sample_array1 = ground_truth[indices]\n",
    "sample_array2 = prediction[indices]"
   ]
  },
  {
   "cell_type": "code",
   "execution_count": 30,
   "metadata": {},
   "outputs": [
    {
     "data": {
      "text/html": [
       "<div>\n",
       "<style scoped>\n",
       "    .dataframe tbody tr th:only-of-type {\n",
       "        vertical-align: middle;\n",
       "    }\n",
       "\n",
       "    .dataframe tbody tr th {\n",
       "        vertical-align: top;\n",
       "    }\n",
       "\n",
       "    .dataframe thead th {\n",
       "        text-align: right;\n",
       "    }\n",
       "</style>\n",
       "<table border=\"1\" class=\"dataframe\">\n",
       "  <thead>\n",
       "    <tr style=\"text-align: right;\">\n",
       "      <th></th>\n",
       "      <th>truth</th>\n",
       "      <th>pred</th>\n",
       "      <th>diff</th>\n",
       "    </tr>\n",
       "  </thead>\n",
       "  <tbody>\n",
       "    <tr>\n",
       "      <th>0</th>\n",
       "      <td>4</td>\n",
       "      <td>4.471024</td>\n",
       "      <td>0.471024</td>\n",
       "    </tr>\n",
       "    <tr>\n",
       "      <th>1</th>\n",
       "      <td>5</td>\n",
       "      <td>4.693581</td>\n",
       "      <td>0.306419</td>\n",
       "    </tr>\n",
       "    <tr>\n",
       "      <th>2</th>\n",
       "      <td>5</td>\n",
       "      <td>4.779517</td>\n",
       "      <td>0.220483</td>\n",
       "    </tr>\n",
       "    <tr>\n",
       "      <th>3</th>\n",
       "      <td>5</td>\n",
       "      <td>4.471623</td>\n",
       "      <td>0.528377</td>\n",
       "    </tr>\n",
       "    <tr>\n",
       "      <th>4</th>\n",
       "      <td>5</td>\n",
       "      <td>4.600379</td>\n",
       "      <td>0.399621</td>\n",
       "    </tr>\n",
       "    <tr>\n",
       "      <th>5</th>\n",
       "      <td>4</td>\n",
       "      <td>4.662563</td>\n",
       "      <td>0.662563</td>\n",
       "    </tr>\n",
       "    <tr>\n",
       "      <th>6</th>\n",
       "      <td>4</td>\n",
       "      <td>4.289211</td>\n",
       "      <td>0.289211</td>\n",
       "    </tr>\n",
       "    <tr>\n",
       "      <th>7</th>\n",
       "      <td>4</td>\n",
       "      <td>4.533341</td>\n",
       "      <td>0.533341</td>\n",
       "    </tr>\n",
       "    <tr>\n",
       "      <th>8</th>\n",
       "      <td>5</td>\n",
       "      <td>4.499775</td>\n",
       "      <td>0.500225</td>\n",
       "    </tr>\n",
       "    <tr>\n",
       "      <th>9</th>\n",
       "      <td>4</td>\n",
       "      <td>4.314128</td>\n",
       "      <td>0.314128</td>\n",
       "    </tr>\n",
       "  </tbody>\n",
       "</table>\n",
       "</div>"
      ],
      "text/plain": [
       "   truth      pred      diff\n",
       "0      4  4.471024  0.471024\n",
       "1      5  4.693581  0.306419\n",
       "2      5  4.779517  0.220483\n",
       "3      5  4.471623  0.528377\n",
       "4      5  4.600379  0.399621\n",
       "5      4  4.662563  0.662563\n",
       "6      4  4.289211  0.289211\n",
       "7      4  4.533341  0.533341\n",
       "8      5  4.499775  0.500225\n",
       "9      4  4.314128  0.314128"
      ]
     },
     "execution_count": 30,
     "metadata": {},
     "output_type": "execute_result"
    }
   ],
   "source": [
    "df = pd.DataFrame({'truth': sample_array1.flatten(), 'pred': sample_array2.flatten()})\n",
    "df['diff'] = np.abs(df['truth'] - df['pred'])\n",
    "df"
   ]
  },
  {
   "cell_type": "markdown",
   "metadata": {},
   "source": [
    "### Checking with binary classifier"
   ]
  },
  {
   "cell_type": "code",
   "execution_count": 32,
   "metadata": {},
   "outputs": [],
   "source": [
    "def convert_to_bin(x):\n",
    "    if x == 4:\n",
    "        return 0\n",
    "    return 1"
   ]
  },
  {
   "cell_type": "code",
   "execution_count": 33,
   "metadata": {},
   "outputs": [
    {
     "name": "stdout",
     "output_type": "stream",
     "text": [
      "Epoch 1/50\n",
      "378/378 - 25s - loss: 0.5955 - binary_crossentropy: 0.5952 - val_loss: 0.5750 - val_binary_crossentropy: 0.5745\n",
      "Epoch 2/50\n",
      "378/378 - 20s - loss: 0.5571 - binary_crossentropy: 0.5564 - val_loss: 0.5795 - val_binary_crossentropy: 0.5787\n",
      "Epoch 3/50\n",
      "378/378 - 21s - loss: 0.5476 - binary_crossentropy: 0.5466 - val_loss: 0.5807 - val_binary_crossentropy: 0.5795\n",
      "Epoch 4/50\n",
      "378/378 - 20s - loss: 0.5423 - binary_crossentropy: 0.5410 - val_loss: 0.5820 - val_binary_crossentropy: 0.5805\n",
      "Epoch 5/50\n",
      "378/378 - 20s - loss: 0.5392 - binary_crossentropy: 0.5375 - val_loss: 0.5848 - val_binary_crossentropy: 0.5830\n",
      "Epoch 6/50\n",
      "378/378 - 23s - loss: 0.5362 - binary_crossentropy: 0.5342 - val_loss: 0.5913 - val_binary_crossentropy: 0.5892\n",
      "Epoch 7/50\n",
      "378/378 - 21s - loss: 0.5335 - binary_crossentropy: 0.5312 - val_loss: 0.5911 - val_binary_crossentropy: 0.5887\n",
      "Epoch 8/50\n",
      "378/378 - 20s - loss: 0.5314 - binary_crossentropy: 0.5288 - val_loss: 0.5901 - val_binary_crossentropy: 0.5874\n",
      "Epoch 9/50\n",
      "378/378 - 21s - loss: 0.5292 - binary_crossentropy: 0.5263 - val_loss: 0.6074 - val_binary_crossentropy: 0.6044\n",
      "Epoch 10/50\n",
      "378/378 - 20s - loss: 0.5266 - binary_crossentropy: 0.5234 - val_loss: 0.6034 - val_binary_crossentropy: 0.6001\n",
      "Epoch 11/50\n",
      "378/378 - 22s - loss: 0.5227 - binary_crossentropy: 0.5192 - val_loss: 0.6207 - val_binary_crossentropy: 0.6171\n",
      "Epoch 12/50\n",
      "378/378 - 21s - loss: 0.5182 - binary_crossentropy: 0.5145 - val_loss: 0.6202 - val_binary_crossentropy: 0.6163\n",
      "Epoch 13/50\n",
      "378/378 - 20s - loss: 0.5126 - binary_crossentropy: 0.5085 - val_loss: 0.6277 - val_binary_crossentropy: 0.6235\n",
      "Epoch 14/50\n",
      "378/378 - 20s - loss: 0.5079 - binary_crossentropy: 0.5036 - val_loss: 0.6480 - val_binary_crossentropy: 0.6436\n",
      "Epoch 15/50\n",
      "378/378 - 20s - loss: 0.5014 - binary_crossentropy: 0.4969 - val_loss: 0.6317 - val_binary_crossentropy: 0.6271\n",
      "Epoch 16/50\n",
      "378/378 - 22s - loss: 0.4939 - binary_crossentropy: 0.4891 - val_loss: 0.6739 - val_binary_crossentropy: 0.6690\n",
      "Epoch 17/50\n",
      "378/378 - 20s - loss: 0.4869 - binary_crossentropy: 0.4818 - val_loss: 0.7031 - val_binary_crossentropy: 0.6979\n",
      "Epoch 18/50\n",
      "378/378 - 20s - loss: 0.4778 - binary_crossentropy: 0.4725 - val_loss: 0.7051 - val_binary_crossentropy: 0.6996\n",
      "Epoch 19/50\n",
      "378/378 - 20s - loss: 0.4691 - binary_crossentropy: 0.4635 - val_loss: 0.7371 - val_binary_crossentropy: 0.7313\n",
      "Epoch 20/50\n",
      "378/378 - 21s - loss: 0.4590 - binary_crossentropy: 0.4531 - val_loss: 0.7568 - val_binary_crossentropy: 0.7507\n",
      "Epoch 21/50\n",
      "378/378 - 20s - loss: 0.4498 - binary_crossentropy: 0.4436 - val_loss: 0.7823 - val_binary_crossentropy: 0.7759\n",
      "Epoch 22/50\n",
      "378/378 - 20s - loss: 0.4404 - binary_crossentropy: 0.4339 - val_loss: 0.8058 - val_binary_crossentropy: 0.7992\n",
      "Epoch 23/50\n",
      "378/378 - 20s - loss: 0.4303 - binary_crossentropy: 0.4235 - val_loss: 0.8424 - val_binary_crossentropy: 0.8355\n",
      "Epoch 24/50\n",
      "378/378 - 20s - loss: 0.4220 - binary_crossentropy: 0.4150 - val_loss: 0.8718 - val_binary_crossentropy: 0.8647\n",
      "Epoch 25/50\n",
      "378/378 - 20s - loss: 0.4137 - binary_crossentropy: 0.4064 - val_loss: 0.9160 - val_binary_crossentropy: 0.9086\n",
      "Epoch 26/50\n",
      "378/378 - 20s - loss: 0.4052 - binary_crossentropy: 0.3977 - val_loss: 0.9774 - val_binary_crossentropy: 0.9697\n",
      "Epoch 27/50\n",
      "378/378 - 20s - loss: 0.3984 - binary_crossentropy: 0.3907 - val_loss: 1.0185 - val_binary_crossentropy: 1.0106\n",
      "Epoch 28/50\n",
      "378/378 - 20s - loss: 0.3908 - binary_crossentropy: 0.3827 - val_loss: 1.0369 - val_binary_crossentropy: 1.0288\n",
      "Epoch 29/50\n",
      "378/378 - 20s - loss: 0.3833 - binary_crossentropy: 0.3750 - val_loss: 1.0579 - val_binary_crossentropy: 1.0496\n",
      "Epoch 30/50\n",
      "378/378 - 20s - loss: 0.3769 - binary_crossentropy: 0.3685 - val_loss: 1.1042 - val_binary_crossentropy: 1.0956\n",
      "Epoch 31/50\n",
      "378/378 - 20s - loss: 0.3720 - binary_crossentropy: 0.3633 - val_loss: 1.1647 - val_binary_crossentropy: 1.1558\n",
      "Epoch 32/50\n",
      "378/378 - 20s - loss: 0.3658 - binary_crossentropy: 0.3569 - val_loss: 1.1457 - val_binary_crossentropy: 1.1367\n",
      "Epoch 33/50\n",
      "378/378 - 20s - loss: 0.3597 - binary_crossentropy: 0.3506 - val_loss: 1.2145 - val_binary_crossentropy: 1.2053\n",
      "Epoch 34/50\n",
      "378/378 - 20s - loss: 0.3523 - binary_crossentropy: 0.3430 - val_loss: 1.2367 - val_binary_crossentropy: 1.2273\n",
      "Epoch 35/50\n",
      "378/378 - 20s - loss: 0.3489 - binary_crossentropy: 0.3394 - val_loss: 1.2961 - val_binary_crossentropy: 1.2865\n",
      "Epoch 36/50\n",
      "378/378 - 20s - loss: 0.3428 - binary_crossentropy: 0.3331 - val_loss: 1.2356 - val_binary_crossentropy: 1.2258\n",
      "Epoch 37/50\n",
      "378/378 - 21s - loss: 0.3382 - binary_crossentropy: 0.3283 - val_loss: 1.3344 - val_binary_crossentropy: 1.3244\n",
      "Epoch 38/50\n",
      "378/378 - 20s - loss: 0.3343 - binary_crossentropy: 0.3242 - val_loss: 1.3365 - val_binary_crossentropy: 1.3263\n",
      "Epoch 39/50\n",
      "378/378 - 20s - loss: 0.3295 - binary_crossentropy: 0.3192 - val_loss: 1.4040 - val_binary_crossentropy: 1.3936\n",
      "Epoch 40/50\n",
      "378/378 - 20s - loss: 0.3241 - binary_crossentropy: 0.3136 - val_loss: 1.3273 - val_binary_crossentropy: 1.3168\n",
      "Epoch 41/50\n",
      "378/378 - 20s - loss: 0.3197 - binary_crossentropy: 0.3090 - val_loss: 1.4161 - val_binary_crossentropy: 1.4054\n",
      "Epoch 42/50\n",
      "378/378 - 20s - loss: 0.3177 - binary_crossentropy: 0.3068 - val_loss: 1.4919 - val_binary_crossentropy: 1.4809\n",
      "Epoch 43/50\n",
      "378/378 - 20s - loss: 0.3119 - binary_crossentropy: 0.3009 - val_loss: 1.4631 - val_binary_crossentropy: 1.4520\n",
      "Epoch 44/50\n",
      "378/378 - 20s - loss: 0.3066 - binary_crossentropy: 0.2954 - val_loss: 1.5170 - val_binary_crossentropy: 1.5057\n",
      "Epoch 45/50\n",
      "378/378 - 20s - loss: 0.3031 - binary_crossentropy: 0.2918 - val_loss: 1.5453 - val_binary_crossentropy: 1.5338\n",
      "Epoch 46/50\n",
      "378/378 - 20s - loss: 0.2986 - binary_crossentropy: 0.2871 - val_loss: 1.5544 - val_binary_crossentropy: 1.5428\n",
      "Epoch 47/50\n",
      "378/378 - 20s - loss: 0.2970 - binary_crossentropy: 0.2853 - val_loss: 1.6264 - val_binary_crossentropy: 1.6146\n",
      "Epoch 48/50\n",
      "378/378 - 20s - loss: 0.2921 - binary_crossentropy: 0.2803 - val_loss: 1.5878 - val_binary_crossentropy: 1.5759\n",
      "Epoch 49/50\n",
      "378/378 - 20s - loss: 0.2863 - binary_crossentropy: 0.2743 - val_loss: 1.6537 - val_binary_crossentropy: 1.6416\n",
      "Epoch 50/50\n",
      "378/378 - 20s - loss: 0.2863 - binary_crossentropy: 0.2742 - val_loss: 1.6303 - val_binary_crossentropy: 1.6181\n"
     ]
    }
   ],
   "source": [
    "# Define Model\n",
    "b_model = DeepFM(linear_feature_columns, dnn_feature_columns, task='binary')\n",
    "b_model.compile(\"adam\", \"binary_crossentropy\",\n",
    "                metrics=['binary_crossentropy'], )\n",
    "\n",
    "# Train Model\n",
    "b_history = b_model.fit(train_model_input, train['rating'].apply(convert_to_bin).values,\n",
    "                    batch_size=256, epochs=50, verbose=2, validation_split=0.2, )"
   ]
  },
  {
   "cell_type": "code",
   "execution_count": 34,
   "metadata": {},
   "outputs": [
    {
     "data": {
      "image/png": "[encoded data removed]",
      "text/plain": [
       "<Figure size 1000x600 with 1 Axes>"
      ]
     },
     "metadata": {},
     "output_type": "display_data"
    }
   ],
   "source": [
    "import matplotlib.pyplot as plt\n",
    "\n",
    "train_loss = b_history.history['loss']\n",
    "val_loss = b_history.history['val_loss']\n",
    "\n",
    "plt.figure(figsize=(10, 6))\n",
    "plt.plot(train_loss, label='Training Loss', marker='o')\n",
    "plt.plot(val_loss, label='Validation Loss', marker='x')\n",
    "\n",
    "plt.title(\"Training vs Validation Loss\", fontsize=16)\n",
    "plt.xlabel(\"Epoch\", fontsize=14)\n",
    "plt.ylabel(\"Loss\", fontsize=14)\n",
    "plt.legend(fontsize=12)\n",
    "plt.grid(True)\n",
    "\n",
    "plt.show()"
   ]
  },
  {
   "cell_type": "markdown",
   "metadata": {},
   "source": [
    "### Inference in regression model"
   ]
  },
  {
   "cell_type": "code",
   "execution_count": 79,
   "metadata": {},
   "outputs": [],
   "source": [
    "index = 23\n",
    "\n",
    "def return_single_data(index):\n",
    "    single_input_data = {\n",
    "        'user_id': np.array([test_model_input['user_id'].iloc[index]]),\n",
    "        'recipe_id': np.array([test_model_input['recipe_id'].iloc[index]]),\n",
    "        'year': np.array([test_model_input['year'].iloc[index]]),\n",
    "        'month': np.array([test_model_input['month'].iloc[index]]),\n",
    "        'day': np.array([test_model_input['day'].iloc[index]]),\n",
    "        'hour': np.array([test_model_input['hour'].iloc[index]]),\n",
    "        'category': np.array([test_model_input['category'].iloc[index]]),\n",
    "        'aver_rate': np.array([test_model_input['aver_rate'].iloc[index]]),\n",
    "        'nutritions': test_model_input['nutritions'][index].reshape(1, -1),\n",
    "        'ingredients': test_model_input['ingredients'][index].reshape(1, -1),\n",
    "        'tags': test_model_input['tags'][index].reshape(1, -1)\n",
    "    }\n",
    "    return single_input_data\n",
    "\n",
    "single_input_data = return_single_data(index)"
   ]
  },
  {
   "cell_type": "code",
   "execution_count": 80,
   "metadata": {},
   "outputs": [
    {
     "data": {
      "text/plain": [
       "{'user_id': array(['51226'], dtype='<U5'),\n",
       " 'recipe_id': array(['228686'], dtype='<U6'),\n",
       " 'year': array(['2012'], dtype='<U4'),\n",
       " 'month': array(['11'], dtype='<U2'),\n",
       " 'day': array(['23'], dtype='<U2'),\n",
       " 'hour': array(['0'], dtype='<U1'),\n",
       " 'category': array(['appetizer'], dtype='<U9'),\n",
       " 'aver_rate': array([4.57894754]),\n",
       " 'nutritions': array([[3.95611673e-02, 5.81941177e-03, 7.81070368e-06, 4.67971037e-03,\n",
       "         3.76681778e-02, 2.28290650e-01, 7.66702013e-01, 4.14875652e-01,\n",
       "         2.04133646e-04, 1.69604645e-02, 1.98033102e-02, 7.89322117e-02,\n",
       "         7.70655002e-03, 9.76337546e-03, 4.32028977e-05, 0.00000000e+00,\n",
       "         6.69402273e-05, 1.53972359e-02, 1.92771526e-02, 7.18303663e-02]]),\n",
       " 'ingredients': array([['sweet potatoes', 'olive oil', 'brown sugar',\n",
       "         'Cajun pepper seasoning', 'kosher salt', '0', '0', '0', '0', '0',\n",
       "         '0', '0', '0', '0', '0', '0', '0', '0', '0', '0', '0', '0', '0',\n",
       "         '0', '0', '0', '0', '0']], dtype='<U111'),\n",
       " 'tags': array([['60-minutes-or-less', 'yams-sweet-potatoes', 'low-protein',\n",
       "         'healthy', '5-ingredients-or-less', 'side-dishes', 'potatoes',\n",
       "         'vegetables', 'easy', 'dietary', 'low-sodium', 'low-cholesterol',\n",
       "         'low-saturated-fat', 'low-calorie', 'low-carb', 'healthy-2',\n",
       "         'low-in-something', '0', '0', '0', '0', '0', '0', '0', '0', '0',\n",
       "         '0', '0', '0', '0', '0', '0', '0', '0', '0', '0', '0', '0', '0',\n",
       "         '0', '0', '0', '0', '0', '0', '0', '0', '0', '0', '0']],\n",
       "       dtype='<U32')}"
      ]
     },
     "execution_count": 80,
     "metadata": {},
     "output_type": "execute_result"
    }
   ],
   "source": [
    "single_input_data"
   ]
  },
  {
   "cell_type": "code",
   "execution_count": 85,
   "metadata": {},
   "outputs": [
    {
     "data": {
      "text/plain": [
       "(array([[4.664038]], dtype=float32), 5)"
      ]
     },
     "execution_count": 85,
     "metadata": {},
     "output_type": "execute_result"
    }
   ],
   "source": [
    "model.predict(single_input_data), test.iloc[index].rating"
   ]
  },
  {
   "cell_type": "code",
   "execution_count": 86,
   "metadata": {},
   "outputs": [
    {
     "data": {
      "text/plain": [
       "(array([[4.239792]], dtype=float32), 4)"
      ]
     },
     "execution_count": 86,
     "metadata": {},
     "output_type": "execute_result"
    }
   ],
   "source": [
    "model.predict(return_single_data(34)), test.iloc[34].rating"
   ]
  },
  {
   "cell_type": "code",
   "execution_count": null,
   "metadata": {},
   "outputs": [],
   "source": []
  }
 ],
 "metadata": {
  "kernelspec": {
   "display_name": "Python 3",
   "language": "python",
   "name": "python3"
  },
  "language_info": {
   "codemirror_mode": {
    "name": "ipython",
    "version": 3
   },
   "file_extension": ".py",
   "mimetype": "text/x-python",
   "name": "python",
   "nbconvert_exporter": "python",
   "pygments_lexer": "ipython3",
   "version": "3.7.12"
  }
 },
 "nbformat": 4,
 "nbformat_minor": 2
}
