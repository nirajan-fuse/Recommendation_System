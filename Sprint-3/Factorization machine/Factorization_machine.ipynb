{
 "cells": [
  {
   "cell_type": "code",
   "execution_count": 1,
   "metadata": {},
   "outputs": [],
   "source": [
    "from collections import defaultdict\n",
    "\n",
    "import matplotlib.pyplot as plt\n",
    "import numpy as np\n",
    "import pandas as pd\n",
    "import seaborn as sns\n",
    "from sklearn.preprocessing import LabelEncoder\n",
    "from sklearn.manifold import TSNE\n",
    "\n",
    "import torch\n",
    "import torch.nn.functional as F\n",
    "from torch import nn, optim\n",
    "from torch.utils.data import Dataset, DataLoader\n",
    "\n",
    "import warnings\n",
    "warnings.filterwarnings(\"ignore\", category=FutureWarning) "
   ]
  },
  {
   "cell_type": "code",
   "execution_count": 2,
   "metadata": {},
   "outputs": [
    {
     "data": {
      "text/plain": [
       "device(type='cuda')"
      ]
     },
     "execution_count": 2,
     "metadata": {},
     "output_type": "execute_result"
    }
   ],
   "source": [
    "device = torch.device('cuda' if torch.cuda.is_available() else 'cpu')\n",
    "device"
   ]
  },
  {
   "cell_type": "markdown",
   "metadata": {},
   "source": [
    "### 1) Describe the problem and explore dataset\n",
    "**Problem:** Given a dataset of users, movies, and ratings. Use factorization machines to give movie recommendations.<br>\n",
    "**Dataset:** ml-1m.zip from https://grouplens.org/datasets/movielens/<br>\n",
    "**Data features:** movies, ratings, timestamps, titles, and genres. User metata features: age, gender, occupation, zip code. Movies without ratings are removed."
   ]
  },
  {
   "cell_type": "code",
   "execution_count": 3,
   "metadata": {},
   "outputs": [],
   "source": [
    "# Data:     https://files.grouplens.org/datasets/movielens/ml-1m.zip\n",
    "# Metadata: https://files.grouplens.org/datasets/movielens/ml-1m-README.txt\n",
    "DATA_DIR = '../data/ml-1m/'\n",
    "\n",
    "df_movies = pd.read_csv(DATA_DIR+'movies.dat', sep='::',\n",
    "                        names=['movieId', 'title','genres'],\n",
    "                        encoding='latin-1',\n",
    "                        engine='python')\n",
    "\n",
    "user_cols = ['userId', 'gender' ,'age', 'occupation', 'zipcode']\n",
    "df_users = pd.read_csv(DATA_DIR+'users.dat', sep='::',\n",
    "                       header=None,\n",
    "                       names=user_cols,\n",
    "                       engine='python')\n",
    "\n",
    "df = pd.read_csv(DATA_DIR+'ratings.dat', sep='::',\n",
    "                 names=['userId', 'movieId', 'rating', 'time'],\n",
    "                 engine='python')\n",
    "\n",
    "# Left merge removes movies with no rating. # of unique movies: 3883 -> 3706\n",
    "df = df.merge(df_movies, on='movieId', how='left')\n",
    "df = df.merge(df_users, on='userId', how='left')\n",
    "df = df.sort_values(['userId', 'time'], ascending=[True, True]).reset_index(drop=True)"
   ]
  },
  {
   "cell_type": "code",
   "execution_count": 4,
   "metadata": {},
   "outputs": [
    {
     "data": {
      "text/html": [
       "<div>\n",
       "<style scoped>\n",
       "    .dataframe tbody tr th:only-of-type {\n",
       "        vertical-align: middle;\n",
       "    }\n",
       "\n",
       "    .dataframe tbody tr th {\n",
       "        vertical-align: top;\n",
       "    }\n",
       "\n",
       "    .dataframe thead th {\n",
       "        text-align: right;\n",
       "    }\n",
       "</style>\n",
       "<table border=\"1\" class=\"dataframe\">\n",
       "  <thead>\n",
       "    <tr style=\"text-align: right;\">\n",
       "      <th></th>\n",
       "      <th>userId</th>\n",
       "      <th>movieId</th>\n",
       "      <th>rating</th>\n",
       "      <th>time</th>\n",
       "      <th>title</th>\n",
       "      <th>genres</th>\n",
       "      <th>gender</th>\n",
       "      <th>age</th>\n",
       "      <th>occupation</th>\n",
       "      <th>zipcode</th>\n",
       "    </tr>\n",
       "  </thead>\n",
       "  <tbody>\n",
       "    <tr>\n",
       "      <th>0</th>\n",
       "      <td>1</td>\n",
       "      <td>3186</td>\n",
       "      <td>4</td>\n",
       "      <td>978300019</td>\n",
       "      <td>Girl, Interrupted (1999)</td>\n",
       "      <td>Drama</td>\n",
       "      <td>F</td>\n",
       "      <td>1</td>\n",
       "      <td>10</td>\n",
       "      <td>48067</td>\n",
       "    </tr>\n",
       "    <tr>\n",
       "      <th>1</th>\n",
       "      <td>1</td>\n",
       "      <td>1270</td>\n",
       "      <td>5</td>\n",
       "      <td>978300055</td>\n",
       "      <td>Back to the Future (1985)</td>\n",
       "      <td>Comedy|Sci-Fi</td>\n",
       "      <td>F</td>\n",
       "      <td>1</td>\n",
       "      <td>10</td>\n",
       "      <td>48067</td>\n",
       "    </tr>\n",
       "    <tr>\n",
       "      <th>2</th>\n",
       "      <td>1</td>\n",
       "      <td>1721</td>\n",
       "      <td>4</td>\n",
       "      <td>978300055</td>\n",
       "      <td>Titanic (1997)</td>\n",
       "      <td>Drama|Romance</td>\n",
       "      <td>F</td>\n",
       "      <td>1</td>\n",
       "      <td>10</td>\n",
       "      <td>48067</td>\n",
       "    </tr>\n",
       "    <tr>\n",
       "      <th>3</th>\n",
       "      <td>1</td>\n",
       "      <td>1022</td>\n",
       "      <td>5</td>\n",
       "      <td>978300055</td>\n",
       "      <td>Cinderella (1950)</td>\n",
       "      <td>Animation|Children's|Musical</td>\n",
       "      <td>F</td>\n",
       "      <td>1</td>\n",
       "      <td>10</td>\n",
       "      <td>48067</td>\n",
       "    </tr>\n",
       "    <tr>\n",
       "      <th>4</th>\n",
       "      <td>1</td>\n",
       "      <td>2340</td>\n",
       "      <td>3</td>\n",
       "      <td>978300103</td>\n",
       "      <td>Meet Joe Black (1998)</td>\n",
       "      <td>Romance</td>\n",
       "      <td>F</td>\n",
       "      <td>1</td>\n",
       "      <td>10</td>\n",
       "      <td>48067</td>\n",
       "    </tr>\n",
       "  </tbody>\n",
       "</table>\n",
       "</div>"
      ],
      "text/plain": [
       "   userId  movieId  rating       time                      title  \\\n",
       "0       1     3186       4  978300019   Girl, Interrupted (1999)   \n",
       "1       1     1270       5  978300055  Back to the Future (1985)   \n",
       "2       1     1721       4  978300055             Titanic (1997)   \n",
       "3       1     1022       5  978300055          Cinderella (1950)   \n",
       "4       1     2340       3  978300103      Meet Joe Black (1998)   \n",
       "\n",
       "                         genres gender  age  occupation zipcode  \n",
       "0                         Drama      F    1          10   48067  \n",
       "1                 Comedy|Sci-Fi      F    1          10   48067  \n",
       "2                 Drama|Romance      F    1          10   48067  \n",
       "3  Animation|Children's|Musical      F    1          10   48067  \n",
       "4                       Romance      F    1          10   48067  "
      ]
     },
     "execution_count": 4,
     "metadata": {},
     "output_type": "execute_result"
    }
   ],
   "source": [
    "df.head()"
   ]
  },
  {
   "cell_type": "code",
   "execution_count": 5,
   "metadata": {},
   "outputs": [
    {
     "data": {
      "image/png": "[encoded data removed]",
      "text/plain": [
       "<Figure size 400x150 with 1 Axes>"
      ]
     },
     "metadata": {},
     "output_type": "display_data"
    }
   ],
   "source": [
    "plt.figure(figsize=(4, 1.5))\n",
    "bins = np.arange(1, 6, 0.5) - 0.25\n",
    "plt.hist(df.rating.values, bins=bins)\n",
    "plt.xticks(np.arange(1, 5.01, 1))\n",
    "plt.title('Num Ratings vs Rating')\n",
    "plt.xlabel('Rating')\n",
    "plt.ylabel('Num Ratings')\n",
    "plt.grid();"
   ]
  },
  {
   "cell_type": "markdown",
   "metadata": {},
   "source": [
    "### 2) Preprocess dataset\n",
    "**i. Convert columns into categorical with defaultdict(LabelEncoder)**\n",
    "\n",
    "This remaps column range to [0, len(unique(column))]. For example, the raw max movieId is 3952, but there are only 3706 unique movieIds. This remapping (3952 -> 3706) is important for reducing memory usage in the model’s embeddings. Note the “_index” columns added. These are the labels after labelEncoding."
   ]
  },
  {
   "cell_type": "code",
   "execution_count": 6,
   "metadata": {},
   "outputs": [
    {
     "name": "stdout",
     "output_type": "stream",
     "text": [
      "# unique userId: 6040\n",
      "# unique movieId: 3706\n",
      "# unique gender: 2\n",
      "# unique age: 7\n",
      "# unique occupation: 21\n",
      "Min # of ratings per user: 20\n",
      "Min/Max rating: 1 / 5\n",
      "df.shape: (1000209, 15)\n"
     ]
    }
   ],
   "source": [
    "# Convert users and movies into categorical - use LabelEncoder\n",
    "# Column categorical range remapped between [0, len(df.column.unique())-1]\n",
    "# Remapping is important to reduce memory size of nn.Embeddings\n",
    "d = defaultdict(LabelEncoder)\n",
    "cols_cat = ['userId', 'movieId', 'gender', 'age', 'occupation']\n",
    "for c in cols_cat:\n",
    "    d[c].fit(df[c].unique())\n",
    "    df[c+'_index'] = d[c].transform(df[c])\n",
    "    print(f'# unique {c}: {len(d[c].classes_)}')\n",
    "\n",
    "min_num_ratings = df.groupby(['userId'])['userId'].transform(len).min()\n",
    "print(f'Min # of ratings per user: {min_num_ratings}')\n",
    "print(f'Min/Max rating: {df.rating.min()} / {df.rating.max()}')\n",
    "print(f'df.shape: {df.shape}')"
   ]
  },
  {
   "cell_type": "code",
   "execution_count": 7,
   "metadata": {},
   "outputs": [
    {
     "data": {
      "text/html": [
       "<div>\n",
       "<style scoped>\n",
       "    .dataframe tbody tr th:only-of-type {\n",
       "        vertical-align: middle;\n",
       "    }\n",
       "\n",
       "    .dataframe tbody tr th {\n",
       "        vertical-align: top;\n",
       "    }\n",
       "\n",
       "    .dataframe thead th {\n",
       "        text-align: right;\n",
       "    }\n",
       "</style>\n",
       "<table border=\"1\" class=\"dataframe\">\n",
       "  <thead>\n",
       "    <tr style=\"text-align: right;\">\n",
       "      <th></th>\n",
       "      <th>userId</th>\n",
       "      <th>movieId</th>\n",
       "      <th>rating</th>\n",
       "      <th>time</th>\n",
       "      <th>title</th>\n",
       "      <th>genres</th>\n",
       "      <th>gender</th>\n",
       "      <th>age</th>\n",
       "      <th>occupation</th>\n",
       "      <th>zipcode</th>\n",
       "      <th>userId_index</th>\n",
       "      <th>movieId_index</th>\n",
       "      <th>gender_index</th>\n",
       "      <th>age_index</th>\n",
       "      <th>occupation_index</th>\n",
       "    </tr>\n",
       "  </thead>\n",
       "  <tbody>\n",
       "    <tr>\n",
       "      <th>0</th>\n",
       "      <td>1</td>\n",
       "      <td>3186</td>\n",
       "      <td>4</td>\n",
       "      <td>978300019</td>\n",
       "      <td>Girl, Interrupted (1999)</td>\n",
       "      <td>Drama</td>\n",
       "      <td>F</td>\n",
       "      <td>1</td>\n",
       "      <td>10</td>\n",
       "      <td>48067</td>\n",
       "      <td>0</td>\n",
       "      <td>2969</td>\n",
       "      <td>0</td>\n",
       "      <td>0</td>\n",
       "      <td>10</td>\n",
       "    </tr>\n",
       "    <tr>\n",
       "      <th>1</th>\n",
       "      <td>1</td>\n",
       "      <td>1270</td>\n",
       "      <td>5</td>\n",
       "      <td>978300055</td>\n",
       "      <td>Back to the Future (1985)</td>\n",
       "      <td>Comedy|Sci-Fi</td>\n",
       "      <td>F</td>\n",
       "      <td>1</td>\n",
       "      <td>10</td>\n",
       "      <td>48067</td>\n",
       "      <td>0</td>\n",
       "      <td>1178</td>\n",
       "      <td>0</td>\n",
       "      <td>0</td>\n",
       "      <td>10</td>\n",
       "    </tr>\n",
       "    <tr>\n",
       "      <th>2</th>\n",
       "      <td>1</td>\n",
       "      <td>1721</td>\n",
       "      <td>4</td>\n",
       "      <td>978300055</td>\n",
       "      <td>Titanic (1997)</td>\n",
       "      <td>Drama|Romance</td>\n",
       "      <td>F</td>\n",
       "      <td>1</td>\n",
       "      <td>10</td>\n",
       "      <td>48067</td>\n",
       "      <td>0</td>\n",
       "      <td>1574</td>\n",
       "      <td>0</td>\n",
       "      <td>0</td>\n",
       "      <td>10</td>\n",
       "    </tr>\n",
       "    <tr>\n",
       "      <th>3</th>\n",
       "      <td>1</td>\n",
       "      <td>1022</td>\n",
       "      <td>5</td>\n",
       "      <td>978300055</td>\n",
       "      <td>Cinderella (1950)</td>\n",
       "      <td>Animation|Children's|Musical</td>\n",
       "      <td>F</td>\n",
       "      <td>1</td>\n",
       "      <td>10</td>\n",
       "      <td>48067</td>\n",
       "      <td>0</td>\n",
       "      <td>957</td>\n",
       "      <td>0</td>\n",
       "      <td>0</td>\n",
       "      <td>10</td>\n",
       "    </tr>\n",
       "    <tr>\n",
       "      <th>4</th>\n",
       "      <td>1</td>\n",
       "      <td>2340</td>\n",
       "      <td>3</td>\n",
       "      <td>978300103</td>\n",
       "      <td>Meet Joe Black (1998)</td>\n",
       "      <td>Romance</td>\n",
       "      <td>F</td>\n",
       "      <td>1</td>\n",
       "      <td>10</td>\n",
       "      <td>48067</td>\n",
       "      <td>0</td>\n",
       "      <td>2147</td>\n",
       "      <td>0</td>\n",
       "      <td>0</td>\n",
       "      <td>10</td>\n",
       "    </tr>\n",
       "  </tbody>\n",
       "</table>\n",
       "</div>"
      ],
      "text/plain": [
       "   userId  movieId  rating       time                      title  \\\n",
       "0       1     3186       4  978300019   Girl, Interrupted (1999)   \n",
       "1       1     1270       5  978300055  Back to the Future (1985)   \n",
       "2       1     1721       4  978300055             Titanic (1997)   \n",
       "3       1     1022       5  978300055          Cinderella (1950)   \n",
       "4       1     2340       3  978300103      Meet Joe Black (1998)   \n",
       "\n",
       "                         genres gender  age  occupation zipcode  userId_index  \\\n",
       "0                         Drama      F    1          10   48067             0   \n",
       "1                 Comedy|Sci-Fi      F    1          10   48067             0   \n",
       "2                 Drama|Romance      F    1          10   48067             0   \n",
       "3  Animation|Children's|Musical      F    1          10   48067             0   \n",
       "4                       Romance      F    1          10   48067             0   \n",
       "\n",
       "   movieId_index  gender_index  age_index  occupation_index  \n",
       "0           2969             0          0                10  \n",
       "1           1178             0          0                10  \n",
       "2           1574             0          0                10  \n",
       "3            957             0          0                10  \n",
       "4           2147             0          0                10  "
      ]
     },
     "execution_count": 7,
     "metadata": {},
     "output_type": "execute_result"
    }
   ],
   "source": [
    "df.head()"
   ]
  },
  {
   "cell_type": "markdown",
   "metadata": {},
   "source": [
    "**ii) Add feature offsets to allow factorization machine to use 1 embedding matrix**\n",
    "\n",
    "Original paper uses 1-hot encoding, here we use ordinal encoding to reduce memory size.\n",
    "\n",
    "For factorization machines, one additional step is needed after label encoding: adding feature offsets. By adding feature offsets, we’re able to use only 1 embedding matrix versus using multiple embedding matrix + a for loop. This is important to increase training efficiency."
   ]
  },
  {
   "cell_type": "code",
   "execution_count": 8,
   "metadata": {},
   "outputs": [
    {
     "name": "stdout",
     "output_type": "stream",
     "text": [
      "Offset - feature\n",
      "0      - userId_index\n",
      "6040   - movieId_index\n",
      "9746   - gender_index\n",
      "9748   - age_index\n",
      "9755   - occupation_index\n"
     ]
    },
    {
     "data": {
      "text/html": [
       "<div>\n",
       "<style scoped>\n",
       "    .dataframe tbody tr th:only-of-type {\n",
       "        vertical-align: middle;\n",
       "    }\n",
       "\n",
       "    .dataframe tbody tr th {\n",
       "        vertical-align: top;\n",
       "    }\n",
       "\n",
       "    .dataframe thead th {\n",
       "        text-align: right;\n",
       "    }\n",
       "</style>\n",
       "<table border=\"1\" class=\"dataframe\">\n",
       "  <thead>\n",
       "    <tr style=\"text-align: right;\">\n",
       "      <th></th>\n",
       "      <th>userId</th>\n",
       "      <th>movieId</th>\n",
       "      <th>rating</th>\n",
       "      <th>time</th>\n",
       "      <th>title</th>\n",
       "      <th>genres</th>\n",
       "      <th>gender</th>\n",
       "      <th>age</th>\n",
       "      <th>occupation</th>\n",
       "      <th>zipcode</th>\n",
       "      <th>userId_index</th>\n",
       "      <th>movieId_index</th>\n",
       "      <th>gender_index</th>\n",
       "      <th>age_index</th>\n",
       "      <th>occupation_index</th>\n",
       "    </tr>\n",
       "  </thead>\n",
       "  <tbody>\n",
       "    <tr>\n",
       "      <th>0</th>\n",
       "      <td>1</td>\n",
       "      <td>3186</td>\n",
       "      <td>4</td>\n",
       "      <td>978300019</td>\n",
       "      <td>Girl, Interrupted (1999)</td>\n",
       "      <td>Drama</td>\n",
       "      <td>F</td>\n",
       "      <td>1</td>\n",
       "      <td>10</td>\n",
       "      <td>48067</td>\n",
       "      <td>0</td>\n",
       "      <td>9009</td>\n",
       "      <td>9746</td>\n",
       "      <td>9748</td>\n",
       "      <td>9765</td>\n",
       "    </tr>\n",
       "    <tr>\n",
       "      <th>1</th>\n",
       "      <td>1</td>\n",
       "      <td>1270</td>\n",
       "      <td>5</td>\n",
       "      <td>978300055</td>\n",
       "      <td>Back to the Future (1985)</td>\n",
       "      <td>Comedy|Sci-Fi</td>\n",
       "      <td>F</td>\n",
       "      <td>1</td>\n",
       "      <td>10</td>\n",
       "      <td>48067</td>\n",
       "      <td>0</td>\n",
       "      <td>7218</td>\n",
       "      <td>9746</td>\n",
       "      <td>9748</td>\n",
       "      <td>9765</td>\n",
       "    </tr>\n",
       "    <tr>\n",
       "      <th>2</th>\n",
       "      <td>1</td>\n",
       "      <td>1721</td>\n",
       "      <td>4</td>\n",
       "      <td>978300055</td>\n",
       "      <td>Titanic (1997)</td>\n",
       "      <td>Drama|Romance</td>\n",
       "      <td>F</td>\n",
       "      <td>1</td>\n",
       "      <td>10</td>\n",
       "      <td>48067</td>\n",
       "      <td>0</td>\n",
       "      <td>7614</td>\n",
       "      <td>9746</td>\n",
       "      <td>9748</td>\n",
       "      <td>9765</td>\n",
       "    </tr>\n",
       "  </tbody>\n",
       "</table>\n",
       "</div>"
      ],
      "text/plain": [
       "   userId  movieId  rating       time                      title  \\\n",
       "0       1     3186       4  978300019   Girl, Interrupted (1999)   \n",
       "1       1     1270       5  978300055  Back to the Future (1985)   \n",
       "2       1     1721       4  978300055             Titanic (1997)   \n",
       "\n",
       "          genres gender  age  occupation zipcode  userId_index  movieId_index  \\\n",
       "0          Drama      F    1          10   48067             0           9009   \n",
       "1  Comedy|Sci-Fi      F    1          10   48067             0           7218   \n",
       "2  Drama|Romance      F    1          10   48067             0           7614   \n",
       "\n",
       "   gender_index  age_index  occupation_index  \n",
       "0          9746       9748              9765  \n",
       "1          9746       9748              9765  \n",
       "2          9746       9748              9765  "
      ]
     },
     "execution_count": 8,
     "metadata": {},
     "output_type": "execute_result"
    }
   ],
   "source": [
    "# To use 1 embedding matrix, need to calculate & add offsets to each feature column\n",
    "# Orig. paper uses 1-hot encoding, here we use ordinal encoding\n",
    "# Ordinal encoding reduces memory size. Important for train speed\n",
    "feature_cols = ['userId_index', 'movieId_index', 'gender_index', 'age_index',\n",
    "                'occupation_index']\n",
    "# Get offsets\n",
    "feature_sizes = {}\n",
    "for feat in feature_cols:\n",
    "    feature_sizes[feat] = len(df[feat].unique())\n",
    "feature_offsets = {}\n",
    "NEXT_OFFSET = 0\n",
    "for k,v in feature_sizes.items():\n",
    "    feature_offsets[k] = NEXT_OFFSET\n",
    "    NEXT_OFFSET += v\n",
    "\n",
    "# Add offsets to each feature column\n",
    "for col in feature_cols:\n",
    "    df[col] = df[col].apply(lambda x: x + feature_offsets[col])\n",
    "print('Offset - feature')\n",
    "for k, os in feature_offsets.items():\n",
    "    print(f'{os:<6} - {k}')\n",
    "df.head(3)"
   ]
  },
  {
   "cell_type": "markdown",
   "metadata": {},
   "source": [
    "**iii) Split data into train/validation. Create MovieDatasets + dataloaders**\n",
    "\n",
    "Each user has minimum 20 ratings. Use most recent 5 ratings for validation. Use remaining data for train. Features used are:\n",
    "1) userId_index\n",
    "2) movieId_index\n",
    "3) gender_index\n",
    "4) age_index\n",
    "5) occupation_index"
   ]
  },
  {
   "cell_type": "code",
   "execution_count": 9,
   "metadata": {},
   "outputs": [
    {
     "name": "stdout",
     "output_type": "stream",
     "text": [
      "df_train shape: (970009, 6)\n",
      "df_val shape: (30200, 6)\n"
     ]
    },
    {
     "data": {
      "text/html": [
       "<div>\n",
       "<style scoped>\n",
       "    .dataframe tbody tr th:only-of-type {\n",
       "        vertical-align: middle;\n",
       "    }\n",
       "\n",
       "    .dataframe tbody tr th {\n",
       "        vertical-align: top;\n",
       "    }\n",
       "\n",
       "    .dataframe thead th {\n",
       "        text-align: right;\n",
       "    }\n",
       "</style>\n",
       "<table border=\"1\" class=\"dataframe\">\n",
       "  <thead>\n",
       "    <tr style=\"text-align: right;\">\n",
       "      <th></th>\n",
       "      <th>rating</th>\n",
       "      <th>userId_index</th>\n",
       "      <th>movieId_index</th>\n",
       "      <th>gender_index</th>\n",
       "      <th>age_index</th>\n",
       "      <th>occupation_index</th>\n",
       "    </tr>\n",
       "  </thead>\n",
       "  <tbody>\n",
       "    <tr>\n",
       "      <th>0</th>\n",
       "      <td>4</td>\n",
       "      <td>0</td>\n",
       "      <td>9009</td>\n",
       "      <td>9746</td>\n",
       "      <td>9748</td>\n",
       "      <td>9765</td>\n",
       "    </tr>\n",
       "    <tr>\n",
       "      <th>1</th>\n",
       "      <td>5</td>\n",
       "      <td>0</td>\n",
       "      <td>7218</td>\n",
       "      <td>9746</td>\n",
       "      <td>9748</td>\n",
       "      <td>9765</td>\n",
       "    </tr>\n",
       "    <tr>\n",
       "      <th>2</th>\n",
       "      <td>4</td>\n",
       "      <td>0</td>\n",
       "      <td>7614</td>\n",
       "      <td>9746</td>\n",
       "      <td>9748</td>\n",
       "      <td>9765</td>\n",
       "    </tr>\n",
       "  </tbody>\n",
       "</table>\n",
       "</div>"
      ],
      "text/plain": [
       "   rating  userId_index  movieId_index  gender_index  age_index  \\\n",
       "0       4             0           9009          9746       9748   \n",
       "1       5             0           7218          9746       9748   \n",
       "2       4             0           7614          9746       9748   \n",
       "\n",
       "   occupation_index  \n",
       "0              9765  \n",
       "1              9765  \n",
       "2              9765  "
      ]
     },
     "execution_count": 9,
     "metadata": {},
     "output_type": "execute_result"
    }
   ],
   "source": [
    "# Make train and val dataset. Use last 5 rated movies per user\n",
    "# 6040 unique users. Each user has minimum 20 rated movies\n",
    "THRES = 5\n",
    "cols = ['rating', *feature_cols]\n",
    "df_train = df[cols].groupby('userId_index').head(-THRES).reset_index(drop=True)\n",
    "df_val = df[cols].groupby('userId_index').tail(THRES).reset_index(drop=True)\n",
    "print(f'df_train shape: {df_train.shape}')\n",
    "print(f'df_val shape: {df_val.shape}')\n",
    "df_train.head(3)"
   ]
  },
  {
   "cell_type": "markdown",
   "metadata": {},
   "source": [
    "Check dataloader shapes and output."
   ]
  },
  {
   "cell_type": "code",
   "execution_count": 10,
   "metadata": {},
   "outputs": [],
   "source": [
    "class MovieDataset(Dataset):\n",
    "    \"\"\" Movie DS uses x_feats and y_feat \"\"\"\n",
    "    def __init__(self, df, x_feats, y_feat):\n",
    "        super().__init__()\n",
    "        self.df = df\n",
    "        self.x_feats = df[x_feats].values\n",
    "        self.y_rating = df[y_feat].values\n",
    "    def __len__(self):\n",
    "        return len(self.df)\n",
    "    def __getitem__(self, idx):\n",
    "        return self.x_feats[idx], self.y_rating[idx]"
   ]
  },
  {
   "cell_type": "code",
   "execution_count": 11,
   "metadata": {},
   "outputs": [
    {
     "name": "stdout",
     "output_type": "stream",
     "text": [
      "torch.Size([1024, 5]) torch.Size([1024])\n",
      "tensor([[3767, 8653, 9747, 9750, 9759],\n",
      "        [5973, 6600, 9746, 9750, 9756],\n",
      "        [3896, 7175, 9747, 9754, 9772],\n",
      "        ...,\n",
      "        [4681, 9521, 9747, 9750, 9762],\n",
      "        [4577, 7172, 9747, 9750, 9755],\n",
      "        [4644, 7164, 9746, 9753, 9761]])\n",
      "tensor([1, 4, 5,  ..., 4, 5, 1])\n"
     ]
    }
   ],
   "source": [
    "BS = 1024\n",
    "ds_train = MovieDataset(df_train, feature_cols, 'rating')\n",
    "ds_val = MovieDataset(df_val, feature_cols, 'rating')\n",
    "dl_train = DataLoader(ds_train, BS, shuffle=True)\n",
    "dl_val = DataLoader(ds_val, BS, shuffle=True)\n",
    "\n",
    "xb, yb = next(iter(dl_train))\n",
    "print(xb.shape, yb.shape)\n",
    "print(xb)\n",
    "print(yb)"
   ]
  },
  {
   "cell_type": "markdown",
   "metadata": {},
   "source": [
    "### 3) Create Factorization Machine model\n",
    "**i) Why factorization machine?**\n",
    "\n",
    "Factorization machines are a general form of matrix factorization. Factorization machines also work for cold start problems by using metadata features. Matrix factorization only uses 2 features (user, movie), and takes a dot product to train a model. What if we had other features, such as age or gender? Factorization machines allow you to use any number of features to train a model. To model pairwise (feature-to-feature) interactions, we take a dot product of every feature with every other feature. Then we sum them all up.\n",
    "\n",
    "In addition to the feature-to-feature dot products, the paper adds a global offset, and feature biases. We also include the offset and bias in our implementation. Below is the equation from the paper. “n” = number of features. “k” = feature dimension\n",
    "\n",
    "Note, we use the nn.Embedding layer to handle the inputs (which are ordinally encoded). You can think of nn.Embedding layer as a combination of a one-hot vector + Linear/Dense layer. A sigmoid range function (idea taken from FastAi) is used to clamp the outputs for faster training."
   ]
  },
  {
   "cell_type": "code",
   "execution_count": 12,
   "metadata": {},
   "outputs": [],
   "source": [
    "class FM(nn.Module):\n",
    "    \"\"\" Factorization Machine + user/item bias, weight init., sigmoid_range \n",
    "        Paper - https://www.ismll.uni-hildesheim.de/pub/pdfs/Rendle2010FM.pdf\n",
    "    \"\"\"\n",
    "    def __init__(self, num_feats, emb_dim, init, bias, sigmoid):\n",
    "        super().__init__()\n",
    "        self.x_emb = nn.Embedding(num_feats, emb_dim)\n",
    "        self.bias = bias\n",
    "        self.sigmoid = sigmoid\n",
    "        if bias:\n",
    "            self.x_bias = nn.Parameter(torch.zeros(num_feats))\n",
    "            self.offset = nn.Parameter(torch.zeros(1))\n",
    "        if init:\n",
    "            self.x_emb.weight.data.uniform_(0., 0.05)\n",
    "\n",
    "    def forward(self, X):\n",
    "        # Derived time complexity - O(nk)\n",
    "        x_emb = self.x_emb(X) # [bs, num_feats] -> [bs, num_feats, emb_dim]\n",
    "        pow_of_sum = x_emb.sum(dim=1).pow(2) # -> [bs, num_feats]\n",
    "        sum_of_pow = x_emb.pow(2).sum(dim=1) # -> [bs, num_feats]\n",
    "        fm_out = (pow_of_sum - sum_of_pow).sum(1)*0.5  # -> [bs]\n",
    "        if self.bias:\n",
    "            x_biases = self.x_bias[X].sum(1) # -> [bs]\n",
    "            fm_out +=  x_biases + self.offset # -> [bs]\n",
    "        if self.sigmoid:\n",
    "            return self.sigmoid_range(fm_out, low=0.5) # -> [bs]\n",
    "        return fm_out\n",
    "\n",
    "    def sigmoid_range(self, x, low=0, high=5.5):\n",
    "        \"\"\" Sigmoid function with range (low, high) \"\"\"\n",
    "        return torch.sigmoid(x) * (high-low) + low"
   ]
  },
  {
   "cell_type": "markdown",
   "metadata": {},
   "source": [
    "### 4) Train model\n",
    "AdamW optimizer and mean-squared loss (MSE) are used to train the model. Hyperparameters are put into a config class (CFG) for ease of use.\n",
    "*Important, to figure out the nn.Embedding size, we take the max feature number, and add 1 to it. The +1 accounts for 0-indexing"
   ]
  },
  {
   "cell_type": "code",
   "execution_count": 13,
   "metadata": {},
   "outputs": [
    {
     "name": "stderr",
     "output_type": "stream",
     "text": [
      "c:\\Users\\Nirajan\\Desktop\\Fusemachines\\Recommendation_System\\env\\Lib\\site-packages\\tqdm\\auto.py:21: TqdmWarning: IProgress not found. Please update jupyter and ipywidgets. See https://ipywidgets.readthedocs.io/en/stable/user_install.html\n",
      "  from .autonotebook import tqdm as notebook_tqdm\n"
     ]
    },
    {
     "name": "stdout",
     "output_type": "stream",
     "text": [
      "Model weights: ['x_bias', 'offset', 'x_emb.weight']\n"
     ]
    }
   ],
   "source": [
    "CFG = {\n",
    "    'lr': 0.001,\n",
    "    'num_epochs': 8,\n",
    "    'weight_decay': 0.01,\n",
    "    'sigmoid': True,\n",
    "    'bias': True,\n",
    "    'init': True,\n",
    "}\n",
    "n_feats = int(pd.concat([df_train, df_val]).max().max())\n",
    "n_feats = n_feats + 1 # \"+ 1\" to account for 0 - indexing\n",
    "\n",
    "mdl = FM(n_feats, emb_dim=100,\n",
    "         init=CFG['init'], bias=CFG['bias'], sigmoid=CFG['sigmoid'])\n",
    "mdl.to(device)\n",
    "\n",
    "opt = optim.AdamW(mdl.parameters(), lr=CFG['lr'], weight_decay=CFG['weight_decay'])\n",
    "loss_fn = nn.MSELoss()\n",
    "print(f'Model weights: {list(dict(mdl.named_parameters()).keys())}')"
   ]
  },
  {
   "cell_type": "markdown",
   "metadata": {},
   "source": [
    "Train & validation script:"
   ]
  },
  {
   "cell_type": "code",
   "execution_count": 14,
   "metadata": {},
   "outputs": [
    {
     "name": "stdout",
     "output_type": "stream",
     "text": [
      "Epoch: 0, Train Loss: 0.88, Val Loss: 0.91\n",
      "Epoch: 1, Train Loss: 0.80, Val Loss: 0.89\n",
      "Epoch: 2, Train Loss: 0.76, Val Loss: 0.86\n",
      "Epoch: 3, Train Loss: 0.71, Val Loss: 0.84\n",
      "Epoch: 4, Train Loss: 0.67, Val Loss: 0.84\n",
      "Epoch: 5, Train Loss: 0.62, Val Loss: 0.83\n",
      "Epoch: 6, Train Loss: 0.56, Val Loss: 0.84\n",
      "Epoch: 7, Train Loss: 0.51, Val Loss: 0.84\n"
     ]
    }
   ],
   "source": [
    "epoch_train_losses, epoch_val_losses = [], []\n",
    "\n",
    "for i in range(CFG['num_epochs']):\n",
    "    train_losses, val_losses = [], []\n",
    "    mdl.train()\n",
    "    for xb,yb in dl_train:\n",
    "        xb, yb = xb.to(device), yb.to(device, dtype=torch.float)\n",
    "        preds = mdl(xb)\n",
    "        loss = loss_fn(preds, yb)\n",
    "        train_losses.append(loss.item())\n",
    "        opt.zero_grad()\n",
    "        loss.backward()\n",
    "        opt.step()\n",
    "    mdl.eval()\n",
    "\n",
    "    for xb,yb in dl_val:\n",
    "        xb, yb = xb.to(device), yb.to(device, dtype=torch.float)\n",
    "        preds = mdl(xb)\n",
    "        loss = loss_fn(preds, yb)\n",
    "        val_losses.append(loss.item())\n",
    "    # Start logging\n",
    "    epoch_train_loss = np.mean(train_losses)\n",
    "    epoch_val_loss = np.mean(val_losses)\n",
    "    epoch_train_losses.append(epoch_train_loss)\n",
    "    epoch_val_losses.append(epoch_val_loss)\n",
    "    s = (f'Epoch: {i}, Train Loss: {epoch_train_loss:0.2f}, '\n",
    "         f'Val Loss: {epoch_val_loss:0.2f}'\n",
    "        )\n",
    "    print(s)"
   ]
  },
  {
   "cell_type": "code",
   "execution_count": 15,
   "metadata": {},
   "outputs": [
    {
     "data": {
      "image/png": "[encoded data removed]",
      "text/plain": [
       "<Figure size 500x200 with 1 Axes>"
      ]
     },
     "metadata": {},
     "output_type": "display_data"
    }
   ],
   "source": [
    "plt.figure(figsize=(5,2))\n",
    "plt.plot(epoch_train_losses, label='Train')\n",
    "plt.plot(epoch_val_losses, label='Val')\n",
    "plt.title('Loss vs Epoch')\n",
    "plt.xlabel('Epoch')\n",
    "plt.ylabel('Loss')\n",
    "plt.grid()\n",
    "plt.legend();"
   ]
  },
  {
   "cell_type": "markdown",
   "metadata": {},
   "source": [
    "### 5) Check results\n",
    "Let’s do some sanity checks. The model’s rating range is [0.65, 5.45], which is out of actual rating range [1, 5]. The prediction distribution looks good"
   ]
  },
  {
   "cell_type": "code",
   "execution_count": 16,
   "metadata": {},
   "outputs": [
    {
     "name": "stdout",
     "output_type": "stream",
     "text": [
      "Preds min/max: 0.68 / 5.46\n",
      "Rating min/max: 1.00 / 5.00\n"
     ]
    },
    {
     "data": {
      "image/png": "[encoded data removed]",
      "text/plain": [
       "<Figure size 400x200 with 1 Axes>"
      ]
     },
     "metadata": {},
     "output_type": "display_data"
    }
   ],
   "source": [
    "# Check predictions distribution\n",
    "lpreds, lratings = [], []\n",
    "mdl.eval()\n",
    "for xb,yb in dl_val:\n",
    "    xb, yb = xb.to(device), yb.to(device, dtype=torch.float)\n",
    "    preds = mdl(xb)\n",
    "    lpreds.extend(preds.detach().cpu().numpy().tolist())\n",
    "    lratings.extend(yb.detach().cpu().numpy().tolist())\n",
    "\n",
    "print(f'Preds min/max: {min(lpreds):0.2f} / {max(lpreds):0.2f}')\n",
    "print(f'Rating min/max: {min(lratings):0.2f} / {max(lratings):0.2f}')\n",
    "plt.figure(figsize=(4,2))\n",
    "plt.hist(lratings, label='ratings', bins=(np.arange(1,7)-0.5),\n",
    "         rwidth=0.25, color='blue')\n",
    "plt.hist(lpreds, label='preds', bins=20, rwidth=0.5, color='red')\n",
    "plt.title('Ratings & Predictions Distribution')\n",
    "plt.grid()\n",
    "plt.legend();"
   ]
  },
  {
   "cell_type": "markdown",
   "metadata": {},
   "source": [
    "Use TSNE to see if the trained nn.Embeddings separated for movie genres. We see Children’s, Horror, and Documentary groupings were learned"
   ]
  },
  {
   "cell_type": "code",
   "execution_count": 17,
   "metadata": {},
   "outputs": [
    {
     "data": {
      "text/html": [
       "<div>\n",
       "<style scoped>\n",
       "    .dataframe tbody tr th:only-of-type {\n",
       "        vertical-align: middle;\n",
       "    }\n",
       "\n",
       "    .dataframe tbody tr th {\n",
       "        vertical-align: top;\n",
       "    }\n",
       "\n",
       "    .dataframe thead th {\n",
       "        text-align: right;\n",
       "    }\n",
       "</style>\n",
       "<table border=\"1\" class=\"dataframe\">\n",
       "  <thead>\n",
       "    <tr style=\"text-align: right;\">\n",
       "      <th></th>\n",
       "      <th>userId</th>\n",
       "      <th>movieId</th>\n",
       "      <th>rating</th>\n",
       "      <th>time</th>\n",
       "      <th>title</th>\n",
       "      <th>genres</th>\n",
       "      <th>gender</th>\n",
       "      <th>age</th>\n",
       "      <th>occupation</th>\n",
       "      <th>zipcode</th>\n",
       "      <th>userId_index</th>\n",
       "      <th>movieId_index</th>\n",
       "      <th>gender_index</th>\n",
       "      <th>age_index</th>\n",
       "      <th>occupation_index</th>\n",
       "      <th>emb</th>\n",
       "      <th>bias</th>\n",
       "    </tr>\n",
       "  </thead>\n",
       "  <tbody>\n",
       "    <tr>\n",
       "      <th>0</th>\n",
       "      <td>1</td>\n",
       "      <td>2969</td>\n",
       "      <td>4</td>\n",
       "      <td>978300019</td>\n",
       "      <td>Girl, Interrupted (1999)</td>\n",
       "      <td>Drama</td>\n",
       "      <td>F</td>\n",
       "      <td>1</td>\n",
       "      <td>10</td>\n",
       "      <td>48067</td>\n",
       "      <td>0</td>\n",
       "      <td>9009</td>\n",
       "      <td>9746</td>\n",
       "      <td>9748</td>\n",
       "      <td>9765</td>\n",
       "      <td>[0.03072284534573555, -0.07014952600002289, -0...</td>\n",
       "      <td>0.052614</td>\n",
       "    </tr>\n",
       "    <tr>\n",
       "      <th>1</th>\n",
       "      <td>1</td>\n",
       "      <td>1178</td>\n",
       "      <td>5</td>\n",
       "      <td>978300055</td>\n",
       "      <td>Back to the Future (1985)</td>\n",
       "      <td>Comedy|Sci-Fi</td>\n",
       "      <td>F</td>\n",
       "      <td>1</td>\n",
       "      <td>10</td>\n",
       "      <td>48067</td>\n",
       "      <td>0</td>\n",
       "      <td>7218</td>\n",
       "      <td>9746</td>\n",
       "      <td>9748</td>\n",
       "      <td>9765</td>\n",
       "      <td>[0.16246601939201355, 0.09194853156805038, 0.0...</td>\n",
       "      <td>0.204185</td>\n",
       "    </tr>\n",
       "    <tr>\n",
       "      <th>2</th>\n",
       "      <td>1</td>\n",
       "      <td>1574</td>\n",
       "      <td>4</td>\n",
       "      <td>978300055</td>\n",
       "      <td>Titanic (1997)</td>\n",
       "      <td>Drama|Romance</td>\n",
       "      <td>F</td>\n",
       "      <td>1</td>\n",
       "      <td>10</td>\n",
       "      <td>48067</td>\n",
       "      <td>0</td>\n",
       "      <td>7614</td>\n",
       "      <td>9746</td>\n",
       "      <td>9748</td>\n",
       "      <td>9765</td>\n",
       "      <td>[-0.16887786984443665, 0.1397007405757904, -0....</td>\n",
       "      <td>0.014474</td>\n",
       "    </tr>\n",
       "  </tbody>\n",
       "</table>\n",
       "</div>"
      ],
      "text/plain": [
       "   userId  movieId  rating       time                      title  \\\n",
       "0       1     2969       4  978300019   Girl, Interrupted (1999)   \n",
       "1       1     1178       5  978300055  Back to the Future (1985)   \n",
       "2       1     1574       4  978300055             Titanic (1997)   \n",
       "\n",
       "          genres gender  age  occupation zipcode  userId_index  movieId_index  \\\n",
       "0          Drama      F    1          10   48067             0           9009   \n",
       "1  Comedy|Sci-Fi      F    1          10   48067             0           7218   \n",
       "2  Drama|Romance      F    1          10   48067             0           7614   \n",
       "\n",
       "   gender_index  age_index  occupation_index  \\\n",
       "0          9746       9748              9765   \n",
       "1          9746       9748              9765   \n",
       "2          9746       9748              9765   \n",
       "\n",
       "                                                 emb      bias  \n",
       "0  [0.03072284534573555, -0.07014952600002289, -0...  0.052614  \n",
       "1  [0.16246601939201355, 0.09194853156805038, 0.0...  0.204185  \n",
       "2  [-0.16887786984443665, 0.1397007405757904, -0....  0.014474  "
      ]
     },
     "execution_count": 17,
     "metadata": {},
     "output_type": "execute_result"
    }
   ],
   "source": [
    "# Check TSNE for genres - Make dataframe of movie + embeddings + biases\n",
    "movies = df.drop_duplicates('movieId_index').reset_index(drop=True)\n",
    "movies['movieId'] = d['movieId'].transform(movies.movieId)\n",
    "# Get movie embeddings and biases\n",
    "idxs_movies = torch.tensor(movies['movieId_index'].values, device=device)\n",
    "movie_embs = mdl.x_emb.weight[idxs_movies]\n",
    "movie_biases = mdl.x_bias[idxs_movies]\n",
    "movies['emb'] = movie_embs.tolist()\n",
    "movies['bias'] = movie_biases.tolist()\n",
    "movies.head(3)"
   ]
  },
  {
   "cell_type": "code",
   "execution_count": 18,
   "metadata": {},
   "outputs": [
    {
     "name": "stdout",
     "output_type": "stream",
     "text": [
      "Genres: Children's|Horror|Documentary\n"
     ]
    },
    {
     "data": {
      "image/png": "[encoded data removed]",
      "text/plain": [
       "<Figure size 500x500 with 1 Axes>"
      ]
     },
     "metadata": {},
     "output_type": "display_data"
    }
   ],
   "source": [
    "# Check TSNE, and scatter plot movie embeddings\n",
    "# Movie embeddings do get separated after training\n",
    "genre_cols = ['Children\\'s', 'Horror', 'Documentary']\n",
    "GENRES = '|'.join(genre_cols)\n",
    "print(f'Genres: {GENRES}')\n",
    "\n",
    "movies_subset = movies[movies['genres'].str.contains(GENRES)].copy()\n",
    "X = np.stack(movies_subset['emb'].values)\n",
    "ldr = TSNE(n_components=2, init='pca', learning_rate='auto', random_state=42)\n",
    "Y = ldr.fit_transform(X)\n",
    "movies_subset['x'] = Y[:, 0]\n",
    "movies_subset['y'] = Y[:, 1]\n",
    "\n",
    "def single_genre(genres):\n",
    "    \"\"\" Filter movies for genre in genre_cols\"\"\"\n",
    "    for genre in genre_cols:\n",
    "        if genre in genres: return genre\n",
    "\n",
    "movies_subset['genres'] = movies_subset['genres'].apply(single_genre)\n",
    "plt.figure(figsize=(5, 5))\n",
    "ax = sns.scatterplot(x='x', y='y', hue='genres', data=movies_subset)"
   ]
  },
  {
   "cell_type": "markdown",
   "metadata": {},
   "source": [
    "Get movie recommendations for “Toy Story 2 (1999)”. Cosine similarity is used to find similar movies. Note we have to do some feature offset transformations to go from nn.Embeddings to the actual labelEncoder movie index."
   ]
  },
  {
   "cell_type": "code",
   "execution_count": 19,
   "metadata": {},
   "outputs": [],
   "source": [
    "# Helper function/dictionaries to convert form name to labelEncoder index/label\n",
    "d_name2le = dict(zip(df.title, df.movieId))\n",
    "d_le2name = {v:k for k,v in d_name2le.items()}\n",
    "\n",
    "def name2itemId(names):\n",
    "    \"\"\"Give movie name, returns labelEncoder label. This is before adding any offset\"\"\"\n",
    "    if not isinstance(names, list):\n",
    "        names = [names]\n",
    "    return d['movieId'].transform([d_name2le[name] for name in names])"
   ]
  },
  {
   "cell_type": "code",
   "execution_count": 20,
   "metadata": {},
   "outputs": [
    {
     "name": "stdout",
     "output_type": "stream",
     "text": [
      "1.000 - Toy Story 2 (1999)\n",
      "0.873 - Toy Story (1995)\n",
      "0.631 - Bug's Life, A (1998)\n",
      "0.540 - Aladdin (1992)\n",
      "0.515 - Wrong Trousers, The (1993)\n",
      "0.512 - Iron Giant, The (1999)\n",
      "0.508 - Lion King, The (1994)\n",
      "0.499 - Babe (1995)\n"
     ]
    }
   ],
   "source": [
    "# Input: movie name. Output: movie recommendations using cosine similarity\n",
    "IDX = name2itemId('Toy Story 2 (1999)')[0] # IDX = 2898, before offset\n",
    "IDX = IDX + feature_offsets['movieId_index'] # IDX = 8938, after offset to get input movie emb\n",
    "emb_toy2 = mdl.x_emb(torch.tensor(IDX, device=device))\n",
    "cosine_sim = torch.tensor(\n",
    "    [F.cosine_similarity(emb_toy2, emb, dim=0) for emb in movie_embs]\n",
    ")\n",
    "top8 = cosine_sim.argsort(descending=True)[:8]\n",
    "movie_sims = cosine_sim[top8]\n",
    "movie_recs = movies.iloc[top8.detach().numpy()]['title'].values\n",
    "for rec, sim in zip(movie_recs, movie_sims):\n",
    "    print(f'{sim.tolist():0.3f} - {rec}')"
   ]
  },
  {
   "cell_type": "markdown",
   "metadata": {},
   "source": [
    "Helper dictionaries showing the labelEncoder user meta feature encodings."
   ]
  },
  {
   "cell_type": "code",
   "execution_count": 21,
   "metadata": {},
   "outputs": [
    {
     "name": "stdout",
     "output_type": "stream",
     "text": [
      "gender\n",
      "0 : F\n",
      "1 : M\n",
      "age\n",
      "0 : 1\n",
      "1 : 18\n",
      "2 : 25\n",
      "3 : 35\n",
      "4 : 45\n",
      "5 : 50\n",
      "6 : 56\n"
     ]
    }
   ],
   "source": [
    "# Factorization machines can handle cold start -> use metadata (age, gender)\n",
    "# LabelEncoder.classes_ contains the map between integer and movielens metadata\n",
    "# Metadata info: https://files.grouplens.org/datasets/movielens/ml-1m-README.txt\n",
    "feats = ['gender', 'age']\n",
    "for feat in feats:\n",
    "    print(feat)\n",
    "    classes = d[feat].classes_\n",
    "    for i,c in enumerate(classes):\n",
    "        print(f'{i} : {c}')"
   ]
  },
  {
   "cell_type": "code",
   "execution_count": 22,
   "metadata": {},
   "outputs": [
    {
     "name": "stdout",
     "output_type": "stream",
     "text": [
      "Gender mapping: {'F': 0, 'M': 1}\n",
      "Age mapping: {1: 0, 18: 1, 25: 2, 35: 3, 45: 4, 50: 5, 56: 6}\n"
     ]
    }
   ],
   "source": [
    "d_age_meta = {'Under 18': 1, '18-24': 18, '25-34': 25, '35-44': 35,\n",
    "              '45-49': 45, '50-55': 50, '56+': 56\n",
    "             }\n",
    "d_gender = dict(zip(d['gender'].classes_, range(len(d['gender'].classes_))))\n",
    "d_age = dict(zip(d['age'].classes_, range(len(d['age'].classes_))))\n",
    "print(f'Gender mapping: {d_gender}')\n",
    "print(f'Age mapping: {d_age}')"
   ]
  },
  {
   "cell_type": "markdown",
   "metadata": {},
   "source": [
    "Get cold start movie recommendations for a male aged 18–24. To do this, create a metadata embedding vector by adding the gender and age embedding vectors. Then we dot-product this metadata vector with each movie, add the movie biases, and sort/rank the results."
   ]
  },
  {
   "cell_type": "code",
   "execution_count": 24,
   "metadata": {},
   "outputs": [
    {
     "name": "stdout",
     "output_type": "stream",
     "text": [
      "0 Shawshank Redemption, The (1994)\n",
      "1 Sanjuro (1962)\n",
      "2 Usual Suspects, The (1995)\n",
      "3 Life Is Beautiful (La Vita è bella) (1997)\n",
      "4 Braveheart (1995)\n",
      "5 American Beauty (1999)\n",
      "6 Matrix, The (1999)\n",
      "7 Star Wars: Episode V - The Empire Strikes Back (1980)\n"
     ]
    }
   ],
   "source": [
    "# Get cold start movie recs for a male (GENDER=1), ages 18-24 (AGE=1)\n",
    "GENDER = 1\n",
    "AGE = 1\n",
    "gender_emb = mdl.x_emb(\n",
    "    torch.tensor(GENDER+feature_offsets['gender_index'], device=device)\n",
    ")\n",
    "age_emb = mdl.x_emb(\n",
    "    torch.tensor(AGE+feature_offsets['age_index'], device=device)\n",
    ")\n",
    "metadata_emb = gender_emb + age_emb\n",
    "rankings = movie_biases + (metadata_emb*movie_embs).sum(1) # dot product\n",
    "rankings = rankings.detach().cpu()\n",
    "for i, movie in enumerate(movies.iloc[rankings.argsort(descending=True)]['title'].values[:8]):\n",
    "    print(i, movie)"
   ]
  },
  {
   "cell_type": "markdown",
   "metadata": {},
   "source": [
    "### 6) Save files for Streamlit app deployment\n",
    "Save the model, and helper utilities for deployment."
   ]
  },
  {
   "cell_type": "code",
   "execution_count": 26,
   "metadata": {},
   "outputs": [],
   "source": [
    "SAVE = False\n",
    "if SAVE:\n",
    "    movie_embs_cpu = movie_embs.cpu()\n",
    "    d_utils = {'label_encoder': d,\n",
    "               'feature_offsets': feature_offsets,\n",
    "               'movie_embs': movie_embs_cpu,\n",
    "               'movies': movies,\n",
    "               'd_name2le': d_name2le,\n",
    "              }\n",
    "    pd.to_pickle(d_utils, 'data/d_utils.pkl', protocol=4)\n",
    "    mdl_scripted = torch.jit.script(mdl)\n",
    "    mdl_scripted.save('mdls/fm_pt.pkl')"
   ]
  },
  {
   "cell_type": "markdown",
   "metadata": {},
   "source": [
    "**Link to this blog:** https://medium.com/@datadote/factorization-machines-pictures-code-pytorch-9fca1c300838"
   ]
  },
  {
   "cell_type": "code",
   "execution_count": null,
   "metadata": {},
   "outputs": [],
   "source": []
  }
 ],
 "metadata": {
  "kernelspec": {
   "display_name": "recommendation",
   "language": "python",
   "name": "recommendation"
  },
  "language_info": {
   "codemirror_mode": {
    "name": "ipython",
    "version": 3
   },
   "file_extension": ".py",
   "mimetype": "text/x-python",
   "name": "python",
   "nbconvert_exporter": "python",
   "pygments_lexer": "ipython3",
   "version": "3.12.3"
  }
 },
 "nbformat": 4,
 "nbformat_minor": 2
}
