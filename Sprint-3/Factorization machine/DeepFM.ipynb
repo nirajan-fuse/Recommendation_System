{
 "cells": [
  {
   "cell_type": "markdown",
   "metadata": {},
   "source": [
    "### Import the required libraries and load the dataset"
   ]
  },
  {
   "cell_type": "code",
   "execution_count": 1,
   "metadata": {},
   "outputs": [
    {
     "name": "stdout",
     "output_type": "stream",
     "text": [
      "WARNING:tensorflow:From c:\\Users\\Nirajan\\Desktop\\Fusemachines\\Recommendation_System\\Sprint-3\\Factorization machine\\env\\lib\\site-packages\\tensorflow\\python\\compat\\v2_compat.py:107: disable_resource_variables (from tensorflow.python.ops.variable_scope) is deprecated and will be removed in a future version.\n",
      "Instructions for updating:\n",
      "non-resource variables are not supported in the long term\n"
     ]
    }
   ],
   "source": [
    "#!pip install LibRecommender\n",
    "import numpy as np\n",
    "import pandas as pd\n",
    "import tensorflow as tf\n",
    "from libreco.data import split_by_ratio_chrono, DatasetFeat\n",
    "from libreco.algorithms import DeepFM "
   ]
  },
  {
   "cell_type": "code",
   "execution_count": 2,
   "metadata": {},
   "outputs": [],
   "source": [
    "data = pd.read_csv(\"../../data/sample_movielens_merged.csv\", sep=\",\", header=0)\n",
    "data.fillna(value={'age':0,'genre1':'','genre2':'','genre3':'','occupation':'','sex':''},inplace=True)\n",
    "\n",
    "# split into train and test data based on time\n",
    "train_data, test_data = split_by_ratio_chrono(data, test_size=0.2)"
   ]
  },
  {
   "cell_type": "code",
   "execution_count": 3,
   "metadata": {},
   "outputs": [
    {
     "data": {
      "text/html": [
       "<div>\n",
       "<style scoped>\n",
       "    .dataframe tbody tr th:only-of-type {\n",
       "        vertical-align: middle;\n",
       "    }\n",
       "\n",
       "    .dataframe tbody tr th {\n",
       "        vertical-align: top;\n",
       "    }\n",
       "\n",
       "    .dataframe thead th {\n",
       "        text-align: right;\n",
       "    }\n",
       "</style>\n",
       "<table border=\"1\" class=\"dataframe\">\n",
       "  <thead>\n",
       "    <tr style=\"text-align: right;\">\n",
       "      <th></th>\n",
       "      <th>user</th>\n",
       "      <th>item</th>\n",
       "      <th>label</th>\n",
       "      <th>time</th>\n",
       "      <th>sex</th>\n",
       "      <th>age</th>\n",
       "      <th>occupation</th>\n",
       "      <th>genre1</th>\n",
       "      <th>genre2</th>\n",
       "      <th>genre3</th>\n",
       "    </tr>\n",
       "  </thead>\n",
       "  <tbody>\n",
       "    <tr>\n",
       "      <th>0</th>\n",
       "      <td>4617</td>\n",
       "      <td>296</td>\n",
       "      <td>2</td>\n",
       "      <td>964138229</td>\n",
       "      <td>F</td>\n",
       "      <td>25</td>\n",
       "      <td>6</td>\n",
       "      <td>crime</td>\n",
       "      <td>drama</td>\n",
       "      <td>missing</td>\n",
       "    </tr>\n",
       "    <tr>\n",
       "      <th>1</th>\n",
       "      <td>1298</td>\n",
       "      <td>208</td>\n",
       "      <td>4</td>\n",
       "      <td>974849526</td>\n",
       "      <td>M</td>\n",
       "      <td>35</td>\n",
       "      <td>6</td>\n",
       "      <td>action</td>\n",
       "      <td>adventure</td>\n",
       "      <td>missing</td>\n",
       "    </tr>\n",
       "    <tr>\n",
       "      <th>2</th>\n",
       "      <td>4585</td>\n",
       "      <td>1769</td>\n",
       "      <td>4</td>\n",
       "      <td>964322774</td>\n",
       "      <td>M</td>\n",
       "      <td>35</td>\n",
       "      <td>7</td>\n",
       "      <td>action</td>\n",
       "      <td>thriller</td>\n",
       "      <td>missing</td>\n",
       "    </tr>\n",
       "    <tr>\n",
       "      <th>3</th>\n",
       "      <td>3706</td>\n",
       "      <td>1136</td>\n",
       "      <td>5</td>\n",
       "      <td>966376465</td>\n",
       "      <td>M</td>\n",
       "      <td>25</td>\n",
       "      <td>12</td>\n",
       "      <td>comedy</td>\n",
       "      <td>missing</td>\n",
       "      <td>missing</td>\n",
       "    </tr>\n",
       "    <tr>\n",
       "      <th>4</th>\n",
       "      <td>2137</td>\n",
       "      <td>1215</td>\n",
       "      <td>3</td>\n",
       "      <td>974640099</td>\n",
       "      <td>F</td>\n",
       "      <td>1</td>\n",
       "      <td>10</td>\n",
       "      <td>action</td>\n",
       "      <td>adventure</td>\n",
       "      <td>comedy</td>\n",
       "    </tr>\n",
       "  </tbody>\n",
       "</table>\n",
       "</div>"
      ],
      "text/plain": [
       "   user  item  label       time sex  age  occupation  genre1     genre2  \\\n",
       "0  4617   296      2  964138229   F   25           6   crime      drama   \n",
       "1  1298   208      4  974849526   M   35           6  action  adventure   \n",
       "2  4585  1769      4  964322774   M   35           7  action   thriller   \n",
       "3  3706  1136      5  966376465   M   25          12  comedy    missing   \n",
       "4  2137  1215      3  974640099   F    1          10  action  adventure   \n",
       "\n",
       "    genre3  \n",
       "0  missing  \n",
       "1  missing  \n",
       "2  missing  \n",
       "3  missing  \n",
       "4   comedy  "
      ]
     },
     "execution_count": 3,
     "metadata": {},
     "output_type": "execute_result"
    }
   ],
   "source": [
    "data.head()"
   ]
  },
  {
   "cell_type": "markdown",
   "metadata": {},
   "source": [
    "### Building dataset\n",
    "\n",
    "Before building our final training dataset compatible with LibRecommender, we need to mention\n",
    "\n",
    "* Sparse columns: Categorical columns\n",
    "\n",
    "* Dense columns: Numerical columns\n",
    "\n",
    "* User & Item columns"
   ]
  },
  {
   "cell_type": "markdown",
   "metadata": {},
   "source": [
    "<b>Note:To use LibRecommender, always maintain the sequence and name of 1st 4 columns as a user, item, label, and time followed by other features (if any)</b>"
   ]
  },
  {
   "cell_type": "code",
   "execution_count": 4,
   "metadata": {},
   "outputs": [],
   "source": [
    "# specify complete columns information\n",
    "sparse_col = [\"sex\", \"occupation\", \"genre1\", \"genre2\", \"genre3\"]\n",
    "dense_col = [\"age\"]\n",
    "user_col = [\"sex\", \"age\", \"occupation\"]\n",
    "item_col = [\"genre1\", \"genre2\", \"genre3\"]\n",
    "\n",
    "train_data, data_info = DatasetFeat.build_trainset(train_data, user_col, item_col, sparse_col, dense_col)\n",
    "test_data = DatasetFeat.build_testset(test_data)"
   ]
  },
  {
   "cell_type": "code",
   "execution_count": 5,
   "metadata": {},
   "outputs": [
    {
     "data": {
      "text/plain": [
       "n_users: 5953, n_items: 3209, data density: 0.4213 %"
      ]
     },
     "execution_count": 5,
     "metadata": {},
     "output_type": "execute_result"
    }
   ],
   "source": [
    "data_info"
   ]
  },
  {
   "cell_type": "markdown",
   "metadata": {},
   "source": [
    "### Model Training\n",
    "Time to define our DeepFM model object and call model.fit()\n",
    "\n",
    "A few points to note about code:\n",
    "\n",
    "* The task has two options rating or ranking\n",
    "* Hidden units are for the DNN part of DeepFM"
   ]
  },
  {
   "cell_type": "code",
   "execution_count": 6,
   "metadata": {},
   "outputs": [],
   "source": [
    "model = DeepFM(\n",
    "    task=\"ranking\",\n",
    "    data_info=data_info,\n",
    "    embed_size=16,\n",
    "    n_epochs=5,\n",
    "    lr=1e-4,\n",
    "    batch_size=64,\n",
    "    use_bn=True,\n",
    "    hidden_units=(128, 64, 32),\n",
    ")"
   ]
  },
  {
   "cell_type": "code",
   "execution_count": 7,
   "metadata": {},
   "outputs": [
    {
     "name": "stdout",
     "output_type": "stream",
     "text": [
      "Training start time: \u001b[35m2024-06-03 12:00:32\u001b[0m\n",
      "WARNING:tensorflow:From c:\\Users\\Nirajan\\Desktop\\Fusemachines\\Recommendation_System\\Sprint-3\\Factorization machine\\env\\lib\\site-packages\\keras\\layers\\normalization\\batch_normalization.py:581: _colocate_with (from tensorflow.python.framework.ops) is deprecated and will be removed in a future version.\n",
      "Instructions for updating:\n",
      "Colocations handled automatically by placer.\n"
     ]
    },
    {
     "name": "stderr",
     "output_type": "stream",
     "text": [
      "c:\\Users\\Nirajan\\Desktop\\Fusemachines\\Recommendation_System\\Sprint-3\\Factorization machine\\env\\lib\\site-packages\\libreco\\layers\\dense.py:31: UserWarning: `tf.layers.batch_normalization` is deprecated and will be removed in a future version. Please use `tf.keras.layers.BatchNormalization` instead. In particular, `tf.control_dependencies(tf.GraphKeys.UPDATE_OPS)` should not be used (consult the `tf.keras.layers.BatchNormalization` documentation).\n",
      "  net = tf.layers.batch_normalization(net, training=is_training)\n",
      "2024-06-03 12:00:32,301 - WARNING - From c:\\Users\\Nirajan\\Desktop\\Fusemachines\\Recommendation_System\\Sprint-3\\Factorization machine\\env\\lib\\site-packages\\keras\\layers\\normalization\\batch_normalization.py:581: _colocate_with (from tensorflow.python.framework.ops) is deprecated and will be removed in a future version.\n",
      "Instructions for updating:\n",
      "Colocations handled automatically by placer.\n",
      "c:\\Users\\Nirajan\\Desktop\\Fusemachines\\Recommendation_System\\Sprint-3\\Factorization machine\\env\\lib\\site-packages\\libreco\\layers\\dense.py:39: UserWarning: `tf.layers.batch_normalization` is deprecated and will be removed in a future version. Please use `tf.keras.layers.BatchNormalization` instead. In particular, `tf.control_dependencies(tf.GraphKeys.UPDATE_OPS)` should not be used (consult the `tf.keras.layers.BatchNormalization` documentation).\n",
      "  net = tf.layers.batch_normalization(net, training=is_training)\n"
     ]
    },
    {
     "name": "stdout",
     "output_type": "stream",
     "text": [
      "total params: \u001b[33m184,712\u001b[0m | embedding params: \u001b[33m157,391\u001b[0m | network params: \u001b[33m27,321\u001b[0m\n"
     ]
    },
    {
     "name": "stderr",
     "output_type": "stream",
     "text": [
      "train: 100%|██████████| 2516/2516 [00:10<00:00, 238.99it/s]\n"
     ]
    },
    {
     "name": "stdout",
     "output_type": "stream",
     "text": [
      "Epoch 1 elapsed: 10.530s\n",
      "\t \u001b[32mtrain_loss: 0.9472\u001b[0m\n"
     ]
    },
    {
     "name": "stderr",
     "output_type": "stream",
     "text": [
      "eval_pointwise: 100%|██████████| 5/5 [00:00<00:00, 20.88it/s]\n",
      "c:\\Users\\Nirajan\\Desktop\\Fusemachines\\Recommendation_System\\Sprint-3\\Factorization machine\\env\\lib\\site-packages\\sklearn\\metrics\\_classification.py:2910: FutureWarning: Setting the eps parameter is deprecated and will be removed in 1.5. Instead eps will always havea default value of `np.finfo(y_pred.dtype).eps`.\n",
      "  warnings.warn(\n"
     ]
    },
    {
     "name": "stdout",
     "output_type": "stream",
     "text": [
      "\t eval log_loss: 0.6380\n",
      "==============================\n"
     ]
    },
    {
     "name": "stderr",
     "output_type": "stream",
     "text": [
      "train: 100%|██████████| 2516/2516 [00:09<00:00, 254.62it/s]\n"
     ]
    },
    {
     "name": "stdout",
     "output_type": "stream",
     "text": [
      "Epoch 2 elapsed: 9.883s\n",
      "\t \u001b[32mtrain_loss: 0.5621\u001b[0m\n"
     ]
    },
    {
     "name": "stderr",
     "output_type": "stream",
     "text": [
      "eval_pointwise: 100%|██████████| 5/5 [00:00<00:00, 44.62it/s]\n",
      "c:\\Users\\Nirajan\\Desktop\\Fusemachines\\Recommendation_System\\Sprint-3\\Factorization machine\\env\\lib\\site-packages\\sklearn\\metrics\\_classification.py:2910: FutureWarning: Setting the eps parameter is deprecated and will be removed in 1.5. Instead eps will always havea default value of `np.finfo(y_pred.dtype).eps`.\n",
      "  warnings.warn(\n"
     ]
    },
    {
     "name": "stdout",
     "output_type": "stream",
     "text": [
      "\t eval log_loss: 0.6143\n",
      "==============================\n"
     ]
    },
    {
     "name": "stderr",
     "output_type": "stream",
     "text": [
      "train: 100%|██████████| 2516/2516 [00:10<00:00, 245.90it/s]\n"
     ]
    },
    {
     "name": "stdout",
     "output_type": "stream",
     "text": [
      "Epoch 3 elapsed: 10.234s\n",
      "\t \u001b[32mtrain_loss: 0.5355\u001b[0m\n"
     ]
    },
    {
     "name": "stderr",
     "output_type": "stream",
     "text": [
      "eval_pointwise: 100%|██████████| 5/5 [00:00<00:00, 38.43it/s]\n",
      "c:\\Users\\Nirajan\\Desktop\\Fusemachines\\Recommendation_System\\Sprint-3\\Factorization machine\\env\\lib\\site-packages\\sklearn\\metrics\\_classification.py:2910: FutureWarning: Setting the eps parameter is deprecated and will be removed in 1.5. Instead eps will always havea default value of `np.finfo(y_pred.dtype).eps`.\n",
      "  warnings.warn(\n"
     ]
    },
    {
     "name": "stdout",
     "output_type": "stream",
     "text": [
      "\t eval log_loss: 0.6102\n",
      "==============================\n"
     ]
    },
    {
     "name": "stderr",
     "output_type": "stream",
     "text": [
      "train: 100%|██████████| 2516/2516 [00:11<00:00, 224.78it/s]\n"
     ]
    },
    {
     "name": "stdout",
     "output_type": "stream",
     "text": [
      "Epoch 4 elapsed: 11.202s\n",
      "\t \u001b[32mtrain_loss: 0.5216\u001b[0m\n"
     ]
    },
    {
     "name": "stderr",
     "output_type": "stream",
     "text": [
      "eval_pointwise: 100%|██████████| 5/5 [00:00<00:00, 34.54it/s]\n",
      "c:\\Users\\Nirajan\\Desktop\\Fusemachines\\Recommendation_System\\Sprint-3\\Factorization machine\\env\\lib\\site-packages\\sklearn\\metrics\\_classification.py:2910: FutureWarning: Setting the eps parameter is deprecated and will be removed in 1.5. Instead eps will always havea default value of `np.finfo(y_pred.dtype).eps`.\n",
      "  warnings.warn(\n"
     ]
    },
    {
     "name": "stdout",
     "output_type": "stream",
     "text": [
      "\t eval log_loss: 0.6117\n",
      "==============================\n"
     ]
    },
    {
     "name": "stderr",
     "output_type": "stream",
     "text": [
      "train: 100%|██████████| 2516/2516 [00:09<00:00, 252.59it/s]\n"
     ]
    },
    {
     "name": "stdout",
     "output_type": "stream",
     "text": [
      "Epoch 5 elapsed: 9.966s\n",
      "\t \u001b[32mtrain_loss: 0.5072\u001b[0m\n"
     ]
    },
    {
     "name": "stderr",
     "output_type": "stream",
     "text": [
      "eval_pointwise: 100%|██████████| 5/5 [00:00<00:00, 39.97it/s]\n",
      "c:\\Users\\Nirajan\\Desktop\\Fusemachines\\Recommendation_System\\Sprint-3\\Factorization machine\\env\\lib\\site-packages\\sklearn\\metrics\\_classification.py:2910: FutureWarning: Setting the eps parameter is deprecated and will be removed in 1.5. Instead eps will always havea default value of `np.finfo(y_pred.dtype).eps`.\n",
      "  warnings.warn(\n"
     ]
    },
    {
     "name": "stdout",
     "output_type": "stream",
     "text": [
      "\t eval log_loss: 0.6115\n",
      "==============================\n"
     ]
    }
   ],
   "source": [
    "r = model.fit(\n",
    "    train_data,\n",
    "    neg_sampling=True,\n",
    "    verbose=2,\n",
    "    shuffle=True,\n",
    "    eval_data=test_data,\n",
    "    metrics=[\"loss\"],\n",
    ")"
   ]
  },
  {
   "cell_type": "markdown",
   "metadata": {},
   "source": [
    "### Using trained model"
   ]
  },
  {
   "cell_type": "code",
   "execution_count": 11,
   "metadata": {},
   "outputs": [
    {
     "data": {
      "text/plain": [
       "0.8990383"
      ]
     },
     "execution_count": 11,
     "metadata": {},
     "output_type": "execute_result"
    }
   ],
   "source": [
    "# predict preference of user 2211 to item 110\n",
    "model.predict(user=2211, item=110)"
   ]
  },
  {
   "cell_type": "code",
   "execution_count": 12,
   "metadata": {},
   "outputs": [
    {
     "data": {
      "text/plain": [
       "{2211: array([1198, 1265, 1210, 1266,  608,  527, 2997], dtype=int64)}"
      ]
     },
     "execution_count": 12,
     "metadata": {},
     "output_type": "execute_result"
    }
   ],
   "source": [
    "# recommend 7 items for user 2211\n",
    "model.recommend_user(user=2211, n_rec=7)"
   ]
  },
  {
   "cell_type": "code",
   "execution_count": 13,
   "metadata": {},
   "outputs": [
    {
     "name": "stdout",
     "output_type": "stream",
     "text": [
      "\u001b[31mDetect 1 unknown interaction(s), position: [0]\u001b[0m\n"
     ]
    },
    {
     "data": {
      "text/plain": [
       "0.64209944"
      ]
     },
     "execution_count": 13,
     "metadata": {},
     "output_type": "execute_result"
    }
   ],
   "source": [
    "# cold-start prediction\n",
    "model.predict(user=\"ccc\", item=\"not item\", cold_start=\"average\")"
   ]
  },
  {
   "cell_type": "code",
   "execution_count": 14,
   "metadata": {},
   "outputs": [
    {
     "name": "stdout",
     "output_type": "stream",
     "text": [
      "\u001b[31mDetect unknown user: are we good?\u001b[0m\n"
     ]
    },
    {
     "data": {
      "text/plain": [
       "{'are we good?': array([ 480, 1573,   50, 1193, 1193, 1393,  480])}"
      ]
     },
     "execution_count": 14,
     "metadata": {},
     "output_type": "execute_result"
    }
   ],
   "source": [
    "# cold-start recommendation\n",
    "model.recommend_user(user=\"are we good?\", n_rec=7, cold_start=\"popular\")"
   ]
  },
  {
   "cell_type": "code",
   "execution_count": 17,
   "metadata": {},
   "outputs": [
    {
     "name": "stdout",
     "output_type": "stream",
     "text": [
      "0.94304967\n",
      "0.9350213\n",
      "0.9214089\n",
      "0.92063814\n",
      "0.91628814\n",
      "0.91500586\n",
      "0.9149309\n"
     ]
    }
   ],
   "source": [
    "# Predict preference for top recommended\n",
    "for i in [1198, 1265, 1210, 1266,  608,  527, 2997]:\n",
    "    print(model.predict(user=2211, item=i))"
   ]
  },
  {
   "cell_type": "code",
   "execution_count": null,
   "metadata": {},
   "outputs": [],
   "source": []
  }
 ],
 "metadata": {
  "kernelspec": {
   "display_name": "Python 3",
   "language": "python",
   "name": "python3"
  },
  "language_info": {
   "codemirror_mode": {
    "name": "ipython",
    "version": 3
   },
   "file_extension": ".py",
   "mimetype": "text/x-python",
   "name": "python",
   "nbconvert_exporter": "python",
   "pygments_lexer": "ipython3",
   "version": "3.9.19"
  }
 },
 "nbformat": 4,
 "nbformat_minor": 2
}
