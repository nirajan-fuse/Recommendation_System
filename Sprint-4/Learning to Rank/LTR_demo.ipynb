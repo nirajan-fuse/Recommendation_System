{
  "cells": [
    {
      "cell_type": "code",
      "execution_count": 86,
      "metadata": {
        "id": "Co7ZQZDKCmjm"
      },
      "outputs": [],
      "source": [
        "import random\n",
        "random.seed(1)\n",
        "\n",
        "import numpy as np\n",
        "np.random.seed(1)\n",
        "\n",
        "import matplotlib.pyplot as plt\n",
        "plt.style.use('ggplot')\n",
        "\n",
        "import tensorflow as tf"
      ]
    },
    {
      "cell_type": "markdown",
      "metadata": {
        "id": "5ysqVLtLCmjn"
      },
      "source": [
        "### Input"
      ]
    },
    {
      "cell_type": "code",
      "execution_count": 87,
      "metadata": {
        "id": "yxR5G3iTCmjo"
      },
      "outputs": [],
      "source": [
        "query_1 = \"dog\"\n",
        "\n",
        "bing_search_results = [\n",
        "    \"Dog - Wikipedia\",\n",
        "    \"Adopting a dog or puppy | RSPCA Australia\",\n",
        "    \"dog | History, Domestication, Physical Traits, & Breeds\",\n",
        "    \"New South Wales | Dogs & Puppies | Gumtree Australia Free\",\n",
        "    \"dog - Wiktionary\"\n",
        "]"
      ]
    },
    {
      "cell_type": "code",
      "execution_count": 88,
      "metadata": {
        "id": "uG1sugjDCmjp"
      },
      "outputs": [],
      "source": [
        "query_2 = \"what is a dog\"\n",
        "\n",
        "google_search_results = [\n",
        "    \"Dog - Wikipedia\",\n",
        "    \"Dog - Simple English Wikipedia, the free encyclopedia\",\n",
        "    \"Dog | National Geographic\",\n",
        "    \"dog | History, Domestication, Physical Traits, & Breeds\",\n",
        "    \"What is a Dog | Facts About Dogs | DK Find Out\"\n",
        "]"
      ]
    },
    {
      "cell_type": "code",
      "execution_count": 89,
      "metadata": {
        "id": "vjylAPRPCmjp"
      },
      "outputs": [],
      "source": [
        "relevance_grades = tf.constant([\n",
        "    [3.0, 2.0, 2.0, 2.0, 1.0],\n",
        "    [3.0, 3.0, 1.0, 1.0, 0.0]\n",
        "])"
      ]
    },
    {
      "cell_type": "markdown",
      "metadata": {
        "id": "r8dUGLDrCmjp"
      },
      "source": [
        "The number of words in our queries and documents can vary. It follows that the number of word embeddings that make up the queries and documents can vary."
      ]
    },
    {
      "cell_type": "code",
      "execution_count": 90,
      "metadata": {
        "colab": {
          "base_uri": "https://localhost:8080/"
        },
        "id": "NM_bDsGkCmjq",
        "outputId": "bcd5cca3-dc9e-4c7f-9e71-e92f5587d89d"
      },
      "outputs": [
        {
          "name": "stdout",
          "output_type": "stream",
          "text": [
            "35\n"
          ]
        }
      ],
      "source": [
        "combined_texts = [query_1, *bing_search_results, query_2, *google_search_results]\n",
        "\n",
        "tokeniser = tf.keras.preprocessing.text.Tokenizer()\n",
        "tokeniser.fit_on_texts(combined_texts)\n",
        "\n",
        "# we add one here to account for the padding word\n",
        "vocab_size = max(tokeniser.index_word) + 1\n",
        "print(vocab_size)"
      ]
    },
    {
      "cell_type": "code",
      "execution_count": 91,
      "metadata": {
        "colab": {
          "base_uri": "https://localhost:8080/"
        },
        "id": "KSk1ZA7KCmjq",
        "outputId": "aa76eacc-4bdd-4855-bd88-35179eb2caa4"
      },
      "outputs": [
        {
          "name": "stdout",
          "output_type": "stream",
          "text": [
            "index 1 - dog\n",
            "index 2 - wikipedia\n",
            "index 3 - a\n",
            "index 4 - australia\n",
            "index 5 - history\n",
            "index 6 - domestication\n",
            "index 7 - physical\n",
            "index 8 - traits\n",
            "index 9 - breeds\n",
            "index 10 - dogs\n",
            "index 11 - free\n",
            "index 12 - what\n",
            "index 13 - is\n",
            "index 14 - adopting\n",
            "index 15 - or\n",
            "index 16 - puppy\n",
            "index 17 - rspca\n",
            "index 18 - new\n",
            "index 19 - south\n",
            "index 20 - wales\n",
            "index 21 - puppies\n",
            "index 22 - gumtree\n",
            "index 23 - wiktionary\n",
            "index 24 - simple\n",
            "index 25 - english\n",
            "index 26 - the\n",
            "index 27 - encyclopedia\n",
            "index 28 - national\n",
            "index 29 - geographic\n",
            "index 30 - facts\n",
            "index 31 - about\n",
            "index 32 - dk\n",
            "index 33 - find\n",
            "index 34 - out\n"
          ]
        }
      ],
      "source": [
        "for idx, word in tokeniser.index_word.items():\n",
        "    print(f\"index {idx} - {word}\")"
      ]
    },
    {
      "cell_type": "code",
      "execution_count": 92,
      "metadata": {
        "colab": {
          "base_uri": "https://localhost:8080/"
        },
        "id": "THpJn_Y4Cmjq",
        "outputId": "d4eb6e3b-11a4-4100-db32-166614be28c0"
      },
      "outputs": [
        {
          "name": "stdout",
          "output_type": "stream",
          "text": [
            "[[ 1.6243454  -0.6117564 ]\n",
            " [-0.5281718  -1.0729686 ]\n",
            " [ 0.86540765 -2.3015387 ]\n",
            " [ 1.7448118  -0.7612069 ]\n",
            " [ 0.3190391  -0.24937038]\n",
            " [ 1.4621079  -2.0601406 ]\n",
            " [-0.3224172  -0.38405436]\n",
            " [ 1.1337694  -1.0998913 ]\n",
            " [-0.1724282  -0.8778584 ]\n",
            " [ 0.04221375  0.58281523]\n",
            " [-1.1006192   1.1447237 ]\n",
            " [ 0.9015907   0.50249434]\n",
            " [ 0.90085596 -0.68372786]\n",
            " [-0.12289023 -0.93576944]\n",
            " [-0.26788807  0.53035545]\n",
            " [-0.69166076 -0.39675352]\n",
            " [-0.6871727  -0.84520566]\n",
            " [-0.6712461  -0.0126646 ]\n",
            " [-1.1173104   0.2344157 ]\n",
            " [ 1.6598022   0.74204415]\n",
            " [-0.19183555 -0.887629  ]\n",
            " [-0.7471583   1.6924546 ]\n",
            " [ 0.05080776 -0.6369957 ]\n",
            " [ 0.19091548  2.1002553 ]\n",
            " [ 0.12015896  0.6172031 ]\n",
            " [ 0.30017033 -0.35224986]\n",
            " [-1.1425182  -0.34934273]\n",
            " [-0.20889424  0.5866232 ]\n",
            " [ 0.8389834   0.9311021 ]\n",
            " [ 0.2855873   0.8851412 ]\n",
            " [-0.7543979   1.2528682 ]\n",
            " [ 0.5129298  -0.29809284]\n",
            " [ 0.48851815 -0.07557172]\n",
            " [ 1.1316293   1.5198169 ]\n",
            " [ 2.1855755  -1.3964963 ]]\n"
          ]
        }
      ],
      "source": [
        "EMBEDDING_DIMS = 2\n",
        "\n",
        "embeddings = np.random.randn(vocab_size, EMBEDDING_DIMS).astype(np.float32)\n",
        "\n",
        "print(embeddings)"
      ]
    },
    {
      "cell_type": "code",
      "execution_count": 93,
      "metadata": {
        "colab": {
          "base_uri": "https://localhost:8080/"
        },
        "id": "-OLbkbERCmjr",
        "outputId": "dc7e008e-c670-44c5-adc5-88d58faf8af3"
      },
      "outputs": [
        {
          "name": "stdout",
          "output_type": "stream",
          "text": [
            "[[[-0.5281718 -1.0729686]]]\n"
          ]
        }
      ],
      "source": [
        "query_1_embedding_index = tokeniser.texts_to_sequences([query_1])\n",
        "query_1_embeddings = np.array([embeddings[x] for x in query_1_embedding_index])\n",
        "\n",
        "print(query_1_embeddings)"
      ]
    },
    {
      "cell_type": "code",
      "execution_count": 94,
      "metadata": {
        "colab": {
          "base_uri": "https://localhost:8080/"
        },
        "id": "mXLb6lOwCmjr",
        "outputId": "a59e7f8f-f5b3-4288-8ba2-2a4f6f5463ee"
      },
      "outputs": [
        {
          "name": "stdout",
          "output_type": "stream",
          "text": [
            "[[[ 0.90085596 -0.68372786]\n",
            "  [-0.12289023 -0.93576944]\n",
            "  [ 1.7448118  -0.7612069 ]\n",
            "  [-0.5281718  -1.0729686 ]]]\n"
          ]
        }
      ],
      "source": [
        "query_2_embedding_indices = tokeniser.texts_to_sequences([query_2])\n",
        "query_2_embeddings = np.array([embeddings[x] for x in query_2_embedding_indices])\n",
        "\n",
        "print(query_2_embeddings)"
      ]
    },
    {
      "cell_type": "markdown",
      "metadata": {
        "id": "FoBSgzvpCmjr"
      },
      "source": [
        "We can aggregate our embedding vectors!"
      ]
    },
    {
      "cell_type": "code",
      "execution_count": 95,
      "metadata": {
        "colab": {
          "base_uri": "https://localhost:8080/"
        },
        "id": "KVq833kqCmjs",
        "outputId": "c53a24dd-7777-482f-9d60-03e849389304"
      },
      "outputs": [
        {
          "name": "stdout",
          "output_type": "stream",
          "text": [
            "[[[ 0.49865144 -0.8634182 ]]]\n"
          ]
        }
      ],
      "source": [
        "query_2_embeddings_avg = tf.reduce_mean(query_2_embeddings, axis=1, keepdims=True).numpy()\n",
        "\n",
        "print(query_2_embeddings_avg)"
      ]
    },
    {
      "cell_type": "code",
      "execution_count": 96,
      "metadata": {
        "id": "w6RiiWs8Cmjs"
      },
      "outputs": [],
      "source": [
        "#  new array out of the fixed-sized representations of our queries\n",
        "query_embeddings = np.row_stack([query_1_embeddings, query_2_embeddings_avg])"
      ]
    },
    {
      "cell_type": "code",
      "execution_count": 97,
      "metadata": {
        "colab": {
          "base_uri": "https://localhost:8080/"
        },
        "id": "nds1TRrcCmjs",
        "outputId": "37fca4aa-6047-4a74-c0ca-3d9ac6555017"
      },
      "outputs": [
        {
          "data": {
            "text/plain": [
              "array([[[-0.5281718 , -1.0729686 ]],\n",
              "\n",
              "       [[ 0.49865144, -0.8634182 ]]], dtype=float32)"
            ]
          },
          "execution_count": 97,
          "metadata": {},
          "output_type": "execute_result"
        }
      ],
      "source": [
        "query_embeddings"
      ]
    },
    {
      "cell_type": "code",
      "execution_count": 98,
      "metadata": {
        "colab": {
          "base_uri": "https://localhost:8080/"
        },
        "id": "VrW5o8WjCmjs",
        "outputId": "d293c814-e292-47ed-ba67-ba8576c9233b"
      },
      "outputs": [
        {
          "name": "stdout",
          "output_type": "stream",
          "text": [
            "(2, 1, 2)\n"
          ]
        }
      ],
      "source": [
        "print(query_embeddings.shape)"
      ]
    },
    {
      "cell_type": "markdown",
      "metadata": {
        "id": "r3H4K9ufCmjs"
      },
      "source": [
        " We now have an array of dimensions `(number of queries, 1, embedding dimensions)`, where the “1” represents the number of embedding vectors we have per query after we averaged them"
      ]
    },
    {
      "cell_type": "code",
      "execution_count": 99,
      "metadata": {
        "id": "NAXG2JZDCmjt"
      },
      "outputs": [],
      "source": [
        "# same approach for our documents\n",
        "docs_sequences = []\n",
        "for docs_list in [bing_search_results, google_search_results]:\n",
        "    docs_sequences.append(tokeniser.texts_to_sequences(docs_list))\n",
        "\n",
        "docs_embeddings = []\n",
        "for docs_set in docs_sequences:\n",
        "    this_docs_set = []\n",
        "    for doc in docs_set:\n",
        "        this_doc_embeddings = np.array([embeddings[idx] for idx in doc])\n",
        "        this_docs_set.append(this_doc_embeddings)\n",
        "    docs_embeddings.append(this_docs_set)"
      ]
    },
    {
      "cell_type": "code",
      "execution_count": 100,
      "metadata": {
        "colab": {
          "base_uri": "https://localhost:8080/"
        },
        "id": "E6Zx3i_oCmjt",
        "outputId": "4bc7bc61-5710-4405-b047-51a45aaaada0"
      },
      "outputs": [
        {
          "name": "stdout",
          "output_type": "stream",
          "text": [
            "\n",
            "[[-0.5281718  -1.0729686 ]\n",
            " [ 0.86540765 -2.3015387 ]]\n",
            "\n",
            "[[-0.26788807  0.53035545]\n",
            " [ 1.7448118  -0.7612069 ]\n",
            " [-0.5281718  -1.0729686 ]\n",
            " [-0.69166076 -0.39675352]\n",
            " [-0.6871727  -0.84520566]\n",
            " [-0.6712461  -0.0126646 ]\n",
            " [ 0.3190391  -0.24937038]]\n",
            "\n",
            "[[-0.5281718  -1.0729686 ]\n",
            " [ 1.4621079  -2.0601406 ]\n",
            " [-0.3224172  -0.38405436]\n",
            " [ 1.1337694  -1.0998913 ]\n",
            " [-0.1724282  -0.8778584 ]\n",
            " [ 0.04221375  0.58281523]]\n",
            "\n",
            "[[-1.1173104   0.2344157 ]\n",
            " [ 1.6598022   0.74204415]\n",
            " [-0.19183555 -0.887629  ]\n",
            " [-1.1006192   1.1447237 ]\n",
            " [-0.7471583   1.6924546 ]\n",
            " [ 0.05080776 -0.6369957 ]\n",
            " [ 0.3190391  -0.24937038]\n",
            " [ 0.9015907   0.50249434]]\n",
            "\n",
            "[[-0.5281718  -1.0729686 ]\n",
            " [ 0.19091548  2.1002553 ]]\n"
          ]
        }
      ],
      "source": [
        "for embeddings in docs_embeddings[0]:\n",
        "    print()\n",
        "    print(embeddings)"
      ]
    },
    {
      "cell_type": "code",
      "execution_count": 101,
      "metadata": {
        "colab": {
          "base_uri": "https://localhost:8080/"
        },
        "id": "ahR2ras_Cmjt",
        "outputId": "208a69aa-333a-473d-f752-0f3e4dde6f21"
      },
      "outputs": [
        {
          "name": "stdout",
          "output_type": "stream",
          "text": [
            "\n",
            "[[-0.5281718  -1.0729686 ]\n",
            " [ 0.86540765 -2.3015387 ]]\n",
            "\n",
            "[[-0.5281718  -1.0729686 ]\n",
            " [ 0.12015896  0.6172031 ]\n",
            " [ 0.30017033 -0.35224986]\n",
            " [ 0.86540765 -2.3015387 ]\n",
            " [-1.1425182  -0.34934273]\n",
            " [ 0.9015907   0.50249434]\n",
            " [-0.20889424  0.5866232 ]]\n",
            "\n",
            "[[-0.5281718 -1.0729686]\n",
            " [ 0.8389834  0.9311021]\n",
            " [ 0.2855873  0.8851412]]\n",
            "\n",
            "[[-0.5281718  -1.0729686 ]\n",
            " [ 1.4621079  -2.0601406 ]\n",
            " [-0.3224172  -0.38405436]\n",
            " [ 1.1337694  -1.0998913 ]\n",
            " [-0.1724282  -0.8778584 ]\n",
            " [ 0.04221375  0.58281523]]\n",
            "\n",
            "[[ 0.90085596 -0.68372786]\n",
            " [-0.12289023 -0.93576944]\n",
            " [ 1.7448118  -0.7612069 ]\n",
            " [-0.5281718  -1.0729686 ]\n",
            " [-0.7543979   1.2528682 ]\n",
            " [ 0.5129298  -0.29809284]\n",
            " [-1.1006192   1.1447237 ]\n",
            " [ 0.48851815 -0.07557172]\n",
            " [ 1.1316293   1.5198169 ]\n",
            " [ 2.1855755  -1.3964963 ]]\n"
          ]
        }
      ],
      "source": [
        "for embeddings in docs_embeddings[1]:\n",
        "    print()\n",
        "    print(embeddings)"
      ]
    },
    {
      "cell_type": "code",
      "execution_count": 102,
      "metadata": {
        "id": "LN3HMRm7Cmjt"
      },
      "outputs": [],
      "source": [
        "docs_averaged_embeddings = []\n",
        "for docs_set in docs_embeddings:\n",
        "    this_docs_set = []\n",
        "    for doc in docs_set:\n",
        "        this_docs_set.append(tf.reduce_mean(doc, axis=0, keepdims=True))\n",
        "    concatenated_docs_set = tf.concat(this_docs_set, axis=0).numpy()\n",
        "    docs_averaged_embeddings.append(concatenated_docs_set)\n",
        "\n",
        "docs_averaged_embeddings = np.array(docs_averaged_embeddings)"
      ]
    },
    {
      "cell_type": "code",
      "execution_count": 103,
      "metadata": {
        "colab": {
          "base_uri": "https://localhost:8080/"
        },
        "id": "hzyfcb27Cmjt",
        "outputId": "eea38f16-44ba-406b-ad22-7bab9cebbb8c"
      },
      "outputs": [
        {
          "data": {
            "text/plain": [
              "array([[[ 0.16861793, -1.6872537 ],\n",
              "        [-0.11175551, -0.4011163 ],\n",
              "        [ 0.269179  , -0.81868297],\n",
              "        [-0.02821046,  0.31776717],\n",
              "        [-0.16862816,  0.5136433 ]],\n",
              "\n",
              "       [[ 0.16861793, -1.6872537 ],\n",
              "        [ 0.04396335, -0.3385399 ],\n",
              "        [ 0.19879965,  0.24775822],\n",
              "        [ 0.269179  , -0.81868297],\n",
              "        [ 0.44582415, -0.1306425 ]]], dtype=float32)"
            ]
          },
          "execution_count": 103,
          "metadata": {},
          "output_type": "execute_result"
        }
      ],
      "source": [
        "docs_averaged_embeddings"
      ]
    },
    {
      "cell_type": "code",
      "execution_count": 104,
      "metadata": {
        "colab": {
          "base_uri": "https://localhost:8080/"
        },
        "id": "hmpiMohdCmju",
        "outputId": "cb3be39a-83ea-40d1-ea71-ed54b8c0f1a7"
      },
      "outputs": [
        {
          "name": "stdout",
          "output_type": "stream",
          "text": [
            "(2, 5, 2)\n"
          ]
        }
      ],
      "source": [
        "# (number of queries, number of documents per query, embedding dimensions)\n",
        "print(docs_averaged_embeddings.shape)"
      ]
    },
    {
      "cell_type": "code",
      "execution_count": 105,
      "metadata": {
        "colab": {
          "base_uri": "https://localhost:8080/"
        },
        "id": "ZiwuZF5uCmju",
        "outputId": "190da119-a009-4dd5-a048-c72c1ea15ccc"
      },
      "outputs": [
        {
          "name": "stdout",
          "output_type": "stream",
          "text": [
            "[[[-0.5281718  -1.0729686 ]\n",
            "  [-0.5281718  -1.0729686 ]\n",
            "  [-0.5281718  -1.0729686 ]\n",
            "  [-0.5281718  -1.0729686 ]\n",
            "  [-0.5281718  -1.0729686 ]]\n",
            "\n",
            " [[ 0.49865144 -0.8634182 ]\n",
            "  [ 0.49865144 -0.8634182 ]\n",
            "  [ 0.49865144 -0.8634182 ]\n",
            "  [ 0.49865144 -0.8634182 ]\n",
            "  [ 0.49865144 -0.8634182 ]]]\n"
          ]
        }
      ],
      "source": [
        "# copy the fixed-size representation of our query “n documents times”\n",
        "NUM_DOCS_PER_QUERY = 5\n",
        "\n",
        "expanded_queries = tf.gather(query_embeddings, [0 for x in range(NUM_DOCS_PER_QUERY)], axis=1).numpy()\n",
        "\n",
        "print(expanded_queries)"
      ]
    },
    {
      "cell_type": "code",
      "execution_count": 106,
      "metadata": {
        "colab": {
          "base_uri": "https://localhost:8080/"
        },
        "id": "4n2mN0c-Cmju",
        "outputId": "2e1730f1-b49c-4bc6-a8ae-012daafb81d4"
      },
      "outputs": [
        {
          "name": "stdout",
          "output_type": "stream",
          "text": [
            "[[[-0.5281718  -1.0729686   0.16861793 -1.6872537 ]\n",
            "  [-0.5281718  -1.0729686  -0.11175551 -0.4011163 ]\n",
            "  [-0.5281718  -1.0729686   0.269179   -0.81868297]\n",
            "  [-0.5281718  -1.0729686  -0.02821046  0.31776717]\n",
            "  [-0.5281718  -1.0729686  -0.16862816  0.5136433 ]]\n",
            "\n",
            " [[ 0.49865144 -0.8634182   0.16861793 -1.6872537 ]\n",
            "  [ 0.49865144 -0.8634182   0.04396335 -0.3385399 ]\n",
            "  [ 0.49865144 -0.8634182   0.19879965  0.24775822]\n",
            "  [ 0.49865144 -0.8634182   0.269179   -0.81868297]\n",
            "  [ 0.49865144 -0.8634182   0.44582415 -0.1306425 ]]]\n"
          ]
        }
      ],
      "source": [
        "expanded_batch = np.concatenate([expanded_queries, docs_averaged_embeddings], axis=-1)\n",
        "\n",
        "print(expanded_batch)"
      ]
    },
    {
      "cell_type": "markdown",
      "metadata": {
        "id": "Oa96UIvmCmju"
      },
      "source": [
        "### Hidden Layer"
      ]
    },
    {
      "cell_type": "code",
      "execution_count": 107,
      "metadata": {
        "colab": {
          "base_uri": "https://localhost:8080/"
        },
        "id": "nqzAFViaCmju",
        "outputId": "dd7cf2b6-0692-4ddd-bed0-d9e5fd4d3782"
      },
      "outputs": [
        {
          "name": "stdout",
          "output_type": "stream",
          "text": [
            "tf.Tensor(\n",
            "[[[1.2417188  0.         1.6143824 ]\n",
            "  [0.69959825 0.5673208  0.5637234 ]\n",
            "  [0.89979136 0.11265749 1.063999  ]\n",
            "  [0.41662398 0.68811244 0.10836431]\n",
            "  [0.3259084  0.8671226  0.        ]]\n",
            "\n",
            " [[0.72267807 0.47369942 2.2967238 ]\n",
            "  [0.16830915 0.95225495 1.287926  ]\n",
            "  [0.         0.9731457  0.96414864]\n",
            "  [0.38075066 0.6199826  1.7463405 ]\n",
            "  [0.11798272 0.64902914 1.363599  ]]], shape=(2, 5, 3), dtype=float32)\n"
          ]
        }
      ],
      "source": [
        "dense_1 = tf.keras.layers.Dense(units=3, activation='relu')\n",
        "dense_1_out = dense_1(expanded_batch)\n",
        "\n",
        "print(dense_1_out)"
      ]
    },
    {
      "cell_type": "markdown",
      "metadata": {
        "id": "CsqT3OzTCmju"
      },
      "source": [
        "### Output layer"
      ]
    },
    {
      "cell_type": "code",
      "execution_count": 108,
      "metadata": {
        "colab": {
          "base_uri": "https://localhost:8080/"
        },
        "id": "hwc1Cyj1Cmju",
        "outputId": "8eb23336-47d9-478c-ff1b-932d648a6647"
      },
      "outputs": [
        {
          "name": "stdout",
          "output_type": "stream",
          "text": [
            "tf.Tensor(\n",
            "[[[ 1.5075406 ]\n",
            "  [ 0.45014748]\n",
            "  [ 0.9848266 ]\n",
            "  [ 0.01106296]\n",
            "  [-0.13460445]]\n",
            "\n",
            " [[ 1.7980417 ]\n",
            "  [ 0.7910408 ]\n",
            "  [ 0.5017394 ]\n",
            "  [ 1.2672828 ]\n",
            "  [ 0.909991  ]]], shape=(2, 5, 1), dtype=float32)\n"
          ]
        }
      ],
      "source": [
        "scores = tf.keras.layers.Dense(units=1, activation='linear')\n",
        "scores_out = scores(dense_1_out)\n",
        "\n",
        "print(scores_out)"
      ]
    },
    {
      "cell_type": "markdown",
      "metadata": {
        "id": "AmUl3aIhCmjv"
      },
      "source": [
        "### Calculate KL divergence"
      ]
    },
    {
      "cell_type": "code",
      "execution_count": 109,
      "metadata": {
        "colab": {
          "base_uri": "https://localhost:8080/"
        },
        "id": "AvcWGYpsCmjv",
        "outputId": "d7028202-8fc5-44bd-c420-456822fd3018"
      },
      "outputs": [
        {
          "name": "stdout",
          "output_type": "stream",
          "text": [
            "tf.Tensor(\n",
            "[[0.42413294 0.14732689 0.25147235 0.09497079 0.08209704]\n",
            " [0.37900758 0.13845637 0.10367426 0.22291653 0.15594533]], shape=(2, 5), dtype=float32)\n"
          ]
        }
      ],
      "source": [
        "scores_for_softmax = tf.squeeze(scores_out, axis=-1)\n",
        "scores_prob_dist = tf.nn.softmax(scores_for_softmax, axis=-1)\n",
        "\n",
        "print(scores_prob_dist)"
      ]
    },
    {
      "cell_type": "code",
      "execution_count": 110,
      "metadata": {
        "colab": {
          "base_uri": "https://localhost:8080/"
        },
        "id": "F8LgvQjiCmjv",
        "outputId": "fe5c0c83-9d8c-4a62-887b-2f102b57d18a"
      },
      "outputs": [
        {
          "name": "stdout",
          "output_type": "stream",
          "text": [
            "tf.Tensor(\n",
            "[[0.44663328 0.1643072  0.1643072  0.1643072  0.06044524]\n",
            " [0.4309495  0.4309495  0.05832267 0.05832267 0.02145571]], shape=(2, 5), dtype=float32)\n"
          ]
        }
      ],
      "source": [
        "relevance_grades_prob_dist = tf.nn.softmax(relevance_grades, axis=-1)\n",
        "\n",
        "print(relevance_grades_prob_dist)"
      ]
    },
    {
      "cell_type": "code",
      "execution_count": 111,
      "metadata": {
        "colab": {
          "base_uri": "https://localhost:8080/"
        },
        "id": "jTcTye9qCmjv",
        "outputId": "69a1376a-cc52-4485-be16-f539c1aedc09"
      },
      "outputs": [
        {
          "name": "stdout",
          "output_type": "stream",
          "text": [
            "tf.Tensor(0.21650001, shape=(), dtype=float32)\n"
          ]
        }
      ],
      "source": [
        "loss = tf.keras.losses.KLDivergence()\n",
        "batch_loss = loss(relevance_grades_prob_dist, scores_prob_dist)\n",
        "\n",
        "print(batch_loss)"
      ]
    },
    {
      "cell_type": "code",
      "execution_count": 112,
      "metadata": {
        "colab": {
          "base_uri": "https://localhost:8080/"
        },
        "id": "29pY29hjCmjv",
        "outputId": "40e713a2-a9fb-49ad-c651-0f6a62e2f173"
      },
      "outputs": [
        {
          "name": "stdout",
          "output_type": "stream",
          "text": [
            "tf.Tensor([0.04264368 0.39035633], shape=(2,), dtype=float32)\n"
          ]
        }
      ],
      "source": [
        "per_example_loss = tf.reduce_sum(\n",
        "    relevance_grades_prob_dist * tf.math.log(relevance_grades_prob_dist / scores_prob_dist),\n",
        "    axis=-1\n",
        ")\n",
        "\n",
        "print(per_example_loss)"
      ]
    },
    {
      "cell_type": "code",
      "execution_count": 113,
      "metadata": {
        "colab": {
          "base_uri": "https://localhost:8080/"
        },
        "id": "e7NWkPwnCmjv",
        "outputId": "629797f6-20c8-423f-8de3-1f13f7d2c061"
      },
      "outputs": [
        {
          "name": "stdout",
          "output_type": "stream",
          "text": [
            "tf.Tensor(0.21650001, shape=(), dtype=float32)\n"
          ]
        }
      ],
      "source": [
        "batch_loss = tf.reduce_mean(per_example_loss)\n",
        "\n",
        "print(batch_loss)"
      ]
    },
    {
      "cell_type": "markdown",
      "metadata": {
        "id": "bTP187r6Cmjw"
      },
      "source": [
        "## A toy ListNet implemenetation"
      ]
    },
    {
      "cell_type": "code",
      "execution_count": 114,
      "metadata": {
        "id": "3kb4sedWCmjw"
      },
      "outputs": [],
      "source": [
        "NUM_DOCS_PER_QUERY = 5\n",
        "EMBEDDING_DIMS = 2"
      ]
    },
    {
      "cell_type": "code",
      "execution_count": 115,
      "metadata": {
        "id": "1CJOK0MWCmjw"
      },
      "outputs": [],
      "source": [
        "class ExpandBatchLayer(tf.keras.layers.Layer):\n",
        "    def __init__(self, **kwargs):\n",
        "        super(ExpandBatchLayer, self).__init__(**kwargs)\n",
        "\n",
        "    def call(self, input):\n",
        "        queries, docs = input\n",
        "        batch, num_docs, embedding_dims = tf.unstack(tf.shape(docs))\n",
        "        expanded_queries = tf.gather(queries, tf.zeros([num_docs], tf.int32), axis=1)\n",
        "        return tf.concat([expanded_queries, docs], axis=-1)"
      ]
    },
    {
      "cell_type": "code",
      "execution_count": 116,
      "metadata": {
        "id": "8krMnDQtCmjw"
      },
      "outputs": [],
      "source": [
        "query_input = tf.keras.layers.Input(shape=(1, EMBEDDING_DIMS, ), dtype=tf.float32, name='query')\n",
        "docs_input = tf.keras.layers.Input(shape=(NUM_DOCS_PER_QUERY, EMBEDDING_DIMS, ), dtype=tf.float32,\n",
        "                name='docs')\n",
        "\n",
        "expand_batch = ExpandBatchLayer(name='expand_batch')\n",
        "dense_1 = tf.keras.layers.Dense(units=3, activation='linear', name='dense_1')\n",
        "dense_out = tf.keras.layers.Dense(units=1, activation='linear', name='scores')\n",
        "scores_prob_dist = tf.keras.layers.Dense(units=NUM_DOCS_PER_QUERY, activation='softmax',\n",
        "                      name='scores_prob_dist')\n",
        "\n",
        "expanded_batch = expand_batch([query_input, docs_input])\n",
        "dense_1_out = dense_1(expanded_batch)\n",
        "scores = tf.keras.layers.Flatten()(dense_out(dense_1_out))\n",
        "model_out = scores_prob_dist(scores)\n",
        "\n",
        "model = tf.keras.models.Model(inputs=[query_input, docs_input], outputs=[model_out])\n",
        "\n",
        "model.compile(optimizer=tf.keras.optimizers.SGD(learning_rate=0.03, momentum=0.9),\n",
        "              loss=tf.keras.losses.KLDivergence())"
      ]
    },
    {
      "cell_type": "code",
      "execution_count": 117,
      "metadata": {
        "id": "s8DdAaZ7Cmj4"
      },
      "outputs": [],
      "source": [
        "hist = model.fit(\n",
        "    [query_embeddings, docs_averaged_embeddings],\n",
        "    relevance_grades_prob_dist,\n",
        "    epochs=50,\n",
        "    verbose=False\n",
        ")"
      ]
    },
    {
      "cell_type": "code",
      "execution_count": 118,
      "metadata": {
        "colab": {
          "base_uri": "https://localhost:8080/",
          "height": 571
        },
        "id": "OU6KpIaPCmj4",
        "outputId": "4996bedc-cc47-42d5-bb4f-1fcbceb66d72"
      },
      "outputs": [
        {
          "data": {
            "image/png": "[encoded data removed]",
            "text/plain": [
              "<Figure size 1000x600 with 1 Axes>"
            ]
          },
          "metadata": {},
          "output_type": "display_data"
        }
      ],
      "source": [
        "loss = hist.history['loss']\n",
        "\n",
        "plt.figure(figsize=(10, 6))\n",
        "plt.plot(loss, label='Loss')\n",
        "\n",
        "plt.title(\"Training Loss\", fontsize=16)\n",
        "plt.xlabel(\"Epoch\", fontsize=14)\n",
        "plt.ylabel(\"Loss\", fontsize=14)\n",
        "plt.legend(fontsize=12)\n",
        "\n",
        "plt.show()"
      ]
    },
    {
      "cell_type": "code",
      "execution_count": 119,
      "metadata": {
        "colab": {
          "base_uri": "https://localhost:8080/"
        },
        "id": "_qffa_FtCmj5",
        "outputId": "891e14aa-08bc-49ed-a348-b2b9706289c5"
      },
      "outputs": [
        {
          "name": "stdout",
          "output_type": "stream",
          "text": [
            "1/1 [==============================] - 0s 146ms/step\n"
          ]
        }
      ],
      "source": [
        "output_score = model.predict([query_embeddings, docs_averaged_embeddings])"
      ]
    },
    {
      "cell_type": "code",
      "execution_count": 120,
      "metadata": {
        "colab": {
          "base_uri": "https://localhost:8080/"
        },
        "id": "gEhQeKiyC78N",
        "outputId": "27cc2df3-845f-411b-e3bd-8ad02822539e"
      },
      "outputs": [
        {
          "data": {
            "text/plain": [
              "array([[0.43386137, 0.1769879 , 0.1754174 , 0.16677071, 0.04696265],\n",
              "       [0.4296334 , 0.43365234, 0.04276722, 0.0549628 , 0.03898421]],\n",
              "      dtype=float32)"
            ]
          },
          "execution_count": 120,
          "metadata": {},
          "output_type": "execute_result"
        }
      ],
      "source": [
        "output_score"
      ]
    },
    {
      "cell_type": "code",
      "execution_count": 121,
      "metadata": {
        "colab": {
          "base_uri": "https://localhost:8080/"
        },
        "id": "SFPzAGZtDYjW",
        "outputId": "399414e2-381f-485f-a6af-10fa83d5e3a3"
      },
      "outputs": [
        {
          "data": {
            "text/plain": [
              "array([[0.44663328, 0.1643072 , 0.1643072 , 0.1643072 , 0.06044524],\n",
              "       [0.4309495 , 0.4309495 , 0.05832267, 0.05832267, 0.02145571]],\n",
              "      dtype=float32)"
            ]
          },
          "execution_count": 121,
          "metadata": {},
          "output_type": "execute_result"
        }
      ],
      "source": [
        "np.array(relevance_grades_prob_dist)"
      ]
    },
    {
      "cell_type": "code",
      "execution_count": 122,
      "metadata": {
        "colab": {
          "base_uri": "https://localhost:8080/",
          "height": 607
        },
        "id": "RL2YBBZRDm86",
        "outputId": "0f15f048-eb64-416e-ce08-91d7bda3f260"
      },
      "outputs": [
        {
          "data": {
            "image/png": "[encoded data removed]",
            "text/plain": [
              "<Figure size 800x600 with 4 Axes>"
            ]
          },
          "metadata": {},
          "output_type": "display_data"
        }
      ],
      "source": [
        "categories = ['1', '2', '3', '4', '5']\n",
        "x = np.arange(len(categories))  # the label locations\n",
        "\n",
        "fig, axs = plt.subplots(2, 2, figsize=(8, 6))\n",
        "\n",
        "# Plot for Query 1 True Distribution\n",
        "axs[0, 0].bar(x, relevance_grades_prob_dist[0], color='r', alpha=0.7, label='True')\n",
        "axs[0, 0].set_title('Query 1 - True Distribution')\n",
        "axs[0, 0].set_xticks(x)\n",
        "axs[0, 0].set_xticklabels(categories)\n",
        "axs[0, 0].set_ylim([0, 1])\n",
        "\n",
        "# Plot for Query 2 True Distribution\n",
        "axs[0, 1].bar(x, relevance_grades_prob_dist[1], color='r', alpha=0.7, label='True')\n",
        "axs[0, 1].set_title('Query 2 - True Distribution')\n",
        "axs[0, 1].set_xticks(x)\n",
        "axs[0, 1].set_xticklabels(categories)\n",
        "axs[0, 1].set_ylim([0, 1])\n",
        "\n",
        "# Plot for Query 1 Predicted Distribution\n",
        "axs[1, 0].bar(x, output_score[0], color='b', alpha=0.7, label='Predicted')\n",
        "axs[1, 0].set_title('Query 1 - Predicted Distribution')\n",
        "axs[1, 0].set_xticks(x)\n",
        "axs[1, 0].set_xticklabels(categories)\n",
        "axs[1, 0].set_ylim([0, 1])\n",
        "\n",
        "# Plot for Query 2 Predicted Distribution\n",
        "axs[1, 1].bar(x, output_score[1], color='b', alpha=0.7, label='Predicted')\n",
        "axs[1, 1].set_title('Query 2 - Predicted Distribution')\n",
        "axs[1, 1].set_xticks(x)\n",
        "axs[1, 1].set_xticklabels(categories)\n",
        "axs[1, 1].set_ylim([0, 1])\n",
        "\n",
        "plt.tight_layout()\n",
        "plt.show()"
      ]
    },
    {
      "cell_type": "code",
      "execution_count": 122,
      "metadata": {
        "id": "epyQQePREC8j"
      },
      "outputs": [],
      "source": []
    }
  ],
  "metadata": {
    "colab": {
      "provenance": []
    },
    "kernelspec": {
      "display_name": "Python 3",
      "language": "python",
      "name": "python3"
    },
    "language_info": {
      "codemirror_mode": {
        "name": "ipython",
        "version": 3
      },
      "file_extension": ".py",
      "mimetype": "text/x-python",
      "name": "python",
      "nbconvert_exporter": "python",
      "pygments_lexer": "ipython3",
      "version": "3.9.0"
    }
  },
  "nbformat": 4,
  "nbformat_minor": 0
}
